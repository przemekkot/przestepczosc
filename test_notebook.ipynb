{
 "metadata": {
  "language_info": {
   "codemirror_mode": {
    "name": "ipython",
    "version": 3
   },
   "file_extension": ".py",
   "mimetype": "text/x-python",
   "name": "python",
   "nbconvert_exporter": "python",
   "pygments_lexer": "ipython3",
   "version": 3
  },
  "orig_nbformat": 2
 },
 "nbformat": 4,
 "nbformat_minor": 2,
 "cells": [
  {
   "source": [
    "#### Nieudana metoda z pivot_table()"
   ],
   "cell_type": "markdown",
   "metadata": {}
  },
  {
   "source": [
    "import numpy as np\n",
    "table = pd.DataFrame(crimes.pivot_table(values='id', index='race',columns='signs_of_mental_illness',aggfunc='count'))\n",
    "table\n",
    "--------\n",
    "type(table)\n",
    "--------\n",
    "table = table.reset_index()\n",
    "table\n",
    "--------\n",
    "table.columns\n",
    "--------\n",
    "for col in table.columns:\n",
    "    print(col)\n",
    "--------\n",
    "no = pd.DataFrame(table[0].to_numpy())\n",
    "no\n",
    "--------\n",
    "yes = pd.DataFrame(table[1].to_numpy())\n",
    "yes\n",
    "--------\n",
    "yes * no\n",
    "--------\n",
    "def calculate_ratio(row):\n",
    "    return yes/(no + yes)\n",
    "\n",
    "table['mental_illness_ratio'] = table.apply(calculate_ratio, axis=1)\n",
    "table"
   ],
   "cell_type": "markdown",
   "metadata": {}
  },
  {
   "cell_type": "code",
   "execution_count": null,
   "metadata": {},
   "outputs": [],
   "source": []
  }
 ]
}