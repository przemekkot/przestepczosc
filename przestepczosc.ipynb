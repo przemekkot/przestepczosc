{
 "metadata": {
  "language_info": {
   "codemirror_mode": {
    "name": "ipython",
    "version": 3
   },
   "file_extension": ".py",
   "mimetype": "text/x-python",
   "name": "python",
   "nbconvert_exporter": "python",
   "pygments_lexer": "ipython3",
   "version": "3.8.3-final"
  },
  "orig_nbformat": 2,
  "kernelspec": {
   "name": "python3",
   "display_name": "Python 3"
  }
 },
 "nbformat": 4,
 "nbformat_minor": 2,
 "cells": [
  {
   "source": [
    "### Zadanie: przestępczość\n",
    "#### 1. Pobierz bazę danych dotyczącą śmiertelnych interwencji policji w USA, a następnie wczytaj ją do obiektu DataFrame."
   ],
   "cell_type": "markdown",
   "metadata": {}
  },
  {
   "cell_type": "code",
   "execution_count": 1,
   "metadata": {},
   "outputs": [
    {
     "output_type": "execute_result",
     "data": {
      "text/plain": [
       "   id                name        date   manner_of_death       armed   age  \\\n",
       "0   3          Tim Elliot  2015-01-02              shot         gun  53.0   \n",
       "1   4    Lewis Lee Lembke  2015-01-02              shot         gun  47.0   \n",
       "2   5  John Paul Quintero  2015-01-03  shot and Tasered     unarmed  23.0   \n",
       "3   8     Matthew Hoffman  2015-01-04              shot  toy weapon  32.0   \n",
       "4   9   Michael Rodriguez  2015-01-04              shot    nail gun  39.0   \n",
       "\n",
       "  gender race           city state  signs_of_mental_illness threat_level  \\\n",
       "0      M    A        Shelton    WA                     True       attack   \n",
       "1      M    W          Aloha    OR                    False       attack   \n",
       "2      M    H        Wichita    KS                    False        other   \n",
       "3      M    W  San Francisco    CA                     True       attack   \n",
       "4      M    H          Evans    CO                    False       attack   \n",
       "\n",
       "          flee  body_camera  \n",
       "0  Not fleeing        False  \n",
       "1  Not fleeing        False  \n",
       "2  Not fleeing        False  \n",
       "3  Not fleeing        False  \n",
       "4  Not fleeing        False  "
      ],
      "text/html": "<div>\n<style scoped>\n    .dataframe tbody tr th:only-of-type {\n        vertical-align: middle;\n    }\n\n    .dataframe tbody tr th {\n        vertical-align: top;\n    }\n\n    .dataframe thead th {\n        text-align: right;\n    }\n</style>\n<table border=\"1\" class=\"dataframe\">\n  <thead>\n    <tr style=\"text-align: right;\">\n      <th></th>\n      <th>id</th>\n      <th>name</th>\n      <th>date</th>\n      <th>manner_of_death</th>\n      <th>armed</th>\n      <th>age</th>\n      <th>gender</th>\n      <th>race</th>\n      <th>city</th>\n      <th>state</th>\n      <th>signs_of_mental_illness</th>\n      <th>threat_level</th>\n      <th>flee</th>\n      <th>body_camera</th>\n    </tr>\n  </thead>\n  <tbody>\n    <tr>\n      <th>0</th>\n      <td>3</td>\n      <td>Tim Elliot</td>\n      <td>2015-01-02</td>\n      <td>shot</td>\n      <td>gun</td>\n      <td>53.0</td>\n      <td>M</td>\n      <td>A</td>\n      <td>Shelton</td>\n      <td>WA</td>\n      <td>True</td>\n      <td>attack</td>\n      <td>Not fleeing</td>\n      <td>False</td>\n    </tr>\n    <tr>\n      <th>1</th>\n      <td>4</td>\n      <td>Lewis Lee Lembke</td>\n      <td>2015-01-02</td>\n      <td>shot</td>\n      <td>gun</td>\n      <td>47.0</td>\n      <td>M</td>\n      <td>W</td>\n      <td>Aloha</td>\n      <td>OR</td>\n      <td>False</td>\n      <td>attack</td>\n      <td>Not fleeing</td>\n      <td>False</td>\n    </tr>\n    <tr>\n      <th>2</th>\n      <td>5</td>\n      <td>John Paul Quintero</td>\n      <td>2015-01-03</td>\n      <td>shot and Tasered</td>\n      <td>unarmed</td>\n      <td>23.0</td>\n      <td>M</td>\n      <td>H</td>\n      <td>Wichita</td>\n      <td>KS</td>\n      <td>False</td>\n      <td>other</td>\n      <td>Not fleeing</td>\n      <td>False</td>\n    </tr>\n    <tr>\n      <th>3</th>\n      <td>8</td>\n      <td>Matthew Hoffman</td>\n      <td>2015-01-04</td>\n      <td>shot</td>\n      <td>toy weapon</td>\n      <td>32.0</td>\n      <td>M</td>\n      <td>W</td>\n      <td>San Francisco</td>\n      <td>CA</td>\n      <td>True</td>\n      <td>attack</td>\n      <td>Not fleeing</td>\n      <td>False</td>\n    </tr>\n    <tr>\n      <th>4</th>\n      <td>9</td>\n      <td>Michael Rodriguez</td>\n      <td>2015-01-04</td>\n      <td>shot</td>\n      <td>nail gun</td>\n      <td>39.0</td>\n      <td>M</td>\n      <td>H</td>\n      <td>Evans</td>\n      <td>CO</td>\n      <td>False</td>\n      <td>attack</td>\n      <td>Not fleeing</td>\n      <td>False</td>\n    </tr>\n  </tbody>\n</table>\n</div>"
     },
     "metadata": {},
     "execution_count": 1
    }
   ],
   "source": [
    "import pandas as pd\n",
    "crimes = pd.read_csv('fatal-police-shootings-data.csv')\n",
    "crimes.head()"
   ]
  },
  {
   "source": [
    "#### 2. Przekształć tabelę w taki sposób, aby wskazywała zestawienie jednocześnie liczby ofiar interwencji według rasy (‘race’) oraz tego, czy wykazywały one oznaki choroby psychicznej (‘signs_of_mental_illness’)."
   ],
   "cell_type": "markdown",
   "metadata": {}
  },
  {
   "cell_type": "code",
   "execution_count": 2,
   "metadata": {},
   "outputs": [
    {
     "output_type": "execute_result",
     "data": {
      "text/plain": [
       "                                id\n",
       "race signs_of_mental_illness      \n",
       "A    False                      69\n",
       "     True                       24\n",
       "B    False                    1114\n",
       "     True                      184\n",
       "H    False                     745\n",
       "     True                      157\n",
       "N    False                      64\n",
       "     True                       14\n",
       "O    False                      37\n",
       "     True                       11\n",
       "W    False                    1763\n",
       "     True                      713"
      ],
      "text/html": "<div>\n<style scoped>\n    .dataframe tbody tr th:only-of-type {\n        vertical-align: middle;\n    }\n\n    .dataframe tbody tr th {\n        vertical-align: top;\n    }\n\n    .dataframe thead th {\n        text-align: right;\n    }\n</style>\n<table border=\"1\" class=\"dataframe\">\n  <thead>\n    <tr style=\"text-align: right;\">\n      <th></th>\n      <th></th>\n      <th>id</th>\n    </tr>\n    <tr>\n      <th>race</th>\n      <th>signs_of_mental_illness</th>\n      <th></th>\n    </tr>\n  </thead>\n  <tbody>\n    <tr>\n      <th rowspan=\"2\" valign=\"top\">A</th>\n      <th>False</th>\n      <td>69</td>\n    </tr>\n    <tr>\n      <th>True</th>\n      <td>24</td>\n    </tr>\n    <tr>\n      <th rowspan=\"2\" valign=\"top\">B</th>\n      <th>False</th>\n      <td>1114</td>\n    </tr>\n    <tr>\n      <th>True</th>\n      <td>184</td>\n    </tr>\n    <tr>\n      <th rowspan=\"2\" valign=\"top\">H</th>\n      <th>False</th>\n      <td>745</td>\n    </tr>\n    <tr>\n      <th>True</th>\n      <td>157</td>\n    </tr>\n    <tr>\n      <th rowspan=\"2\" valign=\"top\">N</th>\n      <th>False</th>\n      <td>64</td>\n    </tr>\n    <tr>\n      <th>True</th>\n      <td>14</td>\n    </tr>\n    <tr>\n      <th rowspan=\"2\" valign=\"top\">O</th>\n      <th>False</th>\n      <td>37</td>\n    </tr>\n    <tr>\n      <th>True</th>\n      <td>11</td>\n    </tr>\n    <tr>\n      <th rowspan=\"2\" valign=\"top\">W</th>\n      <th>False</th>\n      <td>1763</td>\n    </tr>\n    <tr>\n      <th>True</th>\n      <td>713</td>\n    </tr>\n  </tbody>\n</table>\n</div>"
     },
     "metadata": {},
     "execution_count": 2
    }
   ],
   "source": [
    "df = crimes.groupby(['race','signs_of_mental_illness']).id.count().to_frame()\n",
    "df"
   ]
  },
  {
   "cell_type": "code",
   "execution_count": 3,
   "metadata": {},
   "outputs": [
    {
     "output_type": "execute_result",
     "data": {
      "text/plain": [
       "                              volume\n",
       "race signs_of_mental_illness        \n",
       "A    False                        69\n",
       "     True                         24\n",
       "B    False                      1114\n",
       "     True                        184\n",
       "H    False                       745\n",
       "     True                        157\n",
       "N    False                        64\n",
       "     True                         14\n",
       "O    False                        37\n",
       "     True                         11\n",
       "W    False                      1763\n",
       "     True                        713"
      ],
      "text/html": "<div>\n<style scoped>\n    .dataframe tbody tr th:only-of-type {\n        vertical-align: middle;\n    }\n\n    .dataframe tbody tr th {\n        vertical-align: top;\n    }\n\n    .dataframe thead th {\n        text-align: right;\n    }\n</style>\n<table border=\"1\" class=\"dataframe\">\n  <thead>\n    <tr style=\"text-align: right;\">\n      <th></th>\n      <th></th>\n      <th>volume</th>\n    </tr>\n    <tr>\n      <th>race</th>\n      <th>signs_of_mental_illness</th>\n      <th></th>\n    </tr>\n  </thead>\n  <tbody>\n    <tr>\n      <th rowspan=\"2\" valign=\"top\">A</th>\n      <th>False</th>\n      <td>69</td>\n    </tr>\n    <tr>\n      <th>True</th>\n      <td>24</td>\n    </tr>\n    <tr>\n      <th rowspan=\"2\" valign=\"top\">B</th>\n      <th>False</th>\n      <td>1114</td>\n    </tr>\n    <tr>\n      <th>True</th>\n      <td>184</td>\n    </tr>\n    <tr>\n      <th rowspan=\"2\" valign=\"top\">H</th>\n      <th>False</th>\n      <td>745</td>\n    </tr>\n    <tr>\n      <th>True</th>\n      <td>157</td>\n    </tr>\n    <tr>\n      <th rowspan=\"2\" valign=\"top\">N</th>\n      <th>False</th>\n      <td>64</td>\n    </tr>\n    <tr>\n      <th>True</th>\n      <td>14</td>\n    </tr>\n    <tr>\n      <th rowspan=\"2\" valign=\"top\">O</th>\n      <th>False</th>\n      <td>37</td>\n    </tr>\n    <tr>\n      <th>True</th>\n      <td>11</td>\n    </tr>\n    <tr>\n      <th rowspan=\"2\" valign=\"top\">W</th>\n      <th>False</th>\n      <td>1763</td>\n    </tr>\n    <tr>\n      <th>True</th>\n      <td>713</td>\n    </tr>\n  </tbody>\n</table>\n</div>"
     },
     "metadata": {},
     "execution_count": 3
    }
   ],
   "source": [
    "df.rename(columns={\"id\": \"volume\"}, inplace=True)\n",
    "df"
   ]
  },
  {
   "cell_type": "code",
   "execution_count": 4,
   "metadata": {},
   "outputs": [
    {
     "output_type": "execute_result",
     "data": {
      "text/plain": [
       "        id\n",
       "race      \n",
       "A       93\n",
       "B     1298\n",
       "H      902\n",
       "N       78\n",
       "O       48\n",
       "W     2476"
      ],
      "text/html": "<div>\n<style scoped>\n    .dataframe tbody tr th:only-of-type {\n        vertical-align: middle;\n    }\n\n    .dataframe tbody tr th {\n        vertical-align: top;\n    }\n\n    .dataframe thead th {\n        text-align: right;\n    }\n</style>\n<table border=\"1\" class=\"dataframe\">\n  <thead>\n    <tr style=\"text-align: right;\">\n      <th></th>\n      <th>id</th>\n    </tr>\n    <tr>\n      <th>race</th>\n      <th></th>\n    </tr>\n  </thead>\n  <tbody>\n    <tr>\n      <th>A</th>\n      <td>93</td>\n    </tr>\n    <tr>\n      <th>B</th>\n      <td>1298</td>\n    </tr>\n    <tr>\n      <th>H</th>\n      <td>902</td>\n    </tr>\n    <tr>\n      <th>N</th>\n      <td>78</td>\n    </tr>\n    <tr>\n      <th>O</th>\n      <td>48</td>\n    </tr>\n    <tr>\n      <th>W</th>\n      <td>2476</td>\n    </tr>\n  </tbody>\n</table>\n</div>"
     },
     "metadata": {},
     "execution_count": 4
    }
   ],
   "source": [
    "df1 = crimes.groupby('race').id.count().to_frame()\n",
    "df1"
   ]
  },
  {
   "cell_type": "code",
   "execution_count": 5,
   "metadata": {},
   "outputs": [
    {
     "output_type": "execute_result",
     "data": {
      "text/plain": [
       "                              volume    id\n",
       "race signs_of_mental_illness              \n",
       "A    False                        69    93\n",
       "     True                         24    93\n",
       "B    False                      1114  1298\n",
       "     True                        184  1298\n",
       "H    False                       745   902\n",
       "     True                        157   902\n",
       "N    False                        64    78\n",
       "     True                         14    78\n",
       "O    False                        37    48\n",
       "     True                         11    48\n",
       "W    False                      1763  2476\n",
       "     True                        713  2476"
      ],
      "text/html": "<div>\n<style scoped>\n    .dataframe tbody tr th:only-of-type {\n        vertical-align: middle;\n    }\n\n    .dataframe tbody tr th {\n        vertical-align: top;\n    }\n\n    .dataframe thead th {\n        text-align: right;\n    }\n</style>\n<table border=\"1\" class=\"dataframe\">\n  <thead>\n    <tr style=\"text-align: right;\">\n      <th></th>\n      <th></th>\n      <th>volume</th>\n      <th>id</th>\n    </tr>\n    <tr>\n      <th>race</th>\n      <th>signs_of_mental_illness</th>\n      <th></th>\n      <th></th>\n    </tr>\n  </thead>\n  <tbody>\n    <tr>\n      <th rowspan=\"2\" valign=\"top\">A</th>\n      <th>False</th>\n      <td>69</td>\n      <td>93</td>\n    </tr>\n    <tr>\n      <th>True</th>\n      <td>24</td>\n      <td>93</td>\n    </tr>\n    <tr>\n      <th rowspan=\"2\" valign=\"top\">B</th>\n      <th>False</th>\n      <td>1114</td>\n      <td>1298</td>\n    </tr>\n    <tr>\n      <th>True</th>\n      <td>184</td>\n      <td>1298</td>\n    </tr>\n    <tr>\n      <th rowspan=\"2\" valign=\"top\">H</th>\n      <th>False</th>\n      <td>745</td>\n      <td>902</td>\n    </tr>\n    <tr>\n      <th>True</th>\n      <td>157</td>\n      <td>902</td>\n    </tr>\n    <tr>\n      <th rowspan=\"2\" valign=\"top\">N</th>\n      <th>False</th>\n      <td>64</td>\n      <td>78</td>\n    </tr>\n    <tr>\n      <th>True</th>\n      <td>14</td>\n      <td>78</td>\n    </tr>\n    <tr>\n      <th rowspan=\"2\" valign=\"top\">O</th>\n      <th>False</th>\n      <td>37</td>\n      <td>48</td>\n    </tr>\n    <tr>\n      <th>True</th>\n      <td>11</td>\n      <td>48</td>\n    </tr>\n    <tr>\n      <th rowspan=\"2\" valign=\"top\">W</th>\n      <th>False</th>\n      <td>1763</td>\n      <td>2476</td>\n    </tr>\n    <tr>\n      <th>True</th>\n      <td>713</td>\n      <td>2476</td>\n    </tr>\n  </tbody>\n</table>\n</div>"
     },
     "metadata": {},
     "execution_count": 5
    }
   ],
   "source": [
    "df = df.join(df1)\n",
    "df"
   ]
  },
  {
   "cell_type": "code",
   "execution_count": 6,
   "metadata": {},
   "outputs": [
    {
     "output_type": "execute_result",
     "data": {
      "text/plain": [
       "                              volume  total\n",
       "race signs_of_mental_illness               \n",
       "A    False                        69     93\n",
       "     True                         24     93\n",
       "B    False                      1114   1298\n",
       "     True                        184   1298\n",
       "H    False                       745    902\n",
       "     True                        157    902\n",
       "N    False                        64     78\n",
       "     True                         14     78\n",
       "O    False                        37     48\n",
       "     True                         11     48\n",
       "W    False                      1763   2476\n",
       "     True                        713   2476"
      ],
      "text/html": "<div>\n<style scoped>\n    .dataframe tbody tr th:only-of-type {\n        vertical-align: middle;\n    }\n\n    .dataframe tbody tr th {\n        vertical-align: top;\n    }\n\n    .dataframe thead th {\n        text-align: right;\n    }\n</style>\n<table border=\"1\" class=\"dataframe\">\n  <thead>\n    <tr style=\"text-align: right;\">\n      <th></th>\n      <th></th>\n      <th>volume</th>\n      <th>total</th>\n    </tr>\n    <tr>\n      <th>race</th>\n      <th>signs_of_mental_illness</th>\n      <th></th>\n      <th></th>\n    </tr>\n  </thead>\n  <tbody>\n    <tr>\n      <th rowspan=\"2\" valign=\"top\">A</th>\n      <th>False</th>\n      <td>69</td>\n      <td>93</td>\n    </tr>\n    <tr>\n      <th>True</th>\n      <td>24</td>\n      <td>93</td>\n    </tr>\n    <tr>\n      <th rowspan=\"2\" valign=\"top\">B</th>\n      <th>False</th>\n      <td>1114</td>\n      <td>1298</td>\n    </tr>\n    <tr>\n      <th>True</th>\n      <td>184</td>\n      <td>1298</td>\n    </tr>\n    <tr>\n      <th rowspan=\"2\" valign=\"top\">H</th>\n      <th>False</th>\n      <td>745</td>\n      <td>902</td>\n    </tr>\n    <tr>\n      <th>True</th>\n      <td>157</td>\n      <td>902</td>\n    </tr>\n    <tr>\n      <th rowspan=\"2\" valign=\"top\">N</th>\n      <th>False</th>\n      <td>64</td>\n      <td>78</td>\n    </tr>\n    <tr>\n      <th>True</th>\n      <td>14</td>\n      <td>78</td>\n    </tr>\n    <tr>\n      <th rowspan=\"2\" valign=\"top\">O</th>\n      <th>False</th>\n      <td>37</td>\n      <td>48</td>\n    </tr>\n    <tr>\n      <th>True</th>\n      <td>11</td>\n      <td>48</td>\n    </tr>\n    <tr>\n      <th rowspan=\"2\" valign=\"top\">W</th>\n      <th>False</th>\n      <td>1763</td>\n      <td>2476</td>\n    </tr>\n    <tr>\n      <th>True</th>\n      <td>713</td>\n      <td>2476</td>\n    </tr>\n  </tbody>\n</table>\n</div>"
     },
     "metadata": {},
     "execution_count": 6
    }
   ],
   "source": [
    "df.rename(columns={\"id\": \"total\"}, inplace=True)\n",
    "df"
   ]
  },
  {
   "source": [
    "#### 3. Za pomocą Map, Applymap lub Apply dodaj do tego zestawienia kolumnę wskazującą jaki odsetek ofiar interwencji wykazywało oznaki choroby psychicznej dla każdej z ras. Odpowiedz, która z nich charakteryzuje się największym odsetkiem znamion choroby psychicznej podczas interwencji."
   ],
   "cell_type": "markdown",
   "metadata": {}
  },
  {
   "cell_type": "code",
   "execution_count": 7,
   "metadata": {},
   "outputs": [
    {
     "output_type": "execute_result",
     "data": {
      "text/plain": [
       "                              volume  total  percentage\n",
       "race signs_of_mental_illness                           \n",
       "A    False                        69     93       74.19\n",
       "     True                         24     93       25.81\n",
       "B    False                      1114   1298       85.82\n",
       "     True                        184   1298       14.18\n",
       "H    False                       745    902       82.59\n",
       "     True                        157    902       17.41\n",
       "N    False                        64     78       82.05\n",
       "     True                         14     78       17.95\n",
       "O    False                        37     48       77.08\n",
       "     True                         11     48       22.92\n",
       "W    False                      1763   2476       71.20\n",
       "     True                        713   2476       28.80"
      ],
      "text/html": "<div>\n<style scoped>\n    .dataframe tbody tr th:only-of-type {\n        vertical-align: middle;\n    }\n\n    .dataframe tbody tr th {\n        vertical-align: top;\n    }\n\n    .dataframe thead th {\n        text-align: right;\n    }\n</style>\n<table border=\"1\" class=\"dataframe\">\n  <thead>\n    <tr style=\"text-align: right;\">\n      <th></th>\n      <th></th>\n      <th>volume</th>\n      <th>total</th>\n      <th>percentage</th>\n    </tr>\n    <tr>\n      <th>race</th>\n      <th>signs_of_mental_illness</th>\n      <th></th>\n      <th></th>\n      <th></th>\n    </tr>\n  </thead>\n  <tbody>\n    <tr>\n      <th rowspan=\"2\" valign=\"top\">A</th>\n      <th>False</th>\n      <td>69</td>\n      <td>93</td>\n      <td>74.19</td>\n    </tr>\n    <tr>\n      <th>True</th>\n      <td>24</td>\n      <td>93</td>\n      <td>25.81</td>\n    </tr>\n    <tr>\n      <th rowspan=\"2\" valign=\"top\">B</th>\n      <th>False</th>\n      <td>1114</td>\n      <td>1298</td>\n      <td>85.82</td>\n    </tr>\n    <tr>\n      <th>True</th>\n      <td>184</td>\n      <td>1298</td>\n      <td>14.18</td>\n    </tr>\n    <tr>\n      <th rowspan=\"2\" valign=\"top\">H</th>\n      <th>False</th>\n      <td>745</td>\n      <td>902</td>\n      <td>82.59</td>\n    </tr>\n    <tr>\n      <th>True</th>\n      <td>157</td>\n      <td>902</td>\n      <td>17.41</td>\n    </tr>\n    <tr>\n      <th rowspan=\"2\" valign=\"top\">N</th>\n      <th>False</th>\n      <td>64</td>\n      <td>78</td>\n      <td>82.05</td>\n    </tr>\n    <tr>\n      <th>True</th>\n      <td>14</td>\n      <td>78</td>\n      <td>17.95</td>\n    </tr>\n    <tr>\n      <th rowspan=\"2\" valign=\"top\">O</th>\n      <th>False</th>\n      <td>37</td>\n      <td>48</td>\n      <td>77.08</td>\n    </tr>\n    <tr>\n      <th>True</th>\n      <td>11</td>\n      <td>48</td>\n      <td>22.92</td>\n    </tr>\n    <tr>\n      <th rowspan=\"2\" valign=\"top\">W</th>\n      <th>False</th>\n      <td>1763</td>\n      <td>2476</td>\n      <td>71.20</td>\n    </tr>\n    <tr>\n      <th>True</th>\n      <td>713</td>\n      <td>2476</td>\n      <td>28.80</td>\n    </tr>\n  </tbody>\n</table>\n</div>"
     },
     "metadata": {},
     "execution_count": 7
    }
   ],
   "source": [
    "df['percentage'] = df.apply(lambda row: round(row.volume/row.total*100, 2), axis=1)\n",
    "df"
   ]
  },
  {
   "cell_type": "code",
   "execution_count": 8,
   "metadata": {},
   "outputs": [
    {
     "output_type": "execute_result",
     "data": {
      "text/plain": [
       "signs_of_mental_illness\n",
       "False    85.82\n",
       "True     28.80\n",
       "Name: percentage, dtype: float64"
      ]
     },
     "metadata": {},
     "execution_count": 8
    }
   ],
   "source": [
    "df.percentage.max(level=1)"
   ]
  },
  {
   "cell_type": "code",
   "execution_count": 9,
   "metadata": {},
   "outputs": [
    {
     "output_type": "execute_result",
     "data": {
      "text/plain": [
       "                              volume  total  percentage\n",
       "race signs_of_mental_illness                           \n",
       "W    True                        713   2476        28.8"
      ],
      "text/html": "<div>\n<style scoped>\n    .dataframe tbody tr th:only-of-type {\n        vertical-align: middle;\n    }\n\n    .dataframe tbody tr th {\n        vertical-align: top;\n    }\n\n    .dataframe thead th {\n        text-align: right;\n    }\n</style>\n<table border=\"1\" class=\"dataframe\">\n  <thead>\n    <tr style=\"text-align: right;\">\n      <th></th>\n      <th></th>\n      <th>volume</th>\n      <th>total</th>\n      <th>percentage</th>\n    </tr>\n    <tr>\n      <th>race</th>\n      <th>signs_of_mental_illness</th>\n      <th></th>\n      <th></th>\n      <th></th>\n    </tr>\n  </thead>\n  <tbody>\n    <tr>\n      <th>W</th>\n      <th>True</th>\n      <td>713</td>\n      <td>2476</td>\n      <td>28.8</td>\n    </tr>\n  </tbody>\n</table>\n</div>"
     },
     "metadata": {},
     "execution_count": 9
    }
   ],
   "source": [
    "df[df['percentage'] == 28.80]"
   ]
  },
  {
   "source": [
    "Otrzymany wynik oznacza, że to wśród białych osób było procentowo najwięcej ofiar interwencji wykazujących oznaki choroby psychicznej."
   ],
   "cell_type": "markdown",
   "metadata": {}
  },
  {
   "source": [
    "#### 4. Dodaj kolumnę oznaczającą dzień tygodnia, w którym doszło do interwencji. Zlicz interwencje według odpowiedniego dnia tygodnia. Następnie stwórz wykres kolumnowy, tak aby dni tygodnia były uszeregowane od poniedziałku do niedzieli."
   ],
   "cell_type": "markdown",
   "metadata": {}
  },
  {
   "cell_type": "code",
   "execution_count": 10,
   "metadata": {},
   "outputs": [],
   "source": [
    "crimes['date'] = pd.to_datetime(crimes['date'])"
   ]
  },
  {
   "cell_type": "code",
   "execution_count": 11,
   "metadata": {},
   "outputs": [
    {
     "output_type": "execute_result",
     "data": {
      "text/plain": [
       "Timestamp('2015-01-02 00:00:00')"
      ]
     },
     "metadata": {},
     "execution_count": 11
    }
   ],
   "source": [
    "crimes['date'][1]"
   ]
  },
  {
   "cell_type": "code",
   "execution_count": 12,
   "metadata": {},
   "outputs": [
    {
     "output_type": "execute_result",
     "data": {
      "text/plain": [
       "   id                name       date   manner_of_death       armed   age  \\\n",
       "0   3          Tim Elliot 2015-01-02              shot         gun  53.0   \n",
       "1   4    Lewis Lee Lembke 2015-01-02              shot         gun  47.0   \n",
       "2   5  John Paul Quintero 2015-01-03  shot and Tasered     unarmed  23.0   \n",
       "3   8     Matthew Hoffman 2015-01-04              shot  toy weapon  32.0   \n",
       "4   9   Michael Rodriguez 2015-01-04              shot    nail gun  39.0   \n",
       "\n",
       "  gender race           city state  signs_of_mental_illness threat_level  \\\n",
       "0      M    A        Shelton    WA                     True       attack   \n",
       "1      M    W          Aloha    OR                    False       attack   \n",
       "2      M    H        Wichita    KS                    False        other   \n",
       "3      M    W  San Francisco    CA                     True       attack   \n",
       "4      M    H          Evans    CO                    False       attack   \n",
       "\n",
       "          flee  body_camera day_of_week  \n",
       "0  Not fleeing        False      Friday  \n",
       "1  Not fleeing        False      Friday  \n",
       "2  Not fleeing        False    Saturday  \n",
       "3  Not fleeing        False      Sunday  \n",
       "4  Not fleeing        False      Sunday  "
      ],
      "text/html": "<div>\n<style scoped>\n    .dataframe tbody tr th:only-of-type {\n        vertical-align: middle;\n    }\n\n    .dataframe tbody tr th {\n        vertical-align: top;\n    }\n\n    .dataframe thead th {\n        text-align: right;\n    }\n</style>\n<table border=\"1\" class=\"dataframe\">\n  <thead>\n    <tr style=\"text-align: right;\">\n      <th></th>\n      <th>id</th>\n      <th>name</th>\n      <th>date</th>\n      <th>manner_of_death</th>\n      <th>armed</th>\n      <th>age</th>\n      <th>gender</th>\n      <th>race</th>\n      <th>city</th>\n      <th>state</th>\n      <th>signs_of_mental_illness</th>\n      <th>threat_level</th>\n      <th>flee</th>\n      <th>body_camera</th>\n      <th>day_of_week</th>\n    </tr>\n  </thead>\n  <tbody>\n    <tr>\n      <th>0</th>\n      <td>3</td>\n      <td>Tim Elliot</td>\n      <td>2015-01-02</td>\n      <td>shot</td>\n      <td>gun</td>\n      <td>53.0</td>\n      <td>M</td>\n      <td>A</td>\n      <td>Shelton</td>\n      <td>WA</td>\n      <td>True</td>\n      <td>attack</td>\n      <td>Not fleeing</td>\n      <td>False</td>\n      <td>Friday</td>\n    </tr>\n    <tr>\n      <th>1</th>\n      <td>4</td>\n      <td>Lewis Lee Lembke</td>\n      <td>2015-01-02</td>\n      <td>shot</td>\n      <td>gun</td>\n      <td>47.0</td>\n      <td>M</td>\n      <td>W</td>\n      <td>Aloha</td>\n      <td>OR</td>\n      <td>False</td>\n      <td>attack</td>\n      <td>Not fleeing</td>\n      <td>False</td>\n      <td>Friday</td>\n    </tr>\n    <tr>\n      <th>2</th>\n      <td>5</td>\n      <td>John Paul Quintero</td>\n      <td>2015-01-03</td>\n      <td>shot and Tasered</td>\n      <td>unarmed</td>\n      <td>23.0</td>\n      <td>M</td>\n      <td>H</td>\n      <td>Wichita</td>\n      <td>KS</td>\n      <td>False</td>\n      <td>other</td>\n      <td>Not fleeing</td>\n      <td>False</td>\n      <td>Saturday</td>\n    </tr>\n    <tr>\n      <th>3</th>\n      <td>8</td>\n      <td>Matthew Hoffman</td>\n      <td>2015-01-04</td>\n      <td>shot</td>\n      <td>toy weapon</td>\n      <td>32.0</td>\n      <td>M</td>\n      <td>W</td>\n      <td>San Francisco</td>\n      <td>CA</td>\n      <td>True</td>\n      <td>attack</td>\n      <td>Not fleeing</td>\n      <td>False</td>\n      <td>Sunday</td>\n    </tr>\n    <tr>\n      <th>4</th>\n      <td>9</td>\n      <td>Michael Rodriguez</td>\n      <td>2015-01-04</td>\n      <td>shot</td>\n      <td>nail gun</td>\n      <td>39.0</td>\n      <td>M</td>\n      <td>H</td>\n      <td>Evans</td>\n      <td>CO</td>\n      <td>False</td>\n      <td>attack</td>\n      <td>Not fleeing</td>\n      <td>False</td>\n      <td>Sunday</td>\n    </tr>\n  </tbody>\n</table>\n</div>"
     },
     "metadata": {},
     "execution_count": 12
    }
   ],
   "source": [
    "crimes['day_of_week'] = crimes['date'].dt.day_name()\n",
    "crimes.head()"
   ]
  },
  {
   "cell_type": "code",
   "execution_count": 13,
   "metadata": {},
   "outputs": [
    {
     "output_type": "execute_result",
     "data": {
      "text/plain": [
       "              id\n",
       "day_of_week     \n",
       "Friday       761\n",
       "Monday       726\n",
       "Saturday     721\n",
       "Sunday       753\n",
       "Thursday     810\n",
       "Tuesday      816\n",
       "Wednesday    829"
      ],
      "text/html": "<div>\n<style scoped>\n    .dataframe tbody tr th:only-of-type {\n        vertical-align: middle;\n    }\n\n    .dataframe tbody tr th {\n        vertical-align: top;\n    }\n\n    .dataframe thead th {\n        text-align: right;\n    }\n</style>\n<table border=\"1\" class=\"dataframe\">\n  <thead>\n    <tr style=\"text-align: right;\">\n      <th></th>\n      <th>id</th>\n    </tr>\n    <tr>\n      <th>day_of_week</th>\n      <th></th>\n    </tr>\n  </thead>\n  <tbody>\n    <tr>\n      <th>Friday</th>\n      <td>761</td>\n    </tr>\n    <tr>\n      <th>Monday</th>\n      <td>726</td>\n    </tr>\n    <tr>\n      <th>Saturday</th>\n      <td>721</td>\n    </tr>\n    <tr>\n      <th>Sunday</th>\n      <td>753</td>\n    </tr>\n    <tr>\n      <th>Thursday</th>\n      <td>810</td>\n    </tr>\n    <tr>\n      <th>Tuesday</th>\n      <td>816</td>\n    </tr>\n    <tr>\n      <th>Wednesday</th>\n      <td>829</td>\n    </tr>\n  </tbody>\n</table>\n</div>"
     },
     "metadata": {},
     "execution_count": 13
    }
   ],
   "source": [
    "day_intervention = crimes.groupby('day_of_week').id.count().to_frame()\n",
    "day_intervention"
   ]
  },
  {
   "cell_type": "code",
   "execution_count": 14,
   "metadata": {},
   "outputs": [
    {
     "output_type": "execute_result",
     "data": {
      "text/plain": [
       "              id\n",
       "day_of_week     \n",
       "Monday       726\n",
       "Tuesday      816\n",
       "Wednesday    829\n",
       "Thursday     810\n",
       "Friday       761\n",
       "Saturday     721\n",
       "Sunday       753"
      ],
      "text/html": "<div>\n<style scoped>\n    .dataframe tbody tr th:only-of-type {\n        vertical-align: middle;\n    }\n\n    .dataframe tbody tr th {\n        vertical-align: top;\n    }\n\n    .dataframe thead th {\n        text-align: right;\n    }\n</style>\n<table border=\"1\" class=\"dataframe\">\n  <thead>\n    <tr style=\"text-align: right;\">\n      <th></th>\n      <th>id</th>\n    </tr>\n    <tr>\n      <th>day_of_week</th>\n      <th></th>\n    </tr>\n  </thead>\n  <tbody>\n    <tr>\n      <th>Monday</th>\n      <td>726</td>\n    </tr>\n    <tr>\n      <th>Tuesday</th>\n      <td>816</td>\n    </tr>\n    <tr>\n      <th>Wednesday</th>\n      <td>829</td>\n    </tr>\n    <tr>\n      <th>Thursday</th>\n      <td>810</td>\n    </tr>\n    <tr>\n      <th>Friday</th>\n      <td>761</td>\n    </tr>\n    <tr>\n      <th>Saturday</th>\n      <td>721</td>\n    </tr>\n    <tr>\n      <th>Sunday</th>\n      <td>753</td>\n    </tr>\n  </tbody>\n</table>\n</div>"
     },
     "metadata": {},
     "execution_count": 14
    }
   ],
   "source": [
    "days = [ 'Monday', 'Tuesday', 'Wednesday', 'Thursday', 'Friday', 'Saturday', 'Sunday']\n",
    "day_intervention = day_intervention.reindex(days)\n",
    "day_intervention"
   ]
  },
  {
   "cell_type": "code",
   "execution_count": 15,
   "metadata": {},
   "outputs": [
    {
     "output_type": "execute_result",
     "data": {
      "text/plain": [
       "Text(0.5, 1.0, 'Interventions by days of week')"
      ]
     },
     "metadata": {},
     "execution_count": 15
    },
    {
     "output_type": "display_data",
     "data": {
      "text/plain": "<Figure size 432x288 with 1 Axes>",
      "image/svg+xml": "<?xml version=\"1.0\" encoding=\"utf-8\" standalone=\"no\"?>\r\n<!DOCTYPE svg PUBLIC \"-//W3C//DTD SVG 1.1//EN\"\r\n  \"http://www.w3.org/Graphics/SVG/1.1/DTD/svg11.dtd\">\r\n<!-- Created with matplotlib (https://matplotlib.org/) -->\r\n<svg height=\"334.19625pt\" version=\"1.1\" viewBox=\"0 0 472.4875 334.19625\" width=\"472.4875pt\" xmlns=\"http://www.w3.org/2000/svg\" xmlns:xlink=\"http://www.w3.org/1999/xlink\">\r\n <metadata>\r\n  <rdf:RDF xmlns:cc=\"http://creativecommons.org/ns#\" xmlns:dc=\"http://purl.org/dc/elements/1.1/\" xmlns:rdf=\"http://www.w3.org/1999/02/22-rdf-syntax-ns#\">\r\n   <cc:Work>\r\n    <dc:type rdf:resource=\"http://purl.org/dc/dcmitype/StillImage\"/>\r\n    <dc:date>2020-11-19T21:52:27.009829</dc:date>\r\n    <dc:format>image/svg+xml</dc:format>\r\n    <dc:creator>\r\n     <cc:Agent>\r\n      <dc:title>Matplotlib v3.3.1, https://matplotlib.org/</dc:title>\r\n     </cc:Agent>\r\n    </dc:creator>\r\n   </cc:Work>\r\n  </rdf:RDF>\r\n </metadata>\r\n <defs>\r\n  <style type=\"text/css\">*{stroke-linecap:butt;stroke-linejoin:round;}</style>\r\n </defs>\r\n <g id=\"figure_1\">\r\n  <g id=\"patch_1\">\r\n   <path d=\"M 0 334.19625 \r\nL 472.4875 334.19625 \r\nL 472.4875 0 \r\nL 0 0 \r\nz\r\n\" style=\"fill:none;\"/>\r\n  </g>\r\n  <g id=\"axes_1\">\r\n   <g id=\"patch_2\">\r\n    <path d=\"M 33.2875 310.318125 \r\nL 465.2875 310.318125 \r\nL 465.2875 22.318125 \r\nL 33.2875 22.318125 \r\nz\r\n\" style=\"fill:#ffffff;\"/>\r\n   </g>\r\n   <g id=\"patch_3\">\r\n    <path clip-path=\"url(#pdbe970dbdf)\" d=\"M 52.923864 310.318125 \r\nL 99.127072 310.318125 \r\nL 99.127072 70.111335 \r\nL 52.923864 70.111335 \r\nz\r\n\" style=\"fill:#1f77b4;\"/>\r\n   </g>\r\n   <g id=\"patch_4\">\r\n    <path clip-path=\"url(#pdbe970dbdf)\" d=\"M 110.677874 310.318125 \r\nL 156.881083 310.318125 \r\nL 156.881083 40.333634 \r\nL 110.677874 40.333634 \r\nz\r\n\" style=\"fill:#1f77b4;\"/>\r\n   </g>\r\n   <g id=\"patch_5\">\r\n    <path clip-path=\"url(#pdbe970dbdf)\" d=\"M 168.431885 310.318125 \r\nL 214.635094 310.318125 \r\nL 214.635094 36.032411 \r\nL 168.431885 36.032411 \r\nz\r\n\" style=\"fill:#1f77b4;\"/>\r\n   </g>\r\n   <g id=\"patch_6\">\r\n    <path clip-path=\"url(#pdbe970dbdf)\" d=\"M 226.185896 310.318125 \r\nL 272.389104 310.318125 \r\nL 272.389104 42.318814 \r\nL 226.185896 42.318814 \r\nz\r\n\" style=\"fill:#1f77b4;\"/>\r\n   </g>\r\n   <g id=\"patch_7\">\r\n    <path clip-path=\"url(#pdbe970dbdf)\" d=\"M 283.939906 310.318125 \r\nL 330.143115 310.318125 \r\nL 330.143115 58.531118 \r\nL 283.939906 58.531118 \r\nz\r\n\" style=\"fill:#1f77b4;\"/>\r\n   </g>\r\n   <g id=\"patch_8\">\r\n    <path clip-path=\"url(#pdbe970dbdf)\" d=\"M 341.693917 310.318125 \r\nL 387.897126 310.318125 \r\nL 387.897126 71.765652 \r\nL 341.693917 71.765652 \r\nz\r\n\" style=\"fill:#1f77b4;\"/>\r\n   </g>\r\n   <g id=\"patch_9\">\r\n    <path clip-path=\"url(#pdbe970dbdf)\" d=\"M 399.447928 310.318125 \r\nL 445.651136 310.318125 \r\nL 445.651136 61.178025 \r\nL 399.447928 61.178025 \r\nz\r\n\" style=\"fill:#1f77b4;\"/>\r\n   </g>\r\n   <g id=\"matplotlib.axis_1\">\r\n    <g id=\"xtick_1\">\r\n     <g id=\"line2d_1\">\r\n      <defs>\r\n       <path d=\"M 0 0 \r\nL 0 3.5 \r\n\" id=\"mb898634194\" style=\"stroke:#000000;stroke-width:0.8;\"/>\r\n      </defs>\r\n      <g>\r\n       <use style=\"stroke:#000000;stroke-width:0.8;\" x=\"76.025468\" xlink:href=\"#mb898634194\" y=\"310.318125\"/>\r\n      </g>\r\n     </g>\r\n     <g id=\"text_1\">\r\n      <!-- Monday -->\r\n      <g transform=\"translate(56.285624 324.916562)scale(0.1 -0.1)\">\r\n       <defs>\r\n        <path d=\"M 9.8125 72.90625 \r\nL 24.515625 72.90625 \r\nL 43.109375 23.296875 \r\nL 61.8125 72.90625 \r\nL 76.515625 72.90625 \r\nL 76.515625 0 \r\nL 66.890625 0 \r\nL 66.890625 64.015625 \r\nL 48.09375 14.015625 \r\nL 38.1875 14.015625 \r\nL 19.390625 64.015625 \r\nL 19.390625 0 \r\nL 9.8125 0 \r\nz\r\n\" id=\"DejaVuSans-77\"/>\r\n        <path d=\"M 30.609375 48.390625 \r\nQ 23.390625 48.390625 19.1875 42.75 \r\nQ 14.984375 37.109375 14.984375 27.296875 \r\nQ 14.984375 17.484375 19.15625 11.84375 \r\nQ 23.34375 6.203125 30.609375 6.203125 \r\nQ 37.796875 6.203125 41.984375 11.859375 \r\nQ 46.1875 17.53125 46.1875 27.296875 \r\nQ 46.1875 37.015625 41.984375 42.703125 \r\nQ 37.796875 48.390625 30.609375 48.390625 \r\nz\r\nM 30.609375 56 \r\nQ 42.328125 56 49.015625 48.375 \r\nQ 55.71875 40.765625 55.71875 27.296875 \r\nQ 55.71875 13.875 49.015625 6.21875 \r\nQ 42.328125 -1.421875 30.609375 -1.421875 \r\nQ 18.84375 -1.421875 12.171875 6.21875 \r\nQ 5.515625 13.875 5.515625 27.296875 \r\nQ 5.515625 40.765625 12.171875 48.375 \r\nQ 18.84375 56 30.609375 56 \r\nz\r\n\" id=\"DejaVuSans-111\"/>\r\n        <path d=\"M 54.890625 33.015625 \r\nL 54.890625 0 \r\nL 45.90625 0 \r\nL 45.90625 32.71875 \r\nQ 45.90625 40.484375 42.875 44.328125 \r\nQ 39.84375 48.1875 33.796875 48.1875 \r\nQ 26.515625 48.1875 22.3125 43.546875 \r\nQ 18.109375 38.921875 18.109375 30.90625 \r\nL 18.109375 0 \r\nL 9.078125 0 \r\nL 9.078125 54.6875 \r\nL 18.109375 54.6875 \r\nL 18.109375 46.1875 \r\nQ 21.34375 51.125 25.703125 53.5625 \r\nQ 30.078125 56 35.796875 56 \r\nQ 45.21875 56 50.046875 50.171875 \r\nQ 54.890625 44.34375 54.890625 33.015625 \r\nz\r\n\" id=\"DejaVuSans-110\"/>\r\n        <path d=\"M 45.40625 46.390625 \r\nL 45.40625 75.984375 \r\nL 54.390625 75.984375 \r\nL 54.390625 0 \r\nL 45.40625 0 \r\nL 45.40625 8.203125 \r\nQ 42.578125 3.328125 38.25 0.953125 \r\nQ 33.9375 -1.421875 27.875 -1.421875 \r\nQ 17.96875 -1.421875 11.734375 6.484375 \r\nQ 5.515625 14.40625 5.515625 27.296875 \r\nQ 5.515625 40.1875 11.734375 48.09375 \r\nQ 17.96875 56 27.875 56 \r\nQ 33.9375 56 38.25 53.625 \r\nQ 42.578125 51.265625 45.40625 46.390625 \r\nz\r\nM 14.796875 27.296875 \r\nQ 14.796875 17.390625 18.875 11.75 \r\nQ 22.953125 6.109375 30.078125 6.109375 \r\nQ 37.203125 6.109375 41.296875 11.75 \r\nQ 45.40625 17.390625 45.40625 27.296875 \r\nQ 45.40625 37.203125 41.296875 42.84375 \r\nQ 37.203125 48.484375 30.078125 48.484375 \r\nQ 22.953125 48.484375 18.875 42.84375 \r\nQ 14.796875 37.203125 14.796875 27.296875 \r\nz\r\n\" id=\"DejaVuSans-100\"/>\r\n        <path d=\"M 34.28125 27.484375 \r\nQ 23.390625 27.484375 19.1875 25 \r\nQ 14.984375 22.515625 14.984375 16.5 \r\nQ 14.984375 11.71875 18.140625 8.90625 \r\nQ 21.296875 6.109375 26.703125 6.109375 \r\nQ 34.1875 6.109375 38.703125 11.40625 \r\nQ 43.21875 16.703125 43.21875 25.484375 \r\nL 43.21875 27.484375 \r\nz\r\nM 52.203125 31.203125 \r\nL 52.203125 0 \r\nL 43.21875 0 \r\nL 43.21875 8.296875 \r\nQ 40.140625 3.328125 35.546875 0.953125 \r\nQ 30.953125 -1.421875 24.3125 -1.421875 \r\nQ 15.921875 -1.421875 10.953125 3.296875 \r\nQ 6 8.015625 6 15.921875 \r\nQ 6 25.140625 12.171875 29.828125 \r\nQ 18.359375 34.515625 30.609375 34.515625 \r\nL 43.21875 34.515625 \r\nL 43.21875 35.40625 \r\nQ 43.21875 41.609375 39.140625 45 \r\nQ 35.0625 48.390625 27.6875 48.390625 \r\nQ 23 48.390625 18.546875 47.265625 \r\nQ 14.109375 46.140625 10.015625 43.890625 \r\nL 10.015625 52.203125 \r\nQ 14.9375 54.109375 19.578125 55.046875 \r\nQ 24.21875 56 28.609375 56 \r\nQ 40.484375 56 46.34375 49.84375 \r\nQ 52.203125 43.703125 52.203125 31.203125 \r\nz\r\n\" id=\"DejaVuSans-97\"/>\r\n        <path d=\"M 32.171875 -5.078125 \r\nQ 28.375 -14.84375 24.75 -17.8125 \r\nQ 21.140625 -20.796875 15.09375 -20.796875 \r\nL 7.90625 -20.796875 \r\nL 7.90625 -13.28125 \r\nL 13.1875 -13.28125 \r\nQ 16.890625 -13.28125 18.9375 -11.515625 \r\nQ 21 -9.765625 23.484375 -3.21875 \r\nL 25.09375 0.875 \r\nL 2.984375 54.6875 \r\nL 12.5 54.6875 \r\nL 29.59375 11.921875 \r\nL 46.6875 54.6875 \r\nL 56.203125 54.6875 \r\nz\r\n\" id=\"DejaVuSans-121\"/>\r\n       </defs>\r\n       <use xlink:href=\"#DejaVuSans-77\"/>\r\n       <use x=\"86.279297\" xlink:href=\"#DejaVuSans-111\"/>\r\n       <use x=\"147.460938\" xlink:href=\"#DejaVuSans-110\"/>\r\n       <use x=\"210.839844\" xlink:href=\"#DejaVuSans-100\"/>\r\n       <use x=\"274.316406\" xlink:href=\"#DejaVuSans-97\"/>\r\n       <use x=\"335.595703\" xlink:href=\"#DejaVuSans-121\"/>\r\n      </g>\r\n     </g>\r\n    </g>\r\n    <g id=\"xtick_2\">\r\n     <g id=\"line2d_2\">\r\n      <g>\r\n       <use style=\"stroke:#000000;stroke-width:0.8;\" x=\"133.779479\" xlink:href=\"#mb898634194\" y=\"310.318125\"/>\r\n      </g>\r\n     </g>\r\n     <g id=\"text_2\">\r\n      <!-- Tuesday -->\r\n      <g transform=\"translate(113.434166 324.916562)scale(0.1 -0.1)\">\r\n       <defs>\r\n        <path d=\"M -0.296875 72.90625 \r\nL 61.375 72.90625 \r\nL 61.375 64.59375 \r\nL 35.5 64.59375 \r\nL 35.5 0 \r\nL 25.59375 0 \r\nL 25.59375 64.59375 \r\nL -0.296875 64.59375 \r\nz\r\n\" id=\"DejaVuSans-84\"/>\r\n        <path d=\"M 8.5 21.578125 \r\nL 8.5 54.6875 \r\nL 17.484375 54.6875 \r\nL 17.484375 21.921875 \r\nQ 17.484375 14.15625 20.5 10.265625 \r\nQ 23.53125 6.390625 29.59375 6.390625 \r\nQ 36.859375 6.390625 41.078125 11.03125 \r\nQ 45.3125 15.671875 45.3125 23.6875 \r\nL 45.3125 54.6875 \r\nL 54.296875 54.6875 \r\nL 54.296875 0 \r\nL 45.3125 0 \r\nL 45.3125 8.40625 \r\nQ 42.046875 3.421875 37.71875 1 \r\nQ 33.40625 -1.421875 27.6875 -1.421875 \r\nQ 18.265625 -1.421875 13.375 4.4375 \r\nQ 8.5 10.296875 8.5 21.578125 \r\nz\r\nM 31.109375 56 \r\nz\r\n\" id=\"DejaVuSans-117\"/>\r\n        <path d=\"M 56.203125 29.59375 \r\nL 56.203125 25.203125 \r\nL 14.890625 25.203125 \r\nQ 15.484375 15.921875 20.484375 11.0625 \r\nQ 25.484375 6.203125 34.421875 6.203125 \r\nQ 39.59375 6.203125 44.453125 7.46875 \r\nQ 49.3125 8.734375 54.109375 11.28125 \r\nL 54.109375 2.78125 \r\nQ 49.265625 0.734375 44.1875 -0.34375 \r\nQ 39.109375 -1.421875 33.890625 -1.421875 \r\nQ 20.796875 -1.421875 13.15625 6.1875 \r\nQ 5.515625 13.8125 5.515625 26.8125 \r\nQ 5.515625 40.234375 12.765625 48.109375 \r\nQ 20.015625 56 32.328125 56 \r\nQ 43.359375 56 49.78125 48.890625 \r\nQ 56.203125 41.796875 56.203125 29.59375 \r\nz\r\nM 47.21875 32.234375 \r\nQ 47.125 39.59375 43.09375 43.984375 \r\nQ 39.0625 48.390625 32.421875 48.390625 \r\nQ 24.90625 48.390625 20.390625 44.140625 \r\nQ 15.875 39.890625 15.1875 32.171875 \r\nz\r\n\" id=\"DejaVuSans-101\"/>\r\n        <path d=\"M 44.28125 53.078125 \r\nL 44.28125 44.578125 \r\nQ 40.484375 46.53125 36.375 47.5 \r\nQ 32.28125 48.484375 27.875 48.484375 \r\nQ 21.1875 48.484375 17.84375 46.4375 \r\nQ 14.5 44.390625 14.5 40.28125 \r\nQ 14.5 37.15625 16.890625 35.375 \r\nQ 19.28125 33.59375 26.515625 31.984375 \r\nL 29.59375 31.296875 \r\nQ 39.15625 29.25 43.1875 25.515625 \r\nQ 47.21875 21.78125 47.21875 15.09375 \r\nQ 47.21875 7.46875 41.1875 3.015625 \r\nQ 35.15625 -1.421875 24.609375 -1.421875 \r\nQ 20.21875 -1.421875 15.453125 -0.5625 \r\nQ 10.6875 0.296875 5.421875 2 \r\nL 5.421875 11.28125 \r\nQ 10.40625 8.6875 15.234375 7.390625 \r\nQ 20.0625 6.109375 24.8125 6.109375 \r\nQ 31.15625 6.109375 34.5625 8.28125 \r\nQ 37.984375 10.453125 37.984375 14.40625 \r\nQ 37.984375 18.0625 35.515625 20.015625 \r\nQ 33.0625 21.96875 24.703125 23.78125 \r\nL 21.578125 24.515625 \r\nQ 13.234375 26.265625 9.515625 29.90625 \r\nQ 5.8125 33.546875 5.8125 39.890625 \r\nQ 5.8125 47.609375 11.28125 51.796875 \r\nQ 16.75 56 26.8125 56 \r\nQ 31.78125 56 36.171875 55.265625 \r\nQ 40.578125 54.546875 44.28125 53.078125 \r\nz\r\n\" id=\"DejaVuSans-115\"/>\r\n       </defs>\r\n       <use xlink:href=\"#DejaVuSans-84\"/>\r\n       <use x=\"45.958984\" xlink:href=\"#DejaVuSans-117\"/>\r\n       <use x=\"109.337891\" xlink:href=\"#DejaVuSans-101\"/>\r\n       <use x=\"170.861328\" xlink:href=\"#DejaVuSans-115\"/>\r\n       <use x=\"222.960938\" xlink:href=\"#DejaVuSans-100\"/>\r\n       <use x=\"286.4375\" xlink:href=\"#DejaVuSans-97\"/>\r\n       <use x=\"347.716797\" xlink:href=\"#DejaVuSans-121\"/>\r\n      </g>\r\n     </g>\r\n    </g>\r\n    <g id=\"xtick_3\">\r\n     <g id=\"line2d_3\">\r\n      <g>\r\n       <use style=\"stroke:#000000;stroke-width:0.8;\" x=\"191.533489\" xlink:href=\"#mb898634194\" y=\"310.318125\"/>\r\n      </g>\r\n     </g>\r\n     <g id=\"text_3\">\r\n      <!-- Wednesday -->\r\n      <g transform=\"translate(162.585052 324.916562)scale(0.1 -0.1)\">\r\n       <defs>\r\n        <path d=\"M 3.328125 72.90625 \r\nL 13.28125 72.90625 \r\nL 28.609375 11.28125 \r\nL 43.890625 72.90625 \r\nL 54.984375 72.90625 \r\nL 70.3125 11.28125 \r\nL 85.59375 72.90625 \r\nL 95.609375 72.90625 \r\nL 77.296875 0 \r\nL 64.890625 0 \r\nL 49.515625 63.28125 \r\nL 33.984375 0 \r\nL 21.578125 0 \r\nz\r\n\" id=\"DejaVuSans-87\"/>\r\n       </defs>\r\n       <use xlink:href=\"#DejaVuSans-87\"/>\r\n       <use x=\"93.001953\" xlink:href=\"#DejaVuSans-101\"/>\r\n       <use x=\"154.525391\" xlink:href=\"#DejaVuSans-100\"/>\r\n       <use x=\"218.001953\" xlink:href=\"#DejaVuSans-110\"/>\r\n       <use x=\"281.380859\" xlink:href=\"#DejaVuSans-101\"/>\r\n       <use x=\"342.904297\" xlink:href=\"#DejaVuSans-115\"/>\r\n       <use x=\"395.003906\" xlink:href=\"#DejaVuSans-100\"/>\r\n       <use x=\"458.480469\" xlink:href=\"#DejaVuSans-97\"/>\r\n       <use x=\"519.759766\" xlink:href=\"#DejaVuSans-121\"/>\r\n      </g>\r\n     </g>\r\n    </g>\r\n    <g id=\"xtick_4\">\r\n     <g id=\"line2d_4\">\r\n      <g>\r\n       <use style=\"stroke:#000000;stroke-width:0.8;\" x=\"249.2875\" xlink:href=\"#mb898634194\" y=\"310.318125\"/>\r\n      </g>\r\n     </g>\r\n     <g id=\"text_4\">\r\n      <!-- Thursday -->\r\n      <g transform=\"translate(226.038281 324.916562)scale(0.1 -0.1)\">\r\n       <defs>\r\n        <path d=\"M 54.890625 33.015625 \r\nL 54.890625 0 \r\nL 45.90625 0 \r\nL 45.90625 32.71875 \r\nQ 45.90625 40.484375 42.875 44.328125 \r\nQ 39.84375 48.1875 33.796875 48.1875 \r\nQ 26.515625 48.1875 22.3125 43.546875 \r\nQ 18.109375 38.921875 18.109375 30.90625 \r\nL 18.109375 0 \r\nL 9.078125 0 \r\nL 9.078125 75.984375 \r\nL 18.109375 75.984375 \r\nL 18.109375 46.1875 \r\nQ 21.34375 51.125 25.703125 53.5625 \r\nQ 30.078125 56 35.796875 56 \r\nQ 45.21875 56 50.046875 50.171875 \r\nQ 54.890625 44.34375 54.890625 33.015625 \r\nz\r\n\" id=\"DejaVuSans-104\"/>\r\n        <path d=\"M 41.109375 46.296875 \r\nQ 39.59375 47.171875 37.8125 47.578125 \r\nQ 36.03125 48 33.890625 48 \r\nQ 26.265625 48 22.1875 43.046875 \r\nQ 18.109375 38.09375 18.109375 28.8125 \r\nL 18.109375 0 \r\nL 9.078125 0 \r\nL 9.078125 54.6875 \r\nL 18.109375 54.6875 \r\nL 18.109375 46.1875 \r\nQ 20.953125 51.171875 25.484375 53.578125 \r\nQ 30.03125 56 36.53125 56 \r\nQ 37.453125 56 38.578125 55.875 \r\nQ 39.703125 55.765625 41.0625 55.515625 \r\nz\r\n\" id=\"DejaVuSans-114\"/>\r\n       </defs>\r\n       <use xlink:href=\"#DejaVuSans-84\"/>\r\n       <use x=\"61.083984\" xlink:href=\"#DejaVuSans-104\"/>\r\n       <use x=\"124.462891\" xlink:href=\"#DejaVuSans-117\"/>\r\n       <use x=\"187.841797\" xlink:href=\"#DejaVuSans-114\"/>\r\n       <use x=\"228.955078\" xlink:href=\"#DejaVuSans-115\"/>\r\n       <use x=\"281.054688\" xlink:href=\"#DejaVuSans-100\"/>\r\n       <use x=\"344.53125\" xlink:href=\"#DejaVuSans-97\"/>\r\n       <use x=\"405.810547\" xlink:href=\"#DejaVuSans-121\"/>\r\n      </g>\r\n     </g>\r\n    </g>\r\n    <g id=\"xtick_5\">\r\n     <g id=\"line2d_5\">\r\n      <g>\r\n       <use style=\"stroke:#000000;stroke-width:0.8;\" x=\"307.041511\" xlink:href=\"#mb898634194\" y=\"310.318125\"/>\r\n      </g>\r\n     </g>\r\n     <g id=\"text_5\">\r\n      <!-- Friday -->\r\n      <g transform=\"translate(291.886042 324.916562)scale(0.1 -0.1)\">\r\n       <defs>\r\n        <path d=\"M 9.8125 72.90625 \r\nL 51.703125 72.90625 \r\nL 51.703125 64.59375 \r\nL 19.671875 64.59375 \r\nL 19.671875 43.109375 \r\nL 48.578125 43.109375 \r\nL 48.578125 34.8125 \r\nL 19.671875 34.8125 \r\nL 19.671875 0 \r\nL 9.8125 0 \r\nz\r\n\" id=\"DejaVuSans-70\"/>\r\n        <path d=\"M 9.421875 54.6875 \r\nL 18.40625 54.6875 \r\nL 18.40625 0 \r\nL 9.421875 0 \r\nz\r\nM 9.421875 75.984375 \r\nL 18.40625 75.984375 \r\nL 18.40625 64.59375 \r\nL 9.421875 64.59375 \r\nz\r\n\" id=\"DejaVuSans-105\"/>\r\n       </defs>\r\n       <use xlink:href=\"#DejaVuSans-70\"/>\r\n       <use x=\"50.269531\" xlink:href=\"#DejaVuSans-114\"/>\r\n       <use x=\"91.382812\" xlink:href=\"#DejaVuSans-105\"/>\r\n       <use x=\"119.166016\" xlink:href=\"#DejaVuSans-100\"/>\r\n       <use x=\"182.642578\" xlink:href=\"#DejaVuSans-97\"/>\r\n       <use x=\"243.921875\" xlink:href=\"#DejaVuSans-121\"/>\r\n      </g>\r\n     </g>\r\n    </g>\r\n    <g id=\"xtick_6\">\r\n     <g id=\"line2d_6\">\r\n      <g>\r\n       <use style=\"stroke:#000000;stroke-width:0.8;\" x=\"364.795521\" xlink:href=\"#mb898634194\" y=\"310.318125\"/>\r\n      </g>\r\n     </g>\r\n     <g id=\"text_6\">\r\n      <!-- Saturday -->\r\n      <g transform=\"translate(342.262709 324.916562)scale(0.1 -0.1)\">\r\n       <defs>\r\n        <path d=\"M 53.515625 70.515625 \r\nL 53.515625 60.890625 \r\nQ 47.90625 63.578125 42.921875 64.890625 \r\nQ 37.9375 66.21875 33.296875 66.21875 \r\nQ 25.25 66.21875 20.875 63.09375 \r\nQ 16.5 59.96875 16.5 54.203125 \r\nQ 16.5 49.359375 19.40625 46.890625 \r\nQ 22.3125 44.4375 30.421875 42.921875 \r\nL 36.375 41.703125 \r\nQ 47.40625 39.59375 52.65625 34.296875 \r\nQ 57.90625 29 57.90625 20.125 \r\nQ 57.90625 9.515625 50.796875 4.046875 \r\nQ 43.703125 -1.421875 29.984375 -1.421875 \r\nQ 24.8125 -1.421875 18.96875 -0.25 \r\nQ 13.140625 0.921875 6.890625 3.21875 \r\nL 6.890625 13.375 \r\nQ 12.890625 10.015625 18.65625 8.296875 \r\nQ 24.421875 6.59375 29.984375 6.59375 \r\nQ 38.421875 6.59375 43.015625 9.90625 \r\nQ 47.609375 13.234375 47.609375 19.390625 \r\nQ 47.609375 24.75 44.3125 27.78125 \r\nQ 41.015625 30.8125 33.5 32.328125 \r\nL 27.484375 33.5 \r\nQ 16.453125 35.6875 11.515625 40.375 \r\nQ 6.59375 45.0625 6.59375 53.421875 \r\nQ 6.59375 63.09375 13.40625 68.65625 \r\nQ 20.21875 74.21875 32.171875 74.21875 \r\nQ 37.3125 74.21875 42.625 73.28125 \r\nQ 47.953125 72.359375 53.515625 70.515625 \r\nz\r\n\" id=\"DejaVuSans-83\"/>\r\n        <path d=\"M 18.3125 70.21875 \r\nL 18.3125 54.6875 \r\nL 36.8125 54.6875 \r\nL 36.8125 47.703125 \r\nL 18.3125 47.703125 \r\nL 18.3125 18.015625 \r\nQ 18.3125 11.328125 20.140625 9.421875 \r\nQ 21.96875 7.515625 27.59375 7.515625 \r\nL 36.8125 7.515625 \r\nL 36.8125 0 \r\nL 27.59375 0 \r\nQ 17.1875 0 13.234375 3.875 \r\nQ 9.28125 7.765625 9.28125 18.015625 \r\nL 9.28125 47.703125 \r\nL 2.6875 47.703125 \r\nL 2.6875 54.6875 \r\nL 9.28125 54.6875 \r\nL 9.28125 70.21875 \r\nz\r\n\" id=\"DejaVuSans-116\"/>\r\n       </defs>\r\n       <use xlink:href=\"#DejaVuSans-83\"/>\r\n       <use x=\"63.476562\" xlink:href=\"#DejaVuSans-97\"/>\r\n       <use x=\"124.755859\" xlink:href=\"#DejaVuSans-116\"/>\r\n       <use x=\"163.964844\" xlink:href=\"#DejaVuSans-117\"/>\r\n       <use x=\"227.34375\" xlink:href=\"#DejaVuSans-114\"/>\r\n       <use x=\"266.707031\" xlink:href=\"#DejaVuSans-100\"/>\r\n       <use x=\"330.183594\" xlink:href=\"#DejaVuSans-97\"/>\r\n       <use x=\"391.462891\" xlink:href=\"#DejaVuSans-121\"/>\r\n      </g>\r\n     </g>\r\n    </g>\r\n    <g id=\"xtick_7\">\r\n     <g id=\"line2d_7\">\r\n      <g>\r\n       <use style=\"stroke:#000000;stroke-width:0.8;\" x=\"422.549532\" xlink:href=\"#mb898634194\" y=\"310.318125\"/>\r\n      </g>\r\n     </g>\r\n     <g id=\"text_7\">\r\n      <!-- Sunday -->\r\n      <g transform=\"translate(403.840157 324.916562)scale(0.1 -0.1)\">\r\n       <use xlink:href=\"#DejaVuSans-83\"/>\r\n       <use x=\"63.476562\" xlink:href=\"#DejaVuSans-117\"/>\r\n       <use x=\"126.855469\" xlink:href=\"#DejaVuSans-110\"/>\r\n       <use x=\"190.234375\" xlink:href=\"#DejaVuSans-100\"/>\r\n       <use x=\"253.710938\" xlink:href=\"#DejaVuSans-97\"/>\r\n       <use x=\"314.990234\" xlink:href=\"#DejaVuSans-121\"/>\r\n      </g>\r\n     </g>\r\n    </g>\r\n   </g>\r\n   <g id=\"matplotlib.axis_2\">\r\n    <g id=\"ytick_1\">\r\n     <g id=\"line2d_8\">\r\n      <defs>\r\n       <path d=\"M 0 0 \r\nL -3.5 0 \r\n\" id=\"m748d43c3b7\" style=\"stroke:#000000;stroke-width:0.8;\"/>\r\n      </defs>\r\n      <g>\r\n       <use style=\"stroke:#000000;stroke-width:0.8;\" x=\"33.2875\" xlink:href=\"#m748d43c3b7\" y=\"310.318125\"/>\r\n      </g>\r\n     </g>\r\n     <g id=\"text_8\">\r\n      <!-- 0 -->\r\n      <g transform=\"translate(19.925 314.117344)scale(0.1 -0.1)\">\r\n       <defs>\r\n        <path d=\"M 31.78125 66.40625 \r\nQ 24.171875 66.40625 20.328125 58.90625 \r\nQ 16.5 51.421875 16.5 36.375 \r\nQ 16.5 21.390625 20.328125 13.890625 \r\nQ 24.171875 6.390625 31.78125 6.390625 \r\nQ 39.453125 6.390625 43.28125 13.890625 \r\nQ 47.125 21.390625 47.125 36.375 \r\nQ 47.125 51.421875 43.28125 58.90625 \r\nQ 39.453125 66.40625 31.78125 66.40625 \r\nz\r\nM 31.78125 74.21875 \r\nQ 44.046875 74.21875 50.515625 64.515625 \r\nQ 56.984375 54.828125 56.984375 36.375 \r\nQ 56.984375 17.96875 50.515625 8.265625 \r\nQ 44.046875 -1.421875 31.78125 -1.421875 \r\nQ 19.53125 -1.421875 13.0625 8.265625 \r\nQ 6.59375 17.96875 6.59375 36.375 \r\nQ 6.59375 54.828125 13.0625 64.515625 \r\nQ 19.53125 74.21875 31.78125 74.21875 \r\nz\r\n\" id=\"DejaVuSans-48\"/>\r\n       </defs>\r\n       <use xlink:href=\"#DejaVuSans-48\"/>\r\n      </g>\r\n     </g>\r\n    </g>\r\n    <g id=\"ytick_2\">\r\n     <g id=\"line2d_9\">\r\n      <g>\r\n       <use style=\"stroke:#000000;stroke-width:0.8;\" x=\"33.2875\" xlink:href=\"#m748d43c3b7\" y=\"277.23179\"/>\r\n      </g>\r\n     </g>\r\n     <g id=\"text_9\">\r\n      <!-- 100 -->\r\n      <g transform=\"translate(7.2 281.031009)scale(0.1 -0.1)\">\r\n       <defs>\r\n        <path d=\"M 12.40625 8.296875 \r\nL 28.515625 8.296875 \r\nL 28.515625 63.921875 \r\nL 10.984375 60.40625 \r\nL 10.984375 69.390625 \r\nL 28.421875 72.90625 \r\nL 38.28125 72.90625 \r\nL 38.28125 8.296875 \r\nL 54.390625 8.296875 \r\nL 54.390625 0 \r\nL 12.40625 0 \r\nz\r\n\" id=\"DejaVuSans-49\"/>\r\n       </defs>\r\n       <use xlink:href=\"#DejaVuSans-49\"/>\r\n       <use x=\"63.623047\" xlink:href=\"#DejaVuSans-48\"/>\r\n       <use x=\"127.246094\" xlink:href=\"#DejaVuSans-48\"/>\r\n      </g>\r\n     </g>\r\n    </g>\r\n    <g id=\"ytick_3\">\r\n     <g id=\"line2d_10\">\r\n      <g>\r\n       <use style=\"stroke:#000000;stroke-width:0.8;\" x=\"33.2875\" xlink:href=\"#m748d43c3b7\" y=\"244.145456\"/>\r\n      </g>\r\n     </g>\r\n     <g id=\"text_10\">\r\n      <!-- 200 -->\r\n      <g transform=\"translate(7.2 247.944674)scale(0.1 -0.1)\">\r\n       <defs>\r\n        <path d=\"M 19.1875 8.296875 \r\nL 53.609375 8.296875 \r\nL 53.609375 0 \r\nL 7.328125 0 \r\nL 7.328125 8.296875 \r\nQ 12.9375 14.109375 22.625 23.890625 \r\nQ 32.328125 33.6875 34.8125 36.53125 \r\nQ 39.546875 41.84375 41.421875 45.53125 \r\nQ 43.3125 49.21875 43.3125 52.78125 \r\nQ 43.3125 58.59375 39.234375 62.25 \r\nQ 35.15625 65.921875 28.609375 65.921875 \r\nQ 23.96875 65.921875 18.8125 64.3125 \r\nQ 13.671875 62.703125 7.8125 59.421875 \r\nL 7.8125 69.390625 \r\nQ 13.765625 71.78125 18.9375 73 \r\nQ 24.125 74.21875 28.421875 74.21875 \r\nQ 39.75 74.21875 46.484375 68.546875 \r\nQ 53.21875 62.890625 53.21875 53.421875 \r\nQ 53.21875 48.921875 51.53125 44.890625 \r\nQ 49.859375 40.875 45.40625 35.40625 \r\nQ 44.1875 33.984375 37.640625 27.21875 \r\nQ 31.109375 20.453125 19.1875 8.296875 \r\nz\r\n\" id=\"DejaVuSans-50\"/>\r\n       </defs>\r\n       <use xlink:href=\"#DejaVuSans-50\"/>\r\n       <use x=\"63.623047\" xlink:href=\"#DejaVuSans-48\"/>\r\n       <use x=\"127.246094\" xlink:href=\"#DejaVuSans-48\"/>\r\n      </g>\r\n     </g>\r\n    </g>\r\n    <g id=\"ytick_4\">\r\n     <g id=\"line2d_11\">\r\n      <g>\r\n       <use style=\"stroke:#000000;stroke-width:0.8;\" x=\"33.2875\" xlink:href=\"#m748d43c3b7\" y=\"211.059121\"/>\r\n      </g>\r\n     </g>\r\n     <g id=\"text_11\">\r\n      <!-- 300 -->\r\n      <g transform=\"translate(7.2 214.85834)scale(0.1 -0.1)\">\r\n       <defs>\r\n        <path d=\"M 40.578125 39.3125 \r\nQ 47.65625 37.796875 51.625 33 \r\nQ 55.609375 28.21875 55.609375 21.1875 \r\nQ 55.609375 10.40625 48.1875 4.484375 \r\nQ 40.765625 -1.421875 27.09375 -1.421875 \r\nQ 22.515625 -1.421875 17.65625 -0.515625 \r\nQ 12.796875 0.390625 7.625 2.203125 \r\nL 7.625 11.71875 \r\nQ 11.71875 9.328125 16.59375 8.109375 \r\nQ 21.484375 6.890625 26.8125 6.890625 \r\nQ 36.078125 6.890625 40.9375 10.546875 \r\nQ 45.796875 14.203125 45.796875 21.1875 \r\nQ 45.796875 27.640625 41.28125 31.265625 \r\nQ 36.765625 34.90625 28.71875 34.90625 \r\nL 20.21875 34.90625 \r\nL 20.21875 43.015625 \r\nL 29.109375 43.015625 \r\nQ 36.375 43.015625 40.234375 45.921875 \r\nQ 44.09375 48.828125 44.09375 54.296875 \r\nQ 44.09375 59.90625 40.109375 62.90625 \r\nQ 36.140625 65.921875 28.71875 65.921875 \r\nQ 24.65625 65.921875 20.015625 65.03125 \r\nQ 15.375 64.15625 9.8125 62.3125 \r\nL 9.8125 71.09375 \r\nQ 15.4375 72.65625 20.34375 73.4375 \r\nQ 25.25 74.21875 29.59375 74.21875 \r\nQ 40.828125 74.21875 47.359375 69.109375 \r\nQ 53.90625 64.015625 53.90625 55.328125 \r\nQ 53.90625 49.265625 50.4375 45.09375 \r\nQ 46.96875 40.921875 40.578125 39.3125 \r\nz\r\n\" id=\"DejaVuSans-51\"/>\r\n       </defs>\r\n       <use xlink:href=\"#DejaVuSans-51\"/>\r\n       <use x=\"63.623047\" xlink:href=\"#DejaVuSans-48\"/>\r\n       <use x=\"127.246094\" xlink:href=\"#DejaVuSans-48\"/>\r\n      </g>\r\n     </g>\r\n    </g>\r\n    <g id=\"ytick_5\">\r\n     <g id=\"line2d_12\">\r\n      <g>\r\n       <use style=\"stroke:#000000;stroke-width:0.8;\" x=\"33.2875\" xlink:href=\"#m748d43c3b7\" y=\"177.972786\"/>\r\n      </g>\r\n     </g>\r\n     <g id=\"text_12\">\r\n      <!-- 400 -->\r\n      <g transform=\"translate(7.2 181.772005)scale(0.1 -0.1)\">\r\n       <defs>\r\n        <path d=\"M 37.796875 64.3125 \r\nL 12.890625 25.390625 \r\nL 37.796875 25.390625 \r\nz\r\nM 35.203125 72.90625 \r\nL 47.609375 72.90625 \r\nL 47.609375 25.390625 \r\nL 58.015625 25.390625 \r\nL 58.015625 17.1875 \r\nL 47.609375 17.1875 \r\nL 47.609375 0 \r\nL 37.796875 0 \r\nL 37.796875 17.1875 \r\nL 4.890625 17.1875 \r\nL 4.890625 26.703125 \r\nz\r\n\" id=\"DejaVuSans-52\"/>\r\n       </defs>\r\n       <use xlink:href=\"#DejaVuSans-52\"/>\r\n       <use x=\"63.623047\" xlink:href=\"#DejaVuSans-48\"/>\r\n       <use x=\"127.246094\" xlink:href=\"#DejaVuSans-48\"/>\r\n      </g>\r\n     </g>\r\n    </g>\r\n    <g id=\"ytick_6\">\r\n     <g id=\"line2d_13\">\r\n      <g>\r\n       <use style=\"stroke:#000000;stroke-width:0.8;\" x=\"33.2875\" xlink:href=\"#m748d43c3b7\" y=\"144.886452\"/>\r\n      </g>\r\n     </g>\r\n     <g id=\"text_13\">\r\n      <!-- 500 -->\r\n      <g transform=\"translate(7.2 148.68567)scale(0.1 -0.1)\">\r\n       <defs>\r\n        <path d=\"M 10.796875 72.90625 \r\nL 49.515625 72.90625 \r\nL 49.515625 64.59375 \r\nL 19.828125 64.59375 \r\nL 19.828125 46.734375 \r\nQ 21.96875 47.46875 24.109375 47.828125 \r\nQ 26.265625 48.1875 28.421875 48.1875 \r\nQ 40.625 48.1875 47.75 41.5 \r\nQ 54.890625 34.8125 54.890625 23.390625 \r\nQ 54.890625 11.625 47.5625 5.09375 \r\nQ 40.234375 -1.421875 26.90625 -1.421875 \r\nQ 22.3125 -1.421875 17.546875 -0.640625 \r\nQ 12.796875 0.140625 7.71875 1.703125 \r\nL 7.71875 11.625 \r\nQ 12.109375 9.234375 16.796875 8.0625 \r\nQ 21.484375 6.890625 26.703125 6.890625 \r\nQ 35.15625 6.890625 40.078125 11.328125 \r\nQ 45.015625 15.765625 45.015625 23.390625 \r\nQ 45.015625 31 40.078125 35.4375 \r\nQ 35.15625 39.890625 26.703125 39.890625 \r\nQ 22.75 39.890625 18.8125 39.015625 \r\nQ 14.890625 38.140625 10.796875 36.28125 \r\nz\r\n\" id=\"DejaVuSans-53\"/>\r\n       </defs>\r\n       <use xlink:href=\"#DejaVuSans-53\"/>\r\n       <use x=\"63.623047\" xlink:href=\"#DejaVuSans-48\"/>\r\n       <use x=\"127.246094\" xlink:href=\"#DejaVuSans-48\"/>\r\n      </g>\r\n     </g>\r\n    </g>\r\n    <g id=\"ytick_7\">\r\n     <g id=\"line2d_14\">\r\n      <g>\r\n       <use style=\"stroke:#000000;stroke-width:0.8;\" x=\"33.2875\" xlink:href=\"#m748d43c3b7\" y=\"111.800117\"/>\r\n      </g>\r\n     </g>\r\n     <g id=\"text_14\">\r\n      <!-- 600 -->\r\n      <g transform=\"translate(7.2 115.599336)scale(0.1 -0.1)\">\r\n       <defs>\r\n        <path d=\"M 33.015625 40.375 \r\nQ 26.375 40.375 22.484375 35.828125 \r\nQ 18.609375 31.296875 18.609375 23.390625 \r\nQ 18.609375 15.53125 22.484375 10.953125 \r\nQ 26.375 6.390625 33.015625 6.390625 \r\nQ 39.65625 6.390625 43.53125 10.953125 \r\nQ 47.40625 15.53125 47.40625 23.390625 \r\nQ 47.40625 31.296875 43.53125 35.828125 \r\nQ 39.65625 40.375 33.015625 40.375 \r\nz\r\nM 52.59375 71.296875 \r\nL 52.59375 62.3125 \r\nQ 48.875 64.0625 45.09375 64.984375 \r\nQ 41.3125 65.921875 37.59375 65.921875 \r\nQ 27.828125 65.921875 22.671875 59.328125 \r\nQ 17.53125 52.734375 16.796875 39.40625 \r\nQ 19.671875 43.65625 24.015625 45.921875 \r\nQ 28.375 48.1875 33.59375 48.1875 \r\nQ 44.578125 48.1875 50.953125 41.515625 \r\nQ 57.328125 34.859375 57.328125 23.390625 \r\nQ 57.328125 12.15625 50.6875 5.359375 \r\nQ 44.046875 -1.421875 33.015625 -1.421875 \r\nQ 20.359375 -1.421875 13.671875 8.265625 \r\nQ 6.984375 17.96875 6.984375 36.375 \r\nQ 6.984375 53.65625 15.1875 63.9375 \r\nQ 23.390625 74.21875 37.203125 74.21875 \r\nQ 40.921875 74.21875 44.703125 73.484375 \r\nQ 48.484375 72.75 52.59375 71.296875 \r\nz\r\n\" id=\"DejaVuSans-54\"/>\r\n       </defs>\r\n       <use xlink:href=\"#DejaVuSans-54\"/>\r\n       <use x=\"63.623047\" xlink:href=\"#DejaVuSans-48\"/>\r\n       <use x=\"127.246094\" xlink:href=\"#DejaVuSans-48\"/>\r\n      </g>\r\n     </g>\r\n    </g>\r\n    <g id=\"ytick_8\">\r\n     <g id=\"line2d_15\">\r\n      <g>\r\n       <use style=\"stroke:#000000;stroke-width:0.8;\" x=\"33.2875\" xlink:href=\"#m748d43c3b7\" y=\"78.713782\"/>\r\n      </g>\r\n     </g>\r\n     <g id=\"text_15\">\r\n      <!-- 700 -->\r\n      <g transform=\"translate(7.2 82.513001)scale(0.1 -0.1)\">\r\n       <defs>\r\n        <path d=\"M 8.203125 72.90625 \r\nL 55.078125 72.90625 \r\nL 55.078125 68.703125 \r\nL 28.609375 0 \r\nL 18.3125 0 \r\nL 43.21875 64.59375 \r\nL 8.203125 64.59375 \r\nz\r\n\" id=\"DejaVuSans-55\"/>\r\n       </defs>\r\n       <use xlink:href=\"#DejaVuSans-55\"/>\r\n       <use x=\"63.623047\" xlink:href=\"#DejaVuSans-48\"/>\r\n       <use x=\"127.246094\" xlink:href=\"#DejaVuSans-48\"/>\r\n      </g>\r\n     </g>\r\n    </g>\r\n    <g id=\"ytick_9\">\r\n     <g id=\"line2d_16\">\r\n      <g>\r\n       <use style=\"stroke:#000000;stroke-width:0.8;\" x=\"33.2875\" xlink:href=\"#m748d43c3b7\" y=\"45.627448\"/>\r\n      </g>\r\n     </g>\r\n     <g id=\"text_16\">\r\n      <!-- 800 -->\r\n      <g transform=\"translate(7.2 49.426667)scale(0.1 -0.1)\">\r\n       <defs>\r\n        <path d=\"M 31.78125 34.625 \r\nQ 24.75 34.625 20.71875 30.859375 \r\nQ 16.703125 27.09375 16.703125 20.515625 \r\nQ 16.703125 13.921875 20.71875 10.15625 \r\nQ 24.75 6.390625 31.78125 6.390625 \r\nQ 38.8125 6.390625 42.859375 10.171875 \r\nQ 46.921875 13.96875 46.921875 20.515625 \r\nQ 46.921875 27.09375 42.890625 30.859375 \r\nQ 38.875 34.625 31.78125 34.625 \r\nz\r\nM 21.921875 38.8125 \r\nQ 15.578125 40.375 12.03125 44.71875 \r\nQ 8.5 49.078125 8.5 55.328125 \r\nQ 8.5 64.0625 14.71875 69.140625 \r\nQ 20.953125 74.21875 31.78125 74.21875 \r\nQ 42.671875 74.21875 48.875 69.140625 \r\nQ 55.078125 64.0625 55.078125 55.328125 \r\nQ 55.078125 49.078125 51.53125 44.71875 \r\nQ 48 40.375 41.703125 38.8125 \r\nQ 48.828125 37.15625 52.796875 32.3125 \r\nQ 56.78125 27.484375 56.78125 20.515625 \r\nQ 56.78125 9.90625 50.3125 4.234375 \r\nQ 43.84375 -1.421875 31.78125 -1.421875 \r\nQ 19.734375 -1.421875 13.25 4.234375 \r\nQ 6.78125 9.90625 6.78125 20.515625 \r\nQ 6.78125 27.484375 10.78125 32.3125 \r\nQ 14.796875 37.15625 21.921875 38.8125 \r\nz\r\nM 18.3125 54.390625 \r\nQ 18.3125 48.734375 21.84375 45.5625 \r\nQ 25.390625 42.390625 31.78125 42.390625 \r\nQ 38.140625 42.390625 41.71875 45.5625 \r\nQ 45.3125 48.734375 45.3125 54.390625 \r\nQ 45.3125 60.0625 41.71875 63.234375 \r\nQ 38.140625 66.40625 31.78125 66.40625 \r\nQ 25.390625 66.40625 21.84375 63.234375 \r\nQ 18.3125 60.0625 18.3125 54.390625 \r\nz\r\n\" id=\"DejaVuSans-56\"/>\r\n       </defs>\r\n       <use xlink:href=\"#DejaVuSans-56\"/>\r\n       <use x=\"63.623047\" xlink:href=\"#DejaVuSans-48\"/>\r\n       <use x=\"127.246094\" xlink:href=\"#DejaVuSans-48\"/>\r\n      </g>\r\n     </g>\r\n    </g>\r\n   </g>\r\n   <g id=\"patch_10\">\r\n    <path d=\"M 33.2875 310.318125 \r\nL 33.2875 22.318125 \r\n\" style=\"fill:none;stroke:#000000;stroke-linecap:square;stroke-linejoin:miter;stroke-width:0.8;\"/>\r\n   </g>\r\n   <g id=\"patch_11\">\r\n    <path d=\"M 465.2875 310.318125 \r\nL 465.2875 22.318125 \r\n\" style=\"fill:none;stroke:#000000;stroke-linecap:square;stroke-linejoin:miter;stroke-width:0.8;\"/>\r\n   </g>\r\n   <g id=\"patch_12\">\r\n    <path d=\"M 33.2875 310.318125 \r\nL 465.2875 310.318125 \r\n\" style=\"fill:none;stroke:#000000;stroke-linecap:square;stroke-linejoin:miter;stroke-width:0.8;\"/>\r\n   </g>\r\n   <g id=\"patch_13\">\r\n    <path d=\"M 33.2875 22.318125 \r\nL 465.2875 22.318125 \r\n\" style=\"fill:none;stroke:#000000;stroke-linecap:square;stroke-linejoin:miter;stroke-width:0.8;\"/>\r\n   </g>\r\n   <g id=\"text_17\">\r\n    <!-- Interventions by days of week -->\r\n    <g transform=\"translate(158.84125 16.318125)scale(0.12 -0.12)\">\r\n     <defs>\r\n      <path d=\"M 9.8125 72.90625 \r\nL 19.671875 72.90625 \r\nL 19.671875 0 \r\nL 9.8125 0 \r\nz\r\n\" id=\"DejaVuSans-73\"/>\r\n      <path d=\"M 2.984375 54.6875 \r\nL 12.5 54.6875 \r\nL 29.59375 8.796875 \r\nL 46.6875 54.6875 \r\nL 56.203125 54.6875 \r\nL 35.6875 0 \r\nL 23.484375 0 \r\nz\r\n\" id=\"DejaVuSans-118\"/>\r\n      <path id=\"DejaVuSans-32\"/>\r\n      <path d=\"M 48.6875 27.296875 \r\nQ 48.6875 37.203125 44.609375 42.84375 \r\nQ 40.53125 48.484375 33.40625 48.484375 \r\nQ 26.265625 48.484375 22.1875 42.84375 \r\nQ 18.109375 37.203125 18.109375 27.296875 \r\nQ 18.109375 17.390625 22.1875 11.75 \r\nQ 26.265625 6.109375 33.40625 6.109375 \r\nQ 40.53125 6.109375 44.609375 11.75 \r\nQ 48.6875 17.390625 48.6875 27.296875 \r\nz\r\nM 18.109375 46.390625 \r\nQ 20.953125 51.265625 25.265625 53.625 \r\nQ 29.59375 56 35.59375 56 \r\nQ 45.5625 56 51.78125 48.09375 \r\nQ 58.015625 40.1875 58.015625 27.296875 \r\nQ 58.015625 14.40625 51.78125 6.484375 \r\nQ 45.5625 -1.421875 35.59375 -1.421875 \r\nQ 29.59375 -1.421875 25.265625 0.953125 \r\nQ 20.953125 3.328125 18.109375 8.203125 \r\nL 18.109375 0 \r\nL 9.078125 0 \r\nL 9.078125 75.984375 \r\nL 18.109375 75.984375 \r\nz\r\n\" id=\"DejaVuSans-98\"/>\r\n      <path d=\"M 37.109375 75.984375 \r\nL 37.109375 68.5 \r\nL 28.515625 68.5 \r\nQ 23.6875 68.5 21.796875 66.546875 \r\nQ 19.921875 64.59375 19.921875 59.515625 \r\nL 19.921875 54.6875 \r\nL 34.71875 54.6875 \r\nL 34.71875 47.703125 \r\nL 19.921875 47.703125 \r\nL 19.921875 0 \r\nL 10.890625 0 \r\nL 10.890625 47.703125 \r\nL 2.296875 47.703125 \r\nL 2.296875 54.6875 \r\nL 10.890625 54.6875 \r\nL 10.890625 58.5 \r\nQ 10.890625 67.625 15.140625 71.796875 \r\nQ 19.390625 75.984375 28.609375 75.984375 \r\nz\r\n\" id=\"DejaVuSans-102\"/>\r\n      <path d=\"M 4.203125 54.6875 \r\nL 13.1875 54.6875 \r\nL 24.421875 12.015625 \r\nL 35.59375 54.6875 \r\nL 46.1875 54.6875 \r\nL 57.421875 12.015625 \r\nL 68.609375 54.6875 \r\nL 77.59375 54.6875 \r\nL 63.28125 0 \r\nL 52.6875 0 \r\nL 40.921875 44.828125 \r\nL 29.109375 0 \r\nL 18.5 0 \r\nz\r\n\" id=\"DejaVuSans-119\"/>\r\n      <path d=\"M 9.078125 75.984375 \r\nL 18.109375 75.984375 \r\nL 18.109375 31.109375 \r\nL 44.921875 54.6875 \r\nL 56.390625 54.6875 \r\nL 27.390625 29.109375 \r\nL 57.625 0 \r\nL 45.90625 0 \r\nL 18.109375 26.703125 \r\nL 18.109375 0 \r\nL 9.078125 0 \r\nz\r\n\" id=\"DejaVuSans-107\"/>\r\n     </defs>\r\n     <use xlink:href=\"#DejaVuSans-73\"/>\r\n     <use x=\"29.492188\" xlink:href=\"#DejaVuSans-110\"/>\r\n     <use x=\"92.871094\" xlink:href=\"#DejaVuSans-116\"/>\r\n     <use x=\"132.080078\" xlink:href=\"#DejaVuSans-101\"/>\r\n     <use x=\"193.603516\" xlink:href=\"#DejaVuSans-114\"/>\r\n     <use x=\"234.716797\" xlink:href=\"#DejaVuSans-118\"/>\r\n     <use x=\"293.896484\" xlink:href=\"#DejaVuSans-101\"/>\r\n     <use x=\"355.419922\" xlink:href=\"#DejaVuSans-110\"/>\r\n     <use x=\"418.798828\" xlink:href=\"#DejaVuSans-116\"/>\r\n     <use x=\"458.007812\" xlink:href=\"#DejaVuSans-105\"/>\r\n     <use x=\"485.791016\" xlink:href=\"#DejaVuSans-111\"/>\r\n     <use x=\"546.972656\" xlink:href=\"#DejaVuSans-110\"/>\r\n     <use x=\"610.351562\" xlink:href=\"#DejaVuSans-115\"/>\r\n     <use x=\"662.451172\" xlink:href=\"#DejaVuSans-32\"/>\r\n     <use x=\"694.238281\" xlink:href=\"#DejaVuSans-98\"/>\r\n     <use x=\"757.714844\" xlink:href=\"#DejaVuSans-121\"/>\r\n     <use x=\"816.894531\" xlink:href=\"#DejaVuSans-32\"/>\r\n     <use x=\"848.681641\" xlink:href=\"#DejaVuSans-100\"/>\r\n     <use x=\"912.158203\" xlink:href=\"#DejaVuSans-97\"/>\r\n     <use x=\"973.4375\" xlink:href=\"#DejaVuSans-121\"/>\r\n     <use x=\"1032.617188\" xlink:href=\"#DejaVuSans-115\"/>\r\n     <use x=\"1084.716797\" xlink:href=\"#DejaVuSans-32\"/>\r\n     <use x=\"1116.503906\" xlink:href=\"#DejaVuSans-111\"/>\r\n     <use x=\"1177.685547\" xlink:href=\"#DejaVuSans-102\"/>\r\n     <use x=\"1212.890625\" xlink:href=\"#DejaVuSans-32\"/>\r\n     <use x=\"1244.677734\" xlink:href=\"#DejaVuSans-119\"/>\r\n     <use x=\"1326.464844\" xlink:href=\"#DejaVuSans-101\"/>\r\n     <use x=\"1387.988281\" xlink:href=\"#DejaVuSans-101\"/>\r\n     <use x=\"1449.511719\" xlink:href=\"#DejaVuSans-107\"/>\r\n    </g>\r\n   </g>\r\n  </g>\r\n </g>\r\n <defs>\r\n  <clipPath id=\"pdbe970dbdf\">\r\n   <rect height=\"288\" width=\"432\" x=\"33.2875\" y=\"22.318125\"/>\r\n  </clipPath>\r\n </defs>\r\n</svg>\r\n",
      "image/png": "[encoded data removed]"
     },
     "metadata": {
      "needs_background": "light"
     }
    }
   ],
   "source": [
    "import matplotlib.pyplot as plt\n",
    "fig = plt.figure()\n",
    "axes = fig.add_axes([0,0,1,1])\n",
    "\n",
    "axes.bar(day_intervention.index, day_intervention.id)\n",
    "\n",
    "plt.title('Interventions by days of week')"
   ]
  },
  {
   "source": [
    "#### 5. Wczytaj do projektu dane dotyczące populacji w poszczególnych stanach USA oraz dane dotyczące skrótów poszczególnych stanów. Połącz te bazy danych w taki sposób, aby móc policzyć do ilu incydentów w bazie dotyczącej śmiertelnych interwencji doszło w przeliczeniu na 1000 mieszkańców każdego ze stanów."
   ],
   "cell_type": "markdown",
   "metadata": {}
  },
  {
   "cell_type": "code",
   "execution_count": 16,
   "metadata": {},
   "outputs": [
    {
     "output_type": "execute_result",
     "data": {
      "text/plain": [
       "   Rank in states & territories, 2019  Rank in states & territories, 2010  \\\n",
       "0                                 1.0                                 NaN   \n",
       "1                                 NaN                                 NaN   \n",
       "2                                 NaN                                 NaN   \n",
       "3                                 NaN                                 NaN   \n",
       "4                                 NaN                                 NaN   \n",
       "\n",
       "          State  Population estimate, July 1, 2019[2]  \\\n",
       "0    California                              39512223   \n",
       "1         Texas                              28995881   \n",
       "2       Florida                              21477737   \n",
       "3      New York                              19453561   \n",
       "4  Pennsylvania                              12801989   \n",
       "\n",
       "  Census population, April 1, 2010[3] Percent change, 2010–2019[note 1]  \\\n",
       "0                            37254523                              6.1%   \n",
       "1                            25145561                             15.3%   \n",
       "2                            18801310                             14.2%   \n",
       "3                            19378102                              0.4%   \n",
       "4                            12702379                              0.8%   \n",
       "\n",
       "  Absolute change, 2010-2019  \\\n",
       "0                 +2,257,700   \n",
       "1                 +3,850,320   \n",
       "2                 +2,676,427   \n",
       "3                    +75,459   \n",
       "4                    +99,610   \n",
       "\n",
       "  Total seats in the U.S. House of Representatives, 2013–2023  \\\n",
       "0                                                NaN            \n",
       "1                                                NaN            \n",
       "2                                                NaN            \n",
       "3                                                NaN            \n",
       "4                                                NaN            \n",
       "\n",
       "  Estimated population per electoral vote, 2019[note 2]  \\\n",
       "0                                             718404      \n",
       "1                                             763050      \n",
       "2                                             740611      \n",
       "3                                             670812      \n",
       "4                                             640099      \n",
       "\n",
       "  Estimated population per House seat, 2019  \\\n",
       "0                                    745514   \n",
       "1                                    805441   \n",
       "2                                    795472   \n",
       "3                                    720502   \n",
       "4                                    711222   \n",
       "\n",
       "  Census population per House seat, 2010  \\\n",
       "0                                 702885   \n",
       "1                                 698503   \n",
       "2                                 696468   \n",
       "3                                 717707   \n",
       "4                                 705715   \n",
       "\n",
       "  Percent of the total U.S. population, 2018[note 3]  \n",
       "0                                             11.96%  \n",
       "1                                              8.68%  \n",
       "2                                              6.44%  \n",
       "3                                              5.91%  \n",
       "4                                              3.87%  "
      ],
      "text/html": "<div>\n<style scoped>\n    .dataframe tbody tr th:only-of-type {\n        vertical-align: middle;\n    }\n\n    .dataframe tbody tr th {\n        vertical-align: top;\n    }\n\n    .dataframe thead th {\n        text-align: right;\n    }\n</style>\n<table border=\"1\" class=\"dataframe\">\n  <thead>\n    <tr style=\"text-align: right;\">\n      <th></th>\n      <th>Rank in states &amp; territories, 2019</th>\n      <th>Rank in states &amp; territories, 2010</th>\n      <th>State</th>\n      <th>Population estimate, July 1, 2019[2]</th>\n      <th>Census population, April 1, 2010[3]</th>\n      <th>Percent change, 2010–2019[note 1]</th>\n      <th>Absolute change, 2010-2019</th>\n      <th>Total seats in the U.S. House of Representatives, 2013–2023</th>\n      <th>Estimated population per electoral vote, 2019[note 2]</th>\n      <th>Estimated population per House seat, 2019</th>\n      <th>Census population per House seat, 2010</th>\n      <th>Percent of the total U.S. population, 2018[note 3]</th>\n    </tr>\n  </thead>\n  <tbody>\n    <tr>\n      <th>0</th>\n      <td>1.0</td>\n      <td>NaN</td>\n      <td>California</td>\n      <td>39512223</td>\n      <td>37254523</td>\n      <td>6.1%</td>\n      <td>+2,257,700</td>\n      <td>NaN</td>\n      <td>718404</td>\n      <td>745514</td>\n      <td>702885</td>\n      <td>11.96%</td>\n    </tr>\n    <tr>\n      <th>1</th>\n      <td>NaN</td>\n      <td>NaN</td>\n      <td>Texas</td>\n      <td>28995881</td>\n      <td>25145561</td>\n      <td>15.3%</td>\n      <td>+3,850,320</td>\n      <td>NaN</td>\n      <td>763050</td>\n      <td>805441</td>\n      <td>698503</td>\n      <td>8.68%</td>\n    </tr>\n    <tr>\n      <th>2</th>\n      <td>NaN</td>\n      <td>NaN</td>\n      <td>Florida</td>\n      <td>21477737</td>\n      <td>18801310</td>\n      <td>14.2%</td>\n      <td>+2,676,427</td>\n      <td>NaN</td>\n      <td>740611</td>\n      <td>795472</td>\n      <td>696468</td>\n      <td>6.44%</td>\n    </tr>\n    <tr>\n      <th>3</th>\n      <td>NaN</td>\n      <td>NaN</td>\n      <td>New York</td>\n      <td>19453561</td>\n      <td>19378102</td>\n      <td>0.4%</td>\n      <td>+75,459</td>\n      <td>NaN</td>\n      <td>670812</td>\n      <td>720502</td>\n      <td>717707</td>\n      <td>5.91%</td>\n    </tr>\n    <tr>\n      <th>4</th>\n      <td>NaN</td>\n      <td>NaN</td>\n      <td>Pennsylvania</td>\n      <td>12801989</td>\n      <td>12702379</td>\n      <td>0.8%</td>\n      <td>+99,610</td>\n      <td>NaN</td>\n      <td>640099</td>\n      <td>711222</td>\n      <td>705715</td>\n      <td>3.87%</td>\n    </tr>\n  </tbody>\n</table>\n</div>"
     },
     "metadata": {},
     "execution_count": 16
    }
   ],
   "source": [
    "population = pd.read_html('https://simple.wikipedia.org/wiki/List_of_U.S._states_by_population', header=0)[0]\n",
    "population.head()"
   ]
  },
  {
   "cell_type": "code",
   "execution_count": 17,
   "metadata": {},
   "outputs": [
    {
     "output_type": "execute_result",
     "data": {
      "text/plain": [
       "                                                                                                                                                                                                      \n",
       "7                                                 NaN                                                                                                                                                                                                                                                                                                                                                                                                                                                                                                                                                 \n",
       "8                                                  AP                                                                                                                                                                                                                                                                                                                                                                                                                                                                                                                                                 \n",
       "9                                                  AP                                                                                                                                                                                                                                                                                                                                                                                                                                                                                                                                                 \n",
       "10                                               U.S.                                                                                                                                                                                                                                                                                                                                                                                                                                                                                                                                                 \n",
       "11                                               Ala.                                                                                                                                                                                                                                                                                                                                                                                                                                                                                                                                                 \n",
       "12                                             Alaska                                                                                                                                                                                                                                                                                                                                                                                                                                                                                                                                                 \n",
       "13                                              Ariz.                                                                                                                                                                                                                                                                                                                                                                                                                                                                                                                                                 \n",
       "14                                               Ark.                                                                                                                                                                                                                                                                                                                                                                                                                                                                                                                                                 \n",
       "15                                             Calif.                                                                                                                                                                                                                                                                                                                                                                                                                                                                                                                                                 \n",
       "16                                              Colo.                                                                                                                                                                                                                                                                                                                                                                                                                                                                                                                                                 \n",
       "17                                              Conn.                                                                                                                                                                                                                                                                                                                                                                                                                                                                                                                                                 \n",
       "18                                               Del.                                                                                                                                                                                                                                                                                                                                                                                                                                                                                                                                                 \n",
       "19                                               D.C.                                                                                                                                                                                                                                                                                                                                                                                                                                                                                                                                                 \n",
       "\n",
       "   Codes:  ISO ISO 3166 codes (2-letter, 3-letter, and 3-digit codes from ISO 3166-1; 2+2-letter codes from ISO 3166-2)  ANSI 2-letter and 2-digit codes from the ANSI standard INCITS 38:2009 (supersedes FIPS 5-2)  USPS 2-letter codes used by the United States Postal Service  USCG 2-letter codes used by the United States Coast Guard (bold red text shows differences between ANSI and USCG) Abbreviations:  GPO Older variable-length official US Government Printing Office abbreviations  AP Abbreviations from the AP Stylebook (bold red text shows differences between GPO and AP).9  \n",
       "0                                                 NaN                                                                                                                                                                                                                                                                                                                                                                                                                                                                                                                                                \n",
       "1                                                 NaN                                                                                                                                                                                                                                                                                                                                                                                                                                                                                                                                                \n",
       "2                                                 NaN                                                                                                                                                                                                                                                                                                                                                                                                                                                                                                                                                \n",
       "3                                                 NaN                                                                                                                                                                                                                                                                                                                                                                                                                                                                                                                                                \n",
       "4                                                 NaN                                                                                                                                                                                                                                                                                                                                                                                                                                                                                                                                                \n",
       "5                                                 NaN                                                                                                                                                                                                                                                                                                                                                                                                                                                                                                                                                \n",
       "6                                                 NaN                                                                                                                                                                                                                                                                                                                                                                                                                                                                                                                                                \n",
       "7                                                 NaN                                                                                                                                                                                                                                                                                                                                                                                                                                                                                                                                                \n",
       "8                                  Otherabbreviations                                                                                                                                                                                                                                                                                                                                                                                                                                                                                                                                                \n",
       "9                                  Otherabbreviations                                                                                                                                                                                                                                                                                                                                                                                                                                                                                                                                                \n",
       "10                                             U.S.A.                                                                                                                                                                                                                                                                                                                                                                                                                                                                                                                                                \n",
       "11                                                NaN                                                                                                                                                                                                                                                                                                                                                                                                                                                                                                                                                \n",
       "12                                             Ak.[1]                                                                                                                                                                                                                                                                                                                                                                                                                                                                                                                                                \n",
       "13                                                NaN                                                                                                                                                                                                                                                                                                                                                                                                                                                                                                                                                \n",
       "14                                                NaN                                                                                                                                                                                                                                                                                                                                                                                                                                                                                                                                                \n",
       "15                                         Cal. or Ca                                                                                                                                                                                                                                                                                                                                                                                                                                                                                                                                                \n",
       "16                                                NaN                                                                                                                                                                                                                                                                                                                                                                                                                                                                                                                                                \n",
       "17                                                NaN                                                                                                                                                                                                                                                                                                                                                                                                                                                                                                                                                \n",
       "18                                                NaN                                                                                                                                                                                                                                                                                                                                                                                                                                                                                                                                                \n",
       "19                                       Dis. Col.[2]                                                                                                                                                                                                                                                                                                                                                                                                                                                                                                                                                "
      ],
      "text/html": "<div>\n<style scoped>\n    .dataframe tbody tr th:only-of-type {\n        vertical-align: middle;\n    }\n\n    .dataframe tbody tr th {\n        vertical-align: top;\n    }\n\n    .dataframe thead th {\n        text-align: right;\n    }\n</style>\n<table border=\"1\" class=\"dataframe\">\n  <thead>\n    <tr style=\"text-align: right;\">\n      <th></th>\n      <th>Codes:  ISO ISO 3166 codes (2-letter, 3-letter, and 3-digit codes from ISO 3166-1; 2+2-letter codes from ISO 3166-2)  ANSI 2-letter and 2-digit codes from the ANSI standard INCITS 38:2009 (supersedes FIPS 5-2)  USPS 2-letter codes used by the United States Postal Service  USCG 2-letter codes used by the United States Coast Guard (bold red text shows differences between ANSI and USCG) Abbreviations:  GPO Older variable-length official US Government Printing Office abbreviations  AP Abbreviations from the AP Stylebook (bold red text shows differences between GPO and AP)</th>\n      <th>Codes:  ISO ISO 3166 codes (2-letter, 3-letter, and 3-digit codes from ISO 3166-1; 2+2-letter codes from ISO 3166-2)  ANSI 2-letter and 2-digit codes from the ANSI standard INCITS 38:2009 (supersedes FIPS 5-2)  USPS 2-letter codes used by the United States Postal Service  USCG 2-letter codes used by the United States Coast Guard (bold red text shows differences between ANSI and USCG) Abbreviations:  GPO Older variable-length official US Government Printing Office abbreviations  AP Abbreviations from the AP Stylebook (bold red text shows differences between GPO and AP).1</th>\n      <th>Codes:  ISO ISO 3166 codes (2-letter, 3-letter, and 3-digit codes from ISO 3166-1; 2+2-letter codes from ISO 3166-2)  ANSI 2-letter and 2-digit codes from the ANSI standard INCITS 38:2009 (supersedes FIPS 5-2)  USPS 2-letter codes used by the United States Postal Service  USCG 2-letter codes used by the United States Coast Guard (bold red text shows differences between ANSI and USCG) Abbreviations:  GPO Older variable-length official US Government Printing Office abbreviations  AP Abbreviations from the AP Stylebook (bold red text shows differences between GPO and AP).2</th>\n      <th>Codes:  ISO ISO 3166 codes (2-letter, 3-letter, and 3-digit codes from ISO 3166-1; 2+2-letter codes from ISO 3166-2)  ANSI 2-letter and 2-digit codes from the ANSI standard INCITS 38:2009 (supersedes FIPS 5-2)  USPS 2-letter codes used by the United States Postal Service  USCG 2-letter codes used by the United States Coast Guard (bold red text shows differences between ANSI and USCG) Abbreviations:  GPO Older variable-length official US Government Printing Office abbreviations  AP Abbreviations from the AP Stylebook (bold red text shows differences between GPO and AP).3</th>\n      <th>Codes:  ISO ISO 3166 codes (2-letter, 3-letter, and 3-digit codes from ISO 3166-1; 2+2-letter codes from ISO 3166-2)  ANSI 2-letter and 2-digit codes from the ANSI standard INCITS 38:2009 (supersedes FIPS 5-2)  USPS 2-letter codes used by the United States Postal Service  USCG 2-letter codes used by the United States Coast Guard (bold red text shows differences between ANSI and USCG) Abbreviations:  GPO Older variable-length official US Government Printing Office abbreviations  AP Abbreviations from the AP Stylebook (bold red text shows differences between GPO and AP).4</th>\n      <th>Codes:  ISO ISO 3166 codes (2-letter, 3-letter, and 3-digit codes from ISO 3166-1; 2+2-letter codes from ISO 3166-2)  ANSI 2-letter and 2-digit codes from the ANSI standard INCITS 38:2009 (supersedes FIPS 5-2)  USPS 2-letter codes used by the United States Postal Service  USCG 2-letter codes used by the United States Coast Guard (bold red text shows differences between ANSI and USCG) Abbreviations:  GPO Older variable-length official US Government Printing Office abbreviations  AP Abbreviations from the AP Stylebook (bold red text shows differences between GPO and AP).5</th>\n      <th>Codes:  ISO ISO 3166 codes (2-letter, 3-letter, and 3-digit codes from ISO 3166-1; 2+2-letter codes from ISO 3166-2)  ANSI 2-letter and 2-digit codes from the ANSI standard INCITS 38:2009 (supersedes FIPS 5-2)  USPS 2-letter codes used by the United States Postal Service  USCG 2-letter codes used by the United States Coast Guard (bold red text shows differences between ANSI and USCG) Abbreviations:  GPO Older variable-length official US Government Printing Office abbreviations  AP Abbreviations from the AP Stylebook (bold red text shows differences between GPO and AP).6</th>\n      <th>Codes:  ISO ISO 3166 codes (2-letter, 3-letter, and 3-digit codes from ISO 3166-1; 2+2-letter codes from ISO 3166-2)  ANSI 2-letter and 2-digit codes from the ANSI standard INCITS 38:2009 (supersedes FIPS 5-2)  USPS 2-letter codes used by the United States Postal Service  USCG 2-letter codes used by the United States Coast Guard (bold red text shows differences between ANSI and USCG) Abbreviations:  GPO Older variable-length official US Government Printing Office abbreviations  AP Abbreviations from the AP Stylebook (bold red text shows differences between GPO and AP).7</th>\n      <th>Codes:  ISO ISO 3166 codes (2-letter, 3-letter, and 3-digit codes from ISO 3166-1; 2+2-letter codes from ISO 3166-2)  ANSI 2-letter and 2-digit codes from the ANSI standard INCITS 38:2009 (supersedes FIPS 5-2)  USPS 2-letter codes used by the United States Postal Service  USCG 2-letter codes used by the United States Coast Guard (bold red text shows differences between ANSI and USCG) Abbreviations:  GPO Older variable-length official US Government Printing Office abbreviations  AP Abbreviations from the AP Stylebook (bold red text shows differences between GPO and AP).8</th>\n      <th>Codes:  ISO ISO 3166 codes (2-letter, 3-letter, and 3-digit codes from ISO 3166-1; 2+2-letter codes from ISO 3166-2)  ANSI 2-letter and 2-digit codes from the ANSI standard INCITS 38:2009 (supersedes FIPS 5-2)  USPS 2-letter codes used by the United States Postal Service  USCG 2-letter codes used by the United States Coast Guard (bold red text shows differences between ANSI and USCG) Abbreviations:  GPO Older variable-length official US Government Printing Office abbreviations  AP Abbreviations from the AP Stylebook (bold red text shows differences between GPO and AP).9</th>\n    </tr>\n  </thead>\n  <tbody>\n    <tr>\n      <th>0</th>\n      <td>Codes:</td>\n      <td>Codes:</td>\n      <td>NaN</td>\n      <td>NaN</td>\n      <td>NaN</td>\n      <td>NaN</td>\n      <td>NaN</td>\n      <td>NaN</td>\n      <td>NaN</td>\n      <td>NaN</td>\n    </tr>\n    <tr>\n      <th>1</th>\n      <td>ISO</td>\n      <td>ISO 3166 codes (2-letter, 3-letter, and 3-digi...</td>\n      <td>NaN</td>\n      <td>NaN</td>\n      <td>NaN</td>\n      <td>NaN</td>\n      <td>NaN</td>\n      <td>NaN</td>\n      <td>NaN</td>\n      <td>NaN</td>\n    </tr>\n    <tr>\n      <th>2</th>\n      <td>ANSI</td>\n      <td>2-letter and 2-digit codes from the ANSI stand...</td>\n      <td>NaN</td>\n      <td>NaN</td>\n      <td>NaN</td>\n      <td>NaN</td>\n      <td>NaN</td>\n      <td>NaN</td>\n      <td>NaN</td>\n      <td>NaN</td>\n    </tr>\n    <tr>\n      <th>3</th>\n      <td>USPS</td>\n      <td>2-letter codes used by the United States Posta...</td>\n      <td>NaN</td>\n      <td>NaN</td>\n      <td>NaN</td>\n      <td>NaN</td>\n      <td>NaN</td>\n      <td>NaN</td>\n      <td>NaN</td>\n      <td>NaN</td>\n    </tr>\n    <tr>\n      <th>4</th>\n      <td>USCG</td>\n      <td>2-letter codes used by the United States Coast...</td>\n      <td>NaN</td>\n      <td>NaN</td>\n      <td>NaN</td>\n      <td>NaN</td>\n      <td>NaN</td>\n      <td>NaN</td>\n      <td>NaN</td>\n      <td>NaN</td>\n    </tr>\n    <tr>\n      <th>5</th>\n      <td>Abbreviations:</td>\n      <td>Abbreviations:</td>\n      <td>NaN</td>\n      <td>NaN</td>\n      <td>NaN</td>\n      <td>NaN</td>\n      <td>NaN</td>\n      <td>NaN</td>\n      <td>NaN</td>\n      <td>NaN</td>\n    </tr>\n    <tr>\n      <th>6</th>\n      <td>GPO</td>\n      <td>Older variable-length official US Government P...</td>\n      <td>NaN</td>\n      <td>NaN</td>\n      <td>NaN</td>\n      <td>NaN</td>\n      <td>NaN</td>\n      <td>NaN</td>\n      <td>NaN</td>\n      <td>NaN</td>\n    </tr>\n    <tr>\n      <th>7</th>\n      <td>AP</td>\n      <td>Abbreviations from the AP Stylebook (bold red ...</td>\n      <td>Abbreviations from the AP Stylebook (bold red ...</td>\n      <td>NaN</td>\n      <td>NaN</td>\n      <td>NaN</td>\n      <td>NaN</td>\n      <td>NaN</td>\n      <td>NaN</td>\n      <td>NaN</td>\n    </tr>\n    <tr>\n      <th>8</th>\n      <td>Name and status of region</td>\n      <td>Name and status of region</td>\n      <td>ISO</td>\n      <td>ANSI</td>\n      <td>ANSI</td>\n      <td>USPS</td>\n      <td>USCG</td>\n      <td>GPO</td>\n      <td>AP</td>\n      <td>Otherabbreviations</td>\n    </tr>\n    <tr>\n      <th>9</th>\n      <td>NaN</td>\n      <td>NaN</td>\n      <td>NaN</td>\n      <td>NaN</td>\n      <td>NaN</td>\n      <td>NaN</td>\n      <td>NaN</td>\n      <td>GPO</td>\n      <td>AP</td>\n      <td>Otherabbreviations</td>\n    </tr>\n    <tr>\n      <th>10</th>\n      <td>United States of America</td>\n      <td>Federal state</td>\n      <td>.mw-parser-output .monospaced{font-family:mono...</td>\n      <td>US</td>\n      <td>00</td>\n      <td>NaN</td>\n      <td>NaN</td>\n      <td>U.S.</td>\n      <td>U.S.</td>\n      <td>U.S.A.</td>\n    </tr>\n    <tr>\n      <th>11</th>\n      <td>Alabama</td>\n      <td>State</td>\n      <td>US-AL</td>\n      <td>AL</td>\n      <td>01</td>\n      <td>AL</td>\n      <td>AL</td>\n      <td>Ala.</td>\n      <td>Ala.</td>\n      <td>NaN</td>\n    </tr>\n    <tr>\n      <th>12</th>\n      <td>Alaska</td>\n      <td>State</td>\n      <td>US-AK</td>\n      <td>AK</td>\n      <td>02</td>\n      <td>AK</td>\n      <td>AK</td>\n      <td>Alaska</td>\n      <td>Alaska</td>\n      <td>Ak.[1]</td>\n    </tr>\n    <tr>\n      <th>13</th>\n      <td>Arizona</td>\n      <td>State</td>\n      <td>US-AZ</td>\n      <td>AZ</td>\n      <td>04</td>\n      <td>AZ</td>\n      <td>AZ</td>\n      <td>Ariz.</td>\n      <td>Ariz.</td>\n      <td>NaN</td>\n    </tr>\n    <tr>\n      <th>14</th>\n      <td>Arkansas</td>\n      <td>State</td>\n      <td>US-AR</td>\n      <td>AR</td>\n      <td>05</td>\n      <td>AR</td>\n      <td>AR</td>\n      <td>Ark.</td>\n      <td>Ark.</td>\n      <td>NaN</td>\n    </tr>\n    <tr>\n      <th>15</th>\n      <td>California</td>\n      <td>State</td>\n      <td>US-CA</td>\n      <td>CA</td>\n      <td>06</td>\n      <td>CA</td>\n      <td>CF</td>\n      <td>Calif.</td>\n      <td>Calif.</td>\n      <td>Cal. or Ca</td>\n    </tr>\n    <tr>\n      <th>16</th>\n      <td>Colorado</td>\n      <td>State</td>\n      <td>US-CO</td>\n      <td>CO</td>\n      <td>08</td>\n      <td>CO</td>\n      <td>CL</td>\n      <td>Colo.</td>\n      <td>Colo.</td>\n      <td>NaN</td>\n    </tr>\n    <tr>\n      <th>17</th>\n      <td>Connecticut</td>\n      <td>State</td>\n      <td>US-CT</td>\n      <td>CT</td>\n      <td>09</td>\n      <td>CT</td>\n      <td>CT</td>\n      <td>Conn.</td>\n      <td>Conn.</td>\n      <td>NaN</td>\n    </tr>\n    <tr>\n      <th>18</th>\n      <td>Delaware</td>\n      <td>State</td>\n      <td>US-DE</td>\n      <td>DE</td>\n      <td>10</td>\n      <td>DE</td>\n      <td>DL</td>\n      <td>Del.</td>\n      <td>Del.</td>\n      <td>NaN</td>\n    </tr>\n    <tr>\n      <th>19</th>\n      <td>District of Columbia</td>\n      <td>Federal district</td>\n      <td>US-DC</td>\n      <td>DC</td>\n      <td>11</td>\n      <td>DC</td>\n      <td>DC</td>\n      <td>D.C.</td>\n      <td>D.C.</td>\n      <td>Dis. Col.[2]</td>\n    </tr>\n  </tbody>\n</table>\n</div>"
     },
     "metadata": {},
     "execution_count": 17
    }
   ],
   "source": [
    "states = pd.read_html('https://en.wikipedia.org/wiki/List_of_U.S._state_and_territory_abbreviations', header=0)[0]\n",
    "states.head(20)"
   ]
  },
  {
   "cell_type": "code",
   "execution_count": 18,
   "metadata": {},
   "outputs": [
    {
     "output_type": "execute_result",
     "data": {
      "text/plain": [
       "'Codes:  ISO ISO 3166 codes (2-letter, 3-letter, and 3-digit codes from ISO 3166-1; 2+2-letter codes from ISO 3166-2)  ANSI 2-letter and 2-digit codes from the ANSI standard INCITS 38:2009 (supersedes FIPS 5-2)  USPS 2-letter codes used by the United States Postal Service  USCG 2-letter codes used by the United States Coast Guard (bold red text shows differences between ANSI and USCG) Abbreviations:  GPO Older variable-length official US Government Printing Office abbreviations  AP Abbreviations from the AP Stylebook (bold red text shows differences between GPO and AP)'"
      ]
     },
     "metadata": {},
     "execution_count": 18
    }
   ],
   "source": [
    "states.columns[0]"
   ]
  },
  {
   "cell_type": "code",
   "execution_count": 19,
   "metadata": {},
   "outputs": [
    {
     "output_type": "execute_result",
     "data": {
      "text/plain": [
       "'Codes:  ISO ISO 3166 codes (2-letter, 3-letter, and 3-digit codes from ISO 3166-1; 2+2-letter codes from ISO 3166-2)  ANSI 2-letter and 2-digit codes from the ANSI standard INCITS 38:2009 (supersedes FIPS 5-2)  USPS 2-letter codes used by the United States Postal Service  USCG 2-letter codes used by the United States Coast Guard (bold red text shows differences between ANSI and USCG) Abbreviations:  GPO Older variable-length official US Government Printing Office abbreviations  AP Abbreviations from the AP Stylebook (bold red text shows differences between GPO and AP).3'"
      ]
     },
     "metadata": {},
     "execution_count": 19
    }
   ],
   "source": [
    "states.columns[3]"
   ]
  },
  {
   "cell_type": "code",
   "execution_count": 20,
   "metadata": {},
   "outputs": [
    {
     "output_type": "execute_result",
     "data": {
      "text/plain": [
       "                                                                                                                                                                    \n",
       "1                                                 NaN                                                                                                                                                                                                                                                                                                                                                                                                                                                                                                                                                 \n",
       "2                                                 NaN                                                                                                                                                                                                                                                                                                                                                                                                                                                                                                                                                 \n",
       "3                                                 NaN                                                                                                                                                                                                                                                                                                                                                                                                                                                                                                                                                 \n",
       "4                                                 NaN                                                                                                                                                                                                                                                                                                                                                                                                                                                                                                                                                 \n",
       "..                                                ...                                                                                                                                                                                                                                                                                                                                                                                                                                                                                                                                                 \n",
       "83                                                NaN                                                                                                                                                                                                                                                                                                                                                                                                                                                                                                                                                 \n",
       "84                                                NaN                                                                                                                                                                                                                                                                                                                                                                                                                                                                                                                                                 \n",
       "85                                                NaN                                                                                                                                                                                                                                                                                                                                                                                                                                                                                                                                                 \n",
       "86                                                NaN                                                                                                                                                                                                                                                                                                                                                                                                                                                                                                                                                 \n",
       "87                                                NaN                                                                                                                                                                                                                                                                                                                                                                                                                                                                                                                                                 \n",
       "\n",
       "   Codes:  ISO ISO 3166 codes (2-letter, 3-letter, and 3-digit codes from ISO 3166-1; 2+2-letter codes from ISO 3166-2)  ANSI 2-letter and 2-digit codes from the ANSI standard INCITS 38:2009 (supersedes FIPS 5-2)  USPS 2-letter codes used by the United States Postal Service  USCG 2-letter codes used by the United States Coast Guard (bold red text shows differences between ANSI and USCG) Abbreviations:  GPO Older variable-length official US Government Printing Office abbreviations  AP Abbreviations from the AP Stylebook (bold red text shows differences between GPO and AP).8  \\\n",
       "0                                                 NaN                                                                                                                                                                                                                                                                                                                                                                                                                                                                                                                                                 \n",
       "1                                                 NaN                                                                                                                                                                                                                                                                                                                                                                                                                                                                                                                                                 \n",
       "2                                                 NaN                                                                                                                                                                                                                                                                                                                                                                                                                                                                                                                                                 \n",
       "3                                                 NaN                                                                                                                                                                                                                                                                                                                                                                                                                                                                                                                                                 \n",
       "4                                                 NaN                                                                                                                                                                                                                                                                                                                                                                                                                                                                                                                                                 \n",
       "..                                                ...                                                                                                                                                                                                                                                                                                                                                                                                                                                                                                                                                 \n",
       "83                                                NaN                                                                                                                                                                                                                                                                                                                                                                                                                                                                                                                                                 \n",
       "84                                                NaN                                                                                                                                                                                                                                                                                                                                                                                                                                                                                                                                                 \n",
       "85                                                NaN                                                                                                                                                                                                                                                                                                                                                                                                                                                                                                                                                 \n",
       "86                                                NaN                                                                                                                                                                                                                                                                                                                                                                                                                                                                                                                                                 \n",
       "87                                                NaN                                                                                                                                                                                                                                                                                                                                                                                                                                                                                                                                                 \n",
       "\n",
       "   Codes:  ISO ISO 3166 codes (2-letter, 3-letter, and 3-digit codes from ISO 3166-1; 2+2-letter codes from ISO 3166-2)  ANSI 2-letter and 2-digit codes from the ANSI standard INCITS 38:2009 (supersedes FIPS 5-2)  USPS 2-letter codes used by the United States Postal Service  USCG 2-letter codes used by the United States Coast Guard (bold red text shows differences between ANSI and USCG) Abbreviations:  GPO Older variable-length official US Government Printing Office abbreviations  AP Abbreviations from the AP Stylebook (bold red text shows differences between GPO and AP).9  \n",
       "0                                                 NaN                                                                                                                                                                                                                                                                                                                                                                                                                                                                                                                                                \n",
       "1                                                 NaN                                                                                                                                                                                                                                                                                                                                                                                                                                                                                                                                                \n",
       "2                                                 NaN                                                                                                                                                                                                                                                                                                                                                                                                                                                                                                                                                \n",
       "3                                                 NaN                                                                                                                                                                                                                                                                                                                                                                                                                                                                                                                                                \n",
       "4                                                 NaN                                                                                                                                                                                                                                                                                                                                                                                                                                                                                                                                                \n",
       "..                                                ...                                                                                                                                                                                                                                                                                                                                                                                                                                                                                                                                                \n",
       "83                                                NaN                                                                                                                                                                                                                                                                                                                                                                                                                                                                                                                                                \n",
       "84                                                NaN                                                                                                                                                                                                                                                                                                                                                                                                                                                                                                                                                \n",
       "85                                                NaN                                                                                                                                                                                                                                                                                                                                                                                                                                                                                                                                                \n",
       "86                                                NaN                                                                                                                                                                                                                                                                                                                                                                                                                                                                                                                                                \n",
       "87                                                NaN                                                                                                                                                                                                                                                                                                                                                                                                                                                                                                                                                \n",
       "\n",
       "[88 rows x 10 columns]"
      ],
      "text/html": "<div>\n<style scoped>\n    .dataframe tbody tr th:only-of-type {\n        vertical-align: middle;\n    }\n\n    .dataframe tbody tr th {\n        vertical-align: top;\n    }\n\n    .dataframe thead th {\n        text-align: right;\n    }\n</style>\n<table border=\"1\" class=\"dataframe\">\n  <thead>\n    <tr style=\"text-align: right;\">\n      <th></th>\n      <th>State</th>\n      <th>Codes:  ISO ISO 3166 codes (2-letter, 3-letter, and 3-digit codes from ISO 3166-1; 2+2-letter codes from ISO 3166-2)  ANSI 2-letter and 2-digit codes from the ANSI standard INCITS 38:2009 (supersedes FIPS 5-2)  USPS 2-letter codes used by the United States Postal Service  USCG 2-letter codes used by the United States Coast Guard (bold red text shows differences between ANSI and USCG) Abbreviations:  GPO Older variable-length official US Government Printing Office abbreviations  AP Abbreviations from the AP Stylebook (bold red text shows differences between GPO and AP).1</th>\n      <th>Codes:  ISO ISO 3166 codes (2-letter, 3-letter, and 3-digit codes from ISO 3166-1; 2+2-letter codes from ISO 3166-2)  ANSI 2-letter and 2-digit codes from the ANSI standard INCITS 38:2009 (supersedes FIPS 5-2)  USPS 2-letter codes used by the United States Postal Service  USCG 2-letter codes used by the United States Coast Guard (bold red text shows differences between ANSI and USCG) Abbreviations:  GPO Older variable-length official US Government Printing Office abbreviations  AP Abbreviations from the AP Stylebook (bold red text shows differences between GPO and AP).2</th>\n      <th>Abbreviation</th>\n      <th>Codes:  ISO ISO 3166 codes (2-letter, 3-letter, and 3-digit codes from ISO 3166-1; 2+2-letter codes from ISO 3166-2)  ANSI 2-letter and 2-digit codes from the ANSI standard INCITS 38:2009 (supersedes FIPS 5-2)  USPS 2-letter codes used by the United States Postal Service  USCG 2-letter codes used by the United States Coast Guard (bold red text shows differences between ANSI and USCG) Abbreviations:  GPO Older variable-length official US Government Printing Office abbreviations  AP Abbreviations from the AP Stylebook (bold red text shows differences between GPO and AP).4</th>\n      <th>Codes:  ISO ISO 3166 codes (2-letter, 3-letter, and 3-digit codes from ISO 3166-1; 2+2-letter codes from ISO 3166-2)  ANSI 2-letter and 2-digit codes from the ANSI standard INCITS 38:2009 (supersedes FIPS 5-2)  USPS 2-letter codes used by the United States Postal Service  USCG 2-letter codes used by the United States Coast Guard (bold red text shows differences between ANSI and USCG) Abbreviations:  GPO Older variable-length official US Government Printing Office abbreviations  AP Abbreviations from the AP Stylebook (bold red text shows differences between GPO and AP).5</th>\n      <th>Codes:  ISO ISO 3166 codes (2-letter, 3-letter, and 3-digit codes from ISO 3166-1; 2+2-letter codes from ISO 3166-2)  ANSI 2-letter and 2-digit codes from the ANSI standard INCITS 38:2009 (supersedes FIPS 5-2)  USPS 2-letter codes used by the United States Postal Service  USCG 2-letter codes used by the United States Coast Guard (bold red text shows differences between ANSI and USCG) Abbreviations:  GPO Older variable-length official US Government Printing Office abbreviations  AP Abbreviations from the AP Stylebook (bold red text shows differences between GPO and AP).6</th>\n      <th>Codes:  ISO ISO 3166 codes (2-letter, 3-letter, and 3-digit codes from ISO 3166-1; 2+2-letter codes from ISO 3166-2)  ANSI 2-letter and 2-digit codes from the ANSI standard INCITS 38:2009 (supersedes FIPS 5-2)  USPS 2-letter codes used by the United States Postal Service  USCG 2-letter codes used by the United States Coast Guard (bold red text shows differences between ANSI and USCG) Abbreviations:  GPO Older variable-length official US Government Printing Office abbreviations  AP Abbreviations from the AP Stylebook (bold red text shows differences between GPO and AP).7</th>\n      <th>Codes:  ISO ISO 3166 codes (2-letter, 3-letter, and 3-digit codes from ISO 3166-1; 2+2-letter codes from ISO 3166-2)  ANSI 2-letter and 2-digit codes from the ANSI standard INCITS 38:2009 (supersedes FIPS 5-2)  USPS 2-letter codes used by the United States Postal Service  USCG 2-letter codes used by the United States Coast Guard (bold red text shows differences between ANSI and USCG) Abbreviations:  GPO Older variable-length official US Government Printing Office abbreviations  AP Abbreviations from the AP Stylebook (bold red text shows differences between GPO and AP).8</th>\n      <th>Codes:  ISO ISO 3166 codes (2-letter, 3-letter, and 3-digit codes from ISO 3166-1; 2+2-letter codes from ISO 3166-2)  ANSI 2-letter and 2-digit codes from the ANSI standard INCITS 38:2009 (supersedes FIPS 5-2)  USPS 2-letter codes used by the United States Postal Service  USCG 2-letter codes used by the United States Coast Guard (bold red text shows differences between ANSI and USCG) Abbreviations:  GPO Older variable-length official US Government Printing Office abbreviations  AP Abbreviations from the AP Stylebook (bold red text shows differences between GPO and AP).9</th>\n    </tr>\n  </thead>\n  <tbody>\n    <tr>\n      <th>0</th>\n      <td>Codes:</td>\n      <td>Codes:</td>\n      <td>NaN</td>\n      <td>NaN</td>\n      <td>NaN</td>\n      <td>NaN</td>\n      <td>NaN</td>\n      <td>NaN</td>\n      <td>NaN</td>\n      <td>NaN</td>\n    </tr>\n    <tr>\n      <th>1</th>\n      <td>ISO</td>\n      <td>ISO 3166 codes (2-letter, 3-letter, and 3-digi...</td>\n      <td>NaN</td>\n      <td>NaN</td>\n      <td>NaN</td>\n      <td>NaN</td>\n      <td>NaN</td>\n      <td>NaN</td>\n      <td>NaN</td>\n      <td>NaN</td>\n    </tr>\n    <tr>\n      <th>2</th>\n      <td>ANSI</td>\n      <td>2-letter and 2-digit codes from the ANSI stand...</td>\n      <td>NaN</td>\n      <td>NaN</td>\n      <td>NaN</td>\n      <td>NaN</td>\n      <td>NaN</td>\n      <td>NaN</td>\n      <td>NaN</td>\n      <td>NaN</td>\n    </tr>\n    <tr>\n      <th>3</th>\n      <td>USPS</td>\n      <td>2-letter codes used by the United States Posta...</td>\n      <td>NaN</td>\n      <td>NaN</td>\n      <td>NaN</td>\n      <td>NaN</td>\n      <td>NaN</td>\n      <td>NaN</td>\n      <td>NaN</td>\n      <td>NaN</td>\n    </tr>\n    <tr>\n      <th>4</th>\n      <td>USCG</td>\n      <td>2-letter codes used by the United States Coast...</td>\n      <td>NaN</td>\n      <td>NaN</td>\n      <td>NaN</td>\n      <td>NaN</td>\n      <td>NaN</td>\n      <td>NaN</td>\n      <td>NaN</td>\n      <td>NaN</td>\n    </tr>\n    <tr>\n      <th>...</th>\n      <td>...</td>\n      <td>...</td>\n      <td>...</td>\n      <td>...</td>\n      <td>...</td>\n      <td>...</td>\n      <td>...</td>\n      <td>...</td>\n      <td>...</td>\n      <td>...</td>\n    </tr>\n    <tr>\n      <th>83</th>\n      <td>Northern Mariana Islands</td>\n      <td>Obsolete postal code[g]</td>\n      <td>NaN</td>\n      <td>NaN</td>\n      <td>NaN</td>\n      <td>CM</td>\n      <td>NaN</td>\n      <td>NaN</td>\n      <td>NaN</td>\n      <td>NaN</td>\n    </tr>\n    <tr>\n      <th>84</th>\n      <td>Panama Canal Zone</td>\n      <td>Obsolete postal code</td>\n      <td>PZPCZ594</td>\n      <td>NaN</td>\n      <td>NaN</td>\n      <td>CZ</td>\n      <td>NaN</td>\n      <td>NaN</td>\n      <td>NaN</td>\n      <td>NaN</td>\n    </tr>\n    <tr>\n      <th>85</th>\n      <td>Nebraska</td>\n      <td>Obsolete postal code[h]</td>\n      <td>NaN</td>\n      <td>NaN</td>\n      <td>NaN</td>\n      <td>NB</td>\n      <td>NaN</td>\n      <td>NaN</td>\n      <td>NaN</td>\n      <td>NaN</td>\n    </tr>\n    <tr>\n      <th>86</th>\n      <td>Philippine Islands</td>\n      <td>Obsolete postal code</td>\n      <td>PHPHL608[8]</td>\n      <td>NaN</td>\n      <td>NaN</td>\n      <td>PI</td>\n      <td>NaN</td>\n      <td>NaN</td>\n      <td>NaN</td>\n      <td>NaN</td>\n    </tr>\n    <tr>\n      <th>87</th>\n      <td>Trust Territory of the Pacific Islands</td>\n      <td>Obsolete postal code</td>\n      <td>PCPCI582</td>\n      <td>NaN</td>\n      <td>NaN</td>\n      <td>TT</td>\n      <td>NaN</td>\n      <td>NaN</td>\n      <td>NaN</td>\n      <td>NaN</td>\n    </tr>\n  </tbody>\n</table>\n<p>88 rows × 10 columns</p>\n</div>"
     },
     "metadata": {},
     "execution_count": 20
    }
   ],
   "source": [
    "states.rename(columns={\"Codes:  ISO ISO 3166 codes (2-letter, 3-letter, and 3-digit codes from ISO 3166-1; 2+2-letter codes from ISO 3166-2)  ANSI 2-letter and 2-digit codes from the ANSI standard INCITS 38:2009 (supersedes FIPS 5-2)  USPS 2-letter codes used by the United States Postal Service  USCG 2-letter codes used by the United States Coast Guard (bold red text shows differences between ANSI and USCG) Abbreviations:  GPO Older variable-length official US Government Printing Office abbreviations  AP Abbreviations from the AP Stylebook (bold red text shows differences between GPO and AP)\": \"State\", \"Codes:  ISO ISO 3166 codes (2-letter, 3-letter, and 3-digit codes from ISO 3166-1; 2+2-letter codes from ISO 3166-2)  ANSI 2-letter and 2-digit codes from the ANSI standard INCITS 38:2009 (supersedes FIPS 5-2)  USPS 2-letter codes used by the United States Postal Service  USCG 2-letter codes used by the United States Coast Guard (bold red text shows differences between ANSI and USCG) Abbreviations:  GPO Older variable-length official US Government Printing Office abbreviations  AP Abbreviations from the AP Stylebook (bold red text shows differences between GPO and AP).3\": \"Abbreviation\"}, inplace=True)\n",
    "states"
   ]
  },
  {
   "cell_type": "code",
   "execution_count": 21,
   "metadata": {},
   "outputs": [
    {
     "output_type": "execute_result",
     "data": {
      "text/plain": [
       "   Rank in states & territories, 2019  Rank in states & territories, 2010  \\\n",
       "0                                 1.0                                 NaN   \n",
       "1                                 NaN                                 NaN   \n",
       "2                                 NaN                                 NaN   \n",
       "3                                 NaN                                 NaN   \n",
       "4                                 NaN                                 NaN   \n",
       "\n",
       "          State  Population estimate, July 1, 2019[2]  \\\n",
       "0    California                              39512223   \n",
       "1         Texas                              28995881   \n",
       "2       Florida                              21477737   \n",
       "3      New York                              19453561   \n",
       "4  Pennsylvania                              12801989   \n",
       "\n",
       "  Census population, April 1, 2010[3] Percent change, 2010–2019[note 1]  \\\n",
       "0                            37254523                              6.1%   \n",
       "1                            25145561                             15.3%   \n",
       "2                            18801310                             14.2%   \n",
       "3                            19378102                              0.4%   \n",
       "4                            12702379                              0.8%   \n",
       "\n",
       "  Absolute change, 2010-2019  \\\n",
       "0                 +2,257,700   \n",
       "1                 +3,850,320   \n",
       "2                 +2,676,427   \n",
       "3                    +75,459   \n",
       "4                    +99,610   \n",
       "\n",
       "  Total seats in the U.S. House of Representatives, 2013–2023  \\\n",
       "0                                                NaN            \n",
       "1                                                NaN            \n",
       "2                                                NaN            \n",
       "3                                                NaN            \n",
       "4                                                NaN            \n",
       "\n",
       "  Estimated population per electoral vote, 2019[note 2]  \\\n",
       "0                                             718404      \n",
       "1                                             763050      \n",
       "2                                             740611      \n",
       "3                                             670812      \n",
       "4                                             640099      \n",
       "\n",
       "  Estimated population per House seat, 2019  \\\n",
       "0                                    745514   \n",
       "1                                    805441   \n",
       "2                                    795472   \n",
       "3                                    720502   \n",
       "4                                    711222   \n",
       "\n",
       "  Census population per House seat, 2010  \\\n",
       "0                                 702885   \n",
       "1                                 698503   \n",
       "2                                 696468   \n",
       "3                                 717707   \n",
       "4                                 705715   \n",
       "\n",
       "  Percent of the total U.S. population, 2018[note 3] Abbreviation  \n",
       "0                                             11.96%           CA  \n",
       "1                                              8.68%           TX  \n",
       "2                                              6.44%           FL  \n",
       "3                                              5.91%           NY  \n",
       "4                                              3.87%           PA  "
      ],
      "text/html": "<div>\n<style scoped>\n    .dataframe tbody tr th:only-of-type {\n        vertical-align: middle;\n    }\n\n    .dataframe tbody tr th {\n        vertical-align: top;\n    }\n\n    .dataframe thead th {\n        text-align: right;\n    }\n</style>\n<table border=\"1\" class=\"dataframe\">\n  <thead>\n    <tr style=\"text-align: right;\">\n      <th></th>\n      <th>Rank in states &amp; territories, 2019</th>\n      <th>Rank in states &amp; territories, 2010</th>\n      <th>State</th>\n      <th>Population estimate, July 1, 2019[2]</th>\n      <th>Census population, April 1, 2010[3]</th>\n      <th>Percent change, 2010–2019[note 1]</th>\n      <th>Absolute change, 2010-2019</th>\n      <th>Total seats in the U.S. House of Representatives, 2013–2023</th>\n      <th>Estimated population per electoral vote, 2019[note 2]</th>\n      <th>Estimated population per House seat, 2019</th>\n      <th>Census population per House seat, 2010</th>\n      <th>Percent of the total U.S. population, 2018[note 3]</th>\n      <th>Abbreviation</th>\n    </tr>\n  </thead>\n  <tbody>\n    <tr>\n      <th>0</th>\n      <td>1.0</td>\n      <td>NaN</td>\n      <td>California</td>\n      <td>39512223</td>\n      <td>37254523</td>\n      <td>6.1%</td>\n      <td>+2,257,700</td>\n      <td>NaN</td>\n      <td>718404</td>\n      <td>745514</td>\n      <td>702885</td>\n      <td>11.96%</td>\n      <td>CA</td>\n    </tr>\n    <tr>\n      <th>1</th>\n      <td>NaN</td>\n      <td>NaN</td>\n      <td>Texas</td>\n      <td>28995881</td>\n      <td>25145561</td>\n      <td>15.3%</td>\n      <td>+3,850,320</td>\n      <td>NaN</td>\n      <td>763050</td>\n      <td>805441</td>\n      <td>698503</td>\n      <td>8.68%</td>\n      <td>TX</td>\n    </tr>\n    <tr>\n      <th>2</th>\n      <td>NaN</td>\n      <td>NaN</td>\n      <td>Florida</td>\n      <td>21477737</td>\n      <td>18801310</td>\n      <td>14.2%</td>\n      <td>+2,676,427</td>\n      <td>NaN</td>\n      <td>740611</td>\n      <td>795472</td>\n      <td>696468</td>\n      <td>6.44%</td>\n      <td>FL</td>\n    </tr>\n    <tr>\n      <th>3</th>\n      <td>NaN</td>\n      <td>NaN</td>\n      <td>New York</td>\n      <td>19453561</td>\n      <td>19378102</td>\n      <td>0.4%</td>\n      <td>+75,459</td>\n      <td>NaN</td>\n      <td>670812</td>\n      <td>720502</td>\n      <td>717707</td>\n      <td>5.91%</td>\n      <td>NY</td>\n    </tr>\n    <tr>\n      <th>4</th>\n      <td>NaN</td>\n      <td>NaN</td>\n      <td>Pennsylvania</td>\n      <td>12801989</td>\n      <td>12702379</td>\n      <td>0.8%</td>\n      <td>+99,610</td>\n      <td>NaN</td>\n      <td>640099</td>\n      <td>711222</td>\n      <td>705715</td>\n      <td>3.87%</td>\n      <td>PA</td>\n    </tr>\n  </tbody>\n</table>\n</div>"
     },
     "metadata": {},
     "execution_count": 21
    }
   ],
   "source": [
    "population = pd.merge(population,states[['State','Abbreviation']],on='State', how='left')\n",
    "population.head()"
   ]
  },
  {
   "cell_type": "code",
   "execution_count": 22,
   "metadata": {},
   "outputs": [
    {
     "output_type": "execute_result",
     "data": {
      "text/plain": [
       "        id\n",
       "state     \n",
       "AK      39\n",
       "AL     104\n",
       "AR      83\n",
       "AZ     254\n",
       "CA     799\n",
       "CO     195\n",
       "CT      21\n",
       "DC      13\n",
       "DE      13\n",
       "FL     350\n",
       "GA     182\n",
       "HI      30\n",
       "IA      32\n",
       "ID      42\n",
       "IL     104\n",
       "IN      95\n",
       "KS      50\n",
       "KY      95\n",
       "LA     109\n",
       "MA      35\n",
       "MD      79\n",
       "ME      22\n",
       "MI      78\n",
       "MN      61\n",
       "MO     141\n",
       "MS      65\n",
       "MT      31\n",
       "NC     156\n",
       "ND      11\n",
       "NE      24\n",
       "NH      13\n",
       "NJ      68\n",
       "NM     106\n",
       "NV      96\n",
       "NY     101\n",
       "OH     155\n",
       "OK     164\n",
       "OR      88\n",
       "PA     108\n",
       "RI       4\n",
       "SC      88\n",
       "SD      17\n",
       "TN     139\n",
       "TX     481\n",
       "UT      60\n",
       "VA      95\n",
       "VT       9\n",
       "WA     152\n",
       "WI      91\n",
       "WV      54\n",
       "WY      14"
      ],
      "text/html": "<div>\n<style scoped>\n    .dataframe tbody tr th:only-of-type {\n        vertical-align: middle;\n    }\n\n    .dataframe tbody tr th {\n        vertical-align: top;\n    }\n\n    .dataframe thead th {\n        text-align: right;\n    }\n</style>\n<table border=\"1\" class=\"dataframe\">\n  <thead>\n    <tr style=\"text-align: right;\">\n      <th></th>\n      <th>id</th>\n    </tr>\n    <tr>\n      <th>state</th>\n      <th></th>\n    </tr>\n  </thead>\n  <tbody>\n    <tr>\n      <th>AK</th>\n      <td>39</td>\n    </tr>\n    <tr>\n      <th>AL</th>\n      <td>104</td>\n    </tr>\n    <tr>\n      <th>AR</th>\n      <td>83</td>\n    </tr>\n    <tr>\n      <th>AZ</th>\n      <td>254</td>\n    </tr>\n    <tr>\n      <th>CA</th>\n      <td>799</td>\n    </tr>\n    <tr>\n      <th>CO</th>\n      <td>195</td>\n    </tr>\n    <tr>\n      <th>CT</th>\n      <td>21</td>\n    </tr>\n    <tr>\n      <th>DC</th>\n      <td>13</td>\n    </tr>\n    <tr>\n      <th>DE</th>\n      <td>13</td>\n    </tr>\n    <tr>\n      <th>FL</th>\n      <td>350</td>\n    </tr>\n    <tr>\n      <th>GA</th>\n      <td>182</td>\n    </tr>\n    <tr>\n      <th>HI</th>\n      <td>30</td>\n    </tr>\n    <tr>\n      <th>IA</th>\n      <td>32</td>\n    </tr>\n    <tr>\n      <th>ID</th>\n      <td>42</td>\n    </tr>\n    <tr>\n      <th>IL</th>\n      <td>104</td>\n    </tr>\n    <tr>\n      <th>IN</th>\n      <td>95</td>\n    </tr>\n    <tr>\n      <th>KS</th>\n      <td>50</td>\n    </tr>\n    <tr>\n      <th>KY</th>\n      <td>95</td>\n    </tr>\n    <tr>\n      <th>LA</th>\n      <td>109</td>\n    </tr>\n    <tr>\n      <th>MA</th>\n      <td>35</td>\n    </tr>\n    <tr>\n      <th>MD</th>\n      <td>79</td>\n    </tr>\n    <tr>\n      <th>ME</th>\n      <td>22</td>\n    </tr>\n    <tr>\n      <th>MI</th>\n      <td>78</td>\n    </tr>\n    <tr>\n      <th>MN</th>\n      <td>61</td>\n    </tr>\n    <tr>\n      <th>MO</th>\n      <td>141</td>\n    </tr>\n    <tr>\n      <th>MS</th>\n      <td>65</td>\n    </tr>\n    <tr>\n      <th>MT</th>\n      <td>31</td>\n    </tr>\n    <tr>\n      <th>NC</th>\n      <td>156</td>\n    </tr>\n    <tr>\n      <th>ND</th>\n      <td>11</td>\n    </tr>\n    <tr>\n      <th>NE</th>\n      <td>24</td>\n    </tr>\n    <tr>\n      <th>NH</th>\n      <td>13</td>\n    </tr>\n    <tr>\n      <th>NJ</th>\n      <td>68</td>\n    </tr>\n    <tr>\n      <th>NM</th>\n      <td>106</td>\n    </tr>\n    <tr>\n      <th>NV</th>\n      <td>96</td>\n    </tr>\n    <tr>\n      <th>NY</th>\n      <td>101</td>\n    </tr>\n    <tr>\n      <th>OH</th>\n      <td>155</td>\n    </tr>\n    <tr>\n      <th>OK</th>\n      <td>164</td>\n    </tr>\n    <tr>\n      <th>OR</th>\n      <td>88</td>\n    </tr>\n    <tr>\n      <th>PA</th>\n      <td>108</td>\n    </tr>\n    <tr>\n      <th>RI</th>\n      <td>4</td>\n    </tr>\n    <tr>\n      <th>SC</th>\n      <td>88</td>\n    </tr>\n    <tr>\n      <th>SD</th>\n      <td>17</td>\n    </tr>\n    <tr>\n      <th>TN</th>\n      <td>139</td>\n    </tr>\n    <tr>\n      <th>TX</th>\n      <td>481</td>\n    </tr>\n    <tr>\n      <th>UT</th>\n      <td>60</td>\n    </tr>\n    <tr>\n      <th>VA</th>\n      <td>95</td>\n    </tr>\n    <tr>\n      <th>VT</th>\n      <td>9</td>\n    </tr>\n    <tr>\n      <th>WA</th>\n      <td>152</td>\n    </tr>\n    <tr>\n      <th>WI</th>\n      <td>91</td>\n    </tr>\n    <tr>\n      <th>WV</th>\n      <td>54</td>\n    </tr>\n    <tr>\n      <th>WY</th>\n      <td>14</td>\n    </tr>\n  </tbody>\n</table>\n</div>"
     },
     "metadata": {},
     "execution_count": 22
    }
   ],
   "source": [
    "crimes_ratio = crimes.groupby('state').id.count().to_frame()\n",
    "crimes_ratio"
   ]
  },
  {
   "cell_type": "code",
   "execution_count": 23,
   "metadata": {},
   "outputs": [
    {
     "output_type": "execute_result",
     "data": {
      "text/plain": [
       "     id state\n",
       "0    39    AK\n",
       "1   104    AL\n",
       "2    83    AR\n",
       "3   254    AZ\n",
       "4   799    CA\n",
       "5   195    CO\n",
       "6    21    CT\n",
       "7    13    DC\n",
       "8    13    DE\n",
       "9   350    FL\n",
       "10  182    GA\n",
       "11   30    HI\n",
       "12   32    IA\n",
       "13   42    ID\n",
       "14  104    IL\n",
       "15   95    IN\n",
       "16   50    KS\n",
       "17   95    KY\n",
       "18  109    LA\n",
       "19   35    MA\n",
       "20   79    MD\n",
       "21   22    ME\n",
       "22   78    MI\n",
       "23   61    MN\n",
       "24  141    MO\n",
       "25   65    MS\n",
       "26   31    MT\n",
       "27  156    NC\n",
       "28   11    ND\n",
       "29   24    NE\n",
       "30   13    NH\n",
       "31   68    NJ\n",
       "32  106    NM\n",
       "33   96    NV\n",
       "34  101    NY\n",
       "35  155    OH\n",
       "36  164    OK\n",
       "37   88    OR\n",
       "38  108    PA\n",
       "39    4    RI\n",
       "40   88    SC\n",
       "41   17    SD\n",
       "42  139    TN\n",
       "43  481    TX\n",
       "44   60    UT\n",
       "45   95    VA\n",
       "46    9    VT\n",
       "47  152    WA\n",
       "48   91    WI\n",
       "49   54    WV\n",
       "50   14    WY"
      ],
      "text/html": "<div>\n<style scoped>\n    .dataframe tbody tr th:only-of-type {\n        vertical-align: middle;\n    }\n\n    .dataframe tbody tr th {\n        vertical-align: top;\n    }\n\n    .dataframe thead th {\n        text-align: right;\n    }\n</style>\n<table border=\"1\" class=\"dataframe\">\n  <thead>\n    <tr style=\"text-align: right;\">\n      <th></th>\n      <th>id</th>\n      <th>state</th>\n    </tr>\n  </thead>\n  <tbody>\n    <tr>\n      <th>0</th>\n      <td>39</td>\n      <td>AK</td>\n    </tr>\n    <tr>\n      <th>1</th>\n      <td>104</td>\n      <td>AL</td>\n    </tr>\n    <tr>\n      <th>2</th>\n      <td>83</td>\n      <td>AR</td>\n    </tr>\n    <tr>\n      <th>3</th>\n      <td>254</td>\n      <td>AZ</td>\n    </tr>\n    <tr>\n      <th>4</th>\n      <td>799</td>\n      <td>CA</td>\n    </tr>\n    <tr>\n      <th>5</th>\n      <td>195</td>\n      <td>CO</td>\n    </tr>\n    <tr>\n      <th>6</th>\n      <td>21</td>\n      <td>CT</td>\n    </tr>\n    <tr>\n      <th>7</th>\n      <td>13</td>\n      <td>DC</td>\n    </tr>\n    <tr>\n      <th>8</th>\n      <td>13</td>\n      <td>DE</td>\n    </tr>\n    <tr>\n      <th>9</th>\n      <td>350</td>\n      <td>FL</td>\n    </tr>\n    <tr>\n      <th>10</th>\n      <td>182</td>\n      <td>GA</td>\n    </tr>\n    <tr>\n      <th>11</th>\n      <td>30</td>\n      <td>HI</td>\n    </tr>\n    <tr>\n      <th>12</th>\n      <td>32</td>\n      <td>IA</td>\n    </tr>\n    <tr>\n      <th>13</th>\n      <td>42</td>\n      <td>ID</td>\n    </tr>\n    <tr>\n      <th>14</th>\n      <td>104</td>\n      <td>IL</td>\n    </tr>\n    <tr>\n      <th>15</th>\n      <td>95</td>\n      <td>IN</td>\n    </tr>\n    <tr>\n      <th>16</th>\n      <td>50</td>\n      <td>KS</td>\n    </tr>\n    <tr>\n      <th>17</th>\n      <td>95</td>\n      <td>KY</td>\n    </tr>\n    <tr>\n      <th>18</th>\n      <td>109</td>\n      <td>LA</td>\n    </tr>\n    <tr>\n      <th>19</th>\n      <td>35</td>\n      <td>MA</td>\n    </tr>\n    <tr>\n      <th>20</th>\n      <td>79</td>\n      <td>MD</td>\n    </tr>\n    <tr>\n      <th>21</th>\n      <td>22</td>\n      <td>ME</td>\n    </tr>\n    <tr>\n      <th>22</th>\n      <td>78</td>\n      <td>MI</td>\n    </tr>\n    <tr>\n      <th>23</th>\n      <td>61</td>\n      <td>MN</td>\n    </tr>\n    <tr>\n      <th>24</th>\n      <td>141</td>\n      <td>MO</td>\n    </tr>\n    <tr>\n      <th>25</th>\n      <td>65</td>\n      <td>MS</td>\n    </tr>\n    <tr>\n      <th>26</th>\n      <td>31</td>\n      <td>MT</td>\n    </tr>\n    <tr>\n      <th>27</th>\n      <td>156</td>\n      <td>NC</td>\n    </tr>\n    <tr>\n      <th>28</th>\n      <td>11</td>\n      <td>ND</td>\n    </tr>\n    <tr>\n      <th>29</th>\n      <td>24</td>\n      <td>NE</td>\n    </tr>\n    <tr>\n      <th>30</th>\n      <td>13</td>\n      <td>NH</td>\n    </tr>\n    <tr>\n      <th>31</th>\n      <td>68</td>\n      <td>NJ</td>\n    </tr>\n    <tr>\n      <th>32</th>\n      <td>106</td>\n      <td>NM</td>\n    </tr>\n    <tr>\n      <th>33</th>\n      <td>96</td>\n      <td>NV</td>\n    </tr>\n    <tr>\n      <th>34</th>\n      <td>101</td>\n      <td>NY</td>\n    </tr>\n    <tr>\n      <th>35</th>\n      <td>155</td>\n      <td>OH</td>\n    </tr>\n    <tr>\n      <th>36</th>\n      <td>164</td>\n      <td>OK</td>\n    </tr>\n    <tr>\n      <th>37</th>\n      <td>88</td>\n      <td>OR</td>\n    </tr>\n    <tr>\n      <th>38</th>\n      <td>108</td>\n      <td>PA</td>\n    </tr>\n    <tr>\n      <th>39</th>\n      <td>4</td>\n      <td>RI</td>\n    </tr>\n    <tr>\n      <th>40</th>\n      <td>88</td>\n      <td>SC</td>\n    </tr>\n    <tr>\n      <th>41</th>\n      <td>17</td>\n      <td>SD</td>\n    </tr>\n    <tr>\n      <th>42</th>\n      <td>139</td>\n      <td>TN</td>\n    </tr>\n    <tr>\n      <th>43</th>\n      <td>481</td>\n      <td>TX</td>\n    </tr>\n    <tr>\n      <th>44</th>\n      <td>60</td>\n      <td>UT</td>\n    </tr>\n    <tr>\n      <th>45</th>\n      <td>95</td>\n      <td>VA</td>\n    </tr>\n    <tr>\n      <th>46</th>\n      <td>9</td>\n      <td>VT</td>\n    </tr>\n    <tr>\n      <th>47</th>\n      <td>152</td>\n      <td>WA</td>\n    </tr>\n    <tr>\n      <th>48</th>\n      <td>91</td>\n      <td>WI</td>\n    </tr>\n    <tr>\n      <th>49</th>\n      <td>54</td>\n      <td>WV</td>\n    </tr>\n    <tr>\n      <th>50</th>\n      <td>14</td>\n      <td>WY</td>\n    </tr>\n  </tbody>\n</table>\n</div>"
     },
     "metadata": {},
     "execution_count": 23
    }
   ],
   "source": [
    "crimes_ratio['state'] = crimes_ratio.index\n",
    "crimes_ratio.index = range(crimes_ratio.shape[0])\n",
    "crimes_ratio"
   ]
  },
  {
   "cell_type": "code",
   "execution_count": 24,
   "metadata": {},
   "outputs": [
    {
     "output_type": "execute_result",
     "data": {
      "text/plain": [
       "   No_of_crimes Abbreviation\n",
       "0            39           AK\n",
       "1           104           AL\n",
       "2            83           AR\n",
       "3           254           AZ\n",
       "4           799           CA"
      ],
      "text/html": "<div>\n<style scoped>\n    .dataframe tbody tr th:only-of-type {\n        vertical-align: middle;\n    }\n\n    .dataframe tbody tr th {\n        vertical-align: top;\n    }\n\n    .dataframe thead th {\n        text-align: right;\n    }\n</style>\n<table border=\"1\" class=\"dataframe\">\n  <thead>\n    <tr style=\"text-align: right;\">\n      <th></th>\n      <th>No_of_crimes</th>\n      <th>Abbreviation</th>\n    </tr>\n  </thead>\n  <tbody>\n    <tr>\n      <th>0</th>\n      <td>39</td>\n      <td>AK</td>\n    </tr>\n    <tr>\n      <th>1</th>\n      <td>104</td>\n      <td>AL</td>\n    </tr>\n    <tr>\n      <th>2</th>\n      <td>83</td>\n      <td>AR</td>\n    </tr>\n    <tr>\n      <th>3</th>\n      <td>254</td>\n      <td>AZ</td>\n    </tr>\n    <tr>\n      <th>4</th>\n      <td>799</td>\n      <td>CA</td>\n    </tr>\n  </tbody>\n</table>\n</div>"
     },
     "metadata": {},
     "execution_count": 24
    }
   ],
   "source": [
    "crimes_ratio.rename(columns={\"id\": \"No_of_crimes\", \"state\": \"Abbreviation\"},inplace=True)\n",
    "crimes_ratio.head()"
   ]
  },
  {
   "cell_type": "code",
   "execution_count": 25,
   "metadata": {},
   "outputs": [
    {
     "output_type": "execute_result",
     "data": {
      "text/plain": [
       "    No_of_crimes Abbreviation                 State  \\\n",
       "0             39           AK                Alaska   \n",
       "1            104           AL               Alabama   \n",
       "2             83           AR              Arkansas   \n",
       "3            254           AZ               Arizona   \n",
       "4            799           CA            California   \n",
       "5            195           CO              Colorado   \n",
       "6             21           CT           Connecticut   \n",
       "7             13           DC  District of Columbia   \n",
       "8             13           DE              Delaware   \n",
       "9            350           FL               Florida   \n",
       "10           182           GA               Georgia   \n",
       "11            30           HI                Hawaii   \n",
       "12            32           IA                  Iowa   \n",
       "13            42           ID                 Idaho   \n",
       "14           104           IL              Illinois   \n",
       "15            95           IN               Indiana   \n",
       "16            50           KS                Kansas   \n",
       "17            95           KY              Kentucky   \n",
       "18           109           LA             Louisiana   \n",
       "19            35           MA         Massachusetts   \n",
       "20            79           MD              Maryland   \n",
       "21            22           ME                 Maine   \n",
       "22            78           MI              Michigan   \n",
       "23            61           MN             Minnesota   \n",
       "24           141           MO              Missouri   \n",
       "25            65           MS           Mississippi   \n",
       "26            31           MT               Montana   \n",
       "27           156           NC        North Carolina   \n",
       "28            11           ND          North Dakota   \n",
       "29            24           NE              Nebraska   \n",
       "30            13           NH         New Hampshire   \n",
       "31            68           NJ            New Jersey   \n",
       "32           106           NM            New Mexico   \n",
       "33            96           NV                Nevada   \n",
       "34           101           NY              New York   \n",
       "35           155           OH                  Ohio   \n",
       "36           164           OK              Oklahoma   \n",
       "37            88           OR                Oregon   \n",
       "38           108           PA          Pennsylvania   \n",
       "39             4           RI          Rhode Island   \n",
       "40            88           SC        South Carolina   \n",
       "41            17           SD          South Dakota   \n",
       "42           139           TN             Tennessee   \n",
       "43           481           TX                 Texas   \n",
       "44            60           UT                  Utah   \n",
       "45            95           VA              Virginia   \n",
       "46             9           VT               Vermont   \n",
       "47           152           WA            Washington   \n",
       "48            91           WI             Wisconsin   \n",
       "49            54           WV         West Virginia   \n",
       "50            14           WY               Wyoming   \n",
       "\n",
       "    Population estimate, July 1, 2019[2]  \n",
       "0                                 731545  \n",
       "1                                4903185  \n",
       "2                                3017825  \n",
       "3                                7278717  \n",
       "4                               39512223  \n",
       "5                                5758736  \n",
       "6                                3565287  \n",
       "7                                 705749  \n",
       "8                                 973764  \n",
       "9                               21477737  \n",
       "10                              10617423  \n",
       "11                               1415872  \n",
       "12                               3155070  \n",
       "13                               1787065  \n",
       "14                              12671821  \n",
       "15                               6732219  \n",
       "16                               2913314  \n",
       "17                               4467673  \n",
       "18                               4648794  \n",
       "19                               6949503  \n",
       "20                               6045680  \n",
       "21                               1344212  \n",
       "22                               9986857  \n",
       "23                               5639632  \n",
       "24                               6137428  \n",
       "25                               2976149  \n",
       "26                               1068778  \n",
       "27                              10488084  \n",
       "28                                762062  \n",
       "29                               1934408  \n",
       "30                               1359711  \n",
       "31                               8882190  \n",
       "32                               2096829  \n",
       "33                               3080156  \n",
       "34                              19453561  \n",
       "35                              11689100  \n",
       "36                               3956971  \n",
       "37                               4217737  \n",
       "38                              12801989  \n",
       "39                               1059361  \n",
       "40                               5148714  \n",
       "41                                884659  \n",
       "42                               6833174  \n",
       "43                              28995881  \n",
       "44                               3205958  \n",
       "45                               8535519  \n",
       "46                                623989  \n",
       "47                               7614893  \n",
       "48                               5822434  \n",
       "49                               1792147  \n",
       "50                                578759  "
      ],
      "text/html": "<div>\n<style scoped>\n    .dataframe tbody tr th:only-of-type {\n        vertical-align: middle;\n    }\n\n    .dataframe tbody tr th {\n        vertical-align: top;\n    }\n\n    .dataframe thead th {\n        text-align: right;\n    }\n</style>\n<table border=\"1\" class=\"dataframe\">\n  <thead>\n    <tr style=\"text-align: right;\">\n      <th></th>\n      <th>No_of_crimes</th>\n      <th>Abbreviation</th>\n      <th>State</th>\n      <th>Population estimate, July 1, 2019[2]</th>\n    </tr>\n  </thead>\n  <tbody>\n    <tr>\n      <th>0</th>\n      <td>39</td>\n      <td>AK</td>\n      <td>Alaska</td>\n      <td>731545</td>\n    </tr>\n    <tr>\n      <th>1</th>\n      <td>104</td>\n      <td>AL</td>\n      <td>Alabama</td>\n      <td>4903185</td>\n    </tr>\n    <tr>\n      <th>2</th>\n      <td>83</td>\n      <td>AR</td>\n      <td>Arkansas</td>\n      <td>3017825</td>\n    </tr>\n    <tr>\n      <th>3</th>\n      <td>254</td>\n      <td>AZ</td>\n      <td>Arizona</td>\n      <td>7278717</td>\n    </tr>\n    <tr>\n      <th>4</th>\n      <td>799</td>\n      <td>CA</td>\n      <td>California</td>\n      <td>39512223</td>\n    </tr>\n    <tr>\n      <th>5</th>\n      <td>195</td>\n      <td>CO</td>\n      <td>Colorado</td>\n      <td>5758736</td>\n    </tr>\n    <tr>\n      <th>6</th>\n      <td>21</td>\n      <td>CT</td>\n      <td>Connecticut</td>\n      <td>3565287</td>\n    </tr>\n    <tr>\n      <th>7</th>\n      <td>13</td>\n      <td>DC</td>\n      <td>District of Columbia</td>\n      <td>705749</td>\n    </tr>\n    <tr>\n      <th>8</th>\n      <td>13</td>\n      <td>DE</td>\n      <td>Delaware</td>\n      <td>973764</td>\n    </tr>\n    <tr>\n      <th>9</th>\n      <td>350</td>\n      <td>FL</td>\n      <td>Florida</td>\n      <td>21477737</td>\n    </tr>\n    <tr>\n      <th>10</th>\n      <td>182</td>\n      <td>GA</td>\n      <td>Georgia</td>\n      <td>10617423</td>\n    </tr>\n    <tr>\n      <th>11</th>\n      <td>30</td>\n      <td>HI</td>\n      <td>Hawaii</td>\n      <td>1415872</td>\n    </tr>\n    <tr>\n      <th>12</th>\n      <td>32</td>\n      <td>IA</td>\n      <td>Iowa</td>\n      <td>3155070</td>\n    </tr>\n    <tr>\n      <th>13</th>\n      <td>42</td>\n      <td>ID</td>\n      <td>Idaho</td>\n      <td>1787065</td>\n    </tr>\n    <tr>\n      <th>14</th>\n      <td>104</td>\n      <td>IL</td>\n      <td>Illinois</td>\n      <td>12671821</td>\n    </tr>\n    <tr>\n      <th>15</th>\n      <td>95</td>\n      <td>IN</td>\n      <td>Indiana</td>\n      <td>6732219</td>\n    </tr>\n    <tr>\n      <th>16</th>\n      <td>50</td>\n      <td>KS</td>\n      <td>Kansas</td>\n      <td>2913314</td>\n    </tr>\n    <tr>\n      <th>17</th>\n      <td>95</td>\n      <td>KY</td>\n      <td>Kentucky</td>\n      <td>4467673</td>\n    </tr>\n    <tr>\n      <th>18</th>\n      <td>109</td>\n      <td>LA</td>\n      <td>Louisiana</td>\n      <td>4648794</td>\n    </tr>\n    <tr>\n      <th>19</th>\n      <td>35</td>\n      <td>MA</td>\n      <td>Massachusetts</td>\n      <td>6949503</td>\n    </tr>\n    <tr>\n      <th>20</th>\n      <td>79</td>\n      <td>MD</td>\n      <td>Maryland</td>\n      <td>6045680</td>\n    </tr>\n    <tr>\n      <th>21</th>\n      <td>22</td>\n      <td>ME</td>\n      <td>Maine</td>\n      <td>1344212</td>\n    </tr>\n    <tr>\n      <th>22</th>\n      <td>78</td>\n      <td>MI</td>\n      <td>Michigan</td>\n      <td>9986857</td>\n    </tr>\n    <tr>\n      <th>23</th>\n      <td>61</td>\n      <td>MN</td>\n      <td>Minnesota</td>\n      <td>5639632</td>\n    </tr>\n    <tr>\n      <th>24</th>\n      <td>141</td>\n      <td>MO</td>\n      <td>Missouri</td>\n      <td>6137428</td>\n    </tr>\n    <tr>\n      <th>25</th>\n      <td>65</td>\n      <td>MS</td>\n      <td>Mississippi</td>\n      <td>2976149</td>\n    </tr>\n    <tr>\n      <th>26</th>\n      <td>31</td>\n      <td>MT</td>\n      <td>Montana</td>\n      <td>1068778</td>\n    </tr>\n    <tr>\n      <th>27</th>\n      <td>156</td>\n      <td>NC</td>\n      <td>North Carolina</td>\n      <td>10488084</td>\n    </tr>\n    <tr>\n      <th>28</th>\n      <td>11</td>\n      <td>ND</td>\n      <td>North Dakota</td>\n      <td>762062</td>\n    </tr>\n    <tr>\n      <th>29</th>\n      <td>24</td>\n      <td>NE</td>\n      <td>Nebraska</td>\n      <td>1934408</td>\n    </tr>\n    <tr>\n      <th>30</th>\n      <td>13</td>\n      <td>NH</td>\n      <td>New Hampshire</td>\n      <td>1359711</td>\n    </tr>\n    <tr>\n      <th>31</th>\n      <td>68</td>\n      <td>NJ</td>\n      <td>New Jersey</td>\n      <td>8882190</td>\n    </tr>\n    <tr>\n      <th>32</th>\n      <td>106</td>\n      <td>NM</td>\n      <td>New Mexico</td>\n      <td>2096829</td>\n    </tr>\n    <tr>\n      <th>33</th>\n      <td>96</td>\n      <td>NV</td>\n      <td>Nevada</td>\n      <td>3080156</td>\n    </tr>\n    <tr>\n      <th>34</th>\n      <td>101</td>\n      <td>NY</td>\n      <td>New York</td>\n      <td>19453561</td>\n    </tr>\n    <tr>\n      <th>35</th>\n      <td>155</td>\n      <td>OH</td>\n      <td>Ohio</td>\n      <td>11689100</td>\n    </tr>\n    <tr>\n      <th>36</th>\n      <td>164</td>\n      <td>OK</td>\n      <td>Oklahoma</td>\n      <td>3956971</td>\n    </tr>\n    <tr>\n      <th>37</th>\n      <td>88</td>\n      <td>OR</td>\n      <td>Oregon</td>\n      <td>4217737</td>\n    </tr>\n    <tr>\n      <th>38</th>\n      <td>108</td>\n      <td>PA</td>\n      <td>Pennsylvania</td>\n      <td>12801989</td>\n    </tr>\n    <tr>\n      <th>39</th>\n      <td>4</td>\n      <td>RI</td>\n      <td>Rhode Island</td>\n      <td>1059361</td>\n    </tr>\n    <tr>\n      <th>40</th>\n      <td>88</td>\n      <td>SC</td>\n      <td>South Carolina</td>\n      <td>5148714</td>\n    </tr>\n    <tr>\n      <th>41</th>\n      <td>17</td>\n      <td>SD</td>\n      <td>South Dakota</td>\n      <td>884659</td>\n    </tr>\n    <tr>\n      <th>42</th>\n      <td>139</td>\n      <td>TN</td>\n      <td>Tennessee</td>\n      <td>6833174</td>\n    </tr>\n    <tr>\n      <th>43</th>\n      <td>481</td>\n      <td>TX</td>\n      <td>Texas</td>\n      <td>28995881</td>\n    </tr>\n    <tr>\n      <th>44</th>\n      <td>60</td>\n      <td>UT</td>\n      <td>Utah</td>\n      <td>3205958</td>\n    </tr>\n    <tr>\n      <th>45</th>\n      <td>95</td>\n      <td>VA</td>\n      <td>Virginia</td>\n      <td>8535519</td>\n    </tr>\n    <tr>\n      <th>46</th>\n      <td>9</td>\n      <td>VT</td>\n      <td>Vermont</td>\n      <td>623989</td>\n    </tr>\n    <tr>\n      <th>47</th>\n      <td>152</td>\n      <td>WA</td>\n      <td>Washington</td>\n      <td>7614893</td>\n    </tr>\n    <tr>\n      <th>48</th>\n      <td>91</td>\n      <td>WI</td>\n      <td>Wisconsin</td>\n      <td>5822434</td>\n    </tr>\n    <tr>\n      <th>49</th>\n      <td>54</td>\n      <td>WV</td>\n      <td>West Virginia</td>\n      <td>1792147</td>\n    </tr>\n    <tr>\n      <th>50</th>\n      <td>14</td>\n      <td>WY</td>\n      <td>Wyoming</td>\n      <td>578759</td>\n    </tr>\n  </tbody>\n</table>\n</div>"
     },
     "metadata": {},
     "execution_count": 25
    }
   ],
   "source": [
    "crimes_ratio = pd.merge(crimes_ratio,population[['State','Population estimate, July 1, 2019[2]','Abbreviation']],on='Abbreviation', how='left')\n",
    "crimes_ratio"
   ]
  },
  {
   "cell_type": "code",
   "execution_count": 29,
   "metadata": {},
   "outputs": [
    {
     "output_type": "execute_result",
     "data": {
      "text/plain": [
       "   Crimes Abbreviation       State  Population\n",
       "0      39           AK      Alaska      731545\n",
       "1     104           AL     Alabama     4903185\n",
       "2      83           AR    Arkansas     3017825\n",
       "3     254           AZ     Arizona     7278717\n",
       "4     799           CA  California    39512223"
      ],
      "text/html": "<div>\n<style scoped>\n    .dataframe tbody tr th:only-of-type {\n        vertical-align: middle;\n    }\n\n    .dataframe tbody tr th {\n        vertical-align: top;\n    }\n\n    .dataframe thead th {\n        text-align: right;\n    }\n</style>\n<table border=\"1\" class=\"dataframe\">\n  <thead>\n    <tr style=\"text-align: right;\">\n      <th></th>\n      <th>Crimes</th>\n      <th>Abbreviation</th>\n      <th>State</th>\n      <th>Population</th>\n    </tr>\n  </thead>\n  <tbody>\n    <tr>\n      <th>0</th>\n      <td>39</td>\n      <td>AK</td>\n      <td>Alaska</td>\n      <td>731545</td>\n    </tr>\n    <tr>\n      <th>1</th>\n      <td>104</td>\n      <td>AL</td>\n      <td>Alabama</td>\n      <td>4903185</td>\n    </tr>\n    <tr>\n      <th>2</th>\n      <td>83</td>\n      <td>AR</td>\n      <td>Arkansas</td>\n      <td>3017825</td>\n    </tr>\n    <tr>\n      <th>3</th>\n      <td>254</td>\n      <td>AZ</td>\n      <td>Arizona</td>\n      <td>7278717</td>\n    </tr>\n    <tr>\n      <th>4</th>\n      <td>799</td>\n      <td>CA</td>\n      <td>California</td>\n      <td>39512223</td>\n    </tr>\n  </tbody>\n</table>\n</div>"
     },
     "metadata": {},
     "execution_count": 29
    }
   ],
   "source": [
    "crimes_ratio.rename(columns={\"Population estimate, July 1, 2019[2]\": \"Population\", \"No_of_crimes\": \"Crimes\"},inplace=True)\n",
    "crimes_ratio.head()"
   ]
  },
  {
   "cell_type": "code",
   "execution_count": 35,
   "metadata": {},
   "outputs": [
    {
     "output_type": "execute_result",
     "data": {
      "text/plain": [
       "    Crimes Abbreviation                 State  Population  \\\n",
       "0       39           AK                Alaska      731545   \n",
       "1      104           AL               Alabama     4903185   \n",
       "2       83           AR              Arkansas     3017825   \n",
       "3      254           AZ               Arizona     7278717   \n",
       "4      799           CA            California    39512223   \n",
       "5      195           CO              Colorado     5758736   \n",
       "6       21           CT           Connecticut     3565287   \n",
       "7       13           DC  District of Columbia      705749   \n",
       "8       13           DE              Delaware      973764   \n",
       "9      350           FL               Florida    21477737   \n",
       "10     182           GA               Georgia    10617423   \n",
       "11      30           HI                Hawaii     1415872   \n",
       "12      32           IA                  Iowa     3155070   \n",
       "13      42           ID                 Idaho     1787065   \n",
       "14     104           IL              Illinois    12671821   \n",
       "15      95           IN               Indiana     6732219   \n",
       "16      50           KS                Kansas     2913314   \n",
       "17      95           KY              Kentucky     4467673   \n",
       "18     109           LA             Louisiana     4648794   \n",
       "19      35           MA         Massachusetts     6949503   \n",
       "20      79           MD              Maryland     6045680   \n",
       "21      22           ME                 Maine     1344212   \n",
       "22      78           MI              Michigan     9986857   \n",
       "23      61           MN             Minnesota     5639632   \n",
       "24     141           MO              Missouri     6137428   \n",
       "25      65           MS           Mississippi     2976149   \n",
       "26      31           MT               Montana     1068778   \n",
       "27     156           NC        North Carolina    10488084   \n",
       "28      11           ND          North Dakota      762062   \n",
       "29      24           NE              Nebraska     1934408   \n",
       "30      13           NH         New Hampshire     1359711   \n",
       "31      68           NJ            New Jersey     8882190   \n",
       "32     106           NM            New Mexico     2096829   \n",
       "33      96           NV                Nevada     3080156   \n",
       "34     101           NY              New York    19453561   \n",
       "35     155           OH                  Ohio    11689100   \n",
       "36     164           OK              Oklahoma     3956971   \n",
       "37      88           OR                Oregon     4217737   \n",
       "38     108           PA          Pennsylvania    12801989   \n",
       "39       4           RI          Rhode Island     1059361   \n",
       "40      88           SC        South Carolina     5148714   \n",
       "41      17           SD          South Dakota      884659   \n",
       "42     139           TN             Tennessee     6833174   \n",
       "43     481           TX                 Texas    28995881   \n",
       "44      60           UT                  Utah     3205958   \n",
       "45      95           VA              Virginia     8535519   \n",
       "46       9           VT               Vermont      623989   \n",
       "47     152           WA            Washington     7614893   \n",
       "48      91           WI             Wisconsin     5822434   \n",
       "49      54           WV         West Virginia     1792147   \n",
       "50      14           WY               Wyoming      578759   \n",
       "\n",
       "    No_of_incidents_per_1000_inhabitants  \n",
       "0                                 0.0533  \n",
       "1                                 0.0212  \n",
       "2                                 0.0275  \n",
       "3                                 0.0349  \n",
       "4                                 0.0202  \n",
       "5                                 0.0339  \n",
       "6                                 0.0059  \n",
       "7                                 0.0184  \n",
       "8                                 0.0134  \n",
       "9                                 0.0163  \n",
       "10                                0.0171  \n",
       "11                                0.0212  \n",
       "12                                0.0101  \n",
       "13                                0.0235  \n",
       "14                                0.0082  \n",
       "15                                0.0141  \n",
       "16                                0.0172  \n",
       "17                                0.0213  \n",
       "18                                0.0234  \n",
       "19                                0.0050  \n",
       "20                                0.0131  \n",
       "21                                0.0164  \n",
       "22                                0.0078  \n",
       "23                                0.0108  \n",
       "24                                0.0230  \n",
       "25                                0.0218  \n",
       "26                                0.0290  \n",
       "27                                0.0149  \n",
       "28                                0.0144  \n",
       "29                                0.0124  \n",
       "30                                0.0096  \n",
       "31                                0.0077  \n",
       "32                                0.0506  \n",
       "33                                0.0312  \n",
       "34                                0.0052  \n",
       "35                                0.0133  \n",
       "36                                0.0414  \n",
       "37                                0.0209  \n",
       "38                                0.0084  \n",
       "39                                0.0038  \n",
       "40                                0.0171  \n",
       "41                                0.0192  \n",
       "42                                0.0203  \n",
       "43                                0.0166  \n",
       "44                                0.0187  \n",
       "45                                0.0111  \n",
       "46                                0.0144  \n",
       "47                                0.0200  \n",
       "48                                0.0156  \n",
       "49                                0.0301  \n",
       "50                                0.0242  "
      ],
      "text/html": "<div>\n<style scoped>\n    .dataframe tbody tr th:only-of-type {\n        vertical-align: middle;\n    }\n\n    .dataframe tbody tr th {\n        vertical-align: top;\n    }\n\n    .dataframe thead th {\n        text-align: right;\n    }\n</style>\n<table border=\"1\" class=\"dataframe\">\n  <thead>\n    <tr style=\"text-align: right;\">\n      <th></th>\n      <th>Crimes</th>\n      <th>Abbreviation</th>\n      <th>State</th>\n      <th>Population</th>\n      <th>No_of_incidents_per_1000_inhabitants</th>\n    </tr>\n  </thead>\n  <tbody>\n    <tr>\n      <th>0</th>\n      <td>39</td>\n      <td>AK</td>\n      <td>Alaska</td>\n      <td>731545</td>\n      <td>0.0533</td>\n    </tr>\n    <tr>\n      <th>1</th>\n      <td>104</td>\n      <td>AL</td>\n      <td>Alabama</td>\n      <td>4903185</td>\n      <td>0.0212</td>\n    </tr>\n    <tr>\n      <th>2</th>\n      <td>83</td>\n      <td>AR</td>\n      <td>Arkansas</td>\n      <td>3017825</td>\n      <td>0.0275</td>\n    </tr>\n    <tr>\n      <th>3</th>\n      <td>254</td>\n      <td>AZ</td>\n      <td>Arizona</td>\n      <td>7278717</td>\n      <td>0.0349</td>\n    </tr>\n    <tr>\n      <th>4</th>\n      <td>799</td>\n      <td>CA</td>\n      <td>California</td>\n      <td>39512223</td>\n      <td>0.0202</td>\n    </tr>\n    <tr>\n      <th>5</th>\n      <td>195</td>\n      <td>CO</td>\n      <td>Colorado</td>\n      <td>5758736</td>\n      <td>0.0339</td>\n    </tr>\n    <tr>\n      <th>6</th>\n      <td>21</td>\n      <td>CT</td>\n      <td>Connecticut</td>\n      <td>3565287</td>\n      <td>0.0059</td>\n    </tr>\n    <tr>\n      <th>7</th>\n      <td>13</td>\n      <td>DC</td>\n      <td>District of Columbia</td>\n      <td>705749</td>\n      <td>0.0184</td>\n    </tr>\n    <tr>\n      <th>8</th>\n      <td>13</td>\n      <td>DE</td>\n      <td>Delaware</td>\n      <td>973764</td>\n      <td>0.0134</td>\n    </tr>\n    <tr>\n      <th>9</th>\n      <td>350</td>\n      <td>FL</td>\n      <td>Florida</td>\n      <td>21477737</td>\n      <td>0.0163</td>\n    </tr>\n    <tr>\n      <th>10</th>\n      <td>182</td>\n      <td>GA</td>\n      <td>Georgia</td>\n      <td>10617423</td>\n      <td>0.0171</td>\n    </tr>\n    <tr>\n      <th>11</th>\n      <td>30</td>\n      <td>HI</td>\n      <td>Hawaii</td>\n      <td>1415872</td>\n      <td>0.0212</td>\n    </tr>\n    <tr>\n      <th>12</th>\n      <td>32</td>\n      <td>IA</td>\n      <td>Iowa</td>\n      <td>3155070</td>\n      <td>0.0101</td>\n    </tr>\n    <tr>\n      <th>13</th>\n      <td>42</td>\n      <td>ID</td>\n      <td>Idaho</td>\n      <td>1787065</td>\n      <td>0.0235</td>\n    </tr>\n    <tr>\n      <th>14</th>\n      <td>104</td>\n      <td>IL</td>\n      <td>Illinois</td>\n      <td>12671821</td>\n      <td>0.0082</td>\n    </tr>\n    <tr>\n      <th>15</th>\n      <td>95</td>\n      <td>IN</td>\n      <td>Indiana</td>\n      <td>6732219</td>\n      <td>0.0141</td>\n    </tr>\n    <tr>\n      <th>16</th>\n      <td>50</td>\n      <td>KS</td>\n      <td>Kansas</td>\n      <td>2913314</td>\n      <td>0.0172</td>\n    </tr>\n    <tr>\n      <th>17</th>\n      <td>95</td>\n      <td>KY</td>\n      <td>Kentucky</td>\n      <td>4467673</td>\n      <td>0.0213</td>\n    </tr>\n    <tr>\n      <th>18</th>\n      <td>109</td>\n      <td>LA</td>\n      <td>Louisiana</td>\n      <td>4648794</td>\n      <td>0.0234</td>\n    </tr>\n    <tr>\n      <th>19</th>\n      <td>35</td>\n      <td>MA</td>\n      <td>Massachusetts</td>\n      <td>6949503</td>\n      <td>0.0050</td>\n    </tr>\n    <tr>\n      <th>20</th>\n      <td>79</td>\n      <td>MD</td>\n      <td>Maryland</td>\n      <td>6045680</td>\n      <td>0.0131</td>\n    </tr>\n    <tr>\n      <th>21</th>\n      <td>22</td>\n      <td>ME</td>\n      <td>Maine</td>\n      <td>1344212</td>\n      <td>0.0164</td>\n    </tr>\n    <tr>\n      <th>22</th>\n      <td>78</td>\n      <td>MI</td>\n      <td>Michigan</td>\n      <td>9986857</td>\n      <td>0.0078</td>\n    </tr>\n    <tr>\n      <th>23</th>\n      <td>61</td>\n      <td>MN</td>\n      <td>Minnesota</td>\n      <td>5639632</td>\n      <td>0.0108</td>\n    </tr>\n    <tr>\n      <th>24</th>\n      <td>141</td>\n      <td>MO</td>\n      <td>Missouri</td>\n      <td>6137428</td>\n      <td>0.0230</td>\n    </tr>\n    <tr>\n      <th>25</th>\n      <td>65</td>\n      <td>MS</td>\n      <td>Mississippi</td>\n      <td>2976149</td>\n      <td>0.0218</td>\n    </tr>\n    <tr>\n      <th>26</th>\n      <td>31</td>\n      <td>MT</td>\n      <td>Montana</td>\n      <td>1068778</td>\n      <td>0.0290</td>\n    </tr>\n    <tr>\n      <th>27</th>\n      <td>156</td>\n      <td>NC</td>\n      <td>North Carolina</td>\n      <td>10488084</td>\n      <td>0.0149</td>\n    </tr>\n    <tr>\n      <th>28</th>\n      <td>11</td>\n      <td>ND</td>\n      <td>North Dakota</td>\n      <td>762062</td>\n      <td>0.0144</td>\n    </tr>\n    <tr>\n      <th>29</th>\n      <td>24</td>\n      <td>NE</td>\n      <td>Nebraska</td>\n      <td>1934408</td>\n      <td>0.0124</td>\n    </tr>\n    <tr>\n      <th>30</th>\n      <td>13</td>\n      <td>NH</td>\n      <td>New Hampshire</td>\n      <td>1359711</td>\n      <td>0.0096</td>\n    </tr>\n    <tr>\n      <th>31</th>\n      <td>68</td>\n      <td>NJ</td>\n      <td>New Jersey</td>\n      <td>8882190</td>\n      <td>0.0077</td>\n    </tr>\n    <tr>\n      <th>32</th>\n      <td>106</td>\n      <td>NM</td>\n      <td>New Mexico</td>\n      <td>2096829</td>\n      <td>0.0506</td>\n    </tr>\n    <tr>\n      <th>33</th>\n      <td>96</td>\n      <td>NV</td>\n      <td>Nevada</td>\n      <td>3080156</td>\n      <td>0.0312</td>\n    </tr>\n    <tr>\n      <th>34</th>\n      <td>101</td>\n      <td>NY</td>\n      <td>New York</td>\n      <td>19453561</td>\n      <td>0.0052</td>\n    </tr>\n    <tr>\n      <th>35</th>\n      <td>155</td>\n      <td>OH</td>\n      <td>Ohio</td>\n      <td>11689100</td>\n      <td>0.0133</td>\n    </tr>\n    <tr>\n      <th>36</th>\n      <td>164</td>\n      <td>OK</td>\n      <td>Oklahoma</td>\n      <td>3956971</td>\n      <td>0.0414</td>\n    </tr>\n    <tr>\n      <th>37</th>\n      <td>88</td>\n      <td>OR</td>\n      <td>Oregon</td>\n      <td>4217737</td>\n      <td>0.0209</td>\n    </tr>\n    <tr>\n      <th>38</th>\n      <td>108</td>\n      <td>PA</td>\n      <td>Pennsylvania</td>\n      <td>12801989</td>\n      <td>0.0084</td>\n    </tr>\n    <tr>\n      <th>39</th>\n      <td>4</td>\n      <td>RI</td>\n      <td>Rhode Island</td>\n      <td>1059361</td>\n      <td>0.0038</td>\n    </tr>\n    <tr>\n      <th>40</th>\n      <td>88</td>\n      <td>SC</td>\n      <td>South Carolina</td>\n      <td>5148714</td>\n      <td>0.0171</td>\n    </tr>\n    <tr>\n      <th>41</th>\n      <td>17</td>\n      <td>SD</td>\n      <td>South Dakota</td>\n      <td>884659</td>\n      <td>0.0192</td>\n    </tr>\n    <tr>\n      <th>42</th>\n      <td>139</td>\n      <td>TN</td>\n      <td>Tennessee</td>\n      <td>6833174</td>\n      <td>0.0203</td>\n    </tr>\n    <tr>\n      <th>43</th>\n      <td>481</td>\n      <td>TX</td>\n      <td>Texas</td>\n      <td>28995881</td>\n      <td>0.0166</td>\n    </tr>\n    <tr>\n      <th>44</th>\n      <td>60</td>\n      <td>UT</td>\n      <td>Utah</td>\n      <td>3205958</td>\n      <td>0.0187</td>\n    </tr>\n    <tr>\n      <th>45</th>\n      <td>95</td>\n      <td>VA</td>\n      <td>Virginia</td>\n      <td>8535519</td>\n      <td>0.0111</td>\n    </tr>\n    <tr>\n      <th>46</th>\n      <td>9</td>\n      <td>VT</td>\n      <td>Vermont</td>\n      <td>623989</td>\n      <td>0.0144</td>\n    </tr>\n    <tr>\n      <th>47</th>\n      <td>152</td>\n      <td>WA</td>\n      <td>Washington</td>\n      <td>7614893</td>\n      <td>0.0200</td>\n    </tr>\n    <tr>\n      <th>48</th>\n      <td>91</td>\n      <td>WI</td>\n      <td>Wisconsin</td>\n      <td>5822434</td>\n      <td>0.0156</td>\n    </tr>\n    <tr>\n      <th>49</th>\n      <td>54</td>\n      <td>WV</td>\n      <td>West Virginia</td>\n      <td>1792147</td>\n      <td>0.0301</td>\n    </tr>\n    <tr>\n      <th>50</th>\n      <td>14</td>\n      <td>WY</td>\n      <td>Wyoming</td>\n      <td>578759</td>\n      <td>0.0242</td>\n    </tr>\n  </tbody>\n</table>\n</div>"
     },
     "metadata": {},
     "execution_count": 35
    }
   ],
   "source": [
    "def function(x,y):\n",
    "    return round(x/y*1000, 4)\n",
    "\n",
    "crimes_ratio['No_of_incidents_per_1000_inhabitants'] = crimes_ratio.apply(lambda x: function(x.Crimes, x.Population), axis=1)\n",
    "crimes_ratio"
   ]
  },
  {
   "cell_type": "code",
   "execution_count": null,
   "metadata": {},
   "outputs": [],
   "source": []
  }
 ]
}