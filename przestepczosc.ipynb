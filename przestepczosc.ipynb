{
 "metadata": {
  "language_info": {
   "codemirror_mode": {
    "name": "ipython",
    "version": 3
   },
   "file_extension": ".py",
   "mimetype": "text/x-python",
   "name": "python",
   "nbconvert_exporter": "python",
   "pygments_lexer": "ipython3",
   "version": "3.8.3-final"
  },
  "orig_nbformat": 2,
  "kernelspec": {
   "name": "python3",
   "display_name": "Python 3"
  }
 },
 "nbformat": 4,
 "nbformat_minor": 2,
 "cells": [
  {
   "source": [
    "### Zadanie: przestępczość\n",
    "#### 1. Pobierz bazę danych dotyczącą śmiertelnych interwencji policji w USA, a następnie wczytaj ją do obiektu DataFrame."
   ],
   "cell_type": "markdown",
   "metadata": {}
  },
  {
   "cell_type": "code",
   "execution_count": 254,
   "metadata": {},
   "outputs": [
    {
     "output_type": "execute_result",
     "data": {
      "text/plain": [
       "   id                name        date  ... threat_level         flee  body_camera\n",
       "0   3          Tim Elliot  2015-01-02  ...       attack  Not fleeing        False\n",
       "1   4    Lewis Lee Lembke  2015-01-02  ...       attack  Not fleeing        False\n",
       "2   5  John Paul Quintero  2015-01-03  ...        other  Not fleeing        False\n",
       "3   8     Matthew Hoffman  2015-01-04  ...       attack  Not fleeing        False\n",
       "4   9   Michael Rodriguez  2015-01-04  ...       attack  Not fleeing        False\n",
       "\n",
       "[5 rows x 14 columns]"
      ],
      "text/html": "<div>\n<style scoped>\n    .dataframe tbody tr th:only-of-type {\n        vertical-align: middle;\n    }\n\n    .dataframe tbody tr th {\n        vertical-align: top;\n    }\n\n    .dataframe thead th {\n        text-align: right;\n    }\n</style>\n<table border=\"1\" class=\"dataframe\">\n  <thead>\n    <tr style=\"text-align: right;\">\n      <th></th>\n      <th>id</th>\n      <th>name</th>\n      <th>date</th>\n      <th>manner_of_death</th>\n      <th>armed</th>\n      <th>age</th>\n      <th>gender</th>\n      <th>race</th>\n      <th>city</th>\n      <th>state</th>\n      <th>signs_of_mental_illness</th>\n      <th>threat_level</th>\n      <th>flee</th>\n      <th>body_camera</th>\n    </tr>\n  </thead>\n  <tbody>\n    <tr>\n      <th>0</th>\n      <td>3</td>\n      <td>Tim Elliot</td>\n      <td>2015-01-02</td>\n      <td>shot</td>\n      <td>gun</td>\n      <td>53.0</td>\n      <td>M</td>\n      <td>A</td>\n      <td>Shelton</td>\n      <td>WA</td>\n      <td>True</td>\n      <td>attack</td>\n      <td>Not fleeing</td>\n      <td>False</td>\n    </tr>\n    <tr>\n      <th>1</th>\n      <td>4</td>\n      <td>Lewis Lee Lembke</td>\n      <td>2015-01-02</td>\n      <td>shot</td>\n      <td>gun</td>\n      <td>47.0</td>\n      <td>M</td>\n      <td>W</td>\n      <td>Aloha</td>\n      <td>OR</td>\n      <td>False</td>\n      <td>attack</td>\n      <td>Not fleeing</td>\n      <td>False</td>\n    </tr>\n    <tr>\n      <th>2</th>\n      <td>5</td>\n      <td>John Paul Quintero</td>\n      <td>2015-01-03</td>\n      <td>shot and Tasered</td>\n      <td>unarmed</td>\n      <td>23.0</td>\n      <td>M</td>\n      <td>H</td>\n      <td>Wichita</td>\n      <td>KS</td>\n      <td>False</td>\n      <td>other</td>\n      <td>Not fleeing</td>\n      <td>False</td>\n    </tr>\n    <tr>\n      <th>3</th>\n      <td>8</td>\n      <td>Matthew Hoffman</td>\n      <td>2015-01-04</td>\n      <td>shot</td>\n      <td>toy weapon</td>\n      <td>32.0</td>\n      <td>M</td>\n      <td>W</td>\n      <td>San Francisco</td>\n      <td>CA</td>\n      <td>True</td>\n      <td>attack</td>\n      <td>Not fleeing</td>\n      <td>False</td>\n    </tr>\n    <tr>\n      <th>4</th>\n      <td>9</td>\n      <td>Michael Rodriguez</td>\n      <td>2015-01-04</td>\n      <td>shot</td>\n      <td>nail gun</td>\n      <td>39.0</td>\n      <td>M</td>\n      <td>H</td>\n      <td>Evans</td>\n      <td>CO</td>\n      <td>False</td>\n      <td>attack</td>\n      <td>Not fleeing</td>\n      <td>False</td>\n    </tr>\n  </tbody>\n</table>\n</div>"
     },
     "metadata": {},
     "execution_count": 254
    }
   ],
   "source": [
    "import pandas as pd\n",
    "crimes = pd.read_csv('fatal-police-shootings-data.csv')\n",
    "crimes.head()"
   ]
  },
  {
   "cell_type": "code",
   "execution_count": 255,
   "metadata": {},
   "outputs": [
    {
     "output_type": "execute_result",
     "data": {
      "text/plain": [
       "pandas.core.frame.DataFrame"
      ]
     },
     "metadata": {},
     "execution_count": 255
    }
   ],
   "source": [
    "type(crimes)"
   ]
  },
  {
   "cell_type": "code",
   "execution_count": 273,
   "metadata": {},
   "outputs": [
    {
     "output_type": "execute_result",
     "data": {
      "text/plain": [
       "pandas.core.series.Series"
      ]
     },
     "metadata": {},
     "execution_count": 273
    }
   ],
   "source": [
    "type(crimes['signs_of_mental_illness'])"
   ]
  },
  {
   "cell_type": "code",
   "execution_count": 278,
   "metadata": {},
   "outputs": [
    {
     "output_type": "execute_result",
     "data": {
      "text/plain": [
       "numpy.bool_"
      ]
     },
     "metadata": {},
     "execution_count": 278
    }
   ],
   "source": [
    "type(crimes.loc[0][10])"
   ]
  },
  {
   "cell_type": "code",
   "execution_count": 256,
   "metadata": {},
   "outputs": [
    {
     "output_type": "execute_result",
     "data": {
      "text/plain": [
       "Index(['id', 'name', 'date', 'manner_of_death', 'armed', 'age', 'gender',\n",
       "       'race', 'city', 'state', 'signs_of_mental_illness', 'threat_level',\n",
       "       'flee', 'body_camera'],\n",
       "      dtype='object')"
      ]
     },
     "metadata": {},
     "execution_count": 256
    }
   ],
   "source": [
    "crimes.columns"
   ]
  },
  {
   "source": [
    "#### 2. Przekształć tabelę w taki sposób, aby wskazywała zestawienie jednocześnie liczby ofiar interwencji według rasy (‘race’) oraz tego, czy wykazywały one oznaki choroby psychicznej (‘signs_of_mental_illness’)."
   ],
   "cell_type": "markdown",
   "metadata": {}
  },
  {
   "cell_type": "code",
   "execution_count": 259,
   "metadata": {},
   "outputs": [
    {
     "output_type": "execute_result",
     "data": {
      "text/plain": [
       "                                id  name  date  ...  threat_level  flee  body_camera\n",
       "race signs_of_mental_illness                    ...                                 \n",
       "A    False                      69    69    69  ...            69    64           69\n",
       "     True                       24    24    24  ...            24    24           24\n",
       "B    False                    1114  1114  1114  ...          1114  1067         1114\n",
       "     True                      184   184   184  ...           184   181          184\n",
       "H    False                     745   745   745  ...           745   702          745\n",
       "     True                      157   157   157  ...           157   150          157\n",
       "N    False                      64    64    64  ...            64    59           64\n",
       "     True                       14    14    14  ...            14    14           14\n",
       "O    False                      37    37    37  ...            37    36           37\n",
       "     True                       11    11    11  ...            11    11           11\n",
       "W    False                    1763  1763  1763  ...          1763  1686         1763\n",
       "     True                      713   713   713  ...           713   694          713\n",
       "\n",
       "[12 rows x 12 columns]"
      ],
      "text/html": "<div>\n<style scoped>\n    .dataframe tbody tr th:only-of-type {\n        vertical-align: middle;\n    }\n\n    .dataframe tbody tr th {\n        vertical-align: top;\n    }\n\n    .dataframe thead th {\n        text-align: right;\n    }\n</style>\n<table border=\"1\" class=\"dataframe\">\n  <thead>\n    <tr style=\"text-align: right;\">\n      <th></th>\n      <th></th>\n      <th>id</th>\n      <th>name</th>\n      <th>date</th>\n      <th>manner_of_death</th>\n      <th>armed</th>\n      <th>age</th>\n      <th>gender</th>\n      <th>city</th>\n      <th>state</th>\n      <th>threat_level</th>\n      <th>flee</th>\n      <th>body_camera</th>\n    </tr>\n    <tr>\n      <th>race</th>\n      <th>signs_of_mental_illness</th>\n      <th></th>\n      <th></th>\n      <th></th>\n      <th></th>\n      <th></th>\n      <th></th>\n      <th></th>\n      <th></th>\n      <th></th>\n      <th></th>\n      <th></th>\n      <th></th>\n    </tr>\n  </thead>\n  <tbody>\n    <tr>\n      <th rowspan=\"2\" valign=\"top\">A</th>\n      <th>False</th>\n      <td>69</td>\n      <td>69</td>\n      <td>69</td>\n      <td>69</td>\n      <td>66</td>\n      <td>67</td>\n      <td>69</td>\n      <td>69</td>\n      <td>69</td>\n      <td>69</td>\n      <td>64</td>\n      <td>69</td>\n    </tr>\n    <tr>\n      <th>True</th>\n      <td>24</td>\n      <td>24</td>\n      <td>24</td>\n      <td>24</td>\n      <td>24</td>\n      <td>24</td>\n      <td>24</td>\n      <td>24</td>\n      <td>24</td>\n      <td>24</td>\n      <td>24</td>\n      <td>24</td>\n    </tr>\n    <tr>\n      <th rowspan=\"2\" valign=\"top\">B</th>\n      <th>False</th>\n      <td>1114</td>\n      <td>1114</td>\n      <td>1114</td>\n      <td>1114</td>\n      <td>1054</td>\n      <td>1096</td>\n      <td>1114</td>\n      <td>1114</td>\n      <td>1114</td>\n      <td>1114</td>\n      <td>1067</td>\n      <td>1114</td>\n    </tr>\n    <tr>\n      <th>True</th>\n      <td>184</td>\n      <td>184</td>\n      <td>184</td>\n      <td>184</td>\n      <td>180</td>\n      <td>178</td>\n      <td>184</td>\n      <td>184</td>\n      <td>184</td>\n      <td>184</td>\n      <td>181</td>\n      <td>184</td>\n    </tr>\n    <tr>\n      <th rowspan=\"2\" valign=\"top\">H</th>\n      <th>False</th>\n      <td>745</td>\n      <td>745</td>\n      <td>745</td>\n      <td>745</td>\n      <td>702</td>\n      <td>723</td>\n      <td>745</td>\n      <td>745</td>\n      <td>745</td>\n      <td>745</td>\n      <td>702</td>\n      <td>745</td>\n    </tr>\n    <tr>\n      <th>True</th>\n      <td>157</td>\n      <td>157</td>\n      <td>157</td>\n      <td>157</td>\n      <td>155</td>\n      <td>155</td>\n      <td>157</td>\n      <td>157</td>\n      <td>157</td>\n      <td>157</td>\n      <td>150</td>\n      <td>157</td>\n    </tr>\n    <tr>\n      <th rowspan=\"2\" valign=\"top\">N</th>\n      <th>False</th>\n      <td>64</td>\n      <td>64</td>\n      <td>64</td>\n      <td>64</td>\n      <td>61</td>\n      <td>63</td>\n      <td>64</td>\n      <td>64</td>\n      <td>64</td>\n      <td>64</td>\n      <td>59</td>\n      <td>64</td>\n    </tr>\n    <tr>\n      <th>True</th>\n      <td>14</td>\n      <td>14</td>\n      <td>14</td>\n      <td>14</td>\n      <td>14</td>\n      <td>14</td>\n      <td>14</td>\n      <td>14</td>\n      <td>14</td>\n      <td>14</td>\n      <td>14</td>\n      <td>14</td>\n    </tr>\n    <tr>\n      <th rowspan=\"2\" valign=\"top\">O</th>\n      <th>False</th>\n      <td>37</td>\n      <td>37</td>\n      <td>37</td>\n      <td>37</td>\n      <td>34</td>\n      <td>36</td>\n      <td>37</td>\n      <td>37</td>\n      <td>37</td>\n      <td>37</td>\n      <td>36</td>\n      <td>37</td>\n    </tr>\n    <tr>\n      <th>True</th>\n      <td>11</td>\n      <td>11</td>\n      <td>11</td>\n      <td>11</td>\n      <td>11</td>\n      <td>11</td>\n      <td>11</td>\n      <td>11</td>\n      <td>11</td>\n      <td>11</td>\n      <td>11</td>\n      <td>11</td>\n    </tr>\n    <tr>\n      <th rowspan=\"2\" valign=\"top\">W</th>\n      <th>False</th>\n      <td>1763</td>\n      <td>1763</td>\n      <td>1763</td>\n      <td>1763</td>\n      <td>1677</td>\n      <td>1738</td>\n      <td>1763</td>\n      <td>1763</td>\n      <td>1763</td>\n      <td>1763</td>\n      <td>1686</td>\n      <td>1763</td>\n    </tr>\n    <tr>\n      <th>True</th>\n      <td>713</td>\n      <td>713</td>\n      <td>713</td>\n      <td>713</td>\n      <td>700</td>\n      <td>705</td>\n      <td>712</td>\n      <td>713</td>\n      <td>713</td>\n      <td>713</td>\n      <td>694</td>\n      <td>713</td>\n    </tr>\n  </tbody>\n</table>\n</div>"
     },
     "metadata": {},
     "execution_count": 259
    }
   ],
   "source": [
    "import numpy as np\n",
    "df = crimes.groupby(['race','signs_of_mental_illness']).count()\n",
    "df"
   ]
  },
  {
   "cell_type": "code",
   "execution_count": 280,
   "metadata": {},
   "outputs": [
    {
     "output_type": "execute_result",
     "data": {
      "text/plain": [
       "id                 24\n",
       "name               24\n",
       "date               24\n",
       "manner_of_death    24\n",
       "armed              24\n",
       "age                24\n",
       "gender             24\n",
       "city               24\n",
       "state              24\n",
       "threat_level       24\n",
       "flee               24\n",
       "body_camera        24\n",
       "Name: True, dtype: int64"
      ]
     },
     "metadata": {},
     "execution_count": 280
    }
   ],
   "source": [
    "df.loc['A'].iloc[1]"
   ]
  },
  {
   "cell_type": "code",
   "execution_count": 281,
   "metadata": {},
   "outputs": [
    {
     "output_type": "execute_result",
     "data": {
      "text/plain": [
       "                                id\n",
       "race signs_of_mental_illness      \n",
       "A    False                      69\n",
       "     True                       24\n",
       "B    False                    1114\n",
       "     True                      184\n",
       "H    False                     745\n",
       "     True                      157\n",
       "N    False                      64\n",
       "     True                       14\n",
       "O    False                      37\n",
       "     True                       11\n",
       "W    False                    1763\n",
       "     True                      713"
      ],
      "text/html": "<div>\n<style scoped>\n    .dataframe tbody tr th:only-of-type {\n        vertical-align: middle;\n    }\n\n    .dataframe tbody tr th {\n        vertical-align: top;\n    }\n\n    .dataframe thead th {\n        text-align: right;\n    }\n</style>\n<table border=\"1\" class=\"dataframe\">\n  <thead>\n    <tr style=\"text-align: right;\">\n      <th></th>\n      <th></th>\n      <th>id</th>\n    </tr>\n    <tr>\n      <th>race</th>\n      <th>signs_of_mental_illness</th>\n      <th></th>\n    </tr>\n  </thead>\n  <tbody>\n    <tr>\n      <th rowspan=\"2\" valign=\"top\">A</th>\n      <th>False</th>\n      <td>69</td>\n    </tr>\n    <tr>\n      <th>True</th>\n      <td>24</td>\n    </tr>\n    <tr>\n      <th rowspan=\"2\" valign=\"top\">B</th>\n      <th>False</th>\n      <td>1114</td>\n    </tr>\n    <tr>\n      <th>True</th>\n      <td>184</td>\n    </tr>\n    <tr>\n      <th rowspan=\"2\" valign=\"top\">H</th>\n      <th>False</th>\n      <td>745</td>\n    </tr>\n    <tr>\n      <th>True</th>\n      <td>157</td>\n    </tr>\n    <tr>\n      <th rowspan=\"2\" valign=\"top\">N</th>\n      <th>False</th>\n      <td>64</td>\n    </tr>\n    <tr>\n      <th>True</th>\n      <td>14</td>\n    </tr>\n    <tr>\n      <th rowspan=\"2\" valign=\"top\">O</th>\n      <th>False</th>\n      <td>37</td>\n    </tr>\n    <tr>\n      <th>True</th>\n      <td>11</td>\n    </tr>\n    <tr>\n      <th rowspan=\"2\" valign=\"top\">W</th>\n      <th>False</th>\n      <td>1763</td>\n    </tr>\n    <tr>\n      <th>True</th>\n      <td>713</td>\n    </tr>\n  </tbody>\n</table>\n</div>"
     },
     "metadata": {},
     "execution_count": 281
    }
   ],
   "source": [
    "df.drop(['name', 'date', 'manner_of_death', 'armed', 'age', 'gender', 'city', 'state', 'threat_level', 'flee', 'body_camera'], axis=1, inplace=True)\n",
    "df"
   ]
  },
  {
   "cell_type": "code",
   "execution_count": 282,
   "metadata": {},
   "outputs": [
    {
     "output_type": "execute_result",
     "data": {
      "text/plain": [
       "                              volume\n",
       "race signs_of_mental_illness        \n",
       "A    False                        69\n",
       "     True                         24\n",
       "B    False                      1114\n",
       "     True                        184\n",
       "H    False                       745\n",
       "     True                        157\n",
       "N    False                        64\n",
       "     True                         14\n",
       "O    False                        37\n",
       "     True                         11\n",
       "W    False                      1763\n",
       "     True                        713"
      ],
      "text/html": "<div>\n<style scoped>\n    .dataframe tbody tr th:only-of-type {\n        vertical-align: middle;\n    }\n\n    .dataframe tbody tr th {\n        vertical-align: top;\n    }\n\n    .dataframe thead th {\n        text-align: right;\n    }\n</style>\n<table border=\"1\" class=\"dataframe\">\n  <thead>\n    <tr style=\"text-align: right;\">\n      <th></th>\n      <th></th>\n      <th>volume</th>\n    </tr>\n    <tr>\n      <th>race</th>\n      <th>signs_of_mental_illness</th>\n      <th></th>\n    </tr>\n  </thead>\n  <tbody>\n    <tr>\n      <th rowspan=\"2\" valign=\"top\">A</th>\n      <th>False</th>\n      <td>69</td>\n    </tr>\n    <tr>\n      <th>True</th>\n      <td>24</td>\n    </tr>\n    <tr>\n      <th rowspan=\"2\" valign=\"top\">B</th>\n      <th>False</th>\n      <td>1114</td>\n    </tr>\n    <tr>\n      <th>True</th>\n      <td>184</td>\n    </tr>\n    <tr>\n      <th rowspan=\"2\" valign=\"top\">H</th>\n      <th>False</th>\n      <td>745</td>\n    </tr>\n    <tr>\n      <th>True</th>\n      <td>157</td>\n    </tr>\n    <tr>\n      <th rowspan=\"2\" valign=\"top\">N</th>\n      <th>False</th>\n      <td>64</td>\n    </tr>\n    <tr>\n      <th>True</th>\n      <td>14</td>\n    </tr>\n    <tr>\n      <th rowspan=\"2\" valign=\"top\">O</th>\n      <th>False</th>\n      <td>37</td>\n    </tr>\n    <tr>\n      <th>True</th>\n      <td>11</td>\n    </tr>\n    <tr>\n      <th rowspan=\"2\" valign=\"top\">W</th>\n      <th>False</th>\n      <td>1763</td>\n    </tr>\n    <tr>\n      <th>True</th>\n      <td>713</td>\n    </tr>\n  </tbody>\n</table>\n</div>"
     },
     "metadata": {},
     "execution_count": 282
    }
   ],
   "source": [
    "df.rename(columns={\"id\": \"volume\"}, inplace=True)\n",
    "df"
   ]
  },
  {
   "cell_type": "code",
   "execution_count": 285,
   "metadata": {},
   "outputs": [
    {
     "output_type": "execute_result",
     "data": {
      "text/plain": [
       "        id  name  date  ...  threat_level  flee  body_camera\n",
       "race                    ...                                 \n",
       "A       93    93    93  ...            93    88           93\n",
       "B     1298  1298  1298  ...          1298  1248         1298\n",
       "H      902   902   902  ...           902   852          902\n",
       "N       78    78    78  ...            78    73           78\n",
       "O       48    48    48  ...            48    47           48\n",
       "W     2476  2476  2476  ...          2476  2380         2476\n",
       "\n",
       "[6 rows x 13 columns]"
      ],
      "text/html": "<div>\n<style scoped>\n    .dataframe tbody tr th:only-of-type {\n        vertical-align: middle;\n    }\n\n    .dataframe tbody tr th {\n        vertical-align: top;\n    }\n\n    .dataframe thead th {\n        text-align: right;\n    }\n</style>\n<table border=\"1\" class=\"dataframe\">\n  <thead>\n    <tr style=\"text-align: right;\">\n      <th></th>\n      <th>id</th>\n      <th>name</th>\n      <th>date</th>\n      <th>manner_of_death</th>\n      <th>armed</th>\n      <th>age</th>\n      <th>gender</th>\n      <th>city</th>\n      <th>state</th>\n      <th>signs_of_mental_illness</th>\n      <th>threat_level</th>\n      <th>flee</th>\n      <th>body_camera</th>\n    </tr>\n    <tr>\n      <th>race</th>\n      <th></th>\n      <th></th>\n      <th></th>\n      <th></th>\n      <th></th>\n      <th></th>\n      <th></th>\n      <th></th>\n      <th></th>\n      <th></th>\n      <th></th>\n      <th></th>\n      <th></th>\n    </tr>\n  </thead>\n  <tbody>\n    <tr>\n      <th>A</th>\n      <td>93</td>\n      <td>93</td>\n      <td>93</td>\n      <td>93</td>\n      <td>90</td>\n      <td>91</td>\n      <td>93</td>\n      <td>93</td>\n      <td>93</td>\n      <td>93</td>\n      <td>93</td>\n      <td>88</td>\n      <td>93</td>\n    </tr>\n    <tr>\n      <th>B</th>\n      <td>1298</td>\n      <td>1298</td>\n      <td>1298</td>\n      <td>1298</td>\n      <td>1234</td>\n      <td>1274</td>\n      <td>1298</td>\n      <td>1298</td>\n      <td>1298</td>\n      <td>1298</td>\n      <td>1298</td>\n      <td>1248</td>\n      <td>1298</td>\n    </tr>\n    <tr>\n      <th>H</th>\n      <td>902</td>\n      <td>902</td>\n      <td>902</td>\n      <td>902</td>\n      <td>857</td>\n      <td>878</td>\n      <td>902</td>\n      <td>902</td>\n      <td>902</td>\n      <td>902</td>\n      <td>902</td>\n      <td>852</td>\n      <td>902</td>\n    </tr>\n    <tr>\n      <th>N</th>\n      <td>78</td>\n      <td>78</td>\n      <td>78</td>\n      <td>78</td>\n      <td>75</td>\n      <td>77</td>\n      <td>78</td>\n      <td>78</td>\n      <td>78</td>\n      <td>78</td>\n      <td>78</td>\n      <td>73</td>\n      <td>78</td>\n    </tr>\n    <tr>\n      <th>O</th>\n      <td>48</td>\n      <td>48</td>\n      <td>48</td>\n      <td>48</td>\n      <td>45</td>\n      <td>47</td>\n      <td>48</td>\n      <td>48</td>\n      <td>48</td>\n      <td>48</td>\n      <td>48</td>\n      <td>47</td>\n      <td>48</td>\n    </tr>\n    <tr>\n      <th>W</th>\n      <td>2476</td>\n      <td>2476</td>\n      <td>2476</td>\n      <td>2476</td>\n      <td>2377</td>\n      <td>2443</td>\n      <td>2475</td>\n      <td>2476</td>\n      <td>2476</td>\n      <td>2476</td>\n      <td>2476</td>\n      <td>2380</td>\n      <td>2476</td>\n    </tr>\n  </tbody>\n</table>\n</div>"
     },
     "metadata": {},
     "execution_count": 285
    }
   ],
   "source": [
    "df1 = crimes.groupby('race').count()\n",
    "df1"
   ]
  },
  {
   "cell_type": "code",
   "execution_count": 286,
   "metadata": {},
   "outputs": [
    {
     "output_type": "execute_result",
     "data": {
      "text/plain": [
       "        id\n",
       "race      \n",
       "A       93\n",
       "B     1298\n",
       "H      902\n",
       "N       78\n",
       "O       48\n",
       "W     2476"
      ],
      "text/html": "<div>\n<style scoped>\n    .dataframe tbody tr th:only-of-type {\n        vertical-align: middle;\n    }\n\n    .dataframe tbody tr th {\n        vertical-align: top;\n    }\n\n    .dataframe thead th {\n        text-align: right;\n    }\n</style>\n<table border=\"1\" class=\"dataframe\">\n  <thead>\n    <tr style=\"text-align: right;\">\n      <th></th>\n      <th>id</th>\n    </tr>\n    <tr>\n      <th>race</th>\n      <th></th>\n    </tr>\n  </thead>\n  <tbody>\n    <tr>\n      <th>A</th>\n      <td>93</td>\n    </tr>\n    <tr>\n      <th>B</th>\n      <td>1298</td>\n    </tr>\n    <tr>\n      <th>H</th>\n      <td>902</td>\n    </tr>\n    <tr>\n      <th>N</th>\n      <td>78</td>\n    </tr>\n    <tr>\n      <th>O</th>\n      <td>48</td>\n    </tr>\n    <tr>\n      <th>W</th>\n      <td>2476</td>\n    </tr>\n  </tbody>\n</table>\n</div>"
     },
     "metadata": {},
     "execution_count": 286
    }
   ],
   "source": [
    "df1 = pd.DataFrame(df1['id'])\n",
    "df1"
   ]
  },
  {
   "cell_type": "code",
   "execution_count": 291,
   "metadata": {},
   "outputs": [
    {
     "output_type": "execute_result",
     "data": {
      "text/plain": [
       "                              volume    id\n",
       "race signs_of_mental_illness              \n",
       "A    False                        69    93\n",
       "     True                         24    93\n",
       "B    False                      1114  1298\n",
       "     True                        184  1298\n",
       "H    False                       745   902\n",
       "     True                        157   902\n",
       "N    False                        64    78\n",
       "     True                         14    78\n",
       "O    False                        37    48\n",
       "     True                         11    48\n",
       "W    False                      1763  2476\n",
       "     True                        713  2476"
      ],
      "text/html": "<div>\n<style scoped>\n    .dataframe tbody tr th:only-of-type {\n        vertical-align: middle;\n    }\n\n    .dataframe tbody tr th {\n        vertical-align: top;\n    }\n\n    .dataframe thead th {\n        text-align: right;\n    }\n</style>\n<table border=\"1\" class=\"dataframe\">\n  <thead>\n    <tr style=\"text-align: right;\">\n      <th></th>\n      <th></th>\n      <th>volume</th>\n      <th>id</th>\n    </tr>\n    <tr>\n      <th>race</th>\n      <th>signs_of_mental_illness</th>\n      <th></th>\n      <th></th>\n    </tr>\n  </thead>\n  <tbody>\n    <tr>\n      <th rowspan=\"2\" valign=\"top\">A</th>\n      <th>False</th>\n      <td>69</td>\n      <td>93</td>\n    </tr>\n    <tr>\n      <th>True</th>\n      <td>24</td>\n      <td>93</td>\n    </tr>\n    <tr>\n      <th rowspan=\"2\" valign=\"top\">B</th>\n      <th>False</th>\n      <td>1114</td>\n      <td>1298</td>\n    </tr>\n    <tr>\n      <th>True</th>\n      <td>184</td>\n      <td>1298</td>\n    </tr>\n    <tr>\n      <th rowspan=\"2\" valign=\"top\">H</th>\n      <th>False</th>\n      <td>745</td>\n      <td>902</td>\n    </tr>\n    <tr>\n      <th>True</th>\n      <td>157</td>\n      <td>902</td>\n    </tr>\n    <tr>\n      <th rowspan=\"2\" valign=\"top\">N</th>\n      <th>False</th>\n      <td>64</td>\n      <td>78</td>\n    </tr>\n    <tr>\n      <th>True</th>\n      <td>14</td>\n      <td>78</td>\n    </tr>\n    <tr>\n      <th rowspan=\"2\" valign=\"top\">O</th>\n      <th>False</th>\n      <td>37</td>\n      <td>48</td>\n    </tr>\n    <tr>\n      <th>True</th>\n      <td>11</td>\n      <td>48</td>\n    </tr>\n    <tr>\n      <th rowspan=\"2\" valign=\"top\">W</th>\n      <th>False</th>\n      <td>1763</td>\n      <td>2476</td>\n    </tr>\n    <tr>\n      <th>True</th>\n      <td>713</td>\n      <td>2476</td>\n    </tr>\n  </tbody>\n</table>\n</div>"
     },
     "metadata": {},
     "execution_count": 291
    }
   ],
   "source": [
    "df = df.join(df1)\n",
    "df"
   ]
  },
  {
   "cell_type": "code",
   "execution_count": 292,
   "metadata": {},
   "outputs": [
    {
     "output_type": "execute_result",
     "data": {
      "text/plain": [
       "                              volume  total\n",
       "race signs_of_mental_illness               \n",
       "A    False                        69     93\n",
       "     True                         24     93\n",
       "B    False                      1114   1298\n",
       "     True                        184   1298\n",
       "H    False                       745    902\n",
       "     True                        157    902\n",
       "N    False                        64     78\n",
       "     True                         14     78\n",
       "O    False                        37     48\n",
       "     True                         11     48\n",
       "W    False                      1763   2476\n",
       "     True                        713   2476"
      ],
      "text/html": "<div>\n<style scoped>\n    .dataframe tbody tr th:only-of-type {\n        vertical-align: middle;\n    }\n\n    .dataframe tbody tr th {\n        vertical-align: top;\n    }\n\n    .dataframe thead th {\n        text-align: right;\n    }\n</style>\n<table border=\"1\" class=\"dataframe\">\n  <thead>\n    <tr style=\"text-align: right;\">\n      <th></th>\n      <th></th>\n      <th>volume</th>\n      <th>total</th>\n    </tr>\n    <tr>\n      <th>race</th>\n      <th>signs_of_mental_illness</th>\n      <th></th>\n      <th></th>\n    </tr>\n  </thead>\n  <tbody>\n    <tr>\n      <th rowspan=\"2\" valign=\"top\">A</th>\n      <th>False</th>\n      <td>69</td>\n      <td>93</td>\n    </tr>\n    <tr>\n      <th>True</th>\n      <td>24</td>\n      <td>93</td>\n    </tr>\n    <tr>\n      <th rowspan=\"2\" valign=\"top\">B</th>\n      <th>False</th>\n      <td>1114</td>\n      <td>1298</td>\n    </tr>\n    <tr>\n      <th>True</th>\n      <td>184</td>\n      <td>1298</td>\n    </tr>\n    <tr>\n      <th rowspan=\"2\" valign=\"top\">H</th>\n      <th>False</th>\n      <td>745</td>\n      <td>902</td>\n    </tr>\n    <tr>\n      <th>True</th>\n      <td>157</td>\n      <td>902</td>\n    </tr>\n    <tr>\n      <th rowspan=\"2\" valign=\"top\">N</th>\n      <th>False</th>\n      <td>64</td>\n      <td>78</td>\n    </tr>\n    <tr>\n      <th>True</th>\n      <td>14</td>\n      <td>78</td>\n    </tr>\n    <tr>\n      <th rowspan=\"2\" valign=\"top\">O</th>\n      <th>False</th>\n      <td>37</td>\n      <td>48</td>\n    </tr>\n    <tr>\n      <th>True</th>\n      <td>11</td>\n      <td>48</td>\n    </tr>\n    <tr>\n      <th rowspan=\"2\" valign=\"top\">W</th>\n      <th>False</th>\n      <td>1763</td>\n      <td>2476</td>\n    </tr>\n    <tr>\n      <th>True</th>\n      <td>713</td>\n      <td>2476</td>\n    </tr>\n  </tbody>\n</table>\n</div>"
     },
     "metadata": {},
     "execution_count": 292
    }
   ],
   "source": [
    "df.rename(columns={\"id\": \"total\"}, inplace=True)\n",
    "df"
   ]
  },
  {
   "source": [
    "#### 3. Za pomocą Map, Applymap lub Apply dodaj do tego zestawienia kolumnę wskazującą jaki odsetek ofiar interwencji wykazywało oznaki choroby psychicznej dla każdej z ras. Odpowiedz, która z nich charakteryzuje się największym odsetkiem znamion choroby psychicznej podczas interwencji."
   ],
   "cell_type": "markdown",
   "metadata": {}
  },
  {
   "cell_type": "code",
   "execution_count": 293,
   "metadata": {},
   "outputs": [
    {
     "output_type": "execute_result",
     "data": {
      "text/plain": [
       "                              volume  total  percentage\n",
       "race signs_of_mental_illness                           \n",
       "A    False                        69     93   74.193548\n",
       "     True                         24     93   25.806452\n",
       "B    False                      1114   1298   85.824345\n",
       "     True                        184   1298   14.175655\n",
       "H    False                       745    902   82.594235\n",
       "     True                        157    902   17.405765\n",
       "N    False                        64     78   82.051282\n",
       "     True                         14     78   17.948718\n",
       "O    False                        37     48   77.083333\n",
       "     True                         11     48   22.916667\n",
       "W    False                      1763   2476   71.203554\n",
       "     True                        713   2476   28.796446"
      ],
      "text/html": "<div>\n<style scoped>\n    .dataframe tbody tr th:only-of-type {\n        vertical-align: middle;\n    }\n\n    .dataframe tbody tr th {\n        vertical-align: top;\n    }\n\n    .dataframe thead th {\n        text-align: right;\n    }\n</style>\n<table border=\"1\" class=\"dataframe\">\n  <thead>\n    <tr style=\"text-align: right;\">\n      <th></th>\n      <th></th>\n      <th>volume</th>\n      <th>total</th>\n      <th>percentage</th>\n    </tr>\n    <tr>\n      <th>race</th>\n      <th>signs_of_mental_illness</th>\n      <th></th>\n      <th></th>\n      <th></th>\n    </tr>\n  </thead>\n  <tbody>\n    <tr>\n      <th rowspan=\"2\" valign=\"top\">A</th>\n      <th>False</th>\n      <td>69</td>\n      <td>93</td>\n      <td>74.193548</td>\n    </tr>\n    <tr>\n      <th>True</th>\n      <td>24</td>\n      <td>93</td>\n      <td>25.806452</td>\n    </tr>\n    <tr>\n      <th rowspan=\"2\" valign=\"top\">B</th>\n      <th>False</th>\n      <td>1114</td>\n      <td>1298</td>\n      <td>85.824345</td>\n    </tr>\n    <tr>\n      <th>True</th>\n      <td>184</td>\n      <td>1298</td>\n      <td>14.175655</td>\n    </tr>\n    <tr>\n      <th rowspan=\"2\" valign=\"top\">H</th>\n      <th>False</th>\n      <td>745</td>\n      <td>902</td>\n      <td>82.594235</td>\n    </tr>\n    <tr>\n      <th>True</th>\n      <td>157</td>\n      <td>902</td>\n      <td>17.405765</td>\n    </tr>\n    <tr>\n      <th rowspan=\"2\" valign=\"top\">N</th>\n      <th>False</th>\n      <td>64</td>\n      <td>78</td>\n      <td>82.051282</td>\n    </tr>\n    <tr>\n      <th>True</th>\n      <td>14</td>\n      <td>78</td>\n      <td>17.948718</td>\n    </tr>\n    <tr>\n      <th rowspan=\"2\" valign=\"top\">O</th>\n      <th>False</th>\n      <td>37</td>\n      <td>48</td>\n      <td>77.083333</td>\n    </tr>\n    <tr>\n      <th>True</th>\n      <td>11</td>\n      <td>48</td>\n      <td>22.916667</td>\n    </tr>\n    <tr>\n      <th rowspan=\"2\" valign=\"top\">W</th>\n      <th>False</th>\n      <td>1763</td>\n      <td>2476</td>\n      <td>71.203554</td>\n    </tr>\n    <tr>\n      <th>True</th>\n      <td>713</td>\n      <td>2476</td>\n      <td>28.796446</td>\n    </tr>\n  </tbody>\n</table>\n</div>"
     },
     "metadata": {},
     "execution_count": 293
    }
   ],
   "source": [
    "df['percentage'] = df.apply(lambda row: row.volume/row.total*100, axis=1)\n",
    "df"
   ]
  },
  {
   "cell_type": "code",
   "execution_count": 294,
   "metadata": {},
   "outputs": [
    {
     "output_type": "execute_result",
     "data": {
      "text/plain": [
       "                              volume  total  percentage\n",
       "race signs_of_mental_illness                           \n",
       "A    False                        69     93       74.19\n",
       "     True                         24     93       25.81\n",
       "B    False                      1114   1298       85.82\n",
       "     True                        184   1298       14.18\n",
       "H    False                       745    902       82.59\n",
       "     True                        157    902       17.41\n",
       "N    False                        64     78       82.05\n",
       "     True                         14     78       17.95\n",
       "O    False                        37     48       77.08\n",
       "     True                         11     48       22.92\n",
       "W    False                      1763   2476       71.20\n",
       "     True                        713   2476       28.80"
      ],
      "text/html": "<div>\n<style scoped>\n    .dataframe tbody tr th:only-of-type {\n        vertical-align: middle;\n    }\n\n    .dataframe tbody tr th {\n        vertical-align: top;\n    }\n\n    .dataframe thead th {\n        text-align: right;\n    }\n</style>\n<table border=\"1\" class=\"dataframe\">\n  <thead>\n    <tr style=\"text-align: right;\">\n      <th></th>\n      <th></th>\n      <th>volume</th>\n      <th>total</th>\n      <th>percentage</th>\n    </tr>\n    <tr>\n      <th>race</th>\n      <th>signs_of_mental_illness</th>\n      <th></th>\n      <th></th>\n      <th></th>\n    </tr>\n  </thead>\n  <tbody>\n    <tr>\n      <th rowspan=\"2\" valign=\"top\">A</th>\n      <th>False</th>\n      <td>69</td>\n      <td>93</td>\n      <td>74.19</td>\n    </tr>\n    <tr>\n      <th>True</th>\n      <td>24</td>\n      <td>93</td>\n      <td>25.81</td>\n    </tr>\n    <tr>\n      <th rowspan=\"2\" valign=\"top\">B</th>\n      <th>False</th>\n      <td>1114</td>\n      <td>1298</td>\n      <td>85.82</td>\n    </tr>\n    <tr>\n      <th>True</th>\n      <td>184</td>\n      <td>1298</td>\n      <td>14.18</td>\n    </tr>\n    <tr>\n      <th rowspan=\"2\" valign=\"top\">H</th>\n      <th>False</th>\n      <td>745</td>\n      <td>902</td>\n      <td>82.59</td>\n    </tr>\n    <tr>\n      <th>True</th>\n      <td>157</td>\n      <td>902</td>\n      <td>17.41</td>\n    </tr>\n    <tr>\n      <th rowspan=\"2\" valign=\"top\">N</th>\n      <th>False</th>\n      <td>64</td>\n      <td>78</td>\n      <td>82.05</td>\n    </tr>\n    <tr>\n      <th>True</th>\n      <td>14</td>\n      <td>78</td>\n      <td>17.95</td>\n    </tr>\n    <tr>\n      <th rowspan=\"2\" valign=\"top\">O</th>\n      <th>False</th>\n      <td>37</td>\n      <td>48</td>\n      <td>77.08</td>\n    </tr>\n    <tr>\n      <th>True</th>\n      <td>11</td>\n      <td>48</td>\n      <td>22.92</td>\n    </tr>\n    <tr>\n      <th rowspan=\"2\" valign=\"top\">W</th>\n      <th>False</th>\n      <td>1763</td>\n      <td>2476</td>\n      <td>71.20</td>\n    </tr>\n    <tr>\n      <th>True</th>\n      <td>713</td>\n      <td>2476</td>\n      <td>28.80</td>\n    </tr>\n  </tbody>\n</table>\n</div>"
     },
     "metadata": {},
     "execution_count": 294
    }
   ],
   "source": [
    "df.percentage = df.percentage.round(2)\n",
    "df"
   ]
  },
  {
   "cell_type": "code",
   "execution_count": 298,
   "metadata": {},
   "outputs": [
    {
     "output_type": "execute_result",
     "data": {
      "text/plain": [
       "                         volume  total  percentage\n",
       "signs_of_mental_illness                           \n",
       "False                      1763   2476       85.82\n",
       "True                        713   2476       28.80"
      ],
      "text/html": "<div>\n<style scoped>\n    .dataframe tbody tr th:only-of-type {\n        vertical-align: middle;\n    }\n\n    .dataframe tbody tr th {\n        vertical-align: top;\n    }\n\n    .dataframe thead th {\n        text-align: right;\n    }\n</style>\n<table border=\"1\" class=\"dataframe\">\n  <thead>\n    <tr style=\"text-align: right;\">\n      <th></th>\n      <th>volume</th>\n      <th>total</th>\n      <th>percentage</th>\n    </tr>\n    <tr>\n      <th>signs_of_mental_illness</th>\n      <th></th>\n      <th></th>\n      <th></th>\n    </tr>\n  </thead>\n  <tbody>\n    <tr>\n      <th>False</th>\n      <td>1763</td>\n      <td>2476</td>\n      <td>85.82</td>\n    </tr>\n    <tr>\n      <th>True</th>\n      <td>713</td>\n      <td>2476</td>\n      <td>28.80</td>\n    </tr>\n  </tbody>\n</table>\n</div>"
     },
     "metadata": {},
     "execution_count": 298
    }
   ],
   "source": [
    "df.max(level=1)"
   ]
  },
  {
   "cell_type": "code",
   "execution_count": 302,
   "metadata": {},
   "outputs": [
    {
     "output_type": "execute_result",
     "data": {
      "text/plain": [
       "signs_of_mental_illness\n",
       "False    85.82\n",
       "True     28.80\n",
       "Name: percentage, dtype: float64"
      ]
     },
     "metadata": {},
     "execution_count": 302
    }
   ],
   "source": [
    "df.percentage.max(level=1)"
   ]
  },
  {
   "cell_type": "code",
   "execution_count": 308,
   "metadata": {},
   "outputs": [
    {
     "output_type": "execute_result",
     "data": {
      "text/plain": [
       "                              volume  total  percentage\n",
       "race signs_of_mental_illness                           \n",
       "W    True                        713   2476        28.8"
      ],
      "text/html": "<div>\n<style scoped>\n    .dataframe tbody tr th:only-of-type {\n        vertical-align: middle;\n    }\n\n    .dataframe tbody tr th {\n        vertical-align: top;\n    }\n\n    .dataframe thead th {\n        text-align: right;\n    }\n</style>\n<table border=\"1\" class=\"dataframe\">\n  <thead>\n    <tr style=\"text-align: right;\">\n      <th></th>\n      <th></th>\n      <th>volume</th>\n      <th>total</th>\n      <th>percentage</th>\n    </tr>\n    <tr>\n      <th>race</th>\n      <th>signs_of_mental_illness</th>\n      <th></th>\n      <th></th>\n      <th></th>\n    </tr>\n  </thead>\n  <tbody>\n    <tr>\n      <th>W</th>\n      <th>True</th>\n      <td>713</td>\n      <td>2476</td>\n      <td>28.8</td>\n    </tr>\n  </tbody>\n</table>\n</div>"
     },
     "metadata": {},
     "execution_count": 308
    }
   ],
   "source": [
    "df[df['percentage'] == 28.80]"
   ]
  },
  {
   "source": [
    "Otrzymany wynik oznacza, że to wśród białych osób było procentowo najwięcej ofiar interwencji wykazujących oznaki choroby psychicznej."
   ],
   "cell_type": "markdown",
   "metadata": {}
  },
  {
   "source": [
    "#### 4. Dodaj kolumnę oznaczającą dzień tygodnia, w którym doszło do interwencji. Zlicz interwencje według odpowiedniego dnia tygodnia. Następnie stwórz wykres kolumnowy, tak aby dni tygodnia były uszeregowane od poniedziałku do niedzieli."
   ],
   "cell_type": "markdown",
   "metadata": {}
  },
  {
   "cell_type": "code",
   "execution_count": 153,
   "metadata": {},
   "outputs": [
    {
     "output_type": "execute_result",
     "data": {
      "text/plain": [
       "str"
      ]
     },
     "metadata": {},
     "execution_count": 153
    }
   ],
   "source": [
    "type(crimes['date'][1])"
   ]
  },
  {
   "cell_type": "code",
   "execution_count": 154,
   "metadata": {},
   "outputs": [
    {
     "output_type": "execute_result",
     "data": {
      "text/plain": [
       "'2015-01-02'"
      ]
     },
     "metadata": {},
     "execution_count": 154
    }
   ],
   "source": [
    "crimes['date'][1]"
   ]
  },
  {
   "cell_type": "code",
   "execution_count": 155,
   "metadata": {},
   "outputs": [],
   "source": [
    "crimes['date'] = pd.to_datetime(crimes['date'])"
   ]
  },
  {
   "cell_type": "code",
   "execution_count": 156,
   "metadata": {},
   "outputs": [
    {
     "output_type": "execute_result",
     "data": {
      "text/plain": [
       "Timestamp('2015-01-02 00:00:00')"
      ]
     },
     "metadata": {},
     "execution_count": 156
    }
   ],
   "source": [
    "crimes['date'][1]"
   ]
  },
  {
   "cell_type": "code",
   "execution_count": 157,
   "metadata": {},
   "outputs": [
    {
     "output_type": "execute_result",
     "data": {
      "text/plain": [
       "pandas._libs.tslibs.timestamps.Timestamp"
      ]
     },
     "metadata": {},
     "execution_count": 157
    }
   ],
   "source": [
    "type(crimes['date'][1])"
   ]
  },
  {
   "cell_type": "code",
   "execution_count": 159,
   "metadata": {},
   "outputs": [
    {
     "output_type": "execute_result",
     "data": {
      "text/plain": [
       "0      Friday\n",
       "1      Friday\n",
       "2    Saturday\n",
       "3      Sunday\n",
       "4      Sunday\n",
       "Name: date, dtype: object"
      ]
     },
     "metadata": {},
     "execution_count": 159
    }
   ],
   "source": [
    "crimes['date'].dt.day_name().head()"
   ]
  },
  {
   "cell_type": "code",
   "execution_count": 178,
   "metadata": {},
   "outputs": [
    {
     "output_type": "execute_result",
     "data": {
      "text/plain": [
       "   id                name       date  ...         flee body_camera  day_of_week\n",
       "0   3          Tim Elliot 2015-01-02  ...  Not fleeing       False       Friday\n",
       "1   4    Lewis Lee Lembke 2015-01-02  ...  Not fleeing       False       Friday\n",
       "2   5  John Paul Quintero 2015-01-03  ...  Not fleeing       False     Saturday\n",
       "3   8     Matthew Hoffman 2015-01-04  ...  Not fleeing       False       Sunday\n",
       "4   9   Michael Rodriguez 2015-01-04  ...  Not fleeing       False       Sunday\n",
       "\n",
       "[5 rows x 15 columns]"
      ],
      "text/html": "<div>\n<style scoped>\n    .dataframe tbody tr th:only-of-type {\n        vertical-align: middle;\n    }\n\n    .dataframe tbody tr th {\n        vertical-align: top;\n    }\n\n    .dataframe thead th {\n        text-align: right;\n    }\n</style>\n<table border=\"1\" class=\"dataframe\">\n  <thead>\n    <tr style=\"text-align: right;\">\n      <th></th>\n      <th>id</th>\n      <th>name</th>\n      <th>date</th>\n      <th>manner_of_death</th>\n      <th>armed</th>\n      <th>age</th>\n      <th>gender</th>\n      <th>race</th>\n      <th>city</th>\n      <th>state</th>\n      <th>signs_of_mental_illness</th>\n      <th>threat_level</th>\n      <th>flee</th>\n      <th>body_camera</th>\n      <th>day_of_week</th>\n    </tr>\n  </thead>\n  <tbody>\n    <tr>\n      <th>0</th>\n      <td>3</td>\n      <td>Tim Elliot</td>\n      <td>2015-01-02</td>\n      <td>shot</td>\n      <td>gun</td>\n      <td>53.0</td>\n      <td>M</td>\n      <td>A</td>\n      <td>Shelton</td>\n      <td>WA</td>\n      <td>True</td>\n      <td>attack</td>\n      <td>Not fleeing</td>\n      <td>False</td>\n      <td>Friday</td>\n    </tr>\n    <tr>\n      <th>1</th>\n      <td>4</td>\n      <td>Lewis Lee Lembke</td>\n      <td>2015-01-02</td>\n      <td>shot</td>\n      <td>gun</td>\n      <td>47.0</td>\n      <td>M</td>\n      <td>W</td>\n      <td>Aloha</td>\n      <td>OR</td>\n      <td>False</td>\n      <td>attack</td>\n      <td>Not fleeing</td>\n      <td>False</td>\n      <td>Friday</td>\n    </tr>\n    <tr>\n      <th>2</th>\n      <td>5</td>\n      <td>John Paul Quintero</td>\n      <td>2015-01-03</td>\n      <td>shot and Tasered</td>\n      <td>unarmed</td>\n      <td>23.0</td>\n      <td>M</td>\n      <td>H</td>\n      <td>Wichita</td>\n      <td>KS</td>\n      <td>False</td>\n      <td>other</td>\n      <td>Not fleeing</td>\n      <td>False</td>\n      <td>Saturday</td>\n    </tr>\n    <tr>\n      <th>3</th>\n      <td>8</td>\n      <td>Matthew Hoffman</td>\n      <td>2015-01-04</td>\n      <td>shot</td>\n      <td>toy weapon</td>\n      <td>32.0</td>\n      <td>M</td>\n      <td>W</td>\n      <td>San Francisco</td>\n      <td>CA</td>\n      <td>True</td>\n      <td>attack</td>\n      <td>Not fleeing</td>\n      <td>False</td>\n      <td>Sunday</td>\n    </tr>\n    <tr>\n      <th>4</th>\n      <td>9</td>\n      <td>Michael Rodriguez</td>\n      <td>2015-01-04</td>\n      <td>shot</td>\n      <td>nail gun</td>\n      <td>39.0</td>\n      <td>M</td>\n      <td>H</td>\n      <td>Evans</td>\n      <td>CO</td>\n      <td>False</td>\n      <td>attack</td>\n      <td>Not fleeing</td>\n      <td>False</td>\n      <td>Sunday</td>\n    </tr>\n  </tbody>\n</table>\n</div>"
     },
     "metadata": {},
     "execution_count": 178
    }
   ],
   "source": [
    "crimes['day_of_week'] = crimes['date'].dt.day_name()\n",
    "crimes.head()"
   ]
  },
  {
   "cell_type": "code",
   "execution_count": 181,
   "metadata": {},
   "outputs": [
    {
     "output_type": "execute_result",
     "data": {
      "text/plain": [
       "              id  name  date  ...  threat_level  flee  body_camera\n",
       "day_of_week                   ...                                 \n",
       "Friday       761   761   761  ...           761   722          761\n",
       "Monday       726   726   726  ...           726   696          726\n",
       "Saturday     721   721   721  ...           721   691          721\n",
       "Sunday       753   753   753  ...           753   731          753\n",
       "Thursday     810   810   810  ...           810   767          810\n",
       "Tuesday      816   816   816  ...           816   770          816\n",
       "Wednesday    829   829   829  ...           829   790          829\n",
       "\n",
       "[7 rows x 14 columns]"
      ],
      "text/html": "<div>\n<style scoped>\n    .dataframe tbody tr th:only-of-type {\n        vertical-align: middle;\n    }\n\n    .dataframe tbody tr th {\n        vertical-align: top;\n    }\n\n    .dataframe thead th {\n        text-align: right;\n    }\n</style>\n<table border=\"1\" class=\"dataframe\">\n  <thead>\n    <tr style=\"text-align: right;\">\n      <th></th>\n      <th>id</th>\n      <th>name</th>\n      <th>date</th>\n      <th>manner_of_death</th>\n      <th>armed</th>\n      <th>age</th>\n      <th>gender</th>\n      <th>race</th>\n      <th>city</th>\n      <th>state</th>\n      <th>signs_of_mental_illness</th>\n      <th>threat_level</th>\n      <th>flee</th>\n      <th>body_camera</th>\n    </tr>\n    <tr>\n      <th>day_of_week</th>\n      <th></th>\n      <th></th>\n      <th></th>\n      <th></th>\n      <th></th>\n      <th></th>\n      <th></th>\n      <th></th>\n      <th></th>\n      <th></th>\n      <th></th>\n      <th></th>\n      <th></th>\n      <th></th>\n    </tr>\n  </thead>\n  <tbody>\n    <tr>\n      <th>Friday</th>\n      <td>761</td>\n      <td>761</td>\n      <td>761</td>\n      <td>761</td>\n      <td>729</td>\n      <td>715</td>\n      <td>761</td>\n      <td>674</td>\n      <td>761</td>\n      <td>761</td>\n      <td>761</td>\n      <td>761</td>\n      <td>722</td>\n      <td>761</td>\n    </tr>\n    <tr>\n      <th>Monday</th>\n      <td>726</td>\n      <td>726</td>\n      <td>726</td>\n      <td>726</td>\n      <td>698</td>\n      <td>700</td>\n      <td>726</td>\n      <td>671</td>\n      <td>726</td>\n      <td>726</td>\n      <td>726</td>\n      <td>726</td>\n      <td>696</td>\n      <td>726</td>\n    </tr>\n    <tr>\n      <th>Saturday</th>\n      <td>721</td>\n      <td>721</td>\n      <td>721</td>\n      <td>721</td>\n      <td>687</td>\n      <td>695</td>\n      <td>720</td>\n      <td>648</td>\n      <td>721</td>\n      <td>721</td>\n      <td>721</td>\n      <td>721</td>\n      <td>691</td>\n      <td>721</td>\n    </tr>\n    <tr>\n      <th>Sunday</th>\n      <td>753</td>\n      <td>753</td>\n      <td>753</td>\n      <td>753</td>\n      <td>722</td>\n      <td>722</td>\n      <td>753</td>\n      <td>675</td>\n      <td>753</td>\n      <td>753</td>\n      <td>753</td>\n      <td>753</td>\n      <td>731</td>\n      <td>753</td>\n    </tr>\n    <tr>\n      <th>Thursday</th>\n      <td>810</td>\n      <td>810</td>\n      <td>810</td>\n      <td>810</td>\n      <td>785</td>\n      <td>775</td>\n      <td>810</td>\n      <td>734</td>\n      <td>810</td>\n      <td>810</td>\n      <td>810</td>\n      <td>810</td>\n      <td>767</td>\n      <td>810</td>\n    </tr>\n    <tr>\n      <th>Tuesday</th>\n      <td>816</td>\n      <td>816</td>\n      <td>816</td>\n      <td>816</td>\n      <td>781</td>\n      <td>789</td>\n      <td>815</td>\n      <td>735</td>\n      <td>816</td>\n      <td>816</td>\n      <td>816</td>\n      <td>816</td>\n      <td>770</td>\n      <td>816</td>\n    </tr>\n    <tr>\n      <th>Wednesday</th>\n      <td>829</td>\n      <td>829</td>\n      <td>829</td>\n      <td>829</td>\n      <td>787</td>\n      <td>785</td>\n      <td>829</td>\n      <td>758</td>\n      <td>829</td>\n      <td>829</td>\n      <td>829</td>\n      <td>829</td>\n      <td>790</td>\n      <td>829</td>\n    </tr>\n  </tbody>\n</table>\n</div>"
     },
     "metadata": {},
     "execution_count": 181
    }
   ],
   "source": [
    "day_intervention = crimes.groupby('day_of_week').count()\n",
    "day_intervention"
   ]
  },
  {
   "cell_type": "code",
   "execution_count": 182,
   "metadata": {},
   "outputs": [
    {
     "output_type": "execute_result",
     "data": {
      "text/plain": [
       "day_of_week\n",
       "Friday       761\n",
       "Monday       726\n",
       "Saturday     721\n",
       "Sunday       753\n",
       "Thursday     810\n",
       "Tuesday      816\n",
       "Wednesday    829\n",
       "Name: id, dtype: int64"
      ]
     },
     "metadata": {},
     "execution_count": 182
    }
   ],
   "source": [
    "day_intervention = day_intervention['id']\n",
    "day_intervention"
   ]
  },
  {
   "cell_type": "code",
   "execution_count": 183,
   "metadata": {},
   "outputs": [
    {
     "output_type": "execute_result",
     "data": {
      "text/plain": [
       "              id\n",
       "day_of_week     \n",
       "Friday       761\n",
       "Monday       726\n",
       "Saturday     721\n",
       "Sunday       753\n",
       "Thursday     810\n",
       "Tuesday      816\n",
       "Wednesday    829"
      ],
      "text/html": "<div>\n<style scoped>\n    .dataframe tbody tr th:only-of-type {\n        vertical-align: middle;\n    }\n\n    .dataframe tbody tr th {\n        vertical-align: top;\n    }\n\n    .dataframe thead th {\n        text-align: right;\n    }\n</style>\n<table border=\"1\" class=\"dataframe\">\n  <thead>\n    <tr style=\"text-align: right;\">\n      <th></th>\n      <th>id</th>\n    </tr>\n    <tr>\n      <th>day_of_week</th>\n      <th></th>\n    </tr>\n  </thead>\n  <tbody>\n    <tr>\n      <th>Friday</th>\n      <td>761</td>\n    </tr>\n    <tr>\n      <th>Monday</th>\n      <td>726</td>\n    </tr>\n    <tr>\n      <th>Saturday</th>\n      <td>721</td>\n    </tr>\n    <tr>\n      <th>Sunday</th>\n      <td>753</td>\n    </tr>\n    <tr>\n      <th>Thursday</th>\n      <td>810</td>\n    </tr>\n    <tr>\n      <th>Tuesday</th>\n      <td>816</td>\n    </tr>\n    <tr>\n      <th>Wednesday</th>\n      <td>829</td>\n    </tr>\n  </tbody>\n</table>\n</div>"
     },
     "metadata": {},
     "execution_count": 183
    }
   ],
   "source": [
    "day_intervention = pd.DataFrame(day_intervention)\n",
    "day_intervention"
   ]
  },
  {
   "cell_type": "code",
   "execution_count": 184,
   "metadata": {},
   "outputs": [
    {
     "output_type": "execute_result",
     "data": {
      "text/plain": [
       "              id\n",
       "day_of_week     \n",
       "Monday       726\n",
       "Tuesday      816\n",
       "Wednesday    829\n",
       "Thursday     810\n",
       "Friday       761\n",
       "Saturday     721\n",
       "Sunday       753"
      ],
      "text/html": "<div>\n<style scoped>\n    .dataframe tbody tr th:only-of-type {\n        vertical-align: middle;\n    }\n\n    .dataframe tbody tr th {\n        vertical-align: top;\n    }\n\n    .dataframe thead th {\n        text-align: right;\n    }\n</style>\n<table border=\"1\" class=\"dataframe\">\n  <thead>\n    <tr style=\"text-align: right;\">\n      <th></th>\n      <th>id</th>\n    </tr>\n    <tr>\n      <th>day_of_week</th>\n      <th></th>\n    </tr>\n  </thead>\n  <tbody>\n    <tr>\n      <th>Monday</th>\n      <td>726</td>\n    </tr>\n    <tr>\n      <th>Tuesday</th>\n      <td>816</td>\n    </tr>\n    <tr>\n      <th>Wednesday</th>\n      <td>829</td>\n    </tr>\n    <tr>\n      <th>Thursday</th>\n      <td>810</td>\n    </tr>\n    <tr>\n      <th>Friday</th>\n      <td>761</td>\n    </tr>\n    <tr>\n      <th>Saturday</th>\n      <td>721</td>\n    </tr>\n    <tr>\n      <th>Sunday</th>\n      <td>753</td>\n    </tr>\n  </tbody>\n</table>\n</div>"
     },
     "metadata": {},
     "execution_count": 184
    }
   ],
   "source": [
    "days = [ 'Monday', 'Tuesday', 'Wednesday', 'Thursday', 'Friday', 'Saturday', 'Sunday']\n",
    "day_intervention = day_intervention.reindex(days)\n",
    "day_intervention"
   ]
  },
  {
   "cell_type": "code",
   "execution_count": 185,
   "metadata": {},
   "outputs": [
    {
     "output_type": "execute_result",
     "data": {
      "text/plain": [
       "Text(0.5, 1.0, 'Interventions by days of week')"
      ]
     },
     "metadata": {},
     "execution_count": 185
    },
    {
     "output_type": "display_data",
     "data": {
      "text/plain": "<Figure size 432x288 with 1 Axes>",
      "image/svg+xml": "<?xml version=\"1.0\" encoding=\"utf-8\" standalone=\"no\"?>\r\n<!DOCTYPE svg PUBLIC \"-//W3C//DTD SVG 1.1//EN\"\r\n  \"http://www.w3.org/Graphics/SVG/1.1/DTD/svg11.dtd\">\r\n<!-- Created with matplotlib (https://matplotlib.org/) -->\r\n<svg height=\"334.19625pt\" version=\"1.1\" viewBox=\"0 0 472.4875 334.19625\" width=\"472.4875pt\" xmlns=\"http://www.w3.org/2000/svg\" xmlns:xlink=\"http://www.w3.org/1999/xlink\">\r\n <defs>\r\n  <style type=\"text/css\">\r\n*{stroke-linecap:butt;stroke-linejoin:round;}\r\n  </style>\r\n </defs>\r\n <g id=\"figure_1\">\r\n  <g id=\"patch_1\">\r\n   <path d=\"M 0 334.19625 \r\nL 472.4875 334.19625 \r\nL 472.4875 0 \r\nL 0 0 \r\nz\r\n\" style=\"fill:none;\"/>\r\n  </g>\r\n  <g id=\"axes_1\">\r\n   <g id=\"patch_2\">\r\n    <path d=\"M 33.2875 310.318125 \r\nL 465.2875 310.318125 \r\nL 465.2875 22.318125 \r\nL 33.2875 22.318125 \r\nz\r\n\" style=\"fill:#ffffff;\"/>\r\n   </g>\r\n   <g id=\"patch_3\">\r\n    <path clip-path=\"url(#pf1674078bb)\" d=\"M 52.923864 310.318125 \r\nL 99.127072 310.318125 \r\nL 99.127072 70.111335 \r\nL 52.923864 70.111335 \r\nz\r\n\" style=\"fill:#1f77b4;\"/>\r\n   </g>\r\n   <g id=\"patch_4\">\r\n    <path clip-path=\"url(#pf1674078bb)\" d=\"M 110.677874 310.318125 \r\nL 156.881083 310.318125 \r\nL 156.881083 40.333634 \r\nL 110.677874 40.333634 \r\nz\r\n\" style=\"fill:#1f77b4;\"/>\r\n   </g>\r\n   <g id=\"patch_5\">\r\n    <path clip-path=\"url(#pf1674078bb)\" d=\"M 168.431885 310.318125 \r\nL 214.635094 310.318125 \r\nL 214.635094 36.032411 \r\nL 168.431885 36.032411 \r\nz\r\n\" style=\"fill:#1f77b4;\"/>\r\n   </g>\r\n   <g id=\"patch_6\">\r\n    <path clip-path=\"url(#pf1674078bb)\" d=\"M 226.185896 310.318125 \r\nL 272.389104 310.318125 \r\nL 272.389104 42.318814 \r\nL 226.185896 42.318814 \r\nz\r\n\" style=\"fill:#1f77b4;\"/>\r\n   </g>\r\n   <g id=\"patch_7\">\r\n    <path clip-path=\"url(#pf1674078bb)\" d=\"M 283.939906 310.318125 \r\nL 330.143115 310.318125 \r\nL 330.143115 58.531118 \r\nL 283.939906 58.531118 \r\nz\r\n\" style=\"fill:#1f77b4;\"/>\r\n   </g>\r\n   <g id=\"patch_8\">\r\n    <path clip-path=\"url(#pf1674078bb)\" d=\"M 341.693917 310.318125 \r\nL 387.897126 310.318125 \r\nL 387.897126 71.765652 \r\nL 341.693917 71.765652 \r\nz\r\n\" style=\"fill:#1f77b4;\"/>\r\n   </g>\r\n   <g id=\"patch_9\">\r\n    <path clip-path=\"url(#pf1674078bb)\" d=\"M 399.447928 310.318125 \r\nL 445.651136 310.318125 \r\nL 445.651136 61.178025 \r\nL 399.447928 61.178025 \r\nz\r\n\" style=\"fill:#1f77b4;\"/>\r\n   </g>\r\n   <g id=\"matplotlib.axis_1\">\r\n    <g id=\"xtick_1\">\r\n     <g id=\"line2d_1\">\r\n      <defs>\r\n       <path d=\"M 0 0 \r\nL 0 3.5 \r\n\" id=\"m56410eb452\" style=\"stroke:#000000;stroke-width:0.8;\"/>\r\n      </defs>\r\n      <g>\r\n       <use style=\"stroke:#000000;stroke-width:0.8;\" x=\"76.025468\" xlink:href=\"#m56410eb452\" y=\"310.318125\"/>\r\n      </g>\r\n     </g>\r\n     <g id=\"text_1\">\r\n      <!-- Monday -->\r\n      <defs>\r\n       <path d=\"M 9.8125 72.90625 \r\nL 24.515625 72.90625 \r\nL 43.109375 23.296875 \r\nL 61.8125 72.90625 \r\nL 76.515625 72.90625 \r\nL 76.515625 0 \r\nL 66.890625 0 \r\nL 66.890625 64.015625 \r\nL 48.09375 14.015625 \r\nL 38.1875 14.015625 \r\nL 19.390625 64.015625 \r\nL 19.390625 0 \r\nL 9.8125 0 \r\nz\r\n\" id=\"DejaVuSans-77\"/>\r\n       <path d=\"M 30.609375 48.390625 \r\nQ 23.390625 48.390625 19.1875 42.75 \r\nQ 14.984375 37.109375 14.984375 27.296875 \r\nQ 14.984375 17.484375 19.15625 11.84375 \r\nQ 23.34375 6.203125 30.609375 6.203125 \r\nQ 37.796875 6.203125 41.984375 11.859375 \r\nQ 46.1875 17.53125 46.1875 27.296875 \r\nQ 46.1875 37.015625 41.984375 42.703125 \r\nQ 37.796875 48.390625 30.609375 48.390625 \r\nz\r\nM 30.609375 56 \r\nQ 42.328125 56 49.015625 48.375 \r\nQ 55.71875 40.765625 55.71875 27.296875 \r\nQ 55.71875 13.875 49.015625 6.21875 \r\nQ 42.328125 -1.421875 30.609375 -1.421875 \r\nQ 18.84375 -1.421875 12.171875 6.21875 \r\nQ 5.515625 13.875 5.515625 27.296875 \r\nQ 5.515625 40.765625 12.171875 48.375 \r\nQ 18.84375 56 30.609375 56 \r\nz\r\n\" id=\"DejaVuSans-111\"/>\r\n       <path d=\"M 54.890625 33.015625 \r\nL 54.890625 0 \r\nL 45.90625 0 \r\nL 45.90625 32.71875 \r\nQ 45.90625 40.484375 42.875 44.328125 \r\nQ 39.84375 48.1875 33.796875 48.1875 \r\nQ 26.515625 48.1875 22.3125 43.546875 \r\nQ 18.109375 38.921875 18.109375 30.90625 \r\nL 18.109375 0 \r\nL 9.078125 0 \r\nL 9.078125 54.6875 \r\nL 18.109375 54.6875 \r\nL 18.109375 46.1875 \r\nQ 21.34375 51.125 25.703125 53.5625 \r\nQ 30.078125 56 35.796875 56 \r\nQ 45.21875 56 50.046875 50.171875 \r\nQ 54.890625 44.34375 54.890625 33.015625 \r\nz\r\n\" id=\"DejaVuSans-110\"/>\r\n       <path d=\"M 45.40625 46.390625 \r\nL 45.40625 75.984375 \r\nL 54.390625 75.984375 \r\nL 54.390625 0 \r\nL 45.40625 0 \r\nL 45.40625 8.203125 \r\nQ 42.578125 3.328125 38.25 0.953125 \r\nQ 33.9375 -1.421875 27.875 -1.421875 \r\nQ 17.96875 -1.421875 11.734375 6.484375 \r\nQ 5.515625 14.40625 5.515625 27.296875 \r\nQ 5.515625 40.1875 11.734375 48.09375 \r\nQ 17.96875 56 27.875 56 \r\nQ 33.9375 56 38.25 53.625 \r\nQ 42.578125 51.265625 45.40625 46.390625 \r\nz\r\nM 14.796875 27.296875 \r\nQ 14.796875 17.390625 18.875 11.75 \r\nQ 22.953125 6.109375 30.078125 6.109375 \r\nQ 37.203125 6.109375 41.296875 11.75 \r\nQ 45.40625 17.390625 45.40625 27.296875 \r\nQ 45.40625 37.203125 41.296875 42.84375 \r\nQ 37.203125 48.484375 30.078125 48.484375 \r\nQ 22.953125 48.484375 18.875 42.84375 \r\nQ 14.796875 37.203125 14.796875 27.296875 \r\nz\r\n\" id=\"DejaVuSans-100\"/>\r\n       <path d=\"M 34.28125 27.484375 \r\nQ 23.390625 27.484375 19.1875 25 \r\nQ 14.984375 22.515625 14.984375 16.5 \r\nQ 14.984375 11.71875 18.140625 8.90625 \r\nQ 21.296875 6.109375 26.703125 6.109375 \r\nQ 34.1875 6.109375 38.703125 11.40625 \r\nQ 43.21875 16.703125 43.21875 25.484375 \r\nL 43.21875 27.484375 \r\nz\r\nM 52.203125 31.203125 \r\nL 52.203125 0 \r\nL 43.21875 0 \r\nL 43.21875 8.296875 \r\nQ 40.140625 3.328125 35.546875 0.953125 \r\nQ 30.953125 -1.421875 24.3125 -1.421875 \r\nQ 15.921875 -1.421875 10.953125 3.296875 \r\nQ 6 8.015625 6 15.921875 \r\nQ 6 25.140625 12.171875 29.828125 \r\nQ 18.359375 34.515625 30.609375 34.515625 \r\nL 43.21875 34.515625 \r\nL 43.21875 35.40625 \r\nQ 43.21875 41.609375 39.140625 45 \r\nQ 35.0625 48.390625 27.6875 48.390625 \r\nQ 23 48.390625 18.546875 47.265625 \r\nQ 14.109375 46.140625 10.015625 43.890625 \r\nL 10.015625 52.203125 \r\nQ 14.9375 54.109375 19.578125 55.046875 \r\nQ 24.21875 56 28.609375 56 \r\nQ 40.484375 56 46.34375 49.84375 \r\nQ 52.203125 43.703125 52.203125 31.203125 \r\nz\r\n\" id=\"DejaVuSans-97\"/>\r\n       <path d=\"M 32.171875 -5.078125 \r\nQ 28.375 -14.84375 24.75 -17.8125 \r\nQ 21.140625 -20.796875 15.09375 -20.796875 \r\nL 7.90625 -20.796875 \r\nL 7.90625 -13.28125 \r\nL 13.1875 -13.28125 \r\nQ 16.890625 -13.28125 18.9375 -11.515625 \r\nQ 21 -9.765625 23.484375 -3.21875 \r\nL 25.09375 0.875 \r\nL 2.984375 54.6875 \r\nL 12.5 54.6875 \r\nL 29.59375 11.921875 \r\nL 46.6875 54.6875 \r\nL 56.203125 54.6875 \r\nz\r\n\" id=\"DejaVuSans-121\"/>\r\n      </defs>\r\n      <g transform=\"translate(56.285624 324.916562)scale(0.1 -0.1)\">\r\n       <use xlink:href=\"#DejaVuSans-77\"/>\r\n       <use x=\"86.279297\" xlink:href=\"#DejaVuSans-111\"/>\r\n       <use x=\"147.460938\" xlink:href=\"#DejaVuSans-110\"/>\r\n       <use x=\"210.839844\" xlink:href=\"#DejaVuSans-100\"/>\r\n       <use x=\"274.316406\" xlink:href=\"#DejaVuSans-97\"/>\r\n       <use x=\"335.595703\" xlink:href=\"#DejaVuSans-121\"/>\r\n      </g>\r\n     </g>\r\n    </g>\r\n    <g id=\"xtick_2\">\r\n     <g id=\"line2d_2\">\r\n      <g>\r\n       <use style=\"stroke:#000000;stroke-width:0.8;\" x=\"133.779479\" xlink:href=\"#m56410eb452\" y=\"310.318125\"/>\r\n      </g>\r\n     </g>\r\n     <g id=\"text_2\">\r\n      <!-- Tuesday -->\r\n      <defs>\r\n       <path d=\"M -0.296875 72.90625 \r\nL 61.375 72.90625 \r\nL 61.375 64.59375 \r\nL 35.5 64.59375 \r\nL 35.5 0 \r\nL 25.59375 0 \r\nL 25.59375 64.59375 \r\nL -0.296875 64.59375 \r\nz\r\n\" id=\"DejaVuSans-84\"/>\r\n       <path d=\"M 8.5 21.578125 \r\nL 8.5 54.6875 \r\nL 17.484375 54.6875 \r\nL 17.484375 21.921875 \r\nQ 17.484375 14.15625 20.5 10.265625 \r\nQ 23.53125 6.390625 29.59375 6.390625 \r\nQ 36.859375 6.390625 41.078125 11.03125 \r\nQ 45.3125 15.671875 45.3125 23.6875 \r\nL 45.3125 54.6875 \r\nL 54.296875 54.6875 \r\nL 54.296875 0 \r\nL 45.3125 0 \r\nL 45.3125 8.40625 \r\nQ 42.046875 3.421875 37.71875 1 \r\nQ 33.40625 -1.421875 27.6875 -1.421875 \r\nQ 18.265625 -1.421875 13.375 4.4375 \r\nQ 8.5 10.296875 8.5 21.578125 \r\nz\r\nM 31.109375 56 \r\nz\r\n\" id=\"DejaVuSans-117\"/>\r\n       <path d=\"M 56.203125 29.59375 \r\nL 56.203125 25.203125 \r\nL 14.890625 25.203125 \r\nQ 15.484375 15.921875 20.484375 11.0625 \r\nQ 25.484375 6.203125 34.421875 6.203125 \r\nQ 39.59375 6.203125 44.453125 7.46875 \r\nQ 49.3125 8.734375 54.109375 11.28125 \r\nL 54.109375 2.78125 \r\nQ 49.265625 0.734375 44.1875 -0.34375 \r\nQ 39.109375 -1.421875 33.890625 -1.421875 \r\nQ 20.796875 -1.421875 13.15625 6.1875 \r\nQ 5.515625 13.8125 5.515625 26.8125 \r\nQ 5.515625 40.234375 12.765625 48.109375 \r\nQ 20.015625 56 32.328125 56 \r\nQ 43.359375 56 49.78125 48.890625 \r\nQ 56.203125 41.796875 56.203125 29.59375 \r\nz\r\nM 47.21875 32.234375 \r\nQ 47.125 39.59375 43.09375 43.984375 \r\nQ 39.0625 48.390625 32.421875 48.390625 \r\nQ 24.90625 48.390625 20.390625 44.140625 \r\nQ 15.875 39.890625 15.1875 32.171875 \r\nz\r\n\" id=\"DejaVuSans-101\"/>\r\n       <path d=\"M 44.28125 53.078125 \r\nL 44.28125 44.578125 \r\nQ 40.484375 46.53125 36.375 47.5 \r\nQ 32.28125 48.484375 27.875 48.484375 \r\nQ 21.1875 48.484375 17.84375 46.4375 \r\nQ 14.5 44.390625 14.5 40.28125 \r\nQ 14.5 37.15625 16.890625 35.375 \r\nQ 19.28125 33.59375 26.515625 31.984375 \r\nL 29.59375 31.296875 \r\nQ 39.15625 29.25 43.1875 25.515625 \r\nQ 47.21875 21.78125 47.21875 15.09375 \r\nQ 47.21875 7.46875 41.1875 3.015625 \r\nQ 35.15625 -1.421875 24.609375 -1.421875 \r\nQ 20.21875 -1.421875 15.453125 -0.5625 \r\nQ 10.6875 0.296875 5.421875 2 \r\nL 5.421875 11.28125 \r\nQ 10.40625 8.6875 15.234375 7.390625 \r\nQ 20.0625 6.109375 24.8125 6.109375 \r\nQ 31.15625 6.109375 34.5625 8.28125 \r\nQ 37.984375 10.453125 37.984375 14.40625 \r\nQ 37.984375 18.0625 35.515625 20.015625 \r\nQ 33.0625 21.96875 24.703125 23.78125 \r\nL 21.578125 24.515625 \r\nQ 13.234375 26.265625 9.515625 29.90625 \r\nQ 5.8125 33.546875 5.8125 39.890625 \r\nQ 5.8125 47.609375 11.28125 51.796875 \r\nQ 16.75 56 26.8125 56 \r\nQ 31.78125 56 36.171875 55.265625 \r\nQ 40.578125 54.546875 44.28125 53.078125 \r\nz\r\n\" id=\"DejaVuSans-115\"/>\r\n      </defs>\r\n      <g transform=\"translate(113.434166 324.916562)scale(0.1 -0.1)\">\r\n       <use xlink:href=\"#DejaVuSans-84\"/>\r\n       <use x=\"45.958984\" xlink:href=\"#DejaVuSans-117\"/>\r\n       <use x=\"109.337891\" xlink:href=\"#DejaVuSans-101\"/>\r\n       <use x=\"170.861328\" xlink:href=\"#DejaVuSans-115\"/>\r\n       <use x=\"222.960938\" xlink:href=\"#DejaVuSans-100\"/>\r\n       <use x=\"286.4375\" xlink:href=\"#DejaVuSans-97\"/>\r\n       <use x=\"347.716797\" xlink:href=\"#DejaVuSans-121\"/>\r\n      </g>\r\n     </g>\r\n    </g>\r\n    <g id=\"xtick_3\">\r\n     <g id=\"line2d_3\">\r\n      <g>\r\n       <use style=\"stroke:#000000;stroke-width:0.8;\" x=\"191.533489\" xlink:href=\"#m56410eb452\" y=\"310.318125\"/>\r\n      </g>\r\n     </g>\r\n     <g id=\"text_3\">\r\n      <!-- Wednesday -->\r\n      <defs>\r\n       <path d=\"M 3.328125 72.90625 \r\nL 13.28125 72.90625 \r\nL 28.609375 11.28125 \r\nL 43.890625 72.90625 \r\nL 54.984375 72.90625 \r\nL 70.3125 11.28125 \r\nL 85.59375 72.90625 \r\nL 95.609375 72.90625 \r\nL 77.296875 0 \r\nL 64.890625 0 \r\nL 49.515625 63.28125 \r\nL 33.984375 0 \r\nL 21.578125 0 \r\nz\r\n\" id=\"DejaVuSans-87\"/>\r\n      </defs>\r\n      <g transform=\"translate(162.585052 324.916562)scale(0.1 -0.1)\">\r\n       <use xlink:href=\"#DejaVuSans-87\"/>\r\n       <use x=\"93.001953\" xlink:href=\"#DejaVuSans-101\"/>\r\n       <use x=\"154.525391\" xlink:href=\"#DejaVuSans-100\"/>\r\n       <use x=\"218.001953\" xlink:href=\"#DejaVuSans-110\"/>\r\n       <use x=\"281.380859\" xlink:href=\"#DejaVuSans-101\"/>\r\n       <use x=\"342.904297\" xlink:href=\"#DejaVuSans-115\"/>\r\n       <use x=\"395.003906\" xlink:href=\"#DejaVuSans-100\"/>\r\n       <use x=\"458.480469\" xlink:href=\"#DejaVuSans-97\"/>\r\n       <use x=\"519.759766\" xlink:href=\"#DejaVuSans-121\"/>\r\n      </g>\r\n     </g>\r\n    </g>\r\n    <g id=\"xtick_4\">\r\n     <g id=\"line2d_4\">\r\n      <g>\r\n       <use style=\"stroke:#000000;stroke-width:0.8;\" x=\"249.2875\" xlink:href=\"#m56410eb452\" y=\"310.318125\"/>\r\n      </g>\r\n     </g>\r\n     <g id=\"text_4\">\r\n      <!-- Thursday -->\r\n      <defs>\r\n       <path d=\"M 54.890625 33.015625 \r\nL 54.890625 0 \r\nL 45.90625 0 \r\nL 45.90625 32.71875 \r\nQ 45.90625 40.484375 42.875 44.328125 \r\nQ 39.84375 48.1875 33.796875 48.1875 \r\nQ 26.515625 48.1875 22.3125 43.546875 \r\nQ 18.109375 38.921875 18.109375 30.90625 \r\nL 18.109375 0 \r\nL 9.078125 0 \r\nL 9.078125 75.984375 \r\nL 18.109375 75.984375 \r\nL 18.109375 46.1875 \r\nQ 21.34375 51.125 25.703125 53.5625 \r\nQ 30.078125 56 35.796875 56 \r\nQ 45.21875 56 50.046875 50.171875 \r\nQ 54.890625 44.34375 54.890625 33.015625 \r\nz\r\n\" id=\"DejaVuSans-104\"/>\r\n       <path d=\"M 41.109375 46.296875 \r\nQ 39.59375 47.171875 37.8125 47.578125 \r\nQ 36.03125 48 33.890625 48 \r\nQ 26.265625 48 22.1875 43.046875 \r\nQ 18.109375 38.09375 18.109375 28.8125 \r\nL 18.109375 0 \r\nL 9.078125 0 \r\nL 9.078125 54.6875 \r\nL 18.109375 54.6875 \r\nL 18.109375 46.1875 \r\nQ 20.953125 51.171875 25.484375 53.578125 \r\nQ 30.03125 56 36.53125 56 \r\nQ 37.453125 56 38.578125 55.875 \r\nQ 39.703125 55.765625 41.0625 55.515625 \r\nz\r\n\" id=\"DejaVuSans-114\"/>\r\n      </defs>\r\n      <g transform=\"translate(226.038281 324.916562)scale(0.1 -0.1)\">\r\n       <use xlink:href=\"#DejaVuSans-84\"/>\r\n       <use x=\"61.083984\" xlink:href=\"#DejaVuSans-104\"/>\r\n       <use x=\"124.462891\" xlink:href=\"#DejaVuSans-117\"/>\r\n       <use x=\"187.841797\" xlink:href=\"#DejaVuSans-114\"/>\r\n       <use x=\"228.955078\" xlink:href=\"#DejaVuSans-115\"/>\r\n       <use x=\"281.054688\" xlink:href=\"#DejaVuSans-100\"/>\r\n       <use x=\"344.53125\" xlink:href=\"#DejaVuSans-97\"/>\r\n       <use x=\"405.810547\" xlink:href=\"#DejaVuSans-121\"/>\r\n      </g>\r\n     </g>\r\n    </g>\r\n    <g id=\"xtick_5\">\r\n     <g id=\"line2d_5\">\r\n      <g>\r\n       <use style=\"stroke:#000000;stroke-width:0.8;\" x=\"307.041511\" xlink:href=\"#m56410eb452\" y=\"310.318125\"/>\r\n      </g>\r\n     </g>\r\n     <g id=\"text_5\">\r\n      <!-- Friday -->\r\n      <defs>\r\n       <path d=\"M 9.8125 72.90625 \r\nL 51.703125 72.90625 \r\nL 51.703125 64.59375 \r\nL 19.671875 64.59375 \r\nL 19.671875 43.109375 \r\nL 48.578125 43.109375 \r\nL 48.578125 34.8125 \r\nL 19.671875 34.8125 \r\nL 19.671875 0 \r\nL 9.8125 0 \r\nz\r\n\" id=\"DejaVuSans-70\"/>\r\n       <path d=\"M 9.421875 54.6875 \r\nL 18.40625 54.6875 \r\nL 18.40625 0 \r\nL 9.421875 0 \r\nz\r\nM 9.421875 75.984375 \r\nL 18.40625 75.984375 \r\nL 18.40625 64.59375 \r\nL 9.421875 64.59375 \r\nz\r\n\" id=\"DejaVuSans-105\"/>\r\n      </defs>\r\n      <g transform=\"translate(291.886042 324.916562)scale(0.1 -0.1)\">\r\n       <use xlink:href=\"#DejaVuSans-70\"/>\r\n       <use x=\"50.269531\" xlink:href=\"#DejaVuSans-114\"/>\r\n       <use x=\"91.382812\" xlink:href=\"#DejaVuSans-105\"/>\r\n       <use x=\"119.166016\" xlink:href=\"#DejaVuSans-100\"/>\r\n       <use x=\"182.642578\" xlink:href=\"#DejaVuSans-97\"/>\r\n       <use x=\"243.921875\" xlink:href=\"#DejaVuSans-121\"/>\r\n      </g>\r\n     </g>\r\n    </g>\r\n    <g id=\"xtick_6\">\r\n     <g id=\"line2d_6\">\r\n      <g>\r\n       <use style=\"stroke:#000000;stroke-width:0.8;\" x=\"364.795521\" xlink:href=\"#m56410eb452\" y=\"310.318125\"/>\r\n      </g>\r\n     </g>\r\n     <g id=\"text_6\">\r\n      <!-- Saturday -->\r\n      <defs>\r\n       <path d=\"M 53.515625 70.515625 \r\nL 53.515625 60.890625 \r\nQ 47.90625 63.578125 42.921875 64.890625 \r\nQ 37.9375 66.21875 33.296875 66.21875 \r\nQ 25.25 66.21875 20.875 63.09375 \r\nQ 16.5 59.96875 16.5 54.203125 \r\nQ 16.5 49.359375 19.40625 46.890625 \r\nQ 22.3125 44.4375 30.421875 42.921875 \r\nL 36.375 41.703125 \r\nQ 47.40625 39.59375 52.65625 34.296875 \r\nQ 57.90625 29 57.90625 20.125 \r\nQ 57.90625 9.515625 50.796875 4.046875 \r\nQ 43.703125 -1.421875 29.984375 -1.421875 \r\nQ 24.8125 -1.421875 18.96875 -0.25 \r\nQ 13.140625 0.921875 6.890625 3.21875 \r\nL 6.890625 13.375 \r\nQ 12.890625 10.015625 18.65625 8.296875 \r\nQ 24.421875 6.59375 29.984375 6.59375 \r\nQ 38.421875 6.59375 43.015625 9.90625 \r\nQ 47.609375 13.234375 47.609375 19.390625 \r\nQ 47.609375 24.75 44.3125 27.78125 \r\nQ 41.015625 30.8125 33.5 32.328125 \r\nL 27.484375 33.5 \r\nQ 16.453125 35.6875 11.515625 40.375 \r\nQ 6.59375 45.0625 6.59375 53.421875 \r\nQ 6.59375 63.09375 13.40625 68.65625 \r\nQ 20.21875 74.21875 32.171875 74.21875 \r\nQ 37.3125 74.21875 42.625 73.28125 \r\nQ 47.953125 72.359375 53.515625 70.515625 \r\nz\r\n\" id=\"DejaVuSans-83\"/>\r\n       <path d=\"M 18.3125 70.21875 \r\nL 18.3125 54.6875 \r\nL 36.8125 54.6875 \r\nL 36.8125 47.703125 \r\nL 18.3125 47.703125 \r\nL 18.3125 18.015625 \r\nQ 18.3125 11.328125 20.140625 9.421875 \r\nQ 21.96875 7.515625 27.59375 7.515625 \r\nL 36.8125 7.515625 \r\nL 36.8125 0 \r\nL 27.59375 0 \r\nQ 17.1875 0 13.234375 3.875 \r\nQ 9.28125 7.765625 9.28125 18.015625 \r\nL 9.28125 47.703125 \r\nL 2.6875 47.703125 \r\nL 2.6875 54.6875 \r\nL 9.28125 54.6875 \r\nL 9.28125 70.21875 \r\nz\r\n\" id=\"DejaVuSans-116\"/>\r\n      </defs>\r\n      <g transform=\"translate(342.262709 324.916562)scale(0.1 -0.1)\">\r\n       <use xlink:href=\"#DejaVuSans-83\"/>\r\n       <use x=\"63.476562\" xlink:href=\"#DejaVuSans-97\"/>\r\n       <use x=\"124.755859\" xlink:href=\"#DejaVuSans-116\"/>\r\n       <use x=\"163.964844\" xlink:href=\"#DejaVuSans-117\"/>\r\n       <use x=\"227.34375\" xlink:href=\"#DejaVuSans-114\"/>\r\n       <use x=\"266.707031\" xlink:href=\"#DejaVuSans-100\"/>\r\n       <use x=\"330.183594\" xlink:href=\"#DejaVuSans-97\"/>\r\n       <use x=\"391.462891\" xlink:href=\"#DejaVuSans-121\"/>\r\n      </g>\r\n     </g>\r\n    </g>\r\n    <g id=\"xtick_7\">\r\n     <g id=\"line2d_7\">\r\n      <g>\r\n       <use style=\"stroke:#000000;stroke-width:0.8;\" x=\"422.549532\" xlink:href=\"#m56410eb452\" y=\"310.318125\"/>\r\n      </g>\r\n     </g>\r\n     <g id=\"text_7\">\r\n      <!-- Sunday -->\r\n      <g transform=\"translate(403.840157 324.916562)scale(0.1 -0.1)\">\r\n       <use xlink:href=\"#DejaVuSans-83\"/>\r\n       <use x=\"63.476562\" xlink:href=\"#DejaVuSans-117\"/>\r\n       <use x=\"126.855469\" xlink:href=\"#DejaVuSans-110\"/>\r\n       <use x=\"190.234375\" xlink:href=\"#DejaVuSans-100\"/>\r\n       <use x=\"253.710938\" xlink:href=\"#DejaVuSans-97\"/>\r\n       <use x=\"314.990234\" xlink:href=\"#DejaVuSans-121\"/>\r\n      </g>\r\n     </g>\r\n    </g>\r\n   </g>\r\n   <g id=\"matplotlib.axis_2\">\r\n    <g id=\"ytick_1\">\r\n     <g id=\"line2d_8\">\r\n      <defs>\r\n       <path d=\"M 0 0 \r\nL -3.5 0 \r\n\" id=\"m574d32e436\" style=\"stroke:#000000;stroke-width:0.8;\"/>\r\n      </defs>\r\n      <g>\r\n       <use style=\"stroke:#000000;stroke-width:0.8;\" x=\"33.2875\" xlink:href=\"#m574d32e436\" y=\"310.318125\"/>\r\n      </g>\r\n     </g>\r\n     <g id=\"text_8\">\r\n      <!-- 0 -->\r\n      <defs>\r\n       <path d=\"M 31.78125 66.40625 \r\nQ 24.171875 66.40625 20.328125 58.90625 \r\nQ 16.5 51.421875 16.5 36.375 \r\nQ 16.5 21.390625 20.328125 13.890625 \r\nQ 24.171875 6.390625 31.78125 6.390625 \r\nQ 39.453125 6.390625 43.28125 13.890625 \r\nQ 47.125 21.390625 47.125 36.375 \r\nQ 47.125 51.421875 43.28125 58.90625 \r\nQ 39.453125 66.40625 31.78125 66.40625 \r\nz\r\nM 31.78125 74.21875 \r\nQ 44.046875 74.21875 50.515625 64.515625 \r\nQ 56.984375 54.828125 56.984375 36.375 \r\nQ 56.984375 17.96875 50.515625 8.265625 \r\nQ 44.046875 -1.421875 31.78125 -1.421875 \r\nQ 19.53125 -1.421875 13.0625 8.265625 \r\nQ 6.59375 17.96875 6.59375 36.375 \r\nQ 6.59375 54.828125 13.0625 64.515625 \r\nQ 19.53125 74.21875 31.78125 74.21875 \r\nz\r\n\" id=\"DejaVuSans-48\"/>\r\n      </defs>\r\n      <g transform=\"translate(19.925 314.117344)scale(0.1 -0.1)\">\r\n       <use xlink:href=\"#DejaVuSans-48\"/>\r\n      </g>\r\n     </g>\r\n    </g>\r\n    <g id=\"ytick_2\">\r\n     <g id=\"line2d_9\">\r\n      <g>\r\n       <use style=\"stroke:#000000;stroke-width:0.8;\" x=\"33.2875\" xlink:href=\"#m574d32e436\" y=\"277.23179\"/>\r\n      </g>\r\n     </g>\r\n     <g id=\"text_9\">\r\n      <!-- 100 -->\r\n      <defs>\r\n       <path d=\"M 12.40625 8.296875 \r\nL 28.515625 8.296875 \r\nL 28.515625 63.921875 \r\nL 10.984375 60.40625 \r\nL 10.984375 69.390625 \r\nL 28.421875 72.90625 \r\nL 38.28125 72.90625 \r\nL 38.28125 8.296875 \r\nL 54.390625 8.296875 \r\nL 54.390625 0 \r\nL 12.40625 0 \r\nz\r\n\" id=\"DejaVuSans-49\"/>\r\n      </defs>\r\n      <g transform=\"translate(7.2 281.031009)scale(0.1 -0.1)\">\r\n       <use xlink:href=\"#DejaVuSans-49\"/>\r\n       <use x=\"63.623047\" xlink:href=\"#DejaVuSans-48\"/>\r\n       <use x=\"127.246094\" xlink:href=\"#DejaVuSans-48\"/>\r\n      </g>\r\n     </g>\r\n    </g>\r\n    <g id=\"ytick_3\">\r\n     <g id=\"line2d_10\">\r\n      <g>\r\n       <use style=\"stroke:#000000;stroke-width:0.8;\" x=\"33.2875\" xlink:href=\"#m574d32e436\" y=\"244.145456\"/>\r\n      </g>\r\n     </g>\r\n     <g id=\"text_10\">\r\n      <!-- 200 -->\r\n      <defs>\r\n       <path d=\"M 19.1875 8.296875 \r\nL 53.609375 8.296875 \r\nL 53.609375 0 \r\nL 7.328125 0 \r\nL 7.328125 8.296875 \r\nQ 12.9375 14.109375 22.625 23.890625 \r\nQ 32.328125 33.6875 34.8125 36.53125 \r\nQ 39.546875 41.84375 41.421875 45.53125 \r\nQ 43.3125 49.21875 43.3125 52.78125 \r\nQ 43.3125 58.59375 39.234375 62.25 \r\nQ 35.15625 65.921875 28.609375 65.921875 \r\nQ 23.96875 65.921875 18.8125 64.3125 \r\nQ 13.671875 62.703125 7.8125 59.421875 \r\nL 7.8125 69.390625 \r\nQ 13.765625 71.78125 18.9375 73 \r\nQ 24.125 74.21875 28.421875 74.21875 \r\nQ 39.75 74.21875 46.484375 68.546875 \r\nQ 53.21875 62.890625 53.21875 53.421875 \r\nQ 53.21875 48.921875 51.53125 44.890625 \r\nQ 49.859375 40.875 45.40625 35.40625 \r\nQ 44.1875 33.984375 37.640625 27.21875 \r\nQ 31.109375 20.453125 19.1875 8.296875 \r\nz\r\n\" id=\"DejaVuSans-50\"/>\r\n      </defs>\r\n      <g transform=\"translate(7.2 247.944674)scale(0.1 -0.1)\">\r\n       <use xlink:href=\"#DejaVuSans-50\"/>\r\n       <use x=\"63.623047\" xlink:href=\"#DejaVuSans-48\"/>\r\n       <use x=\"127.246094\" xlink:href=\"#DejaVuSans-48\"/>\r\n      </g>\r\n     </g>\r\n    </g>\r\n    <g id=\"ytick_4\">\r\n     <g id=\"line2d_11\">\r\n      <g>\r\n       <use style=\"stroke:#000000;stroke-width:0.8;\" x=\"33.2875\" xlink:href=\"#m574d32e436\" y=\"211.059121\"/>\r\n      </g>\r\n     </g>\r\n     <g id=\"text_11\">\r\n      <!-- 300 -->\r\n      <defs>\r\n       <path d=\"M 40.578125 39.3125 \r\nQ 47.65625 37.796875 51.625 33 \r\nQ 55.609375 28.21875 55.609375 21.1875 \r\nQ 55.609375 10.40625 48.1875 4.484375 \r\nQ 40.765625 -1.421875 27.09375 -1.421875 \r\nQ 22.515625 -1.421875 17.65625 -0.515625 \r\nQ 12.796875 0.390625 7.625 2.203125 \r\nL 7.625 11.71875 \r\nQ 11.71875 9.328125 16.59375 8.109375 \r\nQ 21.484375 6.890625 26.8125 6.890625 \r\nQ 36.078125 6.890625 40.9375 10.546875 \r\nQ 45.796875 14.203125 45.796875 21.1875 \r\nQ 45.796875 27.640625 41.28125 31.265625 \r\nQ 36.765625 34.90625 28.71875 34.90625 \r\nL 20.21875 34.90625 \r\nL 20.21875 43.015625 \r\nL 29.109375 43.015625 \r\nQ 36.375 43.015625 40.234375 45.921875 \r\nQ 44.09375 48.828125 44.09375 54.296875 \r\nQ 44.09375 59.90625 40.109375 62.90625 \r\nQ 36.140625 65.921875 28.71875 65.921875 \r\nQ 24.65625 65.921875 20.015625 65.03125 \r\nQ 15.375 64.15625 9.8125 62.3125 \r\nL 9.8125 71.09375 \r\nQ 15.4375 72.65625 20.34375 73.4375 \r\nQ 25.25 74.21875 29.59375 74.21875 \r\nQ 40.828125 74.21875 47.359375 69.109375 \r\nQ 53.90625 64.015625 53.90625 55.328125 \r\nQ 53.90625 49.265625 50.4375 45.09375 \r\nQ 46.96875 40.921875 40.578125 39.3125 \r\nz\r\n\" id=\"DejaVuSans-51\"/>\r\n      </defs>\r\n      <g transform=\"translate(7.2 214.85834)scale(0.1 -0.1)\">\r\n       <use xlink:href=\"#DejaVuSans-51\"/>\r\n       <use x=\"63.623047\" xlink:href=\"#DejaVuSans-48\"/>\r\n       <use x=\"127.246094\" xlink:href=\"#DejaVuSans-48\"/>\r\n      </g>\r\n     </g>\r\n    </g>\r\n    <g id=\"ytick_5\">\r\n     <g id=\"line2d_12\">\r\n      <g>\r\n       <use style=\"stroke:#000000;stroke-width:0.8;\" x=\"33.2875\" xlink:href=\"#m574d32e436\" y=\"177.972786\"/>\r\n      </g>\r\n     </g>\r\n     <g id=\"text_12\">\r\n      <!-- 400 -->\r\n      <defs>\r\n       <path d=\"M 37.796875 64.3125 \r\nL 12.890625 25.390625 \r\nL 37.796875 25.390625 \r\nz\r\nM 35.203125 72.90625 \r\nL 47.609375 72.90625 \r\nL 47.609375 25.390625 \r\nL 58.015625 25.390625 \r\nL 58.015625 17.1875 \r\nL 47.609375 17.1875 \r\nL 47.609375 0 \r\nL 37.796875 0 \r\nL 37.796875 17.1875 \r\nL 4.890625 17.1875 \r\nL 4.890625 26.703125 \r\nz\r\n\" id=\"DejaVuSans-52\"/>\r\n      </defs>\r\n      <g transform=\"translate(7.2 181.772005)scale(0.1 -0.1)\">\r\n       <use xlink:href=\"#DejaVuSans-52\"/>\r\n       <use x=\"63.623047\" xlink:href=\"#DejaVuSans-48\"/>\r\n       <use x=\"127.246094\" xlink:href=\"#DejaVuSans-48\"/>\r\n      </g>\r\n     </g>\r\n    </g>\r\n    <g id=\"ytick_6\">\r\n     <g id=\"line2d_13\">\r\n      <g>\r\n       <use style=\"stroke:#000000;stroke-width:0.8;\" x=\"33.2875\" xlink:href=\"#m574d32e436\" y=\"144.886452\"/>\r\n      </g>\r\n     </g>\r\n     <g id=\"text_13\">\r\n      <!-- 500 -->\r\n      <defs>\r\n       <path d=\"M 10.796875 72.90625 \r\nL 49.515625 72.90625 \r\nL 49.515625 64.59375 \r\nL 19.828125 64.59375 \r\nL 19.828125 46.734375 \r\nQ 21.96875 47.46875 24.109375 47.828125 \r\nQ 26.265625 48.1875 28.421875 48.1875 \r\nQ 40.625 48.1875 47.75 41.5 \r\nQ 54.890625 34.8125 54.890625 23.390625 \r\nQ 54.890625 11.625 47.5625 5.09375 \r\nQ 40.234375 -1.421875 26.90625 -1.421875 \r\nQ 22.3125 -1.421875 17.546875 -0.640625 \r\nQ 12.796875 0.140625 7.71875 1.703125 \r\nL 7.71875 11.625 \r\nQ 12.109375 9.234375 16.796875 8.0625 \r\nQ 21.484375 6.890625 26.703125 6.890625 \r\nQ 35.15625 6.890625 40.078125 11.328125 \r\nQ 45.015625 15.765625 45.015625 23.390625 \r\nQ 45.015625 31 40.078125 35.4375 \r\nQ 35.15625 39.890625 26.703125 39.890625 \r\nQ 22.75 39.890625 18.8125 39.015625 \r\nQ 14.890625 38.140625 10.796875 36.28125 \r\nz\r\n\" id=\"DejaVuSans-53\"/>\r\n      </defs>\r\n      <g transform=\"translate(7.2 148.68567)scale(0.1 -0.1)\">\r\n       <use xlink:href=\"#DejaVuSans-53\"/>\r\n       <use x=\"63.623047\" xlink:href=\"#DejaVuSans-48\"/>\r\n       <use x=\"127.246094\" xlink:href=\"#DejaVuSans-48\"/>\r\n      </g>\r\n     </g>\r\n    </g>\r\n    <g id=\"ytick_7\">\r\n     <g id=\"line2d_14\">\r\n      <g>\r\n       <use style=\"stroke:#000000;stroke-width:0.8;\" x=\"33.2875\" xlink:href=\"#m574d32e436\" y=\"111.800117\"/>\r\n      </g>\r\n     </g>\r\n     <g id=\"text_14\">\r\n      <!-- 600 -->\r\n      <defs>\r\n       <path d=\"M 33.015625 40.375 \r\nQ 26.375 40.375 22.484375 35.828125 \r\nQ 18.609375 31.296875 18.609375 23.390625 \r\nQ 18.609375 15.53125 22.484375 10.953125 \r\nQ 26.375 6.390625 33.015625 6.390625 \r\nQ 39.65625 6.390625 43.53125 10.953125 \r\nQ 47.40625 15.53125 47.40625 23.390625 \r\nQ 47.40625 31.296875 43.53125 35.828125 \r\nQ 39.65625 40.375 33.015625 40.375 \r\nz\r\nM 52.59375 71.296875 \r\nL 52.59375 62.3125 \r\nQ 48.875 64.0625 45.09375 64.984375 \r\nQ 41.3125 65.921875 37.59375 65.921875 \r\nQ 27.828125 65.921875 22.671875 59.328125 \r\nQ 17.53125 52.734375 16.796875 39.40625 \r\nQ 19.671875 43.65625 24.015625 45.921875 \r\nQ 28.375 48.1875 33.59375 48.1875 \r\nQ 44.578125 48.1875 50.953125 41.515625 \r\nQ 57.328125 34.859375 57.328125 23.390625 \r\nQ 57.328125 12.15625 50.6875 5.359375 \r\nQ 44.046875 -1.421875 33.015625 -1.421875 \r\nQ 20.359375 -1.421875 13.671875 8.265625 \r\nQ 6.984375 17.96875 6.984375 36.375 \r\nQ 6.984375 53.65625 15.1875 63.9375 \r\nQ 23.390625 74.21875 37.203125 74.21875 \r\nQ 40.921875 74.21875 44.703125 73.484375 \r\nQ 48.484375 72.75 52.59375 71.296875 \r\nz\r\n\" id=\"DejaVuSans-54\"/>\r\n      </defs>\r\n      <g transform=\"translate(7.2 115.599336)scale(0.1 -0.1)\">\r\n       <use xlink:href=\"#DejaVuSans-54\"/>\r\n       <use x=\"63.623047\" xlink:href=\"#DejaVuSans-48\"/>\r\n       <use x=\"127.246094\" xlink:href=\"#DejaVuSans-48\"/>\r\n      </g>\r\n     </g>\r\n    </g>\r\n    <g id=\"ytick_8\">\r\n     <g id=\"line2d_15\">\r\n      <g>\r\n       <use style=\"stroke:#000000;stroke-width:0.8;\" x=\"33.2875\" xlink:href=\"#m574d32e436\" y=\"78.713782\"/>\r\n      </g>\r\n     </g>\r\n     <g id=\"text_15\">\r\n      <!-- 700 -->\r\n      <defs>\r\n       <path d=\"M 8.203125 72.90625 \r\nL 55.078125 72.90625 \r\nL 55.078125 68.703125 \r\nL 28.609375 0 \r\nL 18.3125 0 \r\nL 43.21875 64.59375 \r\nL 8.203125 64.59375 \r\nz\r\n\" id=\"DejaVuSans-55\"/>\r\n      </defs>\r\n      <g transform=\"translate(7.2 82.513001)scale(0.1 -0.1)\">\r\n       <use xlink:href=\"#DejaVuSans-55\"/>\r\n       <use x=\"63.623047\" xlink:href=\"#DejaVuSans-48\"/>\r\n       <use x=\"127.246094\" xlink:href=\"#DejaVuSans-48\"/>\r\n      </g>\r\n     </g>\r\n    </g>\r\n    <g id=\"ytick_9\">\r\n     <g id=\"line2d_16\">\r\n      <g>\r\n       <use style=\"stroke:#000000;stroke-width:0.8;\" x=\"33.2875\" xlink:href=\"#m574d32e436\" y=\"45.627448\"/>\r\n      </g>\r\n     </g>\r\n     <g id=\"text_16\">\r\n      <!-- 800 -->\r\n      <defs>\r\n       <path d=\"M 31.78125 34.625 \r\nQ 24.75 34.625 20.71875 30.859375 \r\nQ 16.703125 27.09375 16.703125 20.515625 \r\nQ 16.703125 13.921875 20.71875 10.15625 \r\nQ 24.75 6.390625 31.78125 6.390625 \r\nQ 38.8125 6.390625 42.859375 10.171875 \r\nQ 46.921875 13.96875 46.921875 20.515625 \r\nQ 46.921875 27.09375 42.890625 30.859375 \r\nQ 38.875 34.625 31.78125 34.625 \r\nz\r\nM 21.921875 38.8125 \r\nQ 15.578125 40.375 12.03125 44.71875 \r\nQ 8.5 49.078125 8.5 55.328125 \r\nQ 8.5 64.0625 14.71875 69.140625 \r\nQ 20.953125 74.21875 31.78125 74.21875 \r\nQ 42.671875 74.21875 48.875 69.140625 \r\nQ 55.078125 64.0625 55.078125 55.328125 \r\nQ 55.078125 49.078125 51.53125 44.71875 \r\nQ 48 40.375 41.703125 38.8125 \r\nQ 48.828125 37.15625 52.796875 32.3125 \r\nQ 56.78125 27.484375 56.78125 20.515625 \r\nQ 56.78125 9.90625 50.3125 4.234375 \r\nQ 43.84375 -1.421875 31.78125 -1.421875 \r\nQ 19.734375 -1.421875 13.25 4.234375 \r\nQ 6.78125 9.90625 6.78125 20.515625 \r\nQ 6.78125 27.484375 10.78125 32.3125 \r\nQ 14.796875 37.15625 21.921875 38.8125 \r\nz\r\nM 18.3125 54.390625 \r\nQ 18.3125 48.734375 21.84375 45.5625 \r\nQ 25.390625 42.390625 31.78125 42.390625 \r\nQ 38.140625 42.390625 41.71875 45.5625 \r\nQ 45.3125 48.734375 45.3125 54.390625 \r\nQ 45.3125 60.0625 41.71875 63.234375 \r\nQ 38.140625 66.40625 31.78125 66.40625 \r\nQ 25.390625 66.40625 21.84375 63.234375 \r\nQ 18.3125 60.0625 18.3125 54.390625 \r\nz\r\n\" id=\"DejaVuSans-56\"/>\r\n      </defs>\r\n      <g transform=\"translate(7.2 49.426667)scale(0.1 -0.1)\">\r\n       <use xlink:href=\"#DejaVuSans-56\"/>\r\n       <use x=\"63.623047\" xlink:href=\"#DejaVuSans-48\"/>\r\n       <use x=\"127.246094\" xlink:href=\"#DejaVuSans-48\"/>\r\n      </g>\r\n     </g>\r\n    </g>\r\n   </g>\r\n   <g id=\"patch_10\">\r\n    <path d=\"M 33.2875 310.318125 \r\nL 33.2875 22.318125 \r\n\" style=\"fill:none;stroke:#000000;stroke-linecap:square;stroke-linejoin:miter;stroke-width:0.8;\"/>\r\n   </g>\r\n   <g id=\"patch_11\">\r\n    <path d=\"M 465.2875 310.318125 \r\nL 465.2875 22.318125 \r\n\" style=\"fill:none;stroke:#000000;stroke-linecap:square;stroke-linejoin:miter;stroke-width:0.8;\"/>\r\n   </g>\r\n   <g id=\"patch_12\">\r\n    <path d=\"M 33.2875 310.318125 \r\nL 465.2875 310.318125 \r\n\" style=\"fill:none;stroke:#000000;stroke-linecap:square;stroke-linejoin:miter;stroke-width:0.8;\"/>\r\n   </g>\r\n   <g id=\"patch_13\">\r\n    <path d=\"M 33.2875 22.318125 \r\nL 465.2875 22.318125 \r\n\" style=\"fill:none;stroke:#000000;stroke-linecap:square;stroke-linejoin:miter;stroke-width:0.8;\"/>\r\n   </g>\r\n   <g id=\"text_17\">\r\n    <!-- Interventions by days of week -->\r\n    <defs>\r\n     <path d=\"M 9.8125 72.90625 \r\nL 19.671875 72.90625 \r\nL 19.671875 0 \r\nL 9.8125 0 \r\nz\r\n\" id=\"DejaVuSans-73\"/>\r\n     <path d=\"M 2.984375 54.6875 \r\nL 12.5 54.6875 \r\nL 29.59375 8.796875 \r\nL 46.6875 54.6875 \r\nL 56.203125 54.6875 \r\nL 35.6875 0 \r\nL 23.484375 0 \r\nz\r\n\" id=\"DejaVuSans-118\"/>\r\n     <path id=\"DejaVuSans-32\"/>\r\n     <path d=\"M 48.6875 27.296875 \r\nQ 48.6875 37.203125 44.609375 42.84375 \r\nQ 40.53125 48.484375 33.40625 48.484375 \r\nQ 26.265625 48.484375 22.1875 42.84375 \r\nQ 18.109375 37.203125 18.109375 27.296875 \r\nQ 18.109375 17.390625 22.1875 11.75 \r\nQ 26.265625 6.109375 33.40625 6.109375 \r\nQ 40.53125 6.109375 44.609375 11.75 \r\nQ 48.6875 17.390625 48.6875 27.296875 \r\nz\r\nM 18.109375 46.390625 \r\nQ 20.953125 51.265625 25.265625 53.625 \r\nQ 29.59375 56 35.59375 56 \r\nQ 45.5625 56 51.78125 48.09375 \r\nQ 58.015625 40.1875 58.015625 27.296875 \r\nQ 58.015625 14.40625 51.78125 6.484375 \r\nQ 45.5625 -1.421875 35.59375 -1.421875 \r\nQ 29.59375 -1.421875 25.265625 0.953125 \r\nQ 20.953125 3.328125 18.109375 8.203125 \r\nL 18.109375 0 \r\nL 9.078125 0 \r\nL 9.078125 75.984375 \r\nL 18.109375 75.984375 \r\nz\r\n\" id=\"DejaVuSans-98\"/>\r\n     <path d=\"M 37.109375 75.984375 \r\nL 37.109375 68.5 \r\nL 28.515625 68.5 \r\nQ 23.6875 68.5 21.796875 66.546875 \r\nQ 19.921875 64.59375 19.921875 59.515625 \r\nL 19.921875 54.6875 \r\nL 34.71875 54.6875 \r\nL 34.71875 47.703125 \r\nL 19.921875 47.703125 \r\nL 19.921875 0 \r\nL 10.890625 0 \r\nL 10.890625 47.703125 \r\nL 2.296875 47.703125 \r\nL 2.296875 54.6875 \r\nL 10.890625 54.6875 \r\nL 10.890625 58.5 \r\nQ 10.890625 67.625 15.140625 71.796875 \r\nQ 19.390625 75.984375 28.609375 75.984375 \r\nz\r\n\" id=\"DejaVuSans-102\"/>\r\n     <path d=\"M 4.203125 54.6875 \r\nL 13.1875 54.6875 \r\nL 24.421875 12.015625 \r\nL 35.59375 54.6875 \r\nL 46.1875 54.6875 \r\nL 57.421875 12.015625 \r\nL 68.609375 54.6875 \r\nL 77.59375 54.6875 \r\nL 63.28125 0 \r\nL 52.6875 0 \r\nL 40.921875 44.828125 \r\nL 29.109375 0 \r\nL 18.5 0 \r\nz\r\n\" id=\"DejaVuSans-119\"/>\r\n     <path d=\"M 9.078125 75.984375 \r\nL 18.109375 75.984375 \r\nL 18.109375 31.109375 \r\nL 44.921875 54.6875 \r\nL 56.390625 54.6875 \r\nL 27.390625 29.109375 \r\nL 57.625 0 \r\nL 45.90625 0 \r\nL 18.109375 26.703125 \r\nL 18.109375 0 \r\nL 9.078125 0 \r\nz\r\n\" id=\"DejaVuSans-107\"/>\r\n    </defs>\r\n    <g transform=\"translate(158.84125 16.318125)scale(0.12 -0.12)\">\r\n     <use xlink:href=\"#DejaVuSans-73\"/>\r\n     <use x=\"29.492188\" xlink:href=\"#DejaVuSans-110\"/>\r\n     <use x=\"92.871094\" xlink:href=\"#DejaVuSans-116\"/>\r\n     <use x=\"132.080078\" xlink:href=\"#DejaVuSans-101\"/>\r\n     <use x=\"193.603516\" xlink:href=\"#DejaVuSans-114\"/>\r\n     <use x=\"234.716797\" xlink:href=\"#DejaVuSans-118\"/>\r\n     <use x=\"293.896484\" xlink:href=\"#DejaVuSans-101\"/>\r\n     <use x=\"355.419922\" xlink:href=\"#DejaVuSans-110\"/>\r\n     <use x=\"418.798828\" xlink:href=\"#DejaVuSans-116\"/>\r\n     <use x=\"458.007812\" xlink:href=\"#DejaVuSans-105\"/>\r\n     <use x=\"485.791016\" xlink:href=\"#DejaVuSans-111\"/>\r\n     <use x=\"546.972656\" xlink:href=\"#DejaVuSans-110\"/>\r\n     <use x=\"610.351562\" xlink:href=\"#DejaVuSans-115\"/>\r\n     <use x=\"662.451172\" xlink:href=\"#DejaVuSans-32\"/>\r\n     <use x=\"694.238281\" xlink:href=\"#DejaVuSans-98\"/>\r\n     <use x=\"757.714844\" xlink:href=\"#DejaVuSans-121\"/>\r\n     <use x=\"816.894531\" xlink:href=\"#DejaVuSans-32\"/>\r\n     <use x=\"848.681641\" xlink:href=\"#DejaVuSans-100\"/>\r\n     <use x=\"912.158203\" xlink:href=\"#DejaVuSans-97\"/>\r\n     <use x=\"973.4375\" xlink:href=\"#DejaVuSans-121\"/>\r\n     <use x=\"1032.617188\" xlink:href=\"#DejaVuSans-115\"/>\r\n     <use x=\"1084.716797\" xlink:href=\"#DejaVuSans-32\"/>\r\n     <use x=\"1116.503906\" xlink:href=\"#DejaVuSans-111\"/>\r\n     <use x=\"1177.685547\" xlink:href=\"#DejaVuSans-102\"/>\r\n     <use x=\"1212.890625\" xlink:href=\"#DejaVuSans-32\"/>\r\n     <use x=\"1244.677734\" xlink:href=\"#DejaVuSans-119\"/>\r\n     <use x=\"1326.464844\" xlink:href=\"#DejaVuSans-101\"/>\r\n     <use x=\"1387.988281\" xlink:href=\"#DejaVuSans-101\"/>\r\n     <use x=\"1449.511719\" xlink:href=\"#DejaVuSans-107\"/>\r\n    </g>\r\n   </g>\r\n  </g>\r\n </g>\r\n <defs>\r\n  <clipPath id=\"pf1674078bb\">\r\n   <rect height=\"288\" width=\"432\" x=\"33.2875\" y=\"22.318125\"/>\r\n  </clipPath>\r\n </defs>\r\n</svg>\r\n",
      "image/png": "[encoded data removed]"
     },
     "metadata": {
      "needs_background": "light"
     }
    }
   ],
   "source": [
    "import matplotlib.pyplot as plt\n",
    "fig = plt.figure()\n",
    "axes = fig.add_axes([0,0,1,1])\n",
    "\n",
    "axes.bar(day_intervention.index, np.array(day_intervention['id']))\n",
    "\n",
    "plt.title('Interventions by days of week')"
   ]
  },
  {
   "source": [
    "#### 5. Wczytaj do projektu dane dotyczące populacji w poszczególnych stanach USA oraz dane dotyczące skrótów poszczególnych stanów. Połącz te bazy danych w taki sposób, aby móc policzyć do ilu incydentów w bazie dotyczącej śmiertelnych interwencji doszło w przeliczeniu na 1000 mieszkańców każdego ze stanów."
   ],
   "cell_type": "markdown",
   "metadata": {}
  },
  {
   "cell_type": "code",
   "execution_count": 194,
   "metadata": {},
   "outputs": [],
   "source": [
    "population = pd.read_html('https://simple.wikipedia.org/wiki/List_of_U.S._states_by_population', header=0)"
   ]
  },
  {
   "cell_type": "code",
   "execution_count": 191,
   "metadata": {},
   "outputs": [
    {
     "output_type": "execute_result",
     "data": {
      "text/plain": [
       "list"
      ]
     },
     "metadata": {},
     "execution_count": 191
    }
   ],
   "source": [
    "type(population)"
   ]
  },
  {
   "cell_type": "code",
   "execution_count": 195,
   "metadata": {},
   "outputs": [
    {
     "output_type": "execute_result",
     "data": {
      "text/plain": [
       "   Rank in states & territories, 2019  ...  Percent of the total U.S. population, 2018[note 3]\n",
       "0                                 1.0  ...                                             11.96% \n",
       "1                                 NaN  ...                                              8.68% \n",
       "2                                 NaN  ...                                              6.44% \n",
       "3                                 NaN  ...                                              5.91% \n",
       "4                                 NaN  ...                                              3.87% \n",
       "\n",
       "[5 rows x 12 columns]"
      ],
      "text/html": "<div>\n<style scoped>\n    .dataframe tbody tr th:only-of-type {\n        vertical-align: middle;\n    }\n\n    .dataframe tbody tr th {\n        vertical-align: top;\n    }\n\n    .dataframe thead th {\n        text-align: right;\n    }\n</style>\n<table border=\"1\" class=\"dataframe\">\n  <thead>\n    <tr style=\"text-align: right;\">\n      <th></th>\n      <th>Rank in states &amp; territories, 2019</th>\n      <th>Rank in states &amp; territories, 2010</th>\n      <th>State</th>\n      <th>Population estimate, July 1, 2019[2]</th>\n      <th>Census population, April 1, 2010[3]</th>\n      <th>Percent change, 2010–2019[note 1]</th>\n      <th>Absolute change, 2010-2019</th>\n      <th>Total seats in the U.S. House of Representatives, 2013–2023</th>\n      <th>Estimated population per electoral vote, 2019[note 2]</th>\n      <th>Estimated population per House seat, 2019</th>\n      <th>Census population per House seat, 2010</th>\n      <th>Percent of the total U.S. population, 2018[note 3]</th>\n    </tr>\n  </thead>\n  <tbody>\n    <tr>\n      <th>0</th>\n      <td>1.0</td>\n      <td>NaN</td>\n      <td>California</td>\n      <td>39512223</td>\n      <td>37254523</td>\n      <td>6.1%</td>\n      <td>+2,257,700</td>\n      <td>NaN</td>\n      <td>718404</td>\n      <td>745514</td>\n      <td>702885</td>\n      <td>11.96%</td>\n    </tr>\n    <tr>\n      <th>1</th>\n      <td>NaN</td>\n      <td>NaN</td>\n      <td>Texas</td>\n      <td>28995881</td>\n      <td>25145561</td>\n      <td>15.3%</td>\n      <td>+3,850,320</td>\n      <td>NaN</td>\n      <td>763050</td>\n      <td>805441</td>\n      <td>698503</td>\n      <td>8.68%</td>\n    </tr>\n    <tr>\n      <th>2</th>\n      <td>NaN</td>\n      <td>NaN</td>\n      <td>Florida</td>\n      <td>21477737</td>\n      <td>18801310</td>\n      <td>14.2%</td>\n      <td>+2,676,427</td>\n      <td>NaN</td>\n      <td>740611</td>\n      <td>795472</td>\n      <td>696468</td>\n      <td>6.44%</td>\n    </tr>\n    <tr>\n      <th>3</th>\n      <td>NaN</td>\n      <td>NaN</td>\n      <td>New York</td>\n      <td>19453561</td>\n      <td>19378102</td>\n      <td>0.4%</td>\n      <td>+75,459</td>\n      <td>NaN</td>\n      <td>670812</td>\n      <td>720502</td>\n      <td>717707</td>\n      <td>5.91%</td>\n    </tr>\n    <tr>\n      <th>4</th>\n      <td>NaN</td>\n      <td>NaN</td>\n      <td>Pennsylvania</td>\n      <td>12801989</td>\n      <td>12702379</td>\n      <td>0.8%</td>\n      <td>+99,610</td>\n      <td>NaN</td>\n      <td>640099</td>\n      <td>711222</td>\n      <td>705715</td>\n      <td>3.87%</td>\n    </tr>\n  </tbody>\n</table>\n</div>"
     },
     "metadata": {},
     "execution_count": 195
    }
   ],
   "source": [
    "population = population[0]\n",
    "population.head()"
   ]
  },
  {
   "cell_type": "code",
   "execution_count": 199,
   "metadata": {},
   "outputs": [],
   "source": [
    "states = pd.read_html('https://en.wikipedia.org/wiki/List_of_U.S._state_and_territory_abbreviations', header=0)"
   ]
  },
  {
   "cell_type": "code",
   "execution_count": 208,
   "metadata": {},
   "outputs": [
    {
     "output_type": "execute_result",
     "data": {
      "text/plain": [
       "                                                                                                                                                                                                                                                                \n",
       "3                                                USPS                                                                                                                                                                                                                                                                                                                                                                                                                                                                                                                                              ...                                                NaN                                                                                                                                                                                                                                                                                                                                                                                                                                                                                                                                              \n",
       "4                                                USCG                                                                                                                                                                                                                                                                                                                                                                                                                                                                                                                                              ...                                                NaN                                                                                                                                                                                                                                                                                                                                                                                                                                                                                                                                              \n",
       "5                                      Abbreviations:                                                                                                                                                                                                                                                                                                                                                                                                                                                                                                                                              ...                                                NaN                                                                                                                                                                                                                                                                                                                                                                                                                                                                                                                                              \n",
       "6                                                 GPO                                                                                                                                                                                                                                                                                                                                                                                                                                                                                                                                              ...                                                NaN                                                                                                                                                                                                                                                                                                                                                                                                                                                                                                                                              \n",
       "7                                                  AP                                                                                                                                                                                                                                                                                                                                                                                                                                                                                                                                              ...                                                NaN                                                                                                                                                                                                                                                                                                                                                                                                                                                                                                                                              \n",
       "8                           Name and status of region                                                                                                                                                                                                                                                                                                                                                                                                                                                                                                                                              ...                                 Otherabbreviations                                                                                                                                                                                                                                                                                                                                                                                                                                                                                                                                              \n",
       "9                                                 NaN                                                                                                                                                                                                                                                                                                                                                                                                                                                                                                                                              ...                                 Otherabbreviations                                                                                                                                                                                                                                                                                                                                                                                                                                                                                                                                              \n",
       "10                           United States of America                                                                                                                                                                                                                                                                                                                                                                                                                                                                                                                                              ...                                             U.S.A.                                                                                                                                                                                                                                                                                                                                                                                                                                                                                                                                              \n",
       "11                                            Alabama                                                                                                                                                                                                                                                                                                                                                                                                                                                                                                                                              ...                                                NaN                                                                                                                                                                                                                                                                                                                                                                                                                                                                                                                                              \n",
       "12                                             Alaska                                                                                                                                                                                                                                                                                                                                                                                                                                                                                                                                              ...                                             Ak.[1]                                                                                                                                                                                                                                                                                                                                                                                                                                                                                                                                              \n",
       "13                                            Arizona                                                                                                                                                                                                                                                                                                                                                                                                                                                                                                                                              ...                                                NaN                                                                                                                                                                                                                                                                                                                                                                                                                                                                                                                                              \n",
       "14                                           Arkansas                                                                                                                                                                                                                                                                                                                                                                                                                                                                                                                                              ...                                                NaN                                                                                                                                                                                                                                                                                                                                                                                                                                                                                                                                              \n",
       "15                                         California                                                                                                                                                                                                                                                                                                                                                                                                                                                                                                                                              ...                                         Cal. or Ca                                                                                                                                                                                                                                                                                                                                                                                                                                                                                                                                              \n",
       "16                                           Colorado                                                                                                                                                                                                                                                                                                                                                                                                                                                                                                                                              ...                                                NaN                                                                                                                                                                                                                                                                                                                                                                                                                                                                                                                                              \n",
       "17                                        Connecticut                                                                                                                                                                                                                                                                                                                                                                                                                                                                                                                                              ...                                                NaN                                                                                                                                                                                                                                                                                                                                                                                                                                                                                                                                              \n",
       "18                                           Delaware                                                                                                                                                                                                                                                                                                                                                                                                                                                                                                                                              ...                                                NaN                                                                                                                                                                                                                                                                                                                                                                                                                                                                                                                                              \n",
       "19                               District of Columbia                                                                                                                                                                                                                                                                                                                                                                                                                                                                                                                                              ...                                       Dis. Col.[2]                                                                                                                                                                                                                                                                                                                                                                                                                                                                                                                                              \n",
       "\n",
       "[20 rows x 10 columns]"
      ],
      "text/html": "<div>\n<style scoped>\n    .dataframe tbody tr th:only-of-type {\n        vertical-align: middle;\n    }\n\n    .dataframe tbody tr th {\n        vertical-align: top;\n    }\n\n    .dataframe thead th {\n        text-align: right;\n    }\n</style>\n<table border=\"1\" class=\"dataframe\">\n  <thead>\n    <tr style=\"text-align: right;\">\n      <th></th>\n      <th>Codes:  ISO ISO 3166 codes (2-letter, 3-letter, and 3-digit codes from ISO 3166-1; 2+2-letter codes from ISO 3166-2)  ANSI 2-letter and 2-digit codes from the ANSI standard INCITS 38:2009 (supersedes FIPS 5-2)  USPS 2-letter codes used by the United States Postal Service  USCG 2-letter codes used by the United States Coast Guard (bold red text shows differences between ANSI and USCG) Abbreviations:  GPO Older variable-length official US Government Printing Office abbreviations  AP Abbreviations from the AP Stylebook (bold red text shows differences between GPO and AP)</th>\n      <th>Codes:  ISO ISO 3166 codes (2-letter, 3-letter, and 3-digit codes from ISO 3166-1; 2+2-letter codes from ISO 3166-2)  ANSI 2-letter and 2-digit codes from the ANSI standard INCITS 38:2009 (supersedes FIPS 5-2)  USPS 2-letter codes used by the United States Postal Service  USCG 2-letter codes used by the United States Coast Guard (bold red text shows differences between ANSI and USCG) Abbreviations:  GPO Older variable-length official US Government Printing Office abbreviations  AP Abbreviations from the AP Stylebook (bold red text shows differences between GPO and AP).1</th>\n      <th>Codes:  ISO ISO 3166 codes (2-letter, 3-letter, and 3-digit codes from ISO 3166-1; 2+2-letter codes from ISO 3166-2)  ANSI 2-letter and 2-digit codes from the ANSI standard INCITS 38:2009 (supersedes FIPS 5-2)  USPS 2-letter codes used by the United States Postal Service  USCG 2-letter codes used by the United States Coast Guard (bold red text shows differences between ANSI and USCG) Abbreviations:  GPO Older variable-length official US Government Printing Office abbreviations  AP Abbreviations from the AP Stylebook (bold red text shows differences between GPO and AP).2</th>\n      <th>Codes:  ISO ISO 3166 codes (2-letter, 3-letter, and 3-digit codes from ISO 3166-1; 2+2-letter codes from ISO 3166-2)  ANSI 2-letter and 2-digit codes from the ANSI standard INCITS 38:2009 (supersedes FIPS 5-2)  USPS 2-letter codes used by the United States Postal Service  USCG 2-letter codes used by the United States Coast Guard (bold red text shows differences between ANSI and USCG) Abbreviations:  GPO Older variable-length official US Government Printing Office abbreviations  AP Abbreviations from the AP Stylebook (bold red text shows differences between GPO and AP).3</th>\n      <th>Codes:  ISO ISO 3166 codes (2-letter, 3-letter, and 3-digit codes from ISO 3166-1; 2+2-letter codes from ISO 3166-2)  ANSI 2-letter and 2-digit codes from the ANSI standard INCITS 38:2009 (supersedes FIPS 5-2)  USPS 2-letter codes used by the United States Postal Service  USCG 2-letter codes used by the United States Coast Guard (bold red text shows differences between ANSI and USCG) Abbreviations:  GPO Older variable-length official US Government Printing Office abbreviations  AP Abbreviations from the AP Stylebook (bold red text shows differences between GPO and AP).4</th>\n      <th>Codes:  ISO ISO 3166 codes (2-letter, 3-letter, and 3-digit codes from ISO 3166-1; 2+2-letter codes from ISO 3166-2)  ANSI 2-letter and 2-digit codes from the ANSI standard INCITS 38:2009 (supersedes FIPS 5-2)  USPS 2-letter codes used by the United States Postal Service  USCG 2-letter codes used by the United States Coast Guard (bold red text shows differences between ANSI and USCG) Abbreviations:  GPO Older variable-length official US Government Printing Office abbreviations  AP Abbreviations from the AP Stylebook (bold red text shows differences between GPO and AP).5</th>\n      <th>Codes:  ISO ISO 3166 codes (2-letter, 3-letter, and 3-digit codes from ISO 3166-1; 2+2-letter codes from ISO 3166-2)  ANSI 2-letter and 2-digit codes from the ANSI standard INCITS 38:2009 (supersedes FIPS 5-2)  USPS 2-letter codes used by the United States Postal Service  USCG 2-letter codes used by the United States Coast Guard (bold red text shows differences between ANSI and USCG) Abbreviations:  GPO Older variable-length official US Government Printing Office abbreviations  AP Abbreviations from the AP Stylebook (bold red text shows differences between GPO and AP).6</th>\n      <th>Codes:  ISO ISO 3166 codes (2-letter, 3-letter, and 3-digit codes from ISO 3166-1; 2+2-letter codes from ISO 3166-2)  ANSI 2-letter and 2-digit codes from the ANSI standard INCITS 38:2009 (supersedes FIPS 5-2)  USPS 2-letter codes used by the United States Postal Service  USCG 2-letter codes used by the United States Coast Guard (bold red text shows differences between ANSI and USCG) Abbreviations:  GPO Older variable-length official US Government Printing Office abbreviations  AP Abbreviations from the AP Stylebook (bold red text shows differences between GPO and AP).7</th>\n      <th>Codes:  ISO ISO 3166 codes (2-letter, 3-letter, and 3-digit codes from ISO 3166-1; 2+2-letter codes from ISO 3166-2)  ANSI 2-letter and 2-digit codes from the ANSI standard INCITS 38:2009 (supersedes FIPS 5-2)  USPS 2-letter codes used by the United States Postal Service  USCG 2-letter codes used by the United States Coast Guard (bold red text shows differences between ANSI and USCG) Abbreviations:  GPO Older variable-length official US Government Printing Office abbreviations  AP Abbreviations from the AP Stylebook (bold red text shows differences between GPO and AP).8</th>\n      <th>Codes:  ISO ISO 3166 codes (2-letter, 3-letter, and 3-digit codes from ISO 3166-1; 2+2-letter codes from ISO 3166-2)  ANSI 2-letter and 2-digit codes from the ANSI standard INCITS 38:2009 (supersedes FIPS 5-2)  USPS 2-letter codes used by the United States Postal Service  USCG 2-letter codes used by the United States Coast Guard (bold red text shows differences between ANSI and USCG) Abbreviations:  GPO Older variable-length official US Government Printing Office abbreviations  AP Abbreviations from the AP Stylebook (bold red text shows differences between GPO and AP).9</th>\n    </tr>\n  </thead>\n  <tbody>\n    <tr>\n      <th>0</th>\n      <td>Codes:</td>\n      <td>Codes:</td>\n      <td>NaN</td>\n      <td>NaN</td>\n      <td>NaN</td>\n      <td>NaN</td>\n      <td>NaN</td>\n      <td>NaN</td>\n      <td>NaN</td>\n      <td>NaN</td>\n    </tr>\n    <tr>\n      <th>1</th>\n      <td>ISO</td>\n      <td>ISO 3166 codes (2-letter, 3-letter, and 3-digi...</td>\n      <td>NaN</td>\n      <td>NaN</td>\n      <td>NaN</td>\n      <td>NaN</td>\n      <td>NaN</td>\n      <td>NaN</td>\n      <td>NaN</td>\n      <td>NaN</td>\n    </tr>\n    <tr>\n      <th>2</th>\n      <td>ANSI</td>\n      <td>2-letter and 2-digit codes from the ANSI stand...</td>\n      <td>NaN</td>\n      <td>NaN</td>\n      <td>NaN</td>\n      <td>NaN</td>\n      <td>NaN</td>\n      <td>NaN</td>\n      <td>NaN</td>\n      <td>NaN</td>\n    </tr>\n    <tr>\n      <th>3</th>\n      <td>USPS</td>\n      <td>2-letter codes used by the United States Posta...</td>\n      <td>NaN</td>\n      <td>NaN</td>\n      <td>NaN</td>\n      <td>NaN</td>\n      <td>NaN</td>\n      <td>NaN</td>\n      <td>NaN</td>\n      <td>NaN</td>\n    </tr>\n    <tr>\n      <th>4</th>\n      <td>USCG</td>\n      <td>2-letter codes used by the United States Coast...</td>\n      <td>NaN</td>\n      <td>NaN</td>\n      <td>NaN</td>\n      <td>NaN</td>\n      <td>NaN</td>\n      <td>NaN</td>\n      <td>NaN</td>\n      <td>NaN</td>\n    </tr>\n    <tr>\n      <th>5</th>\n      <td>Abbreviations:</td>\n      <td>Abbreviations:</td>\n      <td>NaN</td>\n      <td>NaN</td>\n      <td>NaN</td>\n      <td>NaN</td>\n      <td>NaN</td>\n      <td>NaN</td>\n      <td>NaN</td>\n      <td>NaN</td>\n    </tr>\n    <tr>\n      <th>6</th>\n      <td>GPO</td>\n      <td>Older variable-length official US Government P...</td>\n      <td>NaN</td>\n      <td>NaN</td>\n      <td>NaN</td>\n      <td>NaN</td>\n      <td>NaN</td>\n      <td>NaN</td>\n      <td>NaN</td>\n      <td>NaN</td>\n    </tr>\n    <tr>\n      <th>7</th>\n      <td>AP</td>\n      <td>Abbreviations from the AP Stylebook (bold red ...</td>\n      <td>Abbreviations from the AP Stylebook (bold red ...</td>\n      <td>NaN</td>\n      <td>NaN</td>\n      <td>NaN</td>\n      <td>NaN</td>\n      <td>NaN</td>\n      <td>NaN</td>\n      <td>NaN</td>\n    </tr>\n    <tr>\n      <th>8</th>\n      <td>Name and status of region</td>\n      <td>Name and status of region</td>\n      <td>ISO</td>\n      <td>ANSI</td>\n      <td>ANSI</td>\n      <td>USPS</td>\n      <td>USCG</td>\n      <td>GPO</td>\n      <td>AP</td>\n      <td>Otherabbreviations</td>\n    </tr>\n    <tr>\n      <th>9</th>\n      <td>NaN</td>\n      <td>NaN</td>\n      <td>NaN</td>\n      <td>NaN</td>\n      <td>NaN</td>\n      <td>NaN</td>\n      <td>NaN</td>\n      <td>GPO</td>\n      <td>AP</td>\n      <td>Otherabbreviations</td>\n    </tr>\n    <tr>\n      <th>10</th>\n      <td>United States of America</td>\n      <td>Federal state</td>\n      <td>.mw-parser-output .monospaced{font-family:mono...</td>\n      <td>US</td>\n      <td>00</td>\n      <td>NaN</td>\n      <td>NaN</td>\n      <td>U.S.</td>\n      <td>U.S.</td>\n      <td>U.S.A.</td>\n    </tr>\n    <tr>\n      <th>11</th>\n      <td>Alabama</td>\n      <td>State</td>\n      <td>US-AL</td>\n      <td>AL</td>\n      <td>01</td>\n      <td>AL</td>\n      <td>AL</td>\n      <td>Ala.</td>\n      <td>Ala.</td>\n      <td>NaN</td>\n    </tr>\n    <tr>\n      <th>12</th>\n      <td>Alaska</td>\n      <td>State</td>\n      <td>US-AK</td>\n      <td>AK</td>\n      <td>02</td>\n      <td>AK</td>\n      <td>AK</td>\n      <td>Alaska</td>\n      <td>Alaska</td>\n      <td>Ak.[1]</td>\n    </tr>\n    <tr>\n      <th>13</th>\n      <td>Arizona</td>\n      <td>State</td>\n      <td>US-AZ</td>\n      <td>AZ</td>\n      <td>04</td>\n      <td>AZ</td>\n      <td>AZ</td>\n      <td>Ariz.</td>\n      <td>Ariz.</td>\n      <td>NaN</td>\n    </tr>\n    <tr>\n      <th>14</th>\n      <td>Arkansas</td>\n      <td>State</td>\n      <td>US-AR</td>\n      <td>AR</td>\n      <td>05</td>\n      <td>AR</td>\n      <td>AR</td>\n      <td>Ark.</td>\n      <td>Ark.</td>\n      <td>NaN</td>\n    </tr>\n    <tr>\n      <th>15</th>\n      <td>California</td>\n      <td>State</td>\n      <td>US-CA</td>\n      <td>CA</td>\n      <td>06</td>\n      <td>CA</td>\n      <td>CF</td>\n      <td>Calif.</td>\n      <td>Calif.</td>\n      <td>Cal. or Ca</td>\n    </tr>\n    <tr>\n      <th>16</th>\n      <td>Colorado</td>\n      <td>State</td>\n      <td>US-CO</td>\n      <td>CO</td>\n      <td>08</td>\n      <td>CO</td>\n      <td>CL</td>\n      <td>Colo.</td>\n      <td>Colo.</td>\n      <td>NaN</td>\n    </tr>\n    <tr>\n      <th>17</th>\n      <td>Connecticut</td>\n      <td>State</td>\n      <td>US-CT</td>\n      <td>CT</td>\n      <td>09</td>\n      <td>CT</td>\n      <td>CT</td>\n      <td>Conn.</td>\n      <td>Conn.</td>\n      <td>NaN</td>\n    </tr>\n    <tr>\n      <th>18</th>\n      <td>Delaware</td>\n      <td>State</td>\n      <td>US-DE</td>\n      <td>DE</td>\n      <td>10</td>\n      <td>DE</td>\n      <td>DL</td>\n      <td>Del.</td>\n      <td>Del.</td>\n      <td>NaN</td>\n    </tr>\n    <tr>\n      <th>19</th>\n      <td>District of Columbia</td>\n      <td>Federal district</td>\n      <td>US-DC</td>\n      <td>DC</td>\n      <td>11</td>\n      <td>DC</td>\n      <td>DC</td>\n      <td>D.C.</td>\n      <td>D.C.</td>\n      <td>Dis. Col.[2]</td>\n    </tr>\n  </tbody>\n</table>\n</div>"
     },
     "metadata": {},
     "execution_count": 208
    }
   ],
   "source": [
    "states = states[0]\n",
    "states.head(20)"
   ]
  },
  {
   "cell_type": "code",
   "execution_count": 218,
   "metadata": {},
   "outputs": [
    {
     "output_type": "execute_result",
     "data": {
      "text/plain": [
       "'Codes:  ISO ISO 3166 codes (2-letter, 3-letter, and 3-digit codes from ISO 3166-1; 2+2-letter codes from ISO 3166-2)  ANSI 2-letter and 2-digit codes from the ANSI standard INCITS 38:2009 (supersedes FIPS 5-2)  USPS 2-letter codes used by the United States Postal Service  USCG 2-letter codes used by the United States Coast Guard (bold red text shows differences between ANSI and USCG) Abbreviations:  GPO Older variable-length official US Government Printing Office abbreviations  AP Abbreviations from the AP Stylebook (bold red text shows differences between GPO and AP)'"
      ]
     },
     "metadata": {},
     "execution_count": 218
    }
   ],
   "source": [
    "states.columns[0]"
   ]
  },
  {
   "cell_type": "code",
   "execution_count": 219,
   "metadata": {},
   "outputs": [
    {
     "output_type": "execute_result",
     "data": {
      "text/plain": [
       "'Codes:  ISO ISO 3166 codes (2-letter, 3-letter, and 3-digit codes from ISO 3166-1; 2+2-letter codes from ISO 3166-2)  ANSI 2-letter and 2-digit codes from the ANSI standard INCITS 38:2009 (supersedes FIPS 5-2)  USPS 2-letter codes used by the United States Postal Service  USCG 2-letter codes used by the United States Coast Guard (bold red text shows differences between ANSI and USCG) Abbreviations:  GPO Older variable-length official US Government Printing Office abbreviations  AP Abbreviations from the AP Stylebook (bold red text shows differences between GPO and AP).3'"
      ]
     },
     "metadata": {},
     "execution_count": 219
    }
   ],
   "source": [
    "states.columns[3]"
   ]
  },
  {
   "cell_type": "code",
   "execution_count": 220,
   "metadata": {},
   "outputs": [],
   "source": [
    "states.rename(columns={\"Codes:  ISO ISO 3166 codes (2-letter, 3-letter, and 3-digit codes from ISO 3166-1; 2+2-letter codes from ISO 3166-2)  ANSI 2-letter and 2-digit codes from the ANSI standard INCITS 38:2009 (supersedes FIPS 5-2)  USPS 2-letter codes used by the United States Postal Service  USCG 2-letter codes used by the United States Coast Guard (bold red text shows differences between ANSI and USCG) Abbreviations:  GPO Older variable-length official US Government Printing Office abbreviations  AP Abbreviations from the AP Stylebook (bold red text shows differences between GPO and AP)\": \"State\", \"Codes:  ISO ISO 3166 codes (2-letter, 3-letter, and 3-digit codes from ISO 3166-1; 2+2-letter codes from ISO 3166-2)  ANSI 2-letter and 2-digit codes from the ANSI standard INCITS 38:2009 (supersedes FIPS 5-2)  USPS 2-letter codes used by the United States Postal Service  USCG 2-letter codes used by the United States Coast Guard (bold red text shows differences between ANSI and USCG) Abbreviations:  GPO Older variable-length official US Government Printing Office abbreviations  AP Abbreviations from the AP Stylebook (bold red text shows differences between GPO and AP).3\": \"Abbreviation\"}, inplace=True)"
   ]
  },
  {
   "cell_type": "code",
   "execution_count": 221,
   "metadata": {},
   "outputs": [
    {
     "output_type": "execute_result",
     "data": {
      "text/plain": [
       "                                     State  ... Codes:  ISO ISO 3166 codes (2-letter, 3-letter, and 3-digit codes from ISO 3166-1; 2+2-letter codes from ISO 3166-2)  ANSI 2-letter and 2-digit codes from the ANSI standard INCITS 38:2009 (supersedes FIPS 5-2)  USPS 2-letter codes used by the United States Postal Service  USCG 2-letter codes used by the United States Coast Guard (bold red text shows differences between ANSI and USCG) Abbreviations:  GPO Older variable-length official US Government Printing Office abbreviations  AP Abbreviations from the AP Stylebook (bold red text shows differences between GPO and AP).9\n",
       "0                                   Codes:  ...                                                NaN                                                                                                                                                                                                                                                                                                                                                                                                                                                                                                                                              \n",
       "1                                      ISO  ...                                                NaN                                                                                                                                                                                                                                                                                                                                                                                                                                                                                                                                              \n",
       "2                                     ANSI  ...                                                NaN                                                                                                                                                                                                                                                                                                                                                                                                                                                                                                                                              \n",
       "3                                     USPS  ...                                                NaN                                                                                                                                                                                                                                                                                                                                                                                                                                                                                                                                              \n",
       "4                                     USCG  ...                                                NaN                                                                                                                                                                                                                                                                                                                                                                                                                                                                                                                                              \n",
       "..                                     ...  ...                                                ...                                                                                                                                                                                                                                                                                                                                                                                                                                                                                                                                              \n",
       "83                Northern Mariana Islands  ...                                                NaN                                                                                                                                                                                                                                                                                                                                                                                                                                                                                                                                              \n",
       "84                       Panama Canal Zone  ...                                                NaN                                                                                                                                                                                                                                                                                                                                                                                                                                                                                                                                              \n",
       "85                                Nebraska  ...                                                NaN                                                                                                                                                                                                                                                                                                                                                                                                                                                                                                                                              \n",
       "86                      Philippine Islands  ...                                                NaN                                                                                                                                                                                                                                                                                                                                                                                                                                                                                                                                              \n",
       "87  Trust Territory of the Pacific Islands  ...                                                NaN                                                                                                                                                                                                                                                                                                                                                                                                                                                                                                                                              \n",
       "\n",
       "[88 rows x 10 columns]"
      ],
      "text/html": "<div>\n<style scoped>\n    .dataframe tbody tr th:only-of-type {\n        vertical-align: middle;\n    }\n\n    .dataframe tbody tr th {\n        vertical-align: top;\n    }\n\n    .dataframe thead th {\n        text-align: right;\n    }\n</style>\n<table border=\"1\" class=\"dataframe\">\n  <thead>\n    <tr style=\"text-align: right;\">\n      <th></th>\n      <th>State</th>\n      <th>Codes:  ISO ISO 3166 codes (2-letter, 3-letter, and 3-digit codes from ISO 3166-1; 2+2-letter codes from ISO 3166-2)  ANSI 2-letter and 2-digit codes from the ANSI standard INCITS 38:2009 (supersedes FIPS 5-2)  USPS 2-letter codes used by the United States Postal Service  USCG 2-letter codes used by the United States Coast Guard (bold red text shows differences between ANSI and USCG) Abbreviations:  GPO Older variable-length official US Government Printing Office abbreviations  AP Abbreviations from the AP Stylebook (bold red text shows differences between GPO and AP).1</th>\n      <th>Codes:  ISO ISO 3166 codes (2-letter, 3-letter, and 3-digit codes from ISO 3166-1; 2+2-letter codes from ISO 3166-2)  ANSI 2-letter and 2-digit codes from the ANSI standard INCITS 38:2009 (supersedes FIPS 5-2)  USPS 2-letter codes used by the United States Postal Service  USCG 2-letter codes used by the United States Coast Guard (bold red text shows differences between ANSI and USCG) Abbreviations:  GPO Older variable-length official US Government Printing Office abbreviations  AP Abbreviations from the AP Stylebook (bold red text shows differences between GPO and AP).2</th>\n      <th>Abbreviation</th>\n      <th>Codes:  ISO ISO 3166 codes (2-letter, 3-letter, and 3-digit codes from ISO 3166-1; 2+2-letter codes from ISO 3166-2)  ANSI 2-letter and 2-digit codes from the ANSI standard INCITS 38:2009 (supersedes FIPS 5-2)  USPS 2-letter codes used by the United States Postal Service  USCG 2-letter codes used by the United States Coast Guard (bold red text shows differences between ANSI and USCG) Abbreviations:  GPO Older variable-length official US Government Printing Office abbreviations  AP Abbreviations from the AP Stylebook (bold red text shows differences between GPO and AP).4</th>\n      <th>Codes:  ISO ISO 3166 codes (2-letter, 3-letter, and 3-digit codes from ISO 3166-1; 2+2-letter codes from ISO 3166-2)  ANSI 2-letter and 2-digit codes from the ANSI standard INCITS 38:2009 (supersedes FIPS 5-2)  USPS 2-letter codes used by the United States Postal Service  USCG 2-letter codes used by the United States Coast Guard (bold red text shows differences between ANSI and USCG) Abbreviations:  GPO Older variable-length official US Government Printing Office abbreviations  AP Abbreviations from the AP Stylebook (bold red text shows differences between GPO and AP).5</th>\n      <th>Codes:  ISO ISO 3166 codes (2-letter, 3-letter, and 3-digit codes from ISO 3166-1; 2+2-letter codes from ISO 3166-2)  ANSI 2-letter and 2-digit codes from the ANSI standard INCITS 38:2009 (supersedes FIPS 5-2)  USPS 2-letter codes used by the United States Postal Service  USCG 2-letter codes used by the United States Coast Guard (bold red text shows differences between ANSI and USCG) Abbreviations:  GPO Older variable-length official US Government Printing Office abbreviations  AP Abbreviations from the AP Stylebook (bold red text shows differences between GPO and AP).6</th>\n      <th>Codes:  ISO ISO 3166 codes (2-letter, 3-letter, and 3-digit codes from ISO 3166-1; 2+2-letter codes from ISO 3166-2)  ANSI 2-letter and 2-digit codes from the ANSI standard INCITS 38:2009 (supersedes FIPS 5-2)  USPS 2-letter codes used by the United States Postal Service  USCG 2-letter codes used by the United States Coast Guard (bold red text shows differences between ANSI and USCG) Abbreviations:  GPO Older variable-length official US Government Printing Office abbreviations  AP Abbreviations from the AP Stylebook (bold red text shows differences between GPO and AP).7</th>\n      <th>Codes:  ISO ISO 3166 codes (2-letter, 3-letter, and 3-digit codes from ISO 3166-1; 2+2-letter codes from ISO 3166-2)  ANSI 2-letter and 2-digit codes from the ANSI standard INCITS 38:2009 (supersedes FIPS 5-2)  USPS 2-letter codes used by the United States Postal Service  USCG 2-letter codes used by the United States Coast Guard (bold red text shows differences between ANSI and USCG) Abbreviations:  GPO Older variable-length official US Government Printing Office abbreviations  AP Abbreviations from the AP Stylebook (bold red text shows differences between GPO and AP).8</th>\n      <th>Codes:  ISO ISO 3166 codes (2-letter, 3-letter, and 3-digit codes from ISO 3166-1; 2+2-letter codes from ISO 3166-2)  ANSI 2-letter and 2-digit codes from the ANSI standard INCITS 38:2009 (supersedes FIPS 5-2)  USPS 2-letter codes used by the United States Postal Service  USCG 2-letter codes used by the United States Coast Guard (bold red text shows differences between ANSI and USCG) Abbreviations:  GPO Older variable-length official US Government Printing Office abbreviations  AP Abbreviations from the AP Stylebook (bold red text shows differences between GPO and AP).9</th>\n    </tr>\n  </thead>\n  <tbody>\n    <tr>\n      <th>0</th>\n      <td>Codes:</td>\n      <td>Codes:</td>\n      <td>NaN</td>\n      <td>NaN</td>\n      <td>NaN</td>\n      <td>NaN</td>\n      <td>NaN</td>\n      <td>NaN</td>\n      <td>NaN</td>\n      <td>NaN</td>\n    </tr>\n    <tr>\n      <th>1</th>\n      <td>ISO</td>\n      <td>ISO 3166 codes (2-letter, 3-letter, and 3-digi...</td>\n      <td>NaN</td>\n      <td>NaN</td>\n      <td>NaN</td>\n      <td>NaN</td>\n      <td>NaN</td>\n      <td>NaN</td>\n      <td>NaN</td>\n      <td>NaN</td>\n    </tr>\n    <tr>\n      <th>2</th>\n      <td>ANSI</td>\n      <td>2-letter and 2-digit codes from the ANSI stand...</td>\n      <td>NaN</td>\n      <td>NaN</td>\n      <td>NaN</td>\n      <td>NaN</td>\n      <td>NaN</td>\n      <td>NaN</td>\n      <td>NaN</td>\n      <td>NaN</td>\n    </tr>\n    <tr>\n      <th>3</th>\n      <td>USPS</td>\n      <td>2-letter codes used by the United States Posta...</td>\n      <td>NaN</td>\n      <td>NaN</td>\n      <td>NaN</td>\n      <td>NaN</td>\n      <td>NaN</td>\n      <td>NaN</td>\n      <td>NaN</td>\n      <td>NaN</td>\n    </tr>\n    <tr>\n      <th>4</th>\n      <td>USCG</td>\n      <td>2-letter codes used by the United States Coast...</td>\n      <td>NaN</td>\n      <td>NaN</td>\n      <td>NaN</td>\n      <td>NaN</td>\n      <td>NaN</td>\n      <td>NaN</td>\n      <td>NaN</td>\n      <td>NaN</td>\n    </tr>\n    <tr>\n      <th>...</th>\n      <td>...</td>\n      <td>...</td>\n      <td>...</td>\n      <td>...</td>\n      <td>...</td>\n      <td>...</td>\n      <td>...</td>\n      <td>...</td>\n      <td>...</td>\n      <td>...</td>\n    </tr>\n    <tr>\n      <th>83</th>\n      <td>Northern Mariana Islands</td>\n      <td>Obsolete postal code[g]</td>\n      <td>NaN</td>\n      <td>NaN</td>\n      <td>NaN</td>\n      <td>CM</td>\n      <td>NaN</td>\n      <td>NaN</td>\n      <td>NaN</td>\n      <td>NaN</td>\n    </tr>\n    <tr>\n      <th>84</th>\n      <td>Panama Canal Zone</td>\n      <td>Obsolete postal code</td>\n      <td>PZPCZ594</td>\n      <td>NaN</td>\n      <td>NaN</td>\n      <td>CZ</td>\n      <td>NaN</td>\n      <td>NaN</td>\n      <td>NaN</td>\n      <td>NaN</td>\n    </tr>\n    <tr>\n      <th>85</th>\n      <td>Nebraska</td>\n      <td>Obsolete postal code[h]</td>\n      <td>NaN</td>\n      <td>NaN</td>\n      <td>NaN</td>\n      <td>NB</td>\n      <td>NaN</td>\n      <td>NaN</td>\n      <td>NaN</td>\n      <td>NaN</td>\n    </tr>\n    <tr>\n      <th>86</th>\n      <td>Philippine Islands</td>\n      <td>Obsolete postal code</td>\n      <td>PHPHL608[8]</td>\n      <td>NaN</td>\n      <td>NaN</td>\n      <td>PI</td>\n      <td>NaN</td>\n      <td>NaN</td>\n      <td>NaN</td>\n      <td>NaN</td>\n    </tr>\n    <tr>\n      <th>87</th>\n      <td>Trust Territory of the Pacific Islands</td>\n      <td>Obsolete postal code</td>\n      <td>PCPCI582</td>\n      <td>NaN</td>\n      <td>NaN</td>\n      <td>TT</td>\n      <td>NaN</td>\n      <td>NaN</td>\n      <td>NaN</td>\n      <td>NaN</td>\n    </tr>\n  </tbody>\n</table>\n<p>88 rows × 10 columns</p>\n</div>"
     },
     "metadata": {},
     "execution_count": 221
    }
   ],
   "source": [
    "states"
   ]
  },
  {
   "cell_type": "code",
   "execution_count": 222,
   "metadata": {},
   "outputs": [],
   "source": [
    "population = pd.merge(population,states[['State','Abbreviation']],on='State', how='left')"
   ]
  },
  {
   "cell_type": "code",
   "execution_count": 223,
   "metadata": {},
   "outputs": [
    {
     "output_type": "execute_result",
     "data": {
      "text/plain": [
       "    Rank in states & territories, 2019  ...  Abbreviation\n",
       "0                                  1.0  ...            CA\n",
       "1                                  NaN  ...            TX\n",
       "2                                  NaN  ...            FL\n",
       "3                                  NaN  ...            NY\n",
       "4                                  NaN  ...            PA\n",
       "5                                  NaN  ...            IL\n",
       "6                                  NaN  ...            OH\n",
       "7                                  NaN  ...            GA\n",
       "8                                  NaN  ...            NC\n",
       "9                                  NaN  ...            MI\n",
       "10                                 NaN  ...            NJ\n",
       "11                                 NaN  ...            VA\n",
       "12                                 NaN  ...            WA\n",
       "13                                 NaN  ...            AZ\n",
       "14                                 NaN  ...            MA\n",
       "15                                 NaN  ...            TN\n",
       "16                                 NaN  ...            IN\n",
       "17                                 NaN  ...            MO\n",
       "18                                 NaN  ...            MD\n",
       "19                                 NaN  ...            WI\n",
       "\n",
       "[20 rows x 13 columns]"
      ],
      "text/html": "<div>\n<style scoped>\n    .dataframe tbody tr th:only-of-type {\n        vertical-align: middle;\n    }\n\n    .dataframe tbody tr th {\n        vertical-align: top;\n    }\n\n    .dataframe thead th {\n        text-align: right;\n    }\n</style>\n<table border=\"1\" class=\"dataframe\">\n  <thead>\n    <tr style=\"text-align: right;\">\n      <th></th>\n      <th>Rank in states &amp; territories, 2019</th>\n      <th>Rank in states &amp; territories, 2010</th>\n      <th>State</th>\n      <th>Population estimate, July 1, 2019[2]</th>\n      <th>Census population, April 1, 2010[3]</th>\n      <th>Percent change, 2010–2019[note 1]</th>\n      <th>Absolute change, 2010-2019</th>\n      <th>Total seats in the U.S. House of Representatives, 2013–2023</th>\n      <th>Estimated population per electoral vote, 2019[note 2]</th>\n      <th>Estimated population per House seat, 2019</th>\n      <th>Census population per House seat, 2010</th>\n      <th>Percent of the total U.S. population, 2018[note 3]</th>\n      <th>Abbreviation</th>\n    </tr>\n  </thead>\n  <tbody>\n    <tr>\n      <th>0</th>\n      <td>1.0</td>\n      <td>NaN</td>\n      <td>California</td>\n      <td>39512223</td>\n      <td>37254523</td>\n      <td>6.1%</td>\n      <td>+2,257,700</td>\n      <td>NaN</td>\n      <td>718404</td>\n      <td>745514</td>\n      <td>702885</td>\n      <td>11.96%</td>\n      <td>CA</td>\n    </tr>\n    <tr>\n      <th>1</th>\n      <td>NaN</td>\n      <td>NaN</td>\n      <td>Texas</td>\n      <td>28995881</td>\n      <td>25145561</td>\n      <td>15.3%</td>\n      <td>+3,850,320</td>\n      <td>NaN</td>\n      <td>763050</td>\n      <td>805441</td>\n      <td>698503</td>\n      <td>8.68%</td>\n      <td>TX</td>\n    </tr>\n    <tr>\n      <th>2</th>\n      <td>NaN</td>\n      <td>NaN</td>\n      <td>Florida</td>\n      <td>21477737</td>\n      <td>18801310</td>\n      <td>14.2%</td>\n      <td>+2,676,427</td>\n      <td>NaN</td>\n      <td>740611</td>\n      <td>795472</td>\n      <td>696468</td>\n      <td>6.44%</td>\n      <td>FL</td>\n    </tr>\n    <tr>\n      <th>3</th>\n      <td>NaN</td>\n      <td>NaN</td>\n      <td>New York</td>\n      <td>19453561</td>\n      <td>19378102</td>\n      <td>0.4%</td>\n      <td>+75,459</td>\n      <td>NaN</td>\n      <td>670812</td>\n      <td>720502</td>\n      <td>717707</td>\n      <td>5.91%</td>\n      <td>NY</td>\n    </tr>\n    <tr>\n      <th>4</th>\n      <td>NaN</td>\n      <td>NaN</td>\n      <td>Pennsylvania</td>\n      <td>12801989</td>\n      <td>12702379</td>\n      <td>0.8%</td>\n      <td>+99,610</td>\n      <td>NaN</td>\n      <td>640099</td>\n      <td>711222</td>\n      <td>705715</td>\n      <td>3.87%</td>\n      <td>PA</td>\n    </tr>\n    <tr>\n      <th>5</th>\n      <td>NaN</td>\n      <td>NaN</td>\n      <td>Illinois</td>\n      <td>12671821</td>\n      <td>12830632</td>\n      <td>-1.2%</td>\n      <td>−158,811</td>\n      <td>NaN</td>\n      <td>633591</td>\n      <td>703990</td>\n      <td>712864</td>\n      <td>3.85%</td>\n      <td>IL</td>\n    </tr>\n    <tr>\n      <th>6</th>\n      <td>NaN</td>\n      <td>NaN</td>\n      <td>Ohio</td>\n      <td>11689100</td>\n      <td>11536504</td>\n      <td>1.3%</td>\n      <td>+152,596</td>\n      <td>NaN</td>\n      <td>649394</td>\n      <td>730569</td>\n      <td>721032</td>\n      <td>3.53%</td>\n      <td>OH</td>\n    </tr>\n    <tr>\n      <th>7</th>\n      <td>NaN</td>\n      <td>NaN</td>\n      <td>Georgia</td>\n      <td>10617423</td>\n      <td>9687653</td>\n      <td>9.6%</td>\n      <td>+929,770</td>\n      <td>NaN</td>\n      <td>663589</td>\n      <td>758387</td>\n      <td>691975</td>\n      <td>3.18%</td>\n      <td>GA</td>\n    </tr>\n    <tr>\n      <th>8</th>\n      <td>NaN</td>\n      <td>NaN</td>\n      <td>North Carolina</td>\n      <td>10488084</td>\n      <td>9535483</td>\n      <td>10.0%</td>\n      <td>+952,601</td>\n      <td>NaN</td>\n      <td>699206</td>\n      <td>806776</td>\n      <td>733498</td>\n      <td>3.14%</td>\n      <td>NC</td>\n    </tr>\n    <tr>\n      <th>9</th>\n      <td>NaN</td>\n      <td>NaN</td>\n      <td>Michigan</td>\n      <td>9986857</td>\n      <td>9883640</td>\n      <td>1.0%</td>\n      <td>+103,217</td>\n      <td>NaN</td>\n      <td>624179</td>\n      <td>713347</td>\n      <td>705974</td>\n      <td>3.02%</td>\n      <td>MI</td>\n    </tr>\n    <tr>\n      <th>10</th>\n      <td>NaN</td>\n      <td>NaN</td>\n      <td>New Jersey</td>\n      <td>8882190</td>\n      <td>8791894</td>\n      <td>1.0%</td>\n      <td>+90,296</td>\n      <td>NaN</td>\n      <td>634442</td>\n      <td>740183</td>\n      <td>732658</td>\n      <td>2.69%</td>\n      <td>NJ</td>\n    </tr>\n    <tr>\n      <th>11</th>\n      <td>NaN</td>\n      <td>NaN</td>\n      <td>Virginia</td>\n      <td>8535519</td>\n      <td>8001024</td>\n      <td>6.7%</td>\n      <td>+534,495</td>\n      <td>NaN</td>\n      <td>656578</td>\n      <td>775956</td>\n      <td>727366</td>\n      <td>2.58%</td>\n      <td>VA</td>\n    </tr>\n    <tr>\n      <th>12</th>\n      <td>NaN</td>\n      <td>NaN</td>\n      <td>Washington</td>\n      <td>7614893</td>\n      <td>6724540</td>\n      <td>13.2%</td>\n      <td>+890,353</td>\n      <td>NaN</td>\n      <td>634574</td>\n      <td>751489</td>\n      <td>672454</td>\n      <td>2.28%</td>\n      <td>WA</td>\n    </tr>\n    <tr>\n      <th>13</th>\n      <td>NaN</td>\n      <td>NaN</td>\n      <td>Arizona</td>\n      <td>7278717</td>\n      <td>6392017</td>\n      <td>13.9%</td>\n      <td>+886,700</td>\n      <td>NaN</td>\n      <td>661702</td>\n      <td>808746</td>\n      <td>710224</td>\n      <td>2.17%</td>\n      <td>AZ</td>\n    </tr>\n    <tr>\n      <th>14</th>\n      <td>NaN</td>\n      <td>NaN</td>\n      <td>Massachusetts</td>\n      <td>6949503</td>\n      <td>6547629</td>\n      <td>5.3%</td>\n      <td>+344,874</td>\n      <td>NaN</td>\n      <td>626591</td>\n      <td>765834</td>\n      <td>727514</td>\n      <td>2.09%</td>\n      <td>MA</td>\n    </tr>\n    <tr>\n      <th>15</th>\n      <td>NaN</td>\n      <td>NaN</td>\n      <td>Tennessee</td>\n      <td>6833174</td>\n      <td>6346105</td>\n      <td>7.6%</td>\n      <td>+483,069</td>\n      <td>NaN</td>\n      <td>620834</td>\n      <td>758797</td>\n      <td>705123</td>\n      <td>2.05%</td>\n      <td>TN</td>\n    </tr>\n    <tr>\n      <th>16</th>\n      <td>NaN</td>\n      <td>NaN</td>\n      <td>Indiana</td>\n      <td>6732219</td>\n      <td>6483802</td>\n      <td>3.8%</td>\n      <td>+248,417</td>\n      <td>NaN</td>\n      <td>612020</td>\n      <td>748024</td>\n      <td>720422</td>\n      <td>2.02%</td>\n      <td>IN</td>\n    </tr>\n    <tr>\n      <th>17</th>\n      <td>NaN</td>\n      <td>NaN</td>\n      <td>Missouri</td>\n      <td>6137428</td>\n      <td>5988927</td>\n      <td>2.5%</td>\n      <td>+148,501</td>\n      <td>NaN</td>\n      <td>613743</td>\n      <td>767179</td>\n      <td>748615</td>\n      <td>1.85%</td>\n      <td>MO</td>\n    </tr>\n    <tr>\n      <th>18</th>\n      <td>NaN</td>\n      <td>NaN</td>\n      <td>Maryland</td>\n      <td>6045680</td>\n      <td>5773552</td>\n      <td>4.7%</td>\n      <td>+272,128</td>\n      <td>NaN</td>\n      <td>604568</td>\n      <td>755710</td>\n      <td>721694</td>\n      <td>1.83%</td>\n      <td>MD</td>\n    </tr>\n    <tr>\n      <th>19</th>\n      <td>NaN</td>\n      <td>NaN</td>\n      <td>Wisconsin</td>\n      <td>5822434</td>\n      <td>5686986</td>\n      <td>2.4%</td>\n      <td>+135,448</td>\n      <td>NaN</td>\n      <td>582243</td>\n      <td>727804</td>\n      <td>710873</td>\n      <td>1.76%</td>\n      <td>WI</td>\n    </tr>\n  </tbody>\n</table>\n</div>"
     },
     "metadata": {},
     "execution_count": 223
    }
   ],
   "source": [
    "population.head(20)"
   ]
  },
  {
   "cell_type": "code",
   "execution_count": 240,
   "metadata": {},
   "outputs": [
    {
     "output_type": "execute_result",
     "data": {
      "text/plain": [
       "'Abbreviation'"
      ]
     },
     "metadata": {},
     "execution_count": 240
    }
   ],
   "source": [
    "population.columns[-1]"
   ]
  },
  {
   "cell_type": "code",
   "execution_count": 246,
   "metadata": {},
   "outputs": [
    {
     "output_type": "execute_result",
     "data": {
      "text/plain": [
       "'CA'"
      ]
     },
     "metadata": {},
     "execution_count": 246
    }
   ],
   "source": [
    "population.loc[0]['Abbreviation']"
   ]
  },
  {
   "cell_type": "code",
   "execution_count": 247,
   "metadata": {},
   "outputs": [
    {
     "output_type": "execute_result",
     "data": {
      "text/plain": [
       "str"
      ]
     },
     "metadata": {},
     "execution_count": 247
    }
   ],
   "source": [
    "type(population.loc[0]['Abbreviation'])"
   ]
  },
  {
   "cell_type": "code",
   "execution_count": 232,
   "metadata": {},
   "outputs": [
    {
     "output_type": "execute_result",
     "data": {
      "text/plain": [
       "        id  name  date  ...  flee  body_camera  day_of_week\n",
       "state                   ...                                \n",
       "AK      39    39    39  ...    36           39           39\n",
       "AL     104   104   104  ...   102          104          104\n",
       "AR      83    83    83  ...    77           83           83\n",
       "AZ     254   254   254  ...   244          254          254\n",
       "CA     799   799   799  ...   761          799          799\n",
       "CO     195   195   195  ...   186          195          195\n",
       "CT      21    21    21  ...    20           21           21\n",
       "DC      13    13    13  ...    13           13           13\n",
       "DE      13    13    13  ...    13           13           13\n",
       "FL     350   350   350  ...   336          350          350\n",
       "GA     182   182   182  ...   175          182          182\n",
       "HI      30    30    30  ...    29           30           30\n",
       "IA      32    32    32  ...    30           32           32\n",
       "ID      42    42    42  ...    40           42           42\n",
       "IL     104   104   104  ...   100          104          104\n",
       "IN      95    95    95  ...    93           95           95\n",
       "KS      50    50    50  ...    49           50           50\n",
       "KY      95    95    95  ...    87           95           95\n",
       "LA     109   109   109  ...   100          109          109\n",
       "MA      35    35    35  ...    35           35           35\n",
       "MD      79    79    79  ...    77           79           79\n",
       "ME      22    22    22  ...    18           22           22\n",
       "MI      78    78    78  ...    77           78           78\n",
       "MN      61    61    61  ...    59           61           61\n",
       "MO     141   141   141  ...   131          141          141\n",
       "MS      65    65    65  ...    60           65           65\n",
       "MT      31    31    31  ...    28           31           31\n",
       "NC     156   156   156  ...   151          156          156\n",
       "ND      11    11    11  ...    11           11           11\n",
       "NE      24    24    24  ...    23           24           24\n",
       "NH      13    13    13  ...    13           13           13\n",
       "NJ      68    68    68  ...    62           68           68\n",
       "NM     106   106   106  ...   100          106          106\n",
       "NV      96    96    96  ...    91           96           96\n",
       "NY     101   101   101  ...    97          101          101\n",
       "OH     155   155   155  ...   149          155          155\n",
       "OK     164   164   164  ...   159          164          164\n",
       "OR      88    88    88  ...    80           88           88\n",
       "PA     108   108   108  ...   105          108          108\n",
       "RI       4     4     4  ...     3            4            4\n",
       "SC      88    88    88  ...    84           88           88\n",
       "SD      17    17    17  ...    15           17           17\n",
       "TN     139   139   139  ...   136          139          139\n",
       "TX     481   481   481  ...   457          481          481\n",
       "UT      60    60    60  ...    57           60           60\n",
       "VA      95    95    95  ...    93           95           95\n",
       "VT       9     9     9  ...     9            9            9\n",
       "WA     152   152   152  ...   144          152          152\n",
       "WI      91    91    91  ...    87           91           91\n",
       "WV      54    54    54  ...    52           54           54\n",
       "WY      14    14    14  ...    13           14           14\n",
       "\n",
       "[51 rows x 14 columns]"
      ],
      "text/html": "<div>\n<style scoped>\n    .dataframe tbody tr th:only-of-type {\n        vertical-align: middle;\n    }\n\n    .dataframe tbody tr th {\n        vertical-align: top;\n    }\n\n    .dataframe thead th {\n        text-align: right;\n    }\n</style>\n<table border=\"1\" class=\"dataframe\">\n  <thead>\n    <tr style=\"text-align: right;\">\n      <th></th>\n      <th>id</th>\n      <th>name</th>\n      <th>date</th>\n      <th>manner_of_death</th>\n      <th>armed</th>\n      <th>age</th>\n      <th>gender</th>\n      <th>race</th>\n      <th>city</th>\n      <th>signs_of_mental_illness</th>\n      <th>threat_level</th>\n      <th>flee</th>\n      <th>body_camera</th>\n      <th>day_of_week</th>\n    </tr>\n    <tr>\n      <th>state</th>\n      <th></th>\n      <th></th>\n      <th></th>\n      <th></th>\n      <th></th>\n      <th></th>\n      <th></th>\n      <th></th>\n      <th></th>\n      <th></th>\n      <th></th>\n      <th></th>\n      <th></th>\n      <th></th>\n    </tr>\n  </thead>\n  <tbody>\n    <tr>\n      <th>AK</th>\n      <td>39</td>\n      <td>39</td>\n      <td>39</td>\n      <td>39</td>\n      <td>39</td>\n      <td>38</td>\n      <td>39</td>\n      <td>36</td>\n      <td>39</td>\n      <td>39</td>\n      <td>39</td>\n      <td>36</td>\n      <td>39</td>\n      <td>39</td>\n    </tr>\n    <tr>\n      <th>AL</th>\n      <td>104</td>\n      <td>104</td>\n      <td>104</td>\n      <td>104</td>\n      <td>98</td>\n      <td>99</td>\n      <td>104</td>\n      <td>95</td>\n      <td>104</td>\n      <td>104</td>\n      <td>104</td>\n      <td>102</td>\n      <td>104</td>\n      <td>104</td>\n    </tr>\n    <tr>\n      <th>AR</th>\n      <td>83</td>\n      <td>83</td>\n      <td>83</td>\n      <td>83</td>\n      <td>80</td>\n      <td>79</td>\n      <td>83</td>\n      <td>73</td>\n      <td>83</td>\n      <td>83</td>\n      <td>83</td>\n      <td>77</td>\n      <td>83</td>\n      <td>83</td>\n    </tr>\n    <tr>\n      <th>AZ</th>\n      <td>254</td>\n      <td>254</td>\n      <td>254</td>\n      <td>254</td>\n      <td>241</td>\n      <td>244</td>\n      <td>254</td>\n      <td>222</td>\n      <td>254</td>\n      <td>254</td>\n      <td>254</td>\n      <td>244</td>\n      <td>254</td>\n      <td>254</td>\n    </tr>\n    <tr>\n      <th>CA</th>\n      <td>799</td>\n      <td>799</td>\n      <td>799</td>\n      <td>799</td>\n      <td>766</td>\n      <td>738</td>\n      <td>799</td>\n      <td>701</td>\n      <td>799</td>\n      <td>799</td>\n      <td>799</td>\n      <td>761</td>\n      <td>799</td>\n      <td>799</td>\n    </tr>\n    <tr>\n      <th>CO</th>\n      <td>195</td>\n      <td>195</td>\n      <td>195</td>\n      <td>195</td>\n      <td>187</td>\n      <td>181</td>\n      <td>195</td>\n      <td>168</td>\n      <td>195</td>\n      <td>195</td>\n      <td>195</td>\n      <td>186</td>\n      <td>195</td>\n      <td>195</td>\n    </tr>\n    <tr>\n      <th>CT</th>\n      <td>21</td>\n      <td>21</td>\n      <td>21</td>\n      <td>21</td>\n      <td>19</td>\n      <td>21</td>\n      <td>21</td>\n      <td>20</td>\n      <td>21</td>\n      <td>21</td>\n      <td>21</td>\n      <td>20</td>\n      <td>21</td>\n      <td>21</td>\n    </tr>\n    <tr>\n      <th>DC</th>\n      <td>13</td>\n      <td>13</td>\n      <td>13</td>\n      <td>13</td>\n      <td>13</td>\n      <td>13</td>\n      <td>13</td>\n      <td>13</td>\n      <td>13</td>\n      <td>13</td>\n      <td>13</td>\n      <td>13</td>\n      <td>13</td>\n      <td>13</td>\n    </tr>\n    <tr>\n      <th>DE</th>\n      <td>13</td>\n      <td>13</td>\n      <td>13</td>\n      <td>13</td>\n      <td>11</td>\n      <td>13</td>\n      <td>13</td>\n      <td>10</td>\n      <td>13</td>\n      <td>13</td>\n      <td>13</td>\n      <td>13</td>\n      <td>13</td>\n      <td>13</td>\n    </tr>\n    <tr>\n      <th>FL</th>\n      <td>350</td>\n      <td>350</td>\n      <td>350</td>\n      <td>350</td>\n      <td>335</td>\n      <td>336</td>\n      <td>350</td>\n      <td>324</td>\n      <td>350</td>\n      <td>350</td>\n      <td>350</td>\n      <td>336</td>\n      <td>350</td>\n      <td>350</td>\n    </tr>\n    <tr>\n      <th>GA</th>\n      <td>182</td>\n      <td>182</td>\n      <td>182</td>\n      <td>182</td>\n      <td>177</td>\n      <td>177</td>\n      <td>181</td>\n      <td>161</td>\n      <td>182</td>\n      <td>182</td>\n      <td>182</td>\n      <td>175</td>\n      <td>182</td>\n      <td>182</td>\n    </tr>\n    <tr>\n      <th>HI</th>\n      <td>30</td>\n      <td>30</td>\n      <td>30</td>\n      <td>30</td>\n      <td>26</td>\n      <td>29</td>\n      <td>30</td>\n      <td>29</td>\n      <td>30</td>\n      <td>30</td>\n      <td>30</td>\n      <td>29</td>\n      <td>30</td>\n      <td>30</td>\n    </tr>\n    <tr>\n      <th>IA</th>\n      <td>32</td>\n      <td>32</td>\n      <td>32</td>\n      <td>32</td>\n      <td>32</td>\n      <td>32</td>\n      <td>32</td>\n      <td>31</td>\n      <td>32</td>\n      <td>32</td>\n      <td>32</td>\n      <td>30</td>\n      <td>32</td>\n      <td>32</td>\n    </tr>\n    <tr>\n      <th>ID</th>\n      <td>42</td>\n      <td>42</td>\n      <td>42</td>\n      <td>42</td>\n      <td>41</td>\n      <td>40</td>\n      <td>42</td>\n      <td>37</td>\n      <td>42</td>\n      <td>42</td>\n      <td>42</td>\n      <td>40</td>\n      <td>42</td>\n      <td>42</td>\n    </tr>\n    <tr>\n      <th>IL</th>\n      <td>104</td>\n      <td>104</td>\n      <td>104</td>\n      <td>104</td>\n      <td>98</td>\n      <td>103</td>\n      <td>104</td>\n      <td>99</td>\n      <td>104</td>\n      <td>104</td>\n      <td>104</td>\n      <td>100</td>\n      <td>104</td>\n      <td>104</td>\n    </tr>\n    <tr>\n      <th>IN</th>\n      <td>95</td>\n      <td>95</td>\n      <td>95</td>\n      <td>95</td>\n      <td>91</td>\n      <td>95</td>\n      <td>95</td>\n      <td>91</td>\n      <td>95</td>\n      <td>95</td>\n      <td>95</td>\n      <td>93</td>\n      <td>95</td>\n      <td>95</td>\n    </tr>\n    <tr>\n      <th>KS</th>\n      <td>50</td>\n      <td>50</td>\n      <td>50</td>\n      <td>50</td>\n      <td>48</td>\n      <td>50</td>\n      <td>50</td>\n      <td>49</td>\n      <td>50</td>\n      <td>50</td>\n      <td>50</td>\n      <td>49</td>\n      <td>50</td>\n      <td>50</td>\n    </tr>\n    <tr>\n      <th>KY</th>\n      <td>95</td>\n      <td>95</td>\n      <td>95</td>\n      <td>95</td>\n      <td>90</td>\n      <td>92</td>\n      <td>94</td>\n      <td>87</td>\n      <td>95</td>\n      <td>95</td>\n      <td>95</td>\n      <td>87</td>\n      <td>95</td>\n      <td>95</td>\n    </tr>\n    <tr>\n      <th>LA</th>\n      <td>109</td>\n      <td>109</td>\n      <td>109</td>\n      <td>109</td>\n      <td>105</td>\n      <td>106</td>\n      <td>109</td>\n      <td>102</td>\n      <td>109</td>\n      <td>109</td>\n      <td>109</td>\n      <td>100</td>\n      <td>109</td>\n      <td>109</td>\n    </tr>\n    <tr>\n      <th>MA</th>\n      <td>35</td>\n      <td>35</td>\n      <td>35</td>\n      <td>35</td>\n      <td>32</td>\n      <td>33</td>\n      <td>35</td>\n      <td>33</td>\n      <td>35</td>\n      <td>35</td>\n      <td>35</td>\n      <td>35</td>\n      <td>35</td>\n      <td>35</td>\n    </tr>\n    <tr>\n      <th>MD</th>\n      <td>79</td>\n      <td>79</td>\n      <td>79</td>\n      <td>79</td>\n      <td>71</td>\n      <td>78</td>\n      <td>79</td>\n      <td>77</td>\n      <td>79</td>\n      <td>79</td>\n      <td>79</td>\n      <td>77</td>\n      <td>79</td>\n      <td>79</td>\n    </tr>\n    <tr>\n      <th>ME</th>\n      <td>22</td>\n      <td>22</td>\n      <td>22</td>\n      <td>22</td>\n      <td>21</td>\n      <td>22</td>\n      <td>22</td>\n      <td>21</td>\n      <td>22</td>\n      <td>22</td>\n      <td>22</td>\n      <td>18</td>\n      <td>22</td>\n      <td>22</td>\n    </tr>\n    <tr>\n      <th>MI</th>\n      <td>78</td>\n      <td>78</td>\n      <td>78</td>\n      <td>78</td>\n      <td>75</td>\n      <td>76</td>\n      <td>78</td>\n      <td>71</td>\n      <td>78</td>\n      <td>78</td>\n      <td>78</td>\n      <td>77</td>\n      <td>78</td>\n      <td>78</td>\n    </tr>\n    <tr>\n      <th>MN</th>\n      <td>61</td>\n      <td>61</td>\n      <td>61</td>\n      <td>61</td>\n      <td>59</td>\n      <td>61</td>\n      <td>61</td>\n      <td>60</td>\n      <td>61</td>\n      <td>61</td>\n      <td>61</td>\n      <td>59</td>\n      <td>61</td>\n      <td>61</td>\n    </tr>\n    <tr>\n      <th>MO</th>\n      <td>141</td>\n      <td>141</td>\n      <td>141</td>\n      <td>141</td>\n      <td>137</td>\n      <td>135</td>\n      <td>141</td>\n      <td>124</td>\n      <td>141</td>\n      <td>141</td>\n      <td>141</td>\n      <td>131</td>\n      <td>141</td>\n      <td>141</td>\n    </tr>\n    <tr>\n      <th>MS</th>\n      <td>65</td>\n      <td>65</td>\n      <td>65</td>\n      <td>65</td>\n      <td>62</td>\n      <td>59</td>\n      <td>65</td>\n      <td>61</td>\n      <td>65</td>\n      <td>65</td>\n      <td>65</td>\n      <td>60</td>\n      <td>65</td>\n      <td>65</td>\n    </tr>\n    <tr>\n      <th>MT</th>\n      <td>31</td>\n      <td>31</td>\n      <td>31</td>\n      <td>31</td>\n      <td>28</td>\n      <td>30</td>\n      <td>31</td>\n      <td>29</td>\n      <td>31</td>\n      <td>31</td>\n      <td>31</td>\n      <td>28</td>\n      <td>31</td>\n      <td>31</td>\n    </tr>\n    <tr>\n      <th>NC</th>\n      <td>156</td>\n      <td>156</td>\n      <td>156</td>\n      <td>156</td>\n      <td>153</td>\n      <td>151</td>\n      <td>156</td>\n      <td>148</td>\n      <td>156</td>\n      <td>156</td>\n      <td>156</td>\n      <td>151</td>\n      <td>156</td>\n      <td>156</td>\n    </tr>\n    <tr>\n      <th>ND</th>\n      <td>11</td>\n      <td>11</td>\n      <td>11</td>\n      <td>11</td>\n      <td>10</td>\n      <td>11</td>\n      <td>11</td>\n      <td>11</td>\n      <td>11</td>\n      <td>11</td>\n      <td>11</td>\n      <td>11</td>\n      <td>11</td>\n      <td>11</td>\n    </tr>\n    <tr>\n      <th>NE</th>\n      <td>24</td>\n      <td>24</td>\n      <td>24</td>\n      <td>24</td>\n      <td>23</td>\n      <td>24</td>\n      <td>24</td>\n      <td>24</td>\n      <td>24</td>\n      <td>24</td>\n      <td>24</td>\n      <td>23</td>\n      <td>24</td>\n      <td>24</td>\n    </tr>\n    <tr>\n      <th>NH</th>\n      <td>13</td>\n      <td>13</td>\n      <td>13</td>\n      <td>13</td>\n      <td>13</td>\n      <td>13</td>\n      <td>13</td>\n      <td>12</td>\n      <td>13</td>\n      <td>13</td>\n      <td>13</td>\n      <td>13</td>\n      <td>13</td>\n      <td>13</td>\n    </tr>\n    <tr>\n      <th>NJ</th>\n      <td>68</td>\n      <td>68</td>\n      <td>68</td>\n      <td>68</td>\n      <td>65</td>\n      <td>67</td>\n      <td>68</td>\n      <td>60</td>\n      <td>68</td>\n      <td>68</td>\n      <td>68</td>\n      <td>62</td>\n      <td>68</td>\n      <td>68</td>\n    </tr>\n    <tr>\n      <th>NM</th>\n      <td>106</td>\n      <td>106</td>\n      <td>106</td>\n      <td>106</td>\n      <td>99</td>\n      <td>99</td>\n      <td>106</td>\n      <td>93</td>\n      <td>106</td>\n      <td>106</td>\n      <td>106</td>\n      <td>100</td>\n      <td>106</td>\n      <td>106</td>\n    </tr>\n    <tr>\n      <th>NV</th>\n      <td>96</td>\n      <td>96</td>\n      <td>96</td>\n      <td>96</td>\n      <td>91</td>\n      <td>94</td>\n      <td>96</td>\n      <td>85</td>\n      <td>96</td>\n      <td>96</td>\n      <td>96</td>\n      <td>91</td>\n      <td>96</td>\n      <td>96</td>\n    </tr>\n    <tr>\n      <th>NY</th>\n      <td>101</td>\n      <td>101</td>\n      <td>101</td>\n      <td>101</td>\n      <td>100</td>\n      <td>96</td>\n      <td>101</td>\n      <td>90</td>\n      <td>101</td>\n      <td>101</td>\n      <td>101</td>\n      <td>97</td>\n      <td>101</td>\n      <td>101</td>\n    </tr>\n    <tr>\n      <th>OH</th>\n      <td>155</td>\n      <td>155</td>\n      <td>155</td>\n      <td>155</td>\n      <td>147</td>\n      <td>154</td>\n      <td>155</td>\n      <td>146</td>\n      <td>155</td>\n      <td>155</td>\n      <td>155</td>\n      <td>149</td>\n      <td>155</td>\n      <td>155</td>\n    </tr>\n    <tr>\n      <th>OK</th>\n      <td>164</td>\n      <td>164</td>\n      <td>164</td>\n      <td>164</td>\n      <td>158</td>\n      <td>156</td>\n      <td>164</td>\n      <td>151</td>\n      <td>164</td>\n      <td>164</td>\n      <td>164</td>\n      <td>159</td>\n      <td>164</td>\n      <td>164</td>\n    </tr>\n    <tr>\n      <th>OR</th>\n      <td>88</td>\n      <td>88</td>\n      <td>88</td>\n      <td>88</td>\n      <td>86</td>\n      <td>85</td>\n      <td>88</td>\n      <td>76</td>\n      <td>88</td>\n      <td>88</td>\n      <td>88</td>\n      <td>80</td>\n      <td>88</td>\n      <td>88</td>\n    </tr>\n    <tr>\n      <th>PA</th>\n      <td>108</td>\n      <td>108</td>\n      <td>108</td>\n      <td>108</td>\n      <td>102</td>\n      <td>105</td>\n      <td>108</td>\n      <td>95</td>\n      <td>108</td>\n      <td>108</td>\n      <td>108</td>\n      <td>105</td>\n      <td>108</td>\n      <td>108</td>\n    </tr>\n    <tr>\n      <th>RI</th>\n      <td>4</td>\n      <td>4</td>\n      <td>4</td>\n      <td>4</td>\n      <td>3</td>\n      <td>4</td>\n      <td>4</td>\n      <td>4</td>\n      <td>4</td>\n      <td>4</td>\n      <td>4</td>\n      <td>3</td>\n      <td>4</td>\n      <td>4</td>\n    </tr>\n    <tr>\n      <th>SC</th>\n      <td>88</td>\n      <td>88</td>\n      <td>88</td>\n      <td>88</td>\n      <td>84</td>\n      <td>87</td>\n      <td>88</td>\n      <td>80</td>\n      <td>88</td>\n      <td>88</td>\n      <td>88</td>\n      <td>84</td>\n      <td>88</td>\n      <td>88</td>\n    </tr>\n    <tr>\n      <th>SD</th>\n      <td>17</td>\n      <td>17</td>\n      <td>17</td>\n      <td>17</td>\n      <td>17</td>\n      <td>16</td>\n      <td>17</td>\n      <td>14</td>\n      <td>17</td>\n      <td>17</td>\n      <td>17</td>\n      <td>15</td>\n      <td>17</td>\n      <td>17</td>\n    </tr>\n    <tr>\n      <th>TN</th>\n      <td>139</td>\n      <td>139</td>\n      <td>139</td>\n      <td>139</td>\n      <td>134</td>\n      <td>135</td>\n      <td>139</td>\n      <td>125</td>\n      <td>139</td>\n      <td>139</td>\n      <td>139</td>\n      <td>136</td>\n      <td>139</td>\n      <td>139</td>\n    </tr>\n    <tr>\n      <th>TX</th>\n      <td>481</td>\n      <td>481</td>\n      <td>481</td>\n      <td>481</td>\n      <td>463</td>\n      <td>442</td>\n      <td>481</td>\n      <td>426</td>\n      <td>481</td>\n      <td>481</td>\n      <td>481</td>\n      <td>457</td>\n      <td>481</td>\n      <td>481</td>\n    </tr>\n    <tr>\n      <th>UT</th>\n      <td>60</td>\n      <td>60</td>\n      <td>60</td>\n      <td>60</td>\n      <td>59</td>\n      <td>60</td>\n      <td>60</td>\n      <td>58</td>\n      <td>60</td>\n      <td>60</td>\n      <td>60</td>\n      <td>57</td>\n      <td>60</td>\n      <td>60</td>\n    </tr>\n    <tr>\n      <th>VA</th>\n      <td>95</td>\n      <td>95</td>\n      <td>95</td>\n      <td>95</td>\n      <td>92</td>\n      <td>93</td>\n      <td>95</td>\n      <td>92</td>\n      <td>95</td>\n      <td>95</td>\n      <td>95</td>\n      <td>93</td>\n      <td>95</td>\n      <td>95</td>\n    </tr>\n    <tr>\n      <th>VT</th>\n      <td>9</td>\n      <td>9</td>\n      <td>9</td>\n      <td>9</td>\n      <td>9</td>\n      <td>9</td>\n      <td>9</td>\n      <td>8</td>\n      <td>9</td>\n      <td>9</td>\n      <td>9</td>\n      <td>9</td>\n      <td>9</td>\n      <td>9</td>\n    </tr>\n    <tr>\n      <th>WA</th>\n      <td>152</td>\n      <td>152</td>\n      <td>152</td>\n      <td>152</td>\n      <td>146</td>\n      <td>146</td>\n      <td>152</td>\n      <td>126</td>\n      <td>152</td>\n      <td>152</td>\n      <td>152</td>\n      <td>144</td>\n      <td>152</td>\n      <td>152</td>\n    </tr>\n    <tr>\n      <th>WI</th>\n      <td>91</td>\n      <td>91</td>\n      <td>91</td>\n      <td>91</td>\n      <td>90</td>\n      <td>89</td>\n      <td>91</td>\n      <td>88</td>\n      <td>91</td>\n      <td>91</td>\n      <td>91</td>\n      <td>87</td>\n      <td>91</td>\n      <td>91</td>\n    </tr>\n    <tr>\n      <th>WV</th>\n      <td>54</td>\n      <td>54</td>\n      <td>54</td>\n      <td>54</td>\n      <td>49</td>\n      <td>51</td>\n      <td>54</td>\n      <td>46</td>\n      <td>54</td>\n      <td>54</td>\n      <td>54</td>\n      <td>52</td>\n      <td>54</td>\n      <td>54</td>\n    </tr>\n    <tr>\n      <th>WY</th>\n      <td>14</td>\n      <td>14</td>\n      <td>14</td>\n      <td>14</td>\n      <td>14</td>\n      <td>14</td>\n      <td>14</td>\n      <td>13</td>\n      <td>14</td>\n      <td>14</td>\n      <td>14</td>\n      <td>13</td>\n      <td>14</td>\n      <td>14</td>\n    </tr>\n  </tbody>\n</table>\n</div>"
     },
     "metadata": {},
     "execution_count": 232
    }
   ],
   "source": [
    "crimes_ratio = crimes.groupby('state').count()\n",
    "crimes_ratio"
   ]
  },
  {
   "cell_type": "code",
   "execution_count": 233,
   "metadata": {},
   "outputs": [
    {
     "output_type": "execute_result",
     "data": {
      "text/plain": [
       "pandas.core.frame.DataFrame"
      ]
     },
     "metadata": {},
     "execution_count": 233
    }
   ],
   "source": [
    "type(crimes_ratio)"
   ]
  },
  {
   "cell_type": "code",
   "execution_count": 234,
   "metadata": {},
   "outputs": [
    {
     "output_type": "execute_result",
     "data": {
      "text/plain": [
       "     id  name  date  manner_of_death  ...  flee  body_camera  day_of_week  state\n",
       "0    39    39    39               39  ...    36           39           39     AK\n",
       "1   104   104   104              104  ...   102          104          104     AL\n",
       "2    83    83    83               83  ...    77           83           83     AR\n",
       "3   254   254   254              254  ...   244          254          254     AZ\n",
       "4   799   799   799              799  ...   761          799          799     CA\n",
       "5   195   195   195              195  ...   186          195          195     CO\n",
       "6    21    21    21               21  ...    20           21           21     CT\n",
       "7    13    13    13               13  ...    13           13           13     DC\n",
       "8    13    13    13               13  ...    13           13           13     DE\n",
       "9   350   350   350              350  ...   336          350          350     FL\n",
       "10  182   182   182              182  ...   175          182          182     GA\n",
       "11   30    30    30               30  ...    29           30           30     HI\n",
       "12   32    32    32               32  ...    30           32           32     IA\n",
       "13   42    42    42               42  ...    40           42           42     ID\n",
       "14  104   104   104              104  ...   100          104          104     IL\n",
       "15   95    95    95               95  ...    93           95           95     IN\n",
       "16   50    50    50               50  ...    49           50           50     KS\n",
       "17   95    95    95               95  ...    87           95           95     KY\n",
       "18  109   109   109              109  ...   100          109          109     LA\n",
       "19   35    35    35               35  ...    35           35           35     MA\n",
       "20   79    79    79               79  ...    77           79           79     MD\n",
       "21   22    22    22               22  ...    18           22           22     ME\n",
       "22   78    78    78               78  ...    77           78           78     MI\n",
       "23   61    61    61               61  ...    59           61           61     MN\n",
       "24  141   141   141              141  ...   131          141          141     MO\n",
       "25   65    65    65               65  ...    60           65           65     MS\n",
       "26   31    31    31               31  ...    28           31           31     MT\n",
       "27  156   156   156              156  ...   151          156          156     NC\n",
       "28   11    11    11               11  ...    11           11           11     ND\n",
       "29   24    24    24               24  ...    23           24           24     NE\n",
       "30   13    13    13               13  ...    13           13           13     NH\n",
       "31   68    68    68               68  ...    62           68           68     NJ\n",
       "32  106   106   106              106  ...   100          106          106     NM\n",
       "33   96    96    96               96  ...    91           96           96     NV\n",
       "34  101   101   101              101  ...    97          101          101     NY\n",
       "35  155   155   155              155  ...   149          155          155     OH\n",
       "36  164   164   164              164  ...   159          164          164     OK\n",
       "37   88    88    88               88  ...    80           88           88     OR\n",
       "38  108   108   108              108  ...   105          108          108     PA\n",
       "39    4     4     4                4  ...     3            4            4     RI\n",
       "40   88    88    88               88  ...    84           88           88     SC\n",
       "41   17    17    17               17  ...    15           17           17     SD\n",
       "42  139   139   139              139  ...   136          139          139     TN\n",
       "43  481   481   481              481  ...   457          481          481     TX\n",
       "44   60    60    60               60  ...    57           60           60     UT\n",
       "45   95    95    95               95  ...    93           95           95     VA\n",
       "46    9     9     9                9  ...     9            9            9     VT\n",
       "47  152   152   152              152  ...   144          152          152     WA\n",
       "48   91    91    91               91  ...    87           91           91     WI\n",
       "49   54    54    54               54  ...    52           54           54     WV\n",
       "50   14    14    14               14  ...    13           14           14     WY\n",
       "\n",
       "[51 rows x 15 columns]"
      ],
      "text/html": "<div>\n<style scoped>\n    .dataframe tbody tr th:only-of-type {\n        vertical-align: middle;\n    }\n\n    .dataframe tbody tr th {\n        vertical-align: top;\n    }\n\n    .dataframe thead th {\n        text-align: right;\n    }\n</style>\n<table border=\"1\" class=\"dataframe\">\n  <thead>\n    <tr style=\"text-align: right;\">\n      <th></th>\n      <th>id</th>\n      <th>name</th>\n      <th>date</th>\n      <th>manner_of_death</th>\n      <th>armed</th>\n      <th>age</th>\n      <th>gender</th>\n      <th>race</th>\n      <th>city</th>\n      <th>signs_of_mental_illness</th>\n      <th>threat_level</th>\n      <th>flee</th>\n      <th>body_camera</th>\n      <th>day_of_week</th>\n      <th>state</th>\n    </tr>\n  </thead>\n  <tbody>\n    <tr>\n      <th>0</th>\n      <td>39</td>\n      <td>39</td>\n      <td>39</td>\n      <td>39</td>\n      <td>39</td>\n      <td>38</td>\n      <td>39</td>\n      <td>36</td>\n      <td>39</td>\n      <td>39</td>\n      <td>39</td>\n      <td>36</td>\n      <td>39</td>\n      <td>39</td>\n      <td>AK</td>\n    </tr>\n    <tr>\n      <th>1</th>\n      <td>104</td>\n      <td>104</td>\n      <td>104</td>\n      <td>104</td>\n      <td>98</td>\n      <td>99</td>\n      <td>104</td>\n      <td>95</td>\n      <td>104</td>\n      <td>104</td>\n      <td>104</td>\n      <td>102</td>\n      <td>104</td>\n      <td>104</td>\n      <td>AL</td>\n    </tr>\n    <tr>\n      <th>2</th>\n      <td>83</td>\n      <td>83</td>\n      <td>83</td>\n      <td>83</td>\n      <td>80</td>\n      <td>79</td>\n      <td>83</td>\n      <td>73</td>\n      <td>83</td>\n      <td>83</td>\n      <td>83</td>\n      <td>77</td>\n      <td>83</td>\n      <td>83</td>\n      <td>AR</td>\n    </tr>\n    <tr>\n      <th>3</th>\n      <td>254</td>\n      <td>254</td>\n      <td>254</td>\n      <td>254</td>\n      <td>241</td>\n      <td>244</td>\n      <td>254</td>\n      <td>222</td>\n      <td>254</td>\n      <td>254</td>\n      <td>254</td>\n      <td>244</td>\n      <td>254</td>\n      <td>254</td>\n      <td>AZ</td>\n    </tr>\n    <tr>\n      <th>4</th>\n      <td>799</td>\n      <td>799</td>\n      <td>799</td>\n      <td>799</td>\n      <td>766</td>\n      <td>738</td>\n      <td>799</td>\n      <td>701</td>\n      <td>799</td>\n      <td>799</td>\n      <td>799</td>\n      <td>761</td>\n      <td>799</td>\n      <td>799</td>\n      <td>CA</td>\n    </tr>\n    <tr>\n      <th>5</th>\n      <td>195</td>\n      <td>195</td>\n      <td>195</td>\n      <td>195</td>\n      <td>187</td>\n      <td>181</td>\n      <td>195</td>\n      <td>168</td>\n      <td>195</td>\n      <td>195</td>\n      <td>195</td>\n      <td>186</td>\n      <td>195</td>\n      <td>195</td>\n      <td>CO</td>\n    </tr>\n    <tr>\n      <th>6</th>\n      <td>21</td>\n      <td>21</td>\n      <td>21</td>\n      <td>21</td>\n      <td>19</td>\n      <td>21</td>\n      <td>21</td>\n      <td>20</td>\n      <td>21</td>\n      <td>21</td>\n      <td>21</td>\n      <td>20</td>\n      <td>21</td>\n      <td>21</td>\n      <td>CT</td>\n    </tr>\n    <tr>\n      <th>7</th>\n      <td>13</td>\n      <td>13</td>\n      <td>13</td>\n      <td>13</td>\n      <td>13</td>\n      <td>13</td>\n      <td>13</td>\n      <td>13</td>\n      <td>13</td>\n      <td>13</td>\n      <td>13</td>\n      <td>13</td>\n      <td>13</td>\n      <td>13</td>\n      <td>DC</td>\n    </tr>\n    <tr>\n      <th>8</th>\n      <td>13</td>\n      <td>13</td>\n      <td>13</td>\n      <td>13</td>\n      <td>11</td>\n      <td>13</td>\n      <td>13</td>\n      <td>10</td>\n      <td>13</td>\n      <td>13</td>\n      <td>13</td>\n      <td>13</td>\n      <td>13</td>\n      <td>13</td>\n      <td>DE</td>\n    </tr>\n    <tr>\n      <th>9</th>\n      <td>350</td>\n      <td>350</td>\n      <td>350</td>\n      <td>350</td>\n      <td>335</td>\n      <td>336</td>\n      <td>350</td>\n      <td>324</td>\n      <td>350</td>\n      <td>350</td>\n      <td>350</td>\n      <td>336</td>\n      <td>350</td>\n      <td>350</td>\n      <td>FL</td>\n    </tr>\n    <tr>\n      <th>10</th>\n      <td>182</td>\n      <td>182</td>\n      <td>182</td>\n      <td>182</td>\n      <td>177</td>\n      <td>177</td>\n      <td>181</td>\n      <td>161</td>\n      <td>182</td>\n      <td>182</td>\n      <td>182</td>\n      <td>175</td>\n      <td>182</td>\n      <td>182</td>\n      <td>GA</td>\n    </tr>\n    <tr>\n      <th>11</th>\n      <td>30</td>\n      <td>30</td>\n      <td>30</td>\n      <td>30</td>\n      <td>26</td>\n      <td>29</td>\n      <td>30</td>\n      <td>29</td>\n      <td>30</td>\n      <td>30</td>\n      <td>30</td>\n      <td>29</td>\n      <td>30</td>\n      <td>30</td>\n      <td>HI</td>\n    </tr>\n    <tr>\n      <th>12</th>\n      <td>32</td>\n      <td>32</td>\n      <td>32</td>\n      <td>32</td>\n      <td>32</td>\n      <td>32</td>\n      <td>32</td>\n      <td>31</td>\n      <td>32</td>\n      <td>32</td>\n      <td>32</td>\n      <td>30</td>\n      <td>32</td>\n      <td>32</td>\n      <td>IA</td>\n    </tr>\n    <tr>\n      <th>13</th>\n      <td>42</td>\n      <td>42</td>\n      <td>42</td>\n      <td>42</td>\n      <td>41</td>\n      <td>40</td>\n      <td>42</td>\n      <td>37</td>\n      <td>42</td>\n      <td>42</td>\n      <td>42</td>\n      <td>40</td>\n      <td>42</td>\n      <td>42</td>\n      <td>ID</td>\n    </tr>\n    <tr>\n      <th>14</th>\n      <td>104</td>\n      <td>104</td>\n      <td>104</td>\n      <td>104</td>\n      <td>98</td>\n      <td>103</td>\n      <td>104</td>\n      <td>99</td>\n      <td>104</td>\n      <td>104</td>\n      <td>104</td>\n      <td>100</td>\n      <td>104</td>\n      <td>104</td>\n      <td>IL</td>\n    </tr>\n    <tr>\n      <th>15</th>\n      <td>95</td>\n      <td>95</td>\n      <td>95</td>\n      <td>95</td>\n      <td>91</td>\n      <td>95</td>\n      <td>95</td>\n      <td>91</td>\n      <td>95</td>\n      <td>95</td>\n      <td>95</td>\n      <td>93</td>\n      <td>95</td>\n      <td>95</td>\n      <td>IN</td>\n    </tr>\n    <tr>\n      <th>16</th>\n      <td>50</td>\n      <td>50</td>\n      <td>50</td>\n      <td>50</td>\n      <td>48</td>\n      <td>50</td>\n      <td>50</td>\n      <td>49</td>\n      <td>50</td>\n      <td>50</td>\n      <td>50</td>\n      <td>49</td>\n      <td>50</td>\n      <td>50</td>\n      <td>KS</td>\n    </tr>\n    <tr>\n      <th>17</th>\n      <td>95</td>\n      <td>95</td>\n      <td>95</td>\n      <td>95</td>\n      <td>90</td>\n      <td>92</td>\n      <td>94</td>\n      <td>87</td>\n      <td>95</td>\n      <td>95</td>\n      <td>95</td>\n      <td>87</td>\n      <td>95</td>\n      <td>95</td>\n      <td>KY</td>\n    </tr>\n    <tr>\n      <th>18</th>\n      <td>109</td>\n      <td>109</td>\n      <td>109</td>\n      <td>109</td>\n      <td>105</td>\n      <td>106</td>\n      <td>109</td>\n      <td>102</td>\n      <td>109</td>\n      <td>109</td>\n      <td>109</td>\n      <td>100</td>\n      <td>109</td>\n      <td>109</td>\n      <td>LA</td>\n    </tr>\n    <tr>\n      <th>19</th>\n      <td>35</td>\n      <td>35</td>\n      <td>35</td>\n      <td>35</td>\n      <td>32</td>\n      <td>33</td>\n      <td>35</td>\n      <td>33</td>\n      <td>35</td>\n      <td>35</td>\n      <td>35</td>\n      <td>35</td>\n      <td>35</td>\n      <td>35</td>\n      <td>MA</td>\n    </tr>\n    <tr>\n      <th>20</th>\n      <td>79</td>\n      <td>79</td>\n      <td>79</td>\n      <td>79</td>\n      <td>71</td>\n      <td>78</td>\n      <td>79</td>\n      <td>77</td>\n      <td>79</td>\n      <td>79</td>\n      <td>79</td>\n      <td>77</td>\n      <td>79</td>\n      <td>79</td>\n      <td>MD</td>\n    </tr>\n    <tr>\n      <th>21</th>\n      <td>22</td>\n      <td>22</td>\n      <td>22</td>\n      <td>22</td>\n      <td>21</td>\n      <td>22</td>\n      <td>22</td>\n      <td>21</td>\n      <td>22</td>\n      <td>22</td>\n      <td>22</td>\n      <td>18</td>\n      <td>22</td>\n      <td>22</td>\n      <td>ME</td>\n    </tr>\n    <tr>\n      <th>22</th>\n      <td>78</td>\n      <td>78</td>\n      <td>78</td>\n      <td>78</td>\n      <td>75</td>\n      <td>76</td>\n      <td>78</td>\n      <td>71</td>\n      <td>78</td>\n      <td>78</td>\n      <td>78</td>\n      <td>77</td>\n      <td>78</td>\n      <td>78</td>\n      <td>MI</td>\n    </tr>\n    <tr>\n      <th>23</th>\n      <td>61</td>\n      <td>61</td>\n      <td>61</td>\n      <td>61</td>\n      <td>59</td>\n      <td>61</td>\n      <td>61</td>\n      <td>60</td>\n      <td>61</td>\n      <td>61</td>\n      <td>61</td>\n      <td>59</td>\n      <td>61</td>\n      <td>61</td>\n      <td>MN</td>\n    </tr>\n    <tr>\n      <th>24</th>\n      <td>141</td>\n      <td>141</td>\n      <td>141</td>\n      <td>141</td>\n      <td>137</td>\n      <td>135</td>\n      <td>141</td>\n      <td>124</td>\n      <td>141</td>\n      <td>141</td>\n      <td>141</td>\n      <td>131</td>\n      <td>141</td>\n      <td>141</td>\n      <td>MO</td>\n    </tr>\n    <tr>\n      <th>25</th>\n      <td>65</td>\n      <td>65</td>\n      <td>65</td>\n      <td>65</td>\n      <td>62</td>\n      <td>59</td>\n      <td>65</td>\n      <td>61</td>\n      <td>65</td>\n      <td>65</td>\n      <td>65</td>\n      <td>60</td>\n      <td>65</td>\n      <td>65</td>\n      <td>MS</td>\n    </tr>\n    <tr>\n      <th>26</th>\n      <td>31</td>\n      <td>31</td>\n      <td>31</td>\n      <td>31</td>\n      <td>28</td>\n      <td>30</td>\n      <td>31</td>\n      <td>29</td>\n      <td>31</td>\n      <td>31</td>\n      <td>31</td>\n      <td>28</td>\n      <td>31</td>\n      <td>31</td>\n      <td>MT</td>\n    </tr>\n    <tr>\n      <th>27</th>\n      <td>156</td>\n      <td>156</td>\n      <td>156</td>\n      <td>156</td>\n      <td>153</td>\n      <td>151</td>\n      <td>156</td>\n      <td>148</td>\n      <td>156</td>\n      <td>156</td>\n      <td>156</td>\n      <td>151</td>\n      <td>156</td>\n      <td>156</td>\n      <td>NC</td>\n    </tr>\n    <tr>\n      <th>28</th>\n      <td>11</td>\n      <td>11</td>\n      <td>11</td>\n      <td>11</td>\n      <td>10</td>\n      <td>11</td>\n      <td>11</td>\n      <td>11</td>\n      <td>11</td>\n      <td>11</td>\n      <td>11</td>\n      <td>11</td>\n      <td>11</td>\n      <td>11</td>\n      <td>ND</td>\n    </tr>\n    <tr>\n      <th>29</th>\n      <td>24</td>\n      <td>24</td>\n      <td>24</td>\n      <td>24</td>\n      <td>23</td>\n      <td>24</td>\n      <td>24</td>\n      <td>24</td>\n      <td>24</td>\n      <td>24</td>\n      <td>24</td>\n      <td>23</td>\n      <td>24</td>\n      <td>24</td>\n      <td>NE</td>\n    </tr>\n    <tr>\n      <th>30</th>\n      <td>13</td>\n      <td>13</td>\n      <td>13</td>\n      <td>13</td>\n      <td>13</td>\n      <td>13</td>\n      <td>13</td>\n      <td>12</td>\n      <td>13</td>\n      <td>13</td>\n      <td>13</td>\n      <td>13</td>\n      <td>13</td>\n      <td>13</td>\n      <td>NH</td>\n    </tr>\n    <tr>\n      <th>31</th>\n      <td>68</td>\n      <td>68</td>\n      <td>68</td>\n      <td>68</td>\n      <td>65</td>\n      <td>67</td>\n      <td>68</td>\n      <td>60</td>\n      <td>68</td>\n      <td>68</td>\n      <td>68</td>\n      <td>62</td>\n      <td>68</td>\n      <td>68</td>\n      <td>NJ</td>\n    </tr>\n    <tr>\n      <th>32</th>\n      <td>106</td>\n      <td>106</td>\n      <td>106</td>\n      <td>106</td>\n      <td>99</td>\n      <td>99</td>\n      <td>106</td>\n      <td>93</td>\n      <td>106</td>\n      <td>106</td>\n      <td>106</td>\n      <td>100</td>\n      <td>106</td>\n      <td>106</td>\n      <td>NM</td>\n    </tr>\n    <tr>\n      <th>33</th>\n      <td>96</td>\n      <td>96</td>\n      <td>96</td>\n      <td>96</td>\n      <td>91</td>\n      <td>94</td>\n      <td>96</td>\n      <td>85</td>\n      <td>96</td>\n      <td>96</td>\n      <td>96</td>\n      <td>91</td>\n      <td>96</td>\n      <td>96</td>\n      <td>NV</td>\n    </tr>\n    <tr>\n      <th>34</th>\n      <td>101</td>\n      <td>101</td>\n      <td>101</td>\n      <td>101</td>\n      <td>100</td>\n      <td>96</td>\n      <td>101</td>\n      <td>90</td>\n      <td>101</td>\n      <td>101</td>\n      <td>101</td>\n      <td>97</td>\n      <td>101</td>\n      <td>101</td>\n      <td>NY</td>\n    </tr>\n    <tr>\n      <th>35</th>\n      <td>155</td>\n      <td>155</td>\n      <td>155</td>\n      <td>155</td>\n      <td>147</td>\n      <td>154</td>\n      <td>155</td>\n      <td>146</td>\n      <td>155</td>\n      <td>155</td>\n      <td>155</td>\n      <td>149</td>\n      <td>155</td>\n      <td>155</td>\n      <td>OH</td>\n    </tr>\n    <tr>\n      <th>36</th>\n      <td>164</td>\n      <td>164</td>\n      <td>164</td>\n      <td>164</td>\n      <td>158</td>\n      <td>156</td>\n      <td>164</td>\n      <td>151</td>\n      <td>164</td>\n      <td>164</td>\n      <td>164</td>\n      <td>159</td>\n      <td>164</td>\n      <td>164</td>\n      <td>OK</td>\n    </tr>\n    <tr>\n      <th>37</th>\n      <td>88</td>\n      <td>88</td>\n      <td>88</td>\n      <td>88</td>\n      <td>86</td>\n      <td>85</td>\n      <td>88</td>\n      <td>76</td>\n      <td>88</td>\n      <td>88</td>\n      <td>88</td>\n      <td>80</td>\n      <td>88</td>\n      <td>88</td>\n      <td>OR</td>\n    </tr>\n    <tr>\n      <th>38</th>\n      <td>108</td>\n      <td>108</td>\n      <td>108</td>\n      <td>108</td>\n      <td>102</td>\n      <td>105</td>\n      <td>108</td>\n      <td>95</td>\n      <td>108</td>\n      <td>108</td>\n      <td>108</td>\n      <td>105</td>\n      <td>108</td>\n      <td>108</td>\n      <td>PA</td>\n    </tr>\n    <tr>\n      <th>39</th>\n      <td>4</td>\n      <td>4</td>\n      <td>4</td>\n      <td>4</td>\n      <td>3</td>\n      <td>4</td>\n      <td>4</td>\n      <td>4</td>\n      <td>4</td>\n      <td>4</td>\n      <td>4</td>\n      <td>3</td>\n      <td>4</td>\n      <td>4</td>\n      <td>RI</td>\n    </tr>\n    <tr>\n      <th>40</th>\n      <td>88</td>\n      <td>88</td>\n      <td>88</td>\n      <td>88</td>\n      <td>84</td>\n      <td>87</td>\n      <td>88</td>\n      <td>80</td>\n      <td>88</td>\n      <td>88</td>\n      <td>88</td>\n      <td>84</td>\n      <td>88</td>\n      <td>88</td>\n      <td>SC</td>\n    </tr>\n    <tr>\n      <th>41</th>\n      <td>17</td>\n      <td>17</td>\n      <td>17</td>\n      <td>17</td>\n      <td>17</td>\n      <td>16</td>\n      <td>17</td>\n      <td>14</td>\n      <td>17</td>\n      <td>17</td>\n      <td>17</td>\n      <td>15</td>\n      <td>17</td>\n      <td>17</td>\n      <td>SD</td>\n    </tr>\n    <tr>\n      <th>42</th>\n      <td>139</td>\n      <td>139</td>\n      <td>139</td>\n      <td>139</td>\n      <td>134</td>\n      <td>135</td>\n      <td>139</td>\n      <td>125</td>\n      <td>139</td>\n      <td>139</td>\n      <td>139</td>\n      <td>136</td>\n      <td>139</td>\n      <td>139</td>\n      <td>TN</td>\n    </tr>\n    <tr>\n      <th>43</th>\n      <td>481</td>\n      <td>481</td>\n      <td>481</td>\n      <td>481</td>\n      <td>463</td>\n      <td>442</td>\n      <td>481</td>\n      <td>426</td>\n      <td>481</td>\n      <td>481</td>\n      <td>481</td>\n      <td>457</td>\n      <td>481</td>\n      <td>481</td>\n      <td>TX</td>\n    </tr>\n    <tr>\n      <th>44</th>\n      <td>60</td>\n      <td>60</td>\n      <td>60</td>\n      <td>60</td>\n      <td>59</td>\n      <td>60</td>\n      <td>60</td>\n      <td>58</td>\n      <td>60</td>\n      <td>60</td>\n      <td>60</td>\n      <td>57</td>\n      <td>60</td>\n      <td>60</td>\n      <td>UT</td>\n    </tr>\n    <tr>\n      <th>45</th>\n      <td>95</td>\n      <td>95</td>\n      <td>95</td>\n      <td>95</td>\n      <td>92</td>\n      <td>93</td>\n      <td>95</td>\n      <td>92</td>\n      <td>95</td>\n      <td>95</td>\n      <td>95</td>\n      <td>93</td>\n      <td>95</td>\n      <td>95</td>\n      <td>VA</td>\n    </tr>\n    <tr>\n      <th>46</th>\n      <td>9</td>\n      <td>9</td>\n      <td>9</td>\n      <td>9</td>\n      <td>9</td>\n      <td>9</td>\n      <td>9</td>\n      <td>8</td>\n      <td>9</td>\n      <td>9</td>\n      <td>9</td>\n      <td>9</td>\n      <td>9</td>\n      <td>9</td>\n      <td>VT</td>\n    </tr>\n    <tr>\n      <th>47</th>\n      <td>152</td>\n      <td>152</td>\n      <td>152</td>\n      <td>152</td>\n      <td>146</td>\n      <td>146</td>\n      <td>152</td>\n      <td>126</td>\n      <td>152</td>\n      <td>152</td>\n      <td>152</td>\n      <td>144</td>\n      <td>152</td>\n      <td>152</td>\n      <td>WA</td>\n    </tr>\n    <tr>\n      <th>48</th>\n      <td>91</td>\n      <td>91</td>\n      <td>91</td>\n      <td>91</td>\n      <td>90</td>\n      <td>89</td>\n      <td>91</td>\n      <td>88</td>\n      <td>91</td>\n      <td>91</td>\n      <td>91</td>\n      <td>87</td>\n      <td>91</td>\n      <td>91</td>\n      <td>WI</td>\n    </tr>\n    <tr>\n      <th>49</th>\n      <td>54</td>\n      <td>54</td>\n      <td>54</td>\n      <td>54</td>\n      <td>49</td>\n      <td>51</td>\n      <td>54</td>\n      <td>46</td>\n      <td>54</td>\n      <td>54</td>\n      <td>54</td>\n      <td>52</td>\n      <td>54</td>\n      <td>54</td>\n      <td>WV</td>\n    </tr>\n    <tr>\n      <th>50</th>\n      <td>14</td>\n      <td>14</td>\n      <td>14</td>\n      <td>14</td>\n      <td>14</td>\n      <td>14</td>\n      <td>14</td>\n      <td>13</td>\n      <td>14</td>\n      <td>14</td>\n      <td>14</td>\n      <td>13</td>\n      <td>14</td>\n      <td>14</td>\n      <td>WY</td>\n    </tr>\n  </tbody>\n</table>\n</div>"
     },
     "metadata": {},
     "execution_count": 234
    }
   ],
   "source": [
    "crimes_ratio['state'] = crimes_ratio.index\n",
    "crimes_ratio.index = range(crimes_ratio.shape[0])\n",
    "crimes_ratio"
   ]
  },
  {
   "cell_type": "code",
   "execution_count": 235,
   "metadata": {},
   "outputs": [
    {
     "output_type": "execute_result",
     "data": {
      "text/plain": [
       "    id state\n",
       "0   39    AK\n",
       "1  104    AL\n",
       "2   83    AR\n",
       "3  254    AZ\n",
       "4  799    CA"
      ],
      "text/html": "<div>\n<style scoped>\n    .dataframe tbody tr th:only-of-type {\n        vertical-align: middle;\n    }\n\n    .dataframe tbody tr th {\n        vertical-align: top;\n    }\n\n    .dataframe thead th {\n        text-align: right;\n    }\n</style>\n<table border=\"1\" class=\"dataframe\">\n  <thead>\n    <tr style=\"text-align: right;\">\n      <th></th>\n      <th>id</th>\n      <th>state</th>\n    </tr>\n  </thead>\n  <tbody>\n    <tr>\n      <th>0</th>\n      <td>39</td>\n      <td>AK</td>\n    </tr>\n    <tr>\n      <th>1</th>\n      <td>104</td>\n      <td>AL</td>\n    </tr>\n    <tr>\n      <th>2</th>\n      <td>83</td>\n      <td>AR</td>\n    </tr>\n    <tr>\n      <th>3</th>\n      <td>254</td>\n      <td>AZ</td>\n    </tr>\n    <tr>\n      <th>4</th>\n      <td>799</td>\n      <td>CA</td>\n    </tr>\n  </tbody>\n</table>\n</div>"
     },
     "metadata": {},
     "execution_count": 235
    }
   ],
   "source": [
    "crimes_ratio.drop(['name', 'date', 'manner_of_death', 'armed', 'age', 'gender', 'race', 'city', 'signs_of_mental_illness', 'threat_level', 'flee', 'body_camera', 'day_of_week'], axis=1, inplace=True)\n",
    "crimes_ratio.head()"
   ]
  },
  {
   "cell_type": "code",
   "execution_count": 236,
   "metadata": {},
   "outputs": [
    {
     "output_type": "execute_result",
     "data": {
      "text/plain": [
       "   No_of_crimes Abbreviation\n",
       "0            39           AK\n",
       "1           104           AL\n",
       "2            83           AR\n",
       "3           254           AZ\n",
       "4           799           CA"
      ],
      "text/html": "<div>\n<style scoped>\n    .dataframe tbody tr th:only-of-type {\n        vertical-align: middle;\n    }\n\n    .dataframe tbody tr th {\n        vertical-align: top;\n    }\n\n    .dataframe thead th {\n        text-align: right;\n    }\n</style>\n<table border=\"1\" class=\"dataframe\">\n  <thead>\n    <tr style=\"text-align: right;\">\n      <th></th>\n      <th>No_of_crimes</th>\n      <th>Abbreviation</th>\n    </tr>\n  </thead>\n  <tbody>\n    <tr>\n      <th>0</th>\n      <td>39</td>\n      <td>AK</td>\n    </tr>\n    <tr>\n      <th>1</th>\n      <td>104</td>\n      <td>AL</td>\n    </tr>\n    <tr>\n      <th>2</th>\n      <td>83</td>\n      <td>AR</td>\n    </tr>\n    <tr>\n      <th>3</th>\n      <td>254</td>\n      <td>AZ</td>\n    </tr>\n    <tr>\n      <th>4</th>\n      <td>799</td>\n      <td>CA</td>\n    </tr>\n  </tbody>\n</table>\n</div>"
     },
     "metadata": {},
     "execution_count": 236
    }
   ],
   "source": [
    "crimes_ratio.rename(columns={\"id\": \"No_of_crimes\", \"state\": \"Abbreviation\"},inplace=True)\n",
    "crimes_ratio.head()"
   ]
  },
  {
   "cell_type": "code",
   "execution_count": 250,
   "metadata": {},
   "outputs": [
    {
     "output_type": "execute_result",
     "data": {
      "text/plain": [
       "'AK'"
      ]
     },
     "metadata": {},
     "execution_count": 250
    }
   ],
   "source": [
    "crimes_ratio.loc[0]['Abbreviation']"
   ]
  },
  {
   "cell_type": "code",
   "execution_count": 251,
   "metadata": {},
   "outputs": [
    {
     "output_type": "execute_result",
     "data": {
      "text/plain": [
       "str"
      ]
     },
     "metadata": {},
     "execution_count": 251
    }
   ],
   "source": [
    "type(crimes_ratio.loc[0]['Abbreviation'])"
   ]
  },
  {
   "cell_type": "code",
   "execution_count": 253,
   "metadata": {},
   "outputs": [
    {
     "output_type": "error",
     "ename": "KeyError",
     "evalue": "'Abbreviation'",
     "traceback": [
      "\u001b[1;31m---------------------------------------------------------------------------\u001b[0m",
      "\u001b[1;31mKeyError\u001b[0m                                  Traceback (most recent call last)",
      "\u001b[1;32m<ipython-input-253-e9198e94f8d5>\u001b[0m in \u001b[0;36m<module>\u001b[1;34m\u001b[0m\n\u001b[1;32m----> 1\u001b[1;33m \u001b[0mcrimes_ratio\u001b[0m \u001b[1;33m=\u001b[0m \u001b[0mpd\u001b[0m\u001b[1;33m.\u001b[0m\u001b[0mmerge\u001b[0m\u001b[1;33m(\u001b[0m\u001b[0mcrimes_ratio\u001b[0m\u001b[1;33m,\u001b[0m\u001b[0mpopulation\u001b[0m\u001b[1;33m[\u001b[0m\u001b[1;33m[\u001b[0m\u001b[1;34m'State'\u001b[0m\u001b[1;33m,\u001b[0m\u001b[1;34m'Population estimate, July 1, 2019[2]'\u001b[0m\u001b[1;33m]\u001b[0m\u001b[1;33m]\u001b[0m\u001b[1;33m,\u001b[0m\u001b[0mon\u001b[0m\u001b[1;33m=\u001b[0m\u001b[1;34m'Abbreviation'\u001b[0m\u001b[1;33m,\u001b[0m \u001b[0mhow\u001b[0m\u001b[1;33m=\u001b[0m\u001b[1;34m'left'\u001b[0m\u001b[1;33m)\u001b[0m\u001b[1;33m\u001b[0m\u001b[1;33m\u001b[0m\u001b[0m\n\u001b[0m",
      "\u001b[1;32mD:\\Programy\\Installed\\lib\\site-packages\\pandas\\core\\reshape\\merge.py\u001b[0m in \u001b[0;36mmerge\u001b[1;34m(left, right, how, on, left_on, right_on, left_index, right_index, sort, suffixes, copy, indicator, validate)\u001b[0m\n\u001b[0;32m     71\u001b[0m     \u001b[0mvalidate\u001b[0m\u001b[1;33m=\u001b[0m\u001b[1;32mNone\u001b[0m\u001b[1;33m,\u001b[0m\u001b[1;33m\u001b[0m\u001b[1;33m\u001b[0m\u001b[0m\n\u001b[0;32m     72\u001b[0m ) -> \"DataFrame\":\n\u001b[1;32m---> 73\u001b[1;33m     op = _MergeOperation(\n\u001b[0m\u001b[0;32m     74\u001b[0m         \u001b[0mleft\u001b[0m\u001b[1;33m,\u001b[0m\u001b[1;33m\u001b[0m\u001b[1;33m\u001b[0m\u001b[0m\n\u001b[0;32m     75\u001b[0m         \u001b[0mright\u001b[0m\u001b[1;33m,\u001b[0m\u001b[1;33m\u001b[0m\u001b[1;33m\u001b[0m\u001b[0m\n",
      "\u001b[1;32mD:\\Programy\\Installed\\lib\\site-packages\\pandas\\core\\reshape\\merge.py\u001b[0m in \u001b[0;36m__init__\u001b[1;34m(self, left, right, how, on, left_on, right_on, axis, left_index, right_index, sort, suffixes, copy, indicator, validate)\u001b[0m\n\u001b[0;32m    625\u001b[0m             \u001b[0mself\u001b[0m\u001b[1;33m.\u001b[0m\u001b[0mright_join_keys\u001b[0m\u001b[1;33m,\u001b[0m\u001b[1;33m\u001b[0m\u001b[1;33m\u001b[0m\u001b[0m\n\u001b[0;32m    626\u001b[0m             \u001b[0mself\u001b[0m\u001b[1;33m.\u001b[0m\u001b[0mjoin_names\u001b[0m\u001b[1;33m,\u001b[0m\u001b[1;33m\u001b[0m\u001b[1;33m\u001b[0m\u001b[0m\n\u001b[1;32m--> 627\u001b[1;33m         ) = self._get_merge_keys()\n\u001b[0m\u001b[0;32m    628\u001b[0m \u001b[1;33m\u001b[0m\u001b[0m\n\u001b[0;32m    629\u001b[0m         \u001b[1;31m# validate the merge keys dtypes. We may need to coerce\u001b[0m\u001b[1;33m\u001b[0m\u001b[1;33m\u001b[0m\u001b[1;33m\u001b[0m\u001b[0m\n",
      "\u001b[1;32mD:\\Programy\\Installed\\lib\\site-packages\\pandas\\core\\reshape\\merge.py\u001b[0m in \u001b[0;36m_get_merge_keys\u001b[1;34m(self)\u001b[0m\n\u001b[0;32m    981\u001b[0m                     \u001b[1;32mif\u001b[0m \u001b[1;32mnot\u001b[0m \u001b[0mis_rkey\u001b[0m\u001b[1;33m(\u001b[0m\u001b[0mrk\u001b[0m\u001b[1;33m)\u001b[0m\u001b[1;33m:\u001b[0m\u001b[1;33m\u001b[0m\u001b[1;33m\u001b[0m\u001b[0m\n\u001b[0;32m    982\u001b[0m                         \u001b[1;32mif\u001b[0m \u001b[0mrk\u001b[0m \u001b[1;32mis\u001b[0m \u001b[1;32mnot\u001b[0m \u001b[1;32mNone\u001b[0m\u001b[1;33m:\u001b[0m\u001b[1;33m\u001b[0m\u001b[1;33m\u001b[0m\u001b[0m\n\u001b[1;32m--> 983\u001b[1;33m                             \u001b[0mright_keys\u001b[0m\u001b[1;33m.\u001b[0m\u001b[0mappend\u001b[0m\u001b[1;33m(\u001b[0m\u001b[0mright\u001b[0m\u001b[1;33m.\u001b[0m\u001b[0m_get_label_or_level_values\u001b[0m\u001b[1;33m(\u001b[0m\u001b[0mrk\u001b[0m\u001b[1;33m)\u001b[0m\u001b[1;33m)\u001b[0m\u001b[1;33m\u001b[0m\u001b[1;33m\u001b[0m\u001b[0m\n\u001b[0m\u001b[0;32m    984\u001b[0m                         \u001b[1;32melse\u001b[0m\u001b[1;33m:\u001b[0m\u001b[1;33m\u001b[0m\u001b[1;33m\u001b[0m\u001b[0m\n\u001b[0;32m    985\u001b[0m                             \u001b[1;31m# work-around for merge_asof(right_index=True)\u001b[0m\u001b[1;33m\u001b[0m\u001b[1;33m\u001b[0m\u001b[1;33m\u001b[0m\u001b[0m\n",
      "\u001b[1;32mD:\\Programy\\Installed\\lib\\site-packages\\pandas\\core\\generic.py\u001b[0m in \u001b[0;36m_get_label_or_level_values\u001b[1;34m(self, key, axis)\u001b[0m\n\u001b[0;32m   1690\u001b[0m             \u001b[0mvalues\u001b[0m \u001b[1;33m=\u001b[0m \u001b[0mself\u001b[0m\u001b[1;33m.\u001b[0m\u001b[0maxes\u001b[0m\u001b[1;33m[\u001b[0m\u001b[0maxis\u001b[0m\u001b[1;33m]\u001b[0m\u001b[1;33m.\u001b[0m\u001b[0mget_level_values\u001b[0m\u001b[1;33m(\u001b[0m\u001b[0mkey\u001b[0m\u001b[1;33m)\u001b[0m\u001b[1;33m.\u001b[0m\u001b[0m_values\u001b[0m\u001b[1;33m\u001b[0m\u001b[1;33m\u001b[0m\u001b[0m\n\u001b[0;32m   1691\u001b[0m         \u001b[1;32melse\u001b[0m\u001b[1;33m:\u001b[0m\u001b[1;33m\u001b[0m\u001b[1;33m\u001b[0m\u001b[0m\n\u001b[1;32m-> 1692\u001b[1;33m             \u001b[1;32mraise\u001b[0m \u001b[0mKeyError\u001b[0m\u001b[1;33m(\u001b[0m\u001b[0mkey\u001b[0m\u001b[1;33m)\u001b[0m\u001b[1;33m\u001b[0m\u001b[1;33m\u001b[0m\u001b[0m\n\u001b[0m\u001b[0;32m   1693\u001b[0m \u001b[1;33m\u001b[0m\u001b[0m\n\u001b[0;32m   1694\u001b[0m         \u001b[1;31m# Check for duplicates\u001b[0m\u001b[1;33m\u001b[0m\u001b[1;33m\u001b[0m\u001b[1;33m\u001b[0m\u001b[0m\n",
      "\u001b[1;31mKeyError\u001b[0m: 'Abbreviation'"
     ]
    }
   ],
   "source": [
    "crimes_ratio = pd.merge(crimes_ratio,population[['State','Population estimate, July 1, 2019[2]']],on='Abbreviation', how='left')"
   ]
  },
  {
   "cell_type": "code",
   "execution_count": null,
   "metadata": {},
   "outputs": [],
   "source": []
  }
 ]
}