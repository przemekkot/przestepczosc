{
 "metadata": {
  "language_info": {
   "codemirror_mode": {
    "name": "ipython",
    "version": 3
   },
   "file_extension": ".py",
   "mimetype": "text/x-python",
   "name": "python",
   "nbconvert_exporter": "python",
   "pygments_lexer": "ipython3",
   "version": "3.8.3-final"
  },
  "orig_nbformat": 2,
  "kernelspec": {
   "name": "python3",
   "display_name": "Python 3"
  }
 },
 "nbformat": 4,
 "nbformat_minor": 2,
 "cells": [
  {
   "source": [
    "### Zadanie: przestępczość\n",
    "#### 1. Pobierz bazę danych dotyczącą śmiertelnych interwencji policji w USA, a następnie wczytaj ją do obiektu DataFrame."
   ],
   "cell_type": "markdown",
   "metadata": {}
  },
  {
   "cell_type": "code",
   "execution_count": 1,
   "metadata": {},
   "outputs": [
    {
     "output_type": "execute_result",
     "data": {
      "text/plain": [
       "   id                name        date  ... threat_level         flee  body_camera\n",
       "0   3          Tim Elliot  2015-01-02  ...       attack  Not fleeing        False\n",
       "1   4    Lewis Lee Lembke  2015-01-02  ...       attack  Not fleeing        False\n",
       "2   5  John Paul Quintero  2015-01-03  ...        other  Not fleeing        False\n",
       "3   8     Matthew Hoffman  2015-01-04  ...       attack  Not fleeing        False\n",
       "4   9   Michael Rodriguez  2015-01-04  ...       attack  Not fleeing        False\n",
       "\n",
       "[5 rows x 14 columns]"
      ],
      "text/html": "<div>\n<style scoped>\n    .dataframe tbody tr th:only-of-type {\n        vertical-align: middle;\n    }\n\n    .dataframe tbody tr th {\n        vertical-align: top;\n    }\n\n    .dataframe thead th {\n        text-align: right;\n    }\n</style>\n<table border=\"1\" class=\"dataframe\">\n  <thead>\n    <tr style=\"text-align: right;\">\n      <th></th>\n      <th>id</th>\n      <th>name</th>\n      <th>date</th>\n      <th>manner_of_death</th>\n      <th>armed</th>\n      <th>age</th>\n      <th>gender</th>\n      <th>race</th>\n      <th>city</th>\n      <th>state</th>\n      <th>signs_of_mental_illness</th>\n      <th>threat_level</th>\n      <th>flee</th>\n      <th>body_camera</th>\n    </tr>\n  </thead>\n  <tbody>\n    <tr>\n      <th>0</th>\n      <td>3</td>\n      <td>Tim Elliot</td>\n      <td>2015-01-02</td>\n      <td>shot</td>\n      <td>gun</td>\n      <td>53.0</td>\n      <td>M</td>\n      <td>A</td>\n      <td>Shelton</td>\n      <td>WA</td>\n      <td>True</td>\n      <td>attack</td>\n      <td>Not fleeing</td>\n      <td>False</td>\n    </tr>\n    <tr>\n      <th>1</th>\n      <td>4</td>\n      <td>Lewis Lee Lembke</td>\n      <td>2015-01-02</td>\n      <td>shot</td>\n      <td>gun</td>\n      <td>47.0</td>\n      <td>M</td>\n      <td>W</td>\n      <td>Aloha</td>\n      <td>OR</td>\n      <td>False</td>\n      <td>attack</td>\n      <td>Not fleeing</td>\n      <td>False</td>\n    </tr>\n    <tr>\n      <th>2</th>\n      <td>5</td>\n      <td>John Paul Quintero</td>\n      <td>2015-01-03</td>\n      <td>shot and Tasered</td>\n      <td>unarmed</td>\n      <td>23.0</td>\n      <td>M</td>\n      <td>H</td>\n      <td>Wichita</td>\n      <td>KS</td>\n      <td>False</td>\n      <td>other</td>\n      <td>Not fleeing</td>\n      <td>False</td>\n    </tr>\n    <tr>\n      <th>3</th>\n      <td>8</td>\n      <td>Matthew Hoffman</td>\n      <td>2015-01-04</td>\n      <td>shot</td>\n      <td>toy weapon</td>\n      <td>32.0</td>\n      <td>M</td>\n      <td>W</td>\n      <td>San Francisco</td>\n      <td>CA</td>\n      <td>True</td>\n      <td>attack</td>\n      <td>Not fleeing</td>\n      <td>False</td>\n    </tr>\n    <tr>\n      <th>4</th>\n      <td>9</td>\n      <td>Michael Rodriguez</td>\n      <td>2015-01-04</td>\n      <td>shot</td>\n      <td>nail gun</td>\n      <td>39.0</td>\n      <td>M</td>\n      <td>H</td>\n      <td>Evans</td>\n      <td>CO</td>\n      <td>False</td>\n      <td>attack</td>\n      <td>Not fleeing</td>\n      <td>False</td>\n    </tr>\n  </tbody>\n</table>\n</div>"
     },
     "metadata": {},
     "execution_count": 1
    }
   ],
   "source": [
    "import pandas as pd\n",
    "crimes = pd.read_csv('fatal-police-shootings-data.csv')\n",
    "crimes.head()"
   ]
  },
  {
   "cell_type": "code",
   "execution_count": 72,
   "metadata": {},
   "outputs": [
    {
     "output_type": "execute_result",
     "data": {
      "text/plain": [
       "pandas.core.frame.DataFrame"
      ]
     },
     "metadata": {},
     "execution_count": 72
    }
   ],
   "source": [
    "type(crimes)"
   ]
  },
  {
   "cell_type": "code",
   "execution_count": 92,
   "metadata": {},
   "outputs": [
    {
     "output_type": "execute_result",
     "data": {
      "text/plain": [
       "Index(['id', 'name', 'date', 'manner_of_death', 'armed', 'age', 'gender',\n",
       "       'race', 'city', 'state', 'signs_of_mental_illness', 'threat_level',\n",
       "       'flee', 'body_camera'],\n",
       "      dtype='object')"
      ]
     },
     "metadata": {},
     "execution_count": 92
    }
   ],
   "source": [
    "crimes.columns"
   ]
  },
  {
   "source": [
    "#### 2. Przekształć tabelę w taki sposób, aby wskazywała zestawienie jednocześnie liczby ofiar interwencji według rasy (‘race’) oraz tego, czy wykazywały one oznaki choroby psychicznej (‘signs_of_mental_illness’)."
   ],
   "cell_type": "markdown",
   "metadata": {}
  },
  {
   "cell_type": "code",
   "execution_count": 136,
   "metadata": {},
   "outputs": [
    {
     "output_type": "execute_result",
     "data": {
      "text/plain": [
       "signs_of_mental_illness  False  True \n",
       "race                                 \n",
       "A                           69     24\n",
       "B                         1114    184\n",
       "H                          745    157\n",
       "N                           64     14\n",
       "O                           37     11\n",
       "W                         1763    713"
      ],
      "text/html": "<div>\n<style scoped>\n    .dataframe tbody tr th:only-of-type {\n        vertical-align: middle;\n    }\n\n    .dataframe tbody tr th {\n        vertical-align: top;\n    }\n\n    .dataframe thead th {\n        text-align: right;\n    }\n</style>\n<table border=\"1\" class=\"dataframe\">\n  <thead>\n    <tr style=\"text-align: right;\">\n      <th>signs_of_mental_illness</th>\n      <th>False</th>\n      <th>True</th>\n    </tr>\n    <tr>\n      <th>race</th>\n      <th></th>\n      <th></th>\n    </tr>\n  </thead>\n  <tbody>\n    <tr>\n      <th>A</th>\n      <td>69</td>\n      <td>24</td>\n    </tr>\n    <tr>\n      <th>B</th>\n      <td>1114</td>\n      <td>184</td>\n    </tr>\n    <tr>\n      <th>H</th>\n      <td>745</td>\n      <td>157</td>\n    </tr>\n    <tr>\n      <th>N</th>\n      <td>64</td>\n      <td>14</td>\n    </tr>\n    <tr>\n      <th>O</th>\n      <td>37</td>\n      <td>11</td>\n    </tr>\n    <tr>\n      <th>W</th>\n      <td>1763</td>\n      <td>713</td>\n    </tr>\n  </tbody>\n</table>\n</div>"
     },
     "metadata": {},
     "execution_count": 136
    }
   ],
   "source": [
    "import numpy as np\n",
    "table = pd.DataFrame(crimes.pivot_table(values='id', index='race',columns='signs_of_mental_illness',aggfunc='count'))\n",
    "table"
   ]
  },
  {
   "cell_type": "code",
   "execution_count": 137,
   "metadata": {},
   "outputs": [
    {
     "output_type": "execute_result",
     "data": {
      "text/plain": [
       "pandas.core.frame.DataFrame"
      ]
     },
     "metadata": {},
     "execution_count": 137
    }
   ],
   "source": [
    "type(table)"
   ]
  },
  {
   "cell_type": "code",
   "execution_count": 138,
   "metadata": {},
   "outputs": [
    {
     "output_type": "execute_result",
     "data": {
      "text/plain": [
       "signs_of_mental_illness race  False  True\n",
       "0                          A     69    24\n",
       "1                          B   1114   184\n",
       "2                          H    745   157\n",
       "3                          N     64    14\n",
       "4                          O     37    11\n",
       "5                          W   1763   713"
      ],
      "text/html": "<div>\n<style scoped>\n    .dataframe tbody tr th:only-of-type {\n        vertical-align: middle;\n    }\n\n    .dataframe tbody tr th {\n        vertical-align: top;\n    }\n\n    .dataframe thead th {\n        text-align: right;\n    }\n</style>\n<table border=\"1\" class=\"dataframe\">\n  <thead>\n    <tr style=\"text-align: right;\">\n      <th>signs_of_mental_illness</th>\n      <th>race</th>\n      <th>False</th>\n      <th>True</th>\n    </tr>\n  </thead>\n  <tbody>\n    <tr>\n      <th>0</th>\n      <td>A</td>\n      <td>69</td>\n      <td>24</td>\n    </tr>\n    <tr>\n      <th>1</th>\n      <td>B</td>\n      <td>1114</td>\n      <td>184</td>\n    </tr>\n    <tr>\n      <th>2</th>\n      <td>H</td>\n      <td>745</td>\n      <td>157</td>\n    </tr>\n    <tr>\n      <th>3</th>\n      <td>N</td>\n      <td>64</td>\n      <td>14</td>\n    </tr>\n    <tr>\n      <th>4</th>\n      <td>O</td>\n      <td>37</td>\n      <td>11</td>\n    </tr>\n    <tr>\n      <th>5</th>\n      <td>W</td>\n      <td>1763</td>\n      <td>713</td>\n    </tr>\n  </tbody>\n</table>\n</div>"
     },
     "metadata": {},
     "execution_count": 138
    }
   ],
   "source": [
    "table = table.reset_index()\n",
    "table"
   ]
  },
  {
   "cell_type": "code",
   "execution_count": 139,
   "metadata": {},
   "outputs": [
    {
     "output_type": "execute_result",
     "data": {
      "text/plain": [
       "signs_of_mental_illness race  False  True\n",
       "0                          A     69    24\n",
       "1                          B   1114   184\n",
       "2                          H    745   157\n",
       "3                          N     64    14\n",
       "4                          O     37    11\n",
       "5                          W   1763   713"
      ],
      "text/html": "<div>\n<style scoped>\n    .dataframe tbody tr th:only-of-type {\n        vertical-align: middle;\n    }\n\n    .dataframe tbody tr th {\n        vertical-align: top;\n    }\n\n    .dataframe thead th {\n        text-align: right;\n    }\n</style>\n<table border=\"1\" class=\"dataframe\">\n  <thead>\n    <tr style=\"text-align: right;\">\n      <th>signs_of_mental_illness</th>\n      <th>race</th>\n      <th>False</th>\n      <th>True</th>\n    </tr>\n  </thead>\n  <tbody>\n    <tr>\n      <th>0</th>\n      <td>A</td>\n      <td>69</td>\n      <td>24</td>\n    </tr>\n    <tr>\n      <th>1</th>\n      <td>B</td>\n      <td>1114</td>\n      <td>184</td>\n    </tr>\n    <tr>\n      <th>2</th>\n      <td>H</td>\n      <td>745</td>\n      <td>157</td>\n    </tr>\n    <tr>\n      <th>3</th>\n      <td>N</td>\n      <td>64</td>\n      <td>14</td>\n    </tr>\n    <tr>\n      <th>4</th>\n      <td>O</td>\n      <td>37</td>\n      <td>11</td>\n    </tr>\n    <tr>\n      <th>5</th>\n      <td>W</td>\n      <td>1763</td>\n      <td>713</td>\n    </tr>\n  </tbody>\n</table>\n</div>"
     },
     "metadata": {},
     "execution_count": 139
    }
   ],
   "source": [
    "table.index.name = None\n",
    "table"
   ]
  },
  {
   "cell_type": "code",
   "execution_count": 140,
   "metadata": {},
   "outputs": [
    {
     "output_type": "execute_result",
     "data": {
      "text/plain": [
       "pandas.core.frame.DataFrame"
      ]
     },
     "metadata": {},
     "execution_count": 140
    }
   ],
   "source": [
    "type(table)"
   ]
  },
  {
   "cell_type": "code",
   "execution_count": 141,
   "metadata": {},
   "outputs": [
    {
     "output_type": "execute_result",
     "data": {
      "text/plain": [
       "Index(['race', False, True], dtype='object', name='signs_of_mental_illness')"
      ]
     },
     "metadata": {},
     "execution_count": 141
    }
   ],
   "source": [
    "table.columns"
   ]
  },
  {
   "source": [
    "#### 3. Za pomocą Map, Applymap lub Apply dodaj do tego zestawienia kolumnę wskazującą jaki odsetek ofiar interwencji wykazywało oznaki choroby psychicznej dla każdej z ras. Odpowiedz, która z nich charakteryzuje się największym odsetkiem znamion choroby psychicznej podczas interwencji."
   ],
   "cell_type": "markdown",
   "metadata": {}
  },
  {
   "cell_type": "code",
   "execution_count": 142,
   "metadata": {},
   "outputs": [
    {
     "output_type": "execute_result",
     "data": {
      "text/plain": [
       "pandas.core.frame.DataFrame"
      ]
     },
     "metadata": {},
     "execution_count": 142
    }
   ],
   "source": [
    "type(table)"
   ]
  },
  {
   "cell_type": "code",
   "execution_count": 133,
   "metadata": {},
   "outputs": [],
   "source": [
    "table = table.rename(columns={'False':'Yes', 'True':'No'},  inplace=True)\n",
    "table"
   ]
  },
  {
   "cell_type": "code",
   "execution_count": 143,
   "metadata": {},
   "outputs": [
    {
     "output_type": "stream",
     "name": "stdout",
     "text": [
      "race\nFalse\nTrue\n"
     ]
    }
   ],
   "source": [
    "for col in table.columns:\n",
    "    print(col)"
   ]
  },
  {
   "cell_type": "code",
   "execution_count": 144,
   "metadata": {},
   "outputs": [
    {
     "output_type": "execute_result",
     "data": {
      "text/plain": [
       "0      69\n",
       "1    1114\n",
       "2     745\n",
       "3      64\n",
       "4      37\n",
       "5    1763\n",
       "dtype: int64"
      ]
     },
     "metadata": {},
     "execution_count": 144
    }
   ],
   "source": [
    "table[0]"
   ]
  },
  {
   "cell_type": "code",
   "execution_count": 145,
   "metadata": {},
   "outputs": [
    {
     "output_type": "execute_result",
     "data": {
      "text/plain": [
       "0     24\n",
       "1    184\n",
       "2    157\n",
       "3     14\n",
       "4     11\n",
       "5    713\n",
       "Name: True, dtype: int64"
      ]
     },
     "metadata": {},
     "execution_count": 145
    }
   ],
   "source": [
    "table[1]"
   ]
  },
  {
   "cell_type": "code",
   "execution_count": 146,
   "metadata": {},
   "outputs": [
    {
     "output_type": "execute_result",
     "data": {
      "text/plain": [
       "      0\n",
       "0    69\n",
       "1  1114\n",
       "2   745\n",
       "3    64\n",
       "4    37\n",
       "5  1763"
      ],
      "text/html": "<div>\n<style scoped>\n    .dataframe tbody tr th:only-of-type {\n        vertical-align: middle;\n    }\n\n    .dataframe tbody tr th {\n        vertical-align: top;\n    }\n\n    .dataframe thead th {\n        text-align: right;\n    }\n</style>\n<table border=\"1\" class=\"dataframe\">\n  <thead>\n    <tr style=\"text-align: right;\">\n      <th></th>\n      <th>0</th>\n    </tr>\n  </thead>\n  <tbody>\n    <tr>\n      <th>0</th>\n      <td>69</td>\n    </tr>\n    <tr>\n      <th>1</th>\n      <td>1114</td>\n    </tr>\n    <tr>\n      <th>2</th>\n      <td>745</td>\n    </tr>\n    <tr>\n      <th>3</th>\n      <td>64</td>\n    </tr>\n    <tr>\n      <th>4</th>\n      <td>37</td>\n    </tr>\n    <tr>\n      <th>5</th>\n      <td>1763</td>\n    </tr>\n  </tbody>\n</table>\n</div>"
     },
     "metadata": {},
     "execution_count": 146
    }
   ],
   "source": [
    "no = pd.DataFrame(table[0].to_numpy())\n",
    "no"
   ]
  },
  {
   "cell_type": "code",
   "execution_count": 147,
   "metadata": {},
   "outputs": [
    {
     "output_type": "execute_result",
     "data": {
      "text/plain": [
       "     0\n",
       "0   24\n",
       "1  184\n",
       "2  157\n",
       "3   14\n",
       "4   11\n",
       "5  713"
      ],
      "text/html": "<div>\n<style scoped>\n    .dataframe tbody tr th:only-of-type {\n        vertical-align: middle;\n    }\n\n    .dataframe tbody tr th {\n        vertical-align: top;\n    }\n\n    .dataframe thead th {\n        text-align: right;\n    }\n</style>\n<table border=\"1\" class=\"dataframe\">\n  <thead>\n    <tr style=\"text-align: right;\">\n      <th></th>\n      <th>0</th>\n    </tr>\n  </thead>\n  <tbody>\n    <tr>\n      <th>0</th>\n      <td>24</td>\n    </tr>\n    <tr>\n      <th>1</th>\n      <td>184</td>\n    </tr>\n    <tr>\n      <th>2</th>\n      <td>157</td>\n    </tr>\n    <tr>\n      <th>3</th>\n      <td>14</td>\n    </tr>\n    <tr>\n      <th>4</th>\n      <td>11</td>\n    </tr>\n    <tr>\n      <th>5</th>\n      <td>713</td>\n    </tr>\n  </tbody>\n</table>\n</div>"
     },
     "metadata": {},
     "execution_count": 147
    }
   ],
   "source": [
    "yes = pd.DataFrame(table[1].to_numpy())\n",
    "yes"
   ]
  },
  {
   "cell_type": "code",
   "execution_count": 148,
   "metadata": {},
   "outputs": [
    {
     "output_type": "execute_result",
     "data": {
      "text/plain": [
       "         0\n",
       "0     1656\n",
       "1   204976\n",
       "2   116965\n",
       "3      896\n",
       "4      407\n",
       "5  1257019"
      ],
      "text/html": "<div>\n<style scoped>\n    .dataframe tbody tr th:only-of-type {\n        vertical-align: middle;\n    }\n\n    .dataframe tbody tr th {\n        vertical-align: top;\n    }\n\n    .dataframe thead th {\n        text-align: right;\n    }\n</style>\n<table border=\"1\" class=\"dataframe\">\n  <thead>\n    <tr style=\"text-align: right;\">\n      <th></th>\n      <th>0</th>\n    </tr>\n  </thead>\n  <tbody>\n    <tr>\n      <th>0</th>\n      <td>1656</td>\n    </tr>\n    <tr>\n      <th>1</th>\n      <td>204976</td>\n    </tr>\n    <tr>\n      <th>2</th>\n      <td>116965</td>\n    </tr>\n    <tr>\n      <th>3</th>\n      <td>896</td>\n    </tr>\n    <tr>\n      <th>4</th>\n      <td>407</td>\n    </tr>\n    <tr>\n      <th>5</th>\n      <td>1257019</td>\n    </tr>\n  </tbody>\n</table>\n</div>"
     },
     "metadata": {},
     "execution_count": 148
    }
   ],
   "source": [
    "yes * no"
   ]
  },
  {
   "cell_type": "code",
   "execution_count": 149,
   "metadata": {},
   "outputs": [
    {
     "output_type": "execute_result",
     "data": {
      "text/plain": [
       "signs_of_mental_illness race  ...                               mental_illness_ratio\n",
       "0                          A  ...        0\n",
       "0    93\n",
       "1  1298\n",
       "2   902\n",
       "3    78\n",
       "4    4...\n",
       "1                          B  ...        0\n",
       "0    93\n",
       "1  1298\n",
       "2   902\n",
       "3    78\n",
       "4    4...\n",
       "2                          H  ...        0\n",
       "0    93\n",
       "1  1298\n",
       "2   902\n",
       "3    78\n",
       "4    4...\n",
       "3                          N  ...        0\n",
       "0    93\n",
       "1  1298\n",
       "2   902\n",
       "3    78\n",
       "4    4...\n",
       "4                          O  ...        0\n",
       "0    93\n",
       "1  1298\n",
       "2   902\n",
       "3    78\n",
       "4    4...\n",
       "5                          W  ...        0\n",
       "0    93\n",
       "1  1298\n",
       "2   902\n",
       "3    78\n",
       "4    4...\n",
       "\n",
       "[6 rows x 4 columns]"
      ],
      "text/html": "<div>\n<style scoped>\n    .dataframe tbody tr th:only-of-type {\n        vertical-align: middle;\n    }\n\n    .dataframe tbody tr th {\n        vertical-align: top;\n    }\n\n    .dataframe thead th {\n        text-align: right;\n    }\n</style>\n<table border=\"1\" class=\"dataframe\">\n  <thead>\n    <tr style=\"text-align: right;\">\n      <th>signs_of_mental_illness</th>\n      <th>race</th>\n      <th>False</th>\n      <th>True</th>\n      <th>mental_illness_ratio</th>\n    </tr>\n  </thead>\n  <tbody>\n    <tr>\n      <th>0</th>\n      <td>A</td>\n      <td>69</td>\n      <td>24</td>\n      <td>0\n0    93\n1  1298\n2   902\n3    78\n4    4...</td>\n    </tr>\n    <tr>\n      <th>1</th>\n      <td>B</td>\n      <td>1114</td>\n      <td>184</td>\n      <td>0\n0    93\n1  1298\n2   902\n3    78\n4    4...</td>\n    </tr>\n    <tr>\n      <th>2</th>\n      <td>H</td>\n      <td>745</td>\n      <td>157</td>\n      <td>0\n0    93\n1  1298\n2   902\n3    78\n4    4...</td>\n    </tr>\n    <tr>\n      <th>3</th>\n      <td>N</td>\n      <td>64</td>\n      <td>14</td>\n      <td>0\n0    93\n1  1298\n2   902\n3    78\n4    4...</td>\n    </tr>\n    <tr>\n      <th>4</th>\n      <td>O</td>\n      <td>37</td>\n      <td>11</td>\n      <td>0\n0    93\n1  1298\n2   902\n3    78\n4    4...</td>\n    </tr>\n    <tr>\n      <th>5</th>\n      <td>W</td>\n      <td>1763</td>\n      <td>713</td>\n      <td>0\n0    93\n1  1298\n2   902\n3    78\n4    4...</td>\n    </tr>\n  </tbody>\n</table>\n</div>"
     },
     "metadata": {},
     "execution_count": 149
    }
   ],
   "source": [
    "def calculate_ratio(row):\n",
    "    return no + yes\n",
    "\n",
    "table['mental_illness_ratio'] = table.apply(calculate_ratio, axis=1)\n",
    "table"
   ]
  },
  {
   "cell_type": "code",
   "execution_count": null,
   "metadata": {},
   "outputs": [],
   "source": []
  }
 ]
}